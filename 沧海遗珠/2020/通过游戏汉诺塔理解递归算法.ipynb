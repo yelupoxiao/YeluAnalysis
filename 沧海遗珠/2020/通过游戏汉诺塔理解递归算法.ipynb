{
 "cells": [
  {
   "cell_type": "markdown",
   "metadata": {},
   "source": [
    "* 递归的定义 \n",
    "\n",
    "递归就是子程序（或函数）直接调用自己或通过一系列调用语句间接调用自己，是一种描述问题和解决问题的基本方法。 \n",
    "递归常与分治思想同时使用，能产生许多高校的算法。递归常用来解决结构相似的问题。所谓结构相似，是指构成原问题的子问题与原问题在结构上相似，可以用类似的方法解决。具体地，整个问题的解决，可以分为两部分：第一部分是一些特殊情况，有直接的解法；第二部分与原问题相似，但比原问题的规模小，并且依赖第一部分的结果。实际上递归是把一个不能或不好解决的大问题转化成一个或几个小问题，再把这些小问题进一步分解成更小的小问题，直至每个小问题都可以直接解决。\n",
    "\n",
    "因此，递归有两个基本要素： \n",
    "\n",
    "（1） 边界条件：确定递归到何时终止，也称为递归出口。 \n",
    "\n",
    "（2） 递归模式：大问题是如何分解为小问题的，也称为递归体。 \n",
    "\n",
    "递归函数只有具备了这两个要素，才能在有限次计算后得出结果。 \n"
   ]
  },
  {
   "cell_type": "markdown",
   "metadata": {},
   "source": [
    "* 汉诺塔问题是递归函数的经典应用，它来自一个古老传说：\n",
    "\n",
    "在世界刚被创建的时候有一座钻石宝塔A，其上有64个金蝶。所有碟子按从大到小的次序从塔底堆放至塔顶。紧挨着这座塔有另外两个钻石宝塔B和C。从世界创始之日起，波罗门的牧师就一直在试图把塔A上的碟子移动到C上去，其间借助于塔B的帮助。每次只能移动一个碟子，任何时候都不能把一个碟子放在比它小的碟子上面。当牧师们完成这个任务时，世界末日也就到了。 \n",
    "\n",
    "对于汉诺塔问题的求解，可以通过以下3步实现： \n",
    "\n",
    "（1）将塔A上的n -1个碟子借助C塔先移动到B塔上； \n",
    "\n",
    "（2）把塔A上剩下的一个碟子移动到塔C上； \n",
    "\n",
    "（3）将n - 1个碟子从B塔借助塔A移动到塔C上。 \n",
    "\n",
    "很显然，这是一个递归求解的过程，假设碟子数n=3时，汉诺塔问题的求解过程如下图所示：\n"
   ]
  },
  {
   "cell_type": "markdown",
   "metadata": {},
   "source": [
    "![汉诺塔](https://img-blog.csdn.net/20150824202425669)"
   ]
  },
  {
   "cell_type": "markdown",
   "metadata": {},
   "source": [
    "* 递归函数的运行轨迹"
   ]
  },
  {
   "cell_type": "markdown",
   "metadata": {},
   "source": [
    "借助汉诺塔这个实例，来讲解一下递归函数的运行轨迹。在递归函数中，调用函数和被调用函数都是同一个函数，需要注意的是函数的调用层次，如果把调用递归函数的主函数称为第0层，进入函数后，首次递归调用自身称为第1层调用；从第i层递归调用自身称为第i+1层。反之退出i+1层调用应该返回第i层。下图是n=3时汉诺塔算法的运行轨迹，有向弧上的数字表示递归调用和返回的执行顺序。\n"
   ]
  },
  {
   "cell_type": "markdown",
   "metadata": {},
   "source": [
    "![递归函数运行你轨迹](https://img-blog.csdn.net/20150824202624884)"
   ]
  },
  {
   "cell_type": "markdown",
   "metadata": {},
   "source": [
    "* 汉诺塔递归算法的代码实现"
   ]
  },
  {
   "cell_type": "code",
   "execution_count": 6,
   "metadata": {},
   "outputs": [
    {
     "name": "stdout",
     "output_type": "stream",
     "text": [
      "please input a integer :3\n",
      "移动步骤如下：\n",
      "第1步:将1号盘子从A -> C\n",
      "第2步:将2号盘子从A -> B\n",
      "第3步:将1号盘子从C -> B\n",
      "第4步:将3号盘子从A -> C\n",
      "第5步:将1号盘子从B -> A\n",
      "第6步:将2号盘子从B -> C\n",
      "第7步:将1号盘子从A -> C\n"
     ]
    }
   ],
   "source": [
    "#coding=utf-8\n",
    "\n",
    "i = 1\n",
    "\n",
    "\n",
    "def move(n, mfrom, mto):\n",
    "    global i\n",
    "    print (\"第{}步:将{}号盘子从{} -> {}\" .format (i, n, mfrom, mto))\n",
    "    i += 1\n",
    "\n",
    "\n",
    "def hanoi(n, A, B, C):\n",
    "    if n == 1:\n",
    "        move(1, A, C)\n",
    "    else:\n",
    "        hanoi(n - 1, A, C, B)\n",
    "        move(n, A, C)\n",
    "        hanoi(n - 1, B, A, C)\n",
    "\n",
    "\n",
    "#********************程序入口**********************\n",
    "try:\n",
    "    n = int(input(\"please input a integer :\"))\n",
    "    print (\"移动步骤如下：\")\n",
    "    hanoi(n, 'A', 'B', 'C')\n",
    "except ValueError:\n",
    "    print( \"please input a integer n(n > 0)!\")"
   ]
  }
 ],
 "metadata": {
  "kernelspec": {
   "display_name": "Python [conda env:Analysis]",
   "language": "python",
   "name": "conda-env-Analysis-py"
  },
  "language_info": {
   "codemirror_mode": {
    "name": "ipython",
    "version": 3
   },
   "file_extension": ".py",
   "mimetype": "text/x-python",
   "name": "python",
   "nbconvert_exporter": "python",
   "pygments_lexer": "ipython3",
   "version": "3.6.7"
  }
 },
 "nbformat": 4,
 "nbformat_minor": 2
}
