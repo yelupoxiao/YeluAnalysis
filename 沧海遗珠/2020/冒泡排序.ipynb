{
 "cells": [
  {
   "cell_type": "code",
   "execution_count": 1,
   "metadata": {},
   "outputs": [
    {
     "name": "stdout",
     "output_type": "stream",
     "text": [
      "[-58, 1, 7, 8, 10, 12, 23, 34, 56, 56, 100, 234, 354, 456]\n"
     ]
    }
   ],
   "source": [
    "lis = [56, 12, 1, 8, 354, 10, 100, 34, 56, 7, 23, 456, 234, -58]\n",
    "\n",
    "\n",
    "class Solution(object):\n",
    "    def sortport():\n",
    "        for i in range(len(lis) - 1):\n",
    "            for j in range(len(lis) - 1 - i):\n",
    "                if lis[j] > lis[j + 1]:\n",
    "                    lis[j], lis[j + 1] = lis[j + 1], lis[j]\n",
    "        return lis\n",
    "\n",
    "    if __name__ == '__main__':\n",
    "        sortport()\n",
    "        print(lis)"
   ]
  },
  {
   "cell_type": "markdown",
   "metadata": {},
   "source": [
    "冒泡排序动画演示:"
   ]
  },
  {
   "cell_type": "markdown",
   "metadata": {},
   "source": [
    "![Bubble sort](http://images.cnblogs.com/cnblogs_com/kkun/201111/201111301912294099.gif)"
   ]
  },
  {
   "cell_type": "markdown",
   "metadata": {},
   "source": [
    "参考资料:\n",
    "https://www.cnblogs.com/kkun/archive/2011/11/23/bubble_sort.html"
   ]
  },
  {
   "cell_type": "code",
   "execution_count": null,
   "metadata": {},
   "outputs": [],
   "source": []
  }
 ],
 "metadata": {
  "kernelspec": {
   "display_name": "Python [conda env:Analysis]",
   "language": "python",
   "name": "conda-env-Analysis-py"
  },
  "language_info": {
   "codemirror_mode": {
    "name": "ipython",
    "version": 3
   },
   "file_extension": ".py",
   "mimetype": "text/x-python",
   "name": "python",
   "nbconvert_exporter": "python",
   "pygments_lexer": "ipython3",
   "version": "3.6.7"
  }
 },
 "nbformat": 4,
 "nbformat_minor": 2
}
