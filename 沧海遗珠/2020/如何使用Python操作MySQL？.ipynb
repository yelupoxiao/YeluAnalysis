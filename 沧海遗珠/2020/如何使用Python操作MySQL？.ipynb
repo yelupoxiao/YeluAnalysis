{
 "cells": [
  {
   "cell_type": "markdown",
   "metadata": {},
   "source": [
    "使用Python对DBMS进行操作的时候,一般经过四个步骤:\n",
    "- 引入API模块\n",
    "- 与数据库建立连接\n",
    "- 执行SQL语句\n",
    "- 关闭数据连接"
   ]
  },
  {
   "cell_type": "markdown",
   "metadata": {},
   "source": [
    "使用Python对数据库进行访问需要基于DB API规范,有很多库可供选择,如MySQLLdb,mysqlclint,PyMySQL,peewee和SQLAlchemy等.下面以mysql-connector为例,这是MySQL官方提供的驱动器,用以为后端语言提供连接"
   ]
  },
  {
   "cell_type": "markdown",
   "metadata": {},
   "source": [
    "# 如何使用mysql-connector"
   ]
  },
  {
   "cell_type": "markdown",
   "metadata": {},
   "source": [
    "首先安装mysql-connector,使用pip install mysql-connector"
   ]
  },
  {
   "cell_type": "code",
   "execution_count": 94,
   "metadata": {},
   "outputs": [
    {
     "name": "stdout",
     "output_type": "stream",
     "text": [
      "MySQL 版本:('8.0.15',)\n"
     ]
    }
   ],
   "source": [
    "# -*- coding:UTF-8 -*-\n",
    "import mysql.connector\n",
    "# 打开数据连接\n",
    "db = mysql.connector.connect(\n",
    "    host='localhost',\n",
    "    user='root',\n",
    "    passwd='5276',\n",
    "    database='sql_learn',\n",
    "    auth_plugin='mysql_native_password')\n",
    "# 获取操作游标\n",
    "cursor = db.cursor()\n",
    "# 执行sql语句\n",
    "cursor.execute(\"SELECT VERSION()\")\n",
    "# 获取一条数据\n",
    "data = cursor.fetchone()\n",
    "print(\"MySQL 版本:{}\".format(data))\n",
    "# 关闭游标&数据库连接\n",
    "# cursor.close()\n",
    "# db.close()"
   ]
  },
  {
   "cell_type": "markdown",
   "metadata": {},
   "source": [
    "以上代码中有两个重要的对象,分别是Connection和Cursor"
   ]
  },
  {
   "cell_type": "markdown",
   "metadata": {},
   "source": [
    "Connection就是对数据库的当前连接进行管理,具体操作如下:\n",
    "- 通过指定host,user,passwd和port等参数来创建数据库连接,这些参数分别对应数据库的IP地址,用户名,密码和端口号\n",
    "- 使用db.close()关闭数据连接\n",
    "- 使用db.cursor()创建游标,操作数据库中的数据\n",
    "- 使用db.begin()开启事务\n",
    "- 使用db.commit()和db.rollback(),对事务进行提交以及回滚"
   ]
  },
  {
   "cell_type": "markdown",
   "metadata": {},
   "source": [
    "当通过cursor=db.cursor()创建游标后,便可以通过面向过程的编程方式对数据库的数据进行操作:\n",
    "- 使用cursor.execute(query_sql),执行数据库查询\n",
    "- 使用cursor.fetchone(),读取数据集中的一条数据\n",
    "- 使用cursor.fetchall(),取出数据集中的所有行,返回一个元组tuples类型\n",
    "- 使用cursor.fetchmany(n),取出数据集中的多条数据,同样返回一个元组tuples\n",
    "- 使用cursor.rowcount,返回查询结果集中的行数.如果没有查询到数据或者还没有查询,则结果为-1,否则会返回查询得到的数据行数\n",
    "- 使用cursor.close(),关闭游标"
   ]
  },
  {
   "cell_type": "markdown",
   "metadata": {},
   "source": [
    "# 对数据表进行增删改查"
   ]
  },
  {
   "cell_type": "markdown",
   "metadata": {},
   "source": [
    "下面来实操下如何对数据库中heros数据表进行CRUD的操作,即增加,读取,更新和删除"
   ]
  },
  {
   "cell_type": "markdown",
   "metadata": {},
   "source": [
    "## 增加数据"
   ]
  },
  {
   "cell_type": "code",
   "execution_count": 95,
   "metadata": {},
   "outputs": [
    {
     "name": "stdout",
     "output_type": "stream",
     "text": [
      "1 记录插入成功.\n"
     ]
    }
   ],
   "source": [
    "# 插入新球员\n",
    "sql = \"INSERT INTO player (team_id,player_name,height) values (%s,%s,%s)\"\n",
    "val = (1003, \"约翰-科林斯\", 2.08)\n",
    "cursor.execute(sql, val)\n",
    "db.commit()\n",
    "print(cursor.rowcount, \"记录插入成功.\")"
   ]
  },
  {
   "cell_type": "markdown",
   "metadata": {},
   "source": [
    "sql是相应的SQL语句,val为SQL语句中参数,SQL执行后使用db.commit()进行提交(不提交的话数据不会被插入).需要说明的是,我们在使用SQL语句的时候,可以向SQL语句传递参数,这时SQL语句里要统一用(%s)进行占位,否则会报错.**不论插入的数值为整数类型还是浮点类型,都需要统一用(%s)进行占位."
   ]
  },
  {
   "cell_type": "markdown",
   "metadata": {},
   "source": [
    "## 读取数据"
   ]
  },
  {
   "cell_type": "code",
   "execution_count": 96,
   "metadata": {
    "scrolled": true
   },
   "outputs": [
    {
     "name": "stdout",
     "output_type": "stream",
     "text": [
      "(10003, '安德烈-德拉蒙德', 2.11)\n",
      "(10004, '索恩-马克', 2.16)\n",
      "(10009, '扎扎-帕楚里亚', 2.11)\n",
      "(10010, '乔恩-洛伊尔', 2.08)\n",
      "(10011, '布雷克-格里芬', 2.08)\n",
      "(10015, '亨利-埃伦森', 2.11)\n",
      "(10023, '多曼塔斯-萨博尼斯', 2.11)\n",
      "(10024, '迈尔斯-特纳', 2.11)\n",
      "(10032, 'TJ-利夫', 2.08)\n",
      "(10033, '凯尔-奥奎因', 2.08)\n",
      "(10037, 'Ike Anigbogu', 2.08)\n",
      "(10047, '约翰-柯林斯', 2.08)\n",
      "(10056, '约翰-科林斯', 2.08)\n"
     ]
    }
   ],
   "source": [
    "# 查询身高大于等于2.08的球员\n",
    "sql = 'SELECT player_id,player_name,height FROM player WHERE height>=2.08'\n",
    "cursor.execute(sql)\n",
    "data = cursor.fetchall()\n",
    "for each_player in data:\n",
    "    print(each_player)"
   ]
  },
  {
   "cell_type": "markdown",
   "metadata": {},
   "source": [
    "## 修改数据"
   ]
  },
  {
   "cell_type": "code",
   "execution_count": 97,
   "metadata": {},
   "outputs": [
    {
     "name": "stdout",
     "output_type": "stream",
     "text": [
      "1 记录被修改.\n"
     ]
    }
   ],
   "source": [
    "# 修改球员约翰-柯林斯\n",
    "sql = 'UPDATE player SET height=%s WHERE player_name=%s'\n",
    "val = (2.09, \"约翰-科林斯\")\n",
    "cursor.execute(sql, val)\n",
    "db.commit()\n",
    "print(cursor.rowcount, \"记录被修改.\")"
   ]
  },
  {
   "cell_type": "markdown",
   "metadata": {},
   "source": [
    "## 删除数据"
   ]
  },
  {
   "cell_type": "code",
   "execution_count": 98,
   "metadata": {},
   "outputs": [
    {
     "name": "stdout",
     "output_type": "stream",
     "text": [
      "1  记录删除成功。\n"
     ]
    }
   ],
   "source": [
    "sql = 'DELETE FROM player WHERE player_name =\"约翰-科林斯\"'\n",
    "cursor.execute(sql)\n",
    "db.commit()\n",
    "print(cursor.rowcount, \" 记录删除成功。\")"
   ]
  },
  {
   "cell_type": "markdown",
   "metadata": {},
   "source": [
    "## 操作CRUD相关注意事项"
   ]
  },
  {
   "cell_type": "markdown",
   "metadata": {},
   "source": [
    "- 打开数据库连接以后,如果不再使用要及时关闭以免造成资源浪费\n",
    "- 进行CRUD操作时可能会出现异常,这时需要用try...except捕获异常信息."
   ]
  },
  {
   "cell_type": "code",
   "execution_count": 68,
   "metadata": {
    "scrolled": true
   },
   "outputs": [
    {
     "name": "stderr",
     "output_type": "stream",
     "text": [
      "Traceback (most recent call last):\n",
      "  File \"<ipython-input-68-530c4bd09774>\", line 5, in <module>\n",
      "    cursor.execute(sql, val)\n",
      "  File \"D:\\YY\\Anaconda\\envs\\Analysis\\lib\\site-packages\\mysql\\connector\\cursor.py\", line 551, in execute\n",
      "    self._handle_result(self._connection.cmd_query(stmt))\n",
      "  File \"D:\\YY\\Anaconda\\envs\\Analysis\\lib\\site-packages\\mysql\\connector\\connection.py\", line 490, in cmd_query\n",
      "    result = self._handle_result(self._send_cmd(ServerCmd.QUERY, query))\n",
      "  File \"D:\\YY\\Anaconda\\envs\\Analysis\\lib\\site-packages\\mysql\\connector\\connection.py\", line 395, in _handle_result\n",
      "    raise errors.get_exception(packet)\n",
      "mysql.connector.errors.IntegrityError: 1062 (23000): Duplicate entry '约翰-柯林斯' for key 'player_name'\n"
     ]
    }
   ],
   "source": [
    "import traceback\n",
    "try:\n",
    "  sql = \"INSERT INTO player (team_id, player_name, height) VALUES (%s, %s, %s)\"\n",
    "  val = (1003, \"约翰-柯林斯\", 2.08)\n",
    "  cursor.execute(sql, val)\n",
    "  db.commit()\n",
    "  print(cursor.rowcount, \" 记录插入成功。\")\n",
    "except Exception as e:\n",
    "  # 打印异常信息\n",
    "  traceback.print_exc()\n",
    "  # 回滚  \n",
    "  db.rollback()\n",
    "finally:\n",
    "  # 关闭数据库连接\n",
    "  db.close()"
   ]
  },
  {
   "cell_type": "markdown",
   "metadata": {},
   "source": [
    "用Python操作MySQL方式很多,mysql-connector只是其中一种,实际上还有另外一种方式,就是采用ORM框架.ORM的英文是Object Relational Mapping ,也就是采用对象关系映射的模式.使用这种模式可以将数据库中各种数据表之间的关系映射到程序中的对象.这种模式屏蔽了底层的数据库细节,不需要我们与复杂的SQL语句打交道,直接采用操作对象的形式操作就可以."
   ]
  }
 ],
 "metadata": {
  "kernelspec": {
   "display_name": "Python [conda env:Analysis]",
   "language": "python",
   "name": "conda-env-Analysis-py"
  },
  "language_info": {
   "codemirror_mode": {
    "name": "ipython",
    "version": 3
   },
   "file_extension": ".py",
   "mimetype": "text/x-python",
   "name": "python",
   "nbconvert_exporter": "python",
   "pygments_lexer": "ipython3",
   "version": "3.6.7"
  }
 },
 "nbformat": 4,
 "nbformat_minor": 2
}
