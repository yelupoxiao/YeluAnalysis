{
 "cells": [
  {
   "cell_type": "markdown",
   "metadata": {},
   "source": [
    "关于使用Pandas遍历数据表这里介绍三种主要实现方法:\n",
    "\n",
    "- terrows(): 按行遍历，将DataFrame的每一行迭代为(index, Series)对，可以通过row[name]对元素进行访问。\n",
    "- itertuples(): 按行遍历，将DataFrame的每一行迭代为元祖，可以通过row[name]对元素进行访问，比iterrows()效率高。\n",
    "- iteritems():按列遍历，将DataFrame的每一列迭代为(列名, Series)对，可以通过row[index]对元素进行访问。\n"
   ]
  },
  {
   "cell_type": "code",
   "execution_count": 38,
   "metadata": {},
   "outputs": [
    {
     "name": "stdout",
     "output_type": "stream",
     "text": [
      "   c1   c2\n",
      "0  10  100\n",
      "1  11  110\n",
      "2  12  123\n"
     ]
    }
   ],
   "source": [
    "import pandas as pd\n",
    "\n",
    "inp = [{'c1':10, 'c2':100}, {'c1':11, 'c2':110}, {'c1':12, 'c2':123}]\n",
    "df = pd.DataFrame(inp)\n",
    "\n",
    "print(df)"
   ]
  },
  {
   "cell_type": "markdown",
   "metadata": {},
   "source": [
    "# 按行遍历iterrows()"
   ]
  },
  {
   "cell_type": "code",
   "execution_count": 57,
   "metadata": {},
   "outputs": [
    {
     "name": "stdout",
     "output_type": "stream",
     "text": [
      "0\n",
      "1\n",
      "2\n"
     ]
    }
   ],
   "source": [
    "# 按行遍历iterrows()\n",
    "for index,row in df.iterrows():\n",
    "    print(index)"
   ]
  },
  {
   "cell_type": "code",
   "execution_count": 64,
   "metadata": {
    "scrolled": true
   },
   "outputs": [
    {
     "name": "stdout",
     "output_type": "stream",
     "text": [
      "0 c1     10\n",
      "c2    100\n",
      "Name: 0, dtype: int64\n",
      "1 c1     11\n",
      "c2    110\n",
      "Name: 1, dtype: int64\n",
      "2 c1     12\n",
      "c2    123\n",
      "Name: 2, dtype: int64\n"
     ]
    }
   ],
   "source": [
    "# row['name']\n",
    "# 对于每一行，通过列名name访问对应的元素\n",
    "for row in df.iterrows():\n",
    "    print(row[0],row[1])"
   ]
  },
  {
   "cell_type": "markdown",
   "metadata": {},
   "source": [
    "# 按行遍历itertuples()"
   ]
  },
  {
   "cell_type": "code",
   "execution_count": 65,
   "metadata": {},
   "outputs": [
    {
     "name": "stdout",
     "output_type": "stream",
     "text": [
      "10 100\n",
      "11 110\n",
      "12 123\n"
     ]
    }
   ],
   "source": [
    "# getattr(row, ‘name’)\n",
    "for row in df.itertuples():\n",
    "    print(getattr(row, 'c1'), getattr(row, 'c2'))"
   ]
  },
  {
   "cell_type": "markdown",
   "metadata": {},
   "source": [
    "# 按列遍历iteritems()"
   ]
  },
  {
   "cell_type": "code",
   "execution_count": 66,
   "metadata": {},
   "outputs": [
    {
     "name": "stdout",
     "output_type": "stream",
     "text": [
      "c1\n",
      "c2\n"
     ]
    }
   ],
   "source": [
    "# 输出列名\n",
    "for index, row in df.iteritems():\n",
    "    print(index)"
   ]
  },
  {
   "cell_type": "code",
   "execution_count": 69,
   "metadata": {},
   "outputs": [
    {
     "name": "stdout",
     "output_type": "stream",
     "text": [
      "c1 0    10\n",
      "1    11\n",
      "2    12\n",
      "Name: c1, dtype: int64\n",
      "c2 0    100\n",
      "1    110\n",
      "2    123\n",
      "Name: c2, dtype: int64\n"
     ]
    }
   ],
   "source": [
    "# 输出各列\n",
    "for row in df.iteritems():\n",
    "    print(row[0], row[1])"
   ]
  }
 ],
 "metadata": {
  "kernelspec": {
   "display_name": "Python [conda env:Analysis]",
   "language": "python",
   "name": "conda-env-Analysis-py"
  },
  "language_info": {
   "codemirror_mode": {
    "name": "ipython",
    "version": 3
   },
   "file_extension": ".py",
   "mimetype": "text/x-python",
   "name": "python",
   "nbconvert_exporter": "python",
   "pygments_lexer": "ipython3",
   "version": "3.6.7"
  }
 },
 "nbformat": 4,
 "nbformat_minor": 2
}
