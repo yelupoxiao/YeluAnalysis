{
 "cells": [
  {
   "cell_type": "markdown",
   "metadata": {},
   "source": [
    "**Python 的 type 和 object 之间是怎么一种关系？**"
   ]
  },
  {
   "cell_type": "markdown",
   "metadata": {},
   "source": [
    "作者：jeff kit\n",
    "\n",
    "链接：https://www.zhihu.com/question/38791962/answer/78172929\n",
    "\n",
    "来源：知乎\n",
    "\n",
    "整理：catcuts\n",
    "\n",
    "著作权归作者所有。商业转载请联系作者获得授权，非商业转载请注明出处。\n",
    "\n",
    "\n",
    "object 和 type 的关系很像鸡和蛋的关系，先有 object 还是先有 type 没法说，obejct 和 type 是共生的关系，必须同时出现。\n",
    "\n",
    "在看下去之前，也要请先明白，在 Python 里面，所有的东西都是对象的概念。\n",
    "在面向对象体系里面，存在两种关系：\n",
    "\n",
    "父子关系，即继承关系，表现为子类继承于父类，如『蛇』类继承自『爬行动物』类，我们说『蛇是一种爬行动物』，英文说『snake is a kind of reptile』。 在 python 里要查看一个类型的父类，使用它的 __bases__ 属性可以查看。\n",
    "\n",
    "类型实例关系，表现为某个类型的实例化，例如『萌萌是一条蛇』，英文说『萌萌 is an instance of snake』。\n",
    "在 python 里要查看一个实例的类型，使用它的 __class__ 属性可以查看，或者使用 type() 函数查看。\n",
    "\n",
    "（整理注：父子b, 类实c）"
   ]
  },
  {
   "cell_type": "code",
   "execution_count": 1,
   "metadata": {},
   "outputs": [],
   "source": [
    "import traceback"
   ]
  },
  {
   "cell_type": "code",
   "execution_count": 2,
   "metadata": {},
   "outputs": [
    {
     "name": "stdout",
     "output_type": "stream",
     "text": [
      "The reptile class:\n",
      "\tis a child/kind of <class 'object'>\n",
      "\tis an instance of <class 'type'>\n",
      "The snake class:\n",
      "\tis a child/kind of <class '__main__.reptile'>\n",
      "\tis an instance of <class 'type'>\n",
      "The Squasher class:\n",
      "\tis an instance of <class '__main__.snake'>\n"
     ]
    }
   ],
   "source": [
    "class reptile:\n",
    "    pass\n",
    "\n",
    "class snake(reptile):\n",
    "    pass\n",
    "\n",
    "Squasher = snake()\n",
    "\n",
    "print(\"The reptile class:\")\n",
    "print(\"\\tis a child/kind of %s\" % reptile.__bases__)\n",
    "print(\"\\tis an instance of %s\" % reptile.__class__)    \n",
    "\n",
    "print(\"The snake class:\")\n",
    "print(\"\\tis a child/kind of %s\" % snake.__bases__)\n",
    "print(\"\\tis an instance of %s\" % snake.__class__)    \n",
    "    \n",
    "print(\"The Squasher class:\")\n",
    "# print(\"\\tis a child/kind of %s\" % Squasher.__bases__)  # instance has no parent\n",
    "print(\"\\tis an instance of %s\" % Squasher.__class__)"
   ]
  },
  {
   "cell_type": "markdown",
   "metadata": {},
   "source": [
    "这两种关系使用下面这张图简单示意，继承关系使用实线从子到父连接，类型实例关系使用虚线从实例到类型连接："
   ]
  },
  {
   "cell_type": "markdown",
   "metadata": {},
   "source": [
    "![1](./img/object与type1.jpg)"
   ]
  },
  {
   "cell_type": "markdown",
   "metadata": {},
   "source": [
    "我们将使用一块白板来描述一下Python里面对象的关系，白板划分成三列："
   ]
  },
  {
   "cell_type": "markdown",
   "metadata": {},
   "source": [
    " "
   ]
  },
  {
   "cell_type": "markdown",
   "metadata": {},
   "source": [
    "先来看看 type 和 object ："
   ]
  },
  {
   "cell_type": "code",
   "execution_count": 4,
   "metadata": {},
   "outputs": [
    {
     "name": "stdout",
     "output_type": "stream",
     "text": [
      "object is a instance of <class 'type'>\n",
      "type is a instance of <class 'type'>\n"
     ]
    }
   ],
   "source": [
    "print(\"object is a instance of %s\" % object.__class__)\n",
    "print(\"type is a instance of %s\" % type.__class__)"
   ]
  },
  {
   "cell_type": "markdown",
   "metadata": {},
   "source": [
    "它们都是 type 的一个实例，表示它们都是类型对象。"
   ]
  },
  {
   "cell_type": "markdown",
   "metadata": {},
   "source": [
    "在 Python 的世界中，object 是父子关系的顶端，所有的数据类型的父类都是它；\n",
    "type 是类型实例关系的顶端，所有对象都是它的实例的。\n",
    "它们两个的关系可以这样描述："
   ]
  },
  {
   "cell_type": "markdown",
   "metadata": {},
   "source": [
    "- object 是一个 type，object is and instance of type。即 object 是 type 的一个实例"
   ]
  },
  {
   "cell_type": "code",
   "execution_count": 5,
   "metadata": {},
   "outputs": [
    {
     "name": "stdout",
     "output_type": "stream",
     "text": [
      "<class 'type'>\n"
     ]
    }
   ],
   "source": [
    "print(object.__class__)"
   ]
  },
  {
   "cell_type": "code",
   "execution_count": 6,
   "metadata": {},
   "outputs": [
    {
     "name": "stdout",
     "output_type": "stream",
     "text": [
      "()\n"
     ]
    }
   ],
   "source": [
    "print(object.__bases__)  # object 无父类，因为它是链条顶端。"
   ]
  },
  {
   "cell_type": "markdown",
   "metadata": {},
   "source": [
    "- type 是一种 object， type is kind of object。即 type 是 object 的子类。"
   ]
  },
  {
   "cell_type": "code",
   "execution_count": 8,
   "metadata": {},
   "outputs": [
    {
     "name": "stdout",
     "output_type": "stream",
     "text": [
      "(<class 'object'>,)\n"
     ]
    }
   ],
   "source": [
    "print(type.__bases__)"
   ]
  },
  {
   "cell_type": "code",
   "execution_count": 9,
   "metadata": {},
   "outputs": [
    {
     "name": "stdout",
     "output_type": "stream",
     "text": [
      "<class 'type'>\n"
     ]
    }
   ],
   "source": [
    "print(type.__class__)  # type的类型是自己"
   ]
  },
  {
   "cell_type": "markdown",
   "metadata": {},
   "source": [
    " "
   ]
  },
  {
   "cell_type": "markdown",
   "metadata": {},
   "source": [
    "此时，白板上对象的关系如下图：（实线为父子关系，虚线为实例类型关系）"
   ]
  },
  {
   "cell_type": "markdown",
   "metadata": {},
   "source": [
    "![1](./img/object与type2.jpg)"
   ]
  },
  {
   "cell_type": "markdown",
   "metadata": {},
   "source": [
    "我们再引入list, dict, tuple 这些内置数据类型来看看："
   ]
  },
  {
   "cell_type": "code",
   "execution_count": 10,
   "metadata": {},
   "outputs": [
    {
     "name": "stdout",
     "output_type": "stream",
     "text": [
      "(<class 'object'>,)\n",
      "<class 'type'>\n"
     ]
    }
   ],
   "source": [
    "print(list.__bases__)\n",
    "print(list.__class__)"
   ]
  },
  {
   "cell_type": "code",
   "execution_count": 11,
   "metadata": {},
   "outputs": [
    {
     "name": "stdout",
     "output_type": "stream",
     "text": [
      "(<class 'object'>,)\n",
      "<class 'type'>\n"
     ]
    }
   ],
   "source": [
    "print(dict.__bases__)\n",
    "print(dict.__class__)"
   ]
  },
  {
   "cell_type": "code",
   "execution_count": 12,
   "metadata": {},
   "outputs": [
    {
     "name": "stdout",
     "output_type": "stream",
     "text": [
      "(<class 'object'>,)\n",
      "<class 'type'>\n"
     ]
    }
   ],
   "source": [
    "print(tuple.__bases__)\n",
    "print(tuple.__class__)"
   ]
  },
  {
   "cell_type": "markdown",
   "metadata": {},
   "source": [
    "它们的父类都是 object，类型都是 type 。"
   ]
  },
  {
   "cell_type": "markdown",
   "metadata": {},
   "source": [
    "再实例化一个list 看看："
   ]
  },
  {
   "cell_type": "code",
   "execution_count": 13,
   "metadata": {},
   "outputs": [
    {
     "name": "stdout",
     "output_type": "stream",
     "text": [
      "<class 'list'>\n"
     ]
    }
   ],
   "source": [
    "mylist = [1,2,3]\n",
    "print(mylist.__class__)"
   ]
  },
  {
   "cell_type": "code",
   "execution_count": 14,
   "metadata": {},
   "outputs": [
    {
     "name": "stdout",
     "output_type": "stream",
     "text": [
      "Traceback (most recent call last):\n",
      "  File \"<ipython-input-14-59fac647decb>\", line 2, in <module>\n",
      "    print(mylist.__bases__)  # 实例化的 list 的类型是 <type 'list'> , 而没有了父类。\n",
      "AttributeError: 'list' object has no attribute '__bases__'\n",
      "\n"
     ]
    }
   ],
   "source": [
    "try:\n",
    "    print(mylist.__bases__)  # 实例化的 list 的类型是 <type 'list'> , 而没有了父类。\n",
    "except:\n",
    "    print(traceback.format_exc())"
   ]
  },
  {
   "cell_type": "markdown",
   "metadata": {},
   "source": [
    "把它们加到白板上去："
   ]
  },
  {
   "cell_type": "markdown",
   "metadata": {},
   "source": [
    "白板上的虚线表示源是目标的实例，实线表示源是目标的子类。即，左边的是右边的类型，而上面的是下面的父亲。\n",
    "虚线是跨列产生关系，而实线只能在一列内产生关系。除了type和object两者外。"
   ]
  },
  {
   "cell_type": "markdown",
   "metadata": {},
   "source": [
    "当我们自己去定个一个类及实例化它的时候，和上面的对象们又是什么关系呢？试一下："
   ]
  },
  {
   "cell_type": "code",
   "execution_count": 15,
   "metadata": {},
   "outputs": [
    {
     "name": "stdout",
     "output_type": "stream",
     "text": [
      "<class 'type'>\n"
     ]
    }
   ],
   "source": [
    "class C(object):\n",
    "    pass\n",
    "\n",
    "print(C.__class__)"
   ]
  },
  {
   "cell_type": "code",
   "execution_count": 16,
   "metadata": {},
   "outputs": [
    {
     "name": "stdout",
     "output_type": "stream",
     "text": [
      "(<class 'object'>,)\n"
     ]
    }
   ],
   "source": [
    "print(C.__bases__)"
   ]
  },
  {
   "cell_type": "markdown",
   "metadata": {},
   "source": [
    "实例化:"
   ]
  },
  {
   "cell_type": "code",
   "execution_count": 17,
   "metadata": {},
   "outputs": [
    {
     "name": "stdout",
     "output_type": "stream",
     "text": [
      "<class '__main__.C'>\n"
     ]
    }
   ],
   "source": [
    "c = C()\n",
    "print(c.__class__)"
   ]
  },
  {
   "cell_type": "code",
   "execution_count": 18,
   "metadata": {},
   "outputs": [
    {
     "name": "stdout",
     "output_type": "stream",
     "text": [
      "Traceback (most recent call last):\n",
      "  File \"<ipython-input-18-f7717e16a19f>\", line 2, in <module>\n",
      "    print(c.__base__)  # 这个实例化的 C 类对象也是没有父类的属性的。\n",
      "AttributeError: 'C' object has no attribute '__base__'\n",
      "\n"
     ]
    }
   ],
   "source": [
    "try:\n",
    "    print(c.__base__)  # 这个实例化的 C 类对象也是没有父类的属性的。\n",
    "except:\n",
    "    print(traceback.format_exc())"
   ]
  },
  {
   "cell_type": "markdown",
   "metadata": {},
   "source": [
    "再更新一下白板："
   ]
  },
  {
   "cell_type": "markdown",
   "metadata": {},
   "source": [
    "![1](./img/object与type3.jpg)"
   ]
  },
  {
   "cell_type": "markdown",
   "metadata": {},
   "source": [
    "白板上的第一列，目前只有 type ，我们先把这列的东西叫 Type 。  \n",
    "白板上的第二列，它们既是第三列的类型，又是第一列的实例，我们把这列的对象叫 TypeObject 。\n",
    "白板上的第三列，它们是第二列类型的实例，而没有父类（__bases__）的，我们把它们叫 Instance 。"
   ]
  },
  {
   "cell_type": "markdown",
   "metadata": {},
   "source": [
    " "
   ]
  },
  {
   "cell_type": "markdown",
   "metadata": {},
   "source": [
    "你以为事情就这样完了？  \n",
    "不。。看见 type 孤零零在第一列其实不是那么舒服。。我们给它整几个玩伴看看。  \n",
    "但要怎么整呢？  \n",
    "要属于第一列的，必须是 type 的子类，那么我们只需要继承 type 来定义类就可以了："
   ]
  },
  {
   "cell_type": "code",
   "execution_count": 19,
   "metadata": {},
   "outputs": [
    {
     "name": "stdout",
     "output_type": "stream",
     "text": [
      "<class 'type'>\n"
     ]
    }
   ],
   "source": [
    "class M(type):\n",
    "    pass\n",
    "\n",
    "print(M.__class__)"
   ]
  },
  {
   "cell_type": "code",
   "execution_count": 20,
   "metadata": {},
   "outputs": [
    {
     "name": "stdout",
     "output_type": "stream",
     "text": [
      "(<class 'type'>,)\n"
     ]
    }
   ],
   "source": [
    "print(M.__bases__)"
   ]
  },
  {
   "cell_type": "markdown",
   "metadata": {},
   "source": [
    "嗯嗯，M 类的类型和父类都是 type 。  \n",
    "这个时候，我们可以把它归到第一列去。  \n",
    "那么，要怎么样实例化M类型呢？  \n",
    "实例化后它应该出现在那个列？  \n",
    "嗯嗯，好吧，刚才你一不小心创建了一个元类，MetaClass ！即类的类。  \n",
    "如果你要实例化一个元类，那还是得定义一个类：  "
   ]
  },
  {
   "cell_type": "code",
   "execution_count": 21,
   "metadata": {},
   "outputs": [
    {
     "name": "stdout",
     "output_type": "stream",
     "text": [
      "<class '__main__.M'>\n"
     ]
    }
   ],
   "source": [
    "class TM(object, metaclass=M):  # 这样来定义元类(@py3)\n",
    "#     __metaclass__ = M    # 这样来指定元类(@py2)\n",
    "    pass\n",
    "\n",
    "print(TM.__class__)  # 这个类不再是 type 类型，而是 M 类型的。"
   ]
  },
  {
   "cell_type": "code",
   "execution_count": 22,
   "metadata": {},
   "outputs": [
    {
     "name": "stdout",
     "output_type": "stream",
     "text": [
      "(<class 'object'>,)\n"
     ]
    }
   ],
   "source": [
    "print(TM.__bases__)"
   ]
  },
  {
   "cell_type": "markdown",
   "metadata": {},
   "source": [
    "好了，现在 TM 这个类就是出现在第二列的。"
   ]
  },
  {
   "cell_type": "markdown",
   "metadata": {},
   "source": [
    "再总结一下：\n",
    "\n",
    "第一列，元类 列，type 是所有元类的父亲。我们可以通过继承 type 来创建元类。\n",
    "\n",
    "第二列，TypeObject 列，也称 类 列，object 是所有类的父亲。大部份我们直接使用的数据类型都存在这个列的。\n",
    "\n",
    "第三列，实例 列，实例是对象关系链的末端，不能再被子类化和实例化。到现在为止，Python 类型的秘密已经说穿了，不一小心连元类也暴露了。\n",
    "\n",
    "哎。慢慢消化吧，信息量很大。如果转述版看不懂，那么去啃一啃原文的吧： Python Types and Objects\n",
    "\n",
    "=============更新=============  \n",
    "更新更新。。 回答一下题主在问题后面说的为什么要有两个，而不是一个。  \n",
    "如果 type 和 object 只保留一个，那么一定是 object 。  \n",
    "只有 object 时，第一列将不复存在，只剩下二三列，第二列表示类型，第三列表示实例，这个和大部分静态语言的类型架构类似，如 java 。  \n",
    "这样的架构将让 python 失去一种很重要的动态特性 —— 动态创建类型。  \n",
    "本来，类(第二列的同学)在 Python 里面是一个对象( typeobject )，对象是可以在运行时动态修改的，所以我们能在你定义一个类之后去修改他的行为或属性！  \n",
    "拿掉第一列后，第二列变成了纯类型，写成怎样的，运行时行为就怎样。  \n",
    "在这一点上，并不比静态语言有优势。  \n",
    "\n",
    "所以，以上！"
   ]
  },
  {
   "cell_type": "code",
   "execution_count": null,
   "metadata": {},
   "outputs": [],
   "source": []
  }
 ],
 "metadata": {
  "kernelspec": {
   "display_name": "Python [conda env:Analysis]",
   "language": "python",
   "name": "conda-env-Analysis-py"
  },
  "language_info": {
   "codemirror_mode": {
    "name": "ipython",
    "version": 3
   },
   "file_extension": ".py",
   "mimetype": "text/x-python",
   "name": "python",
   "nbconvert_exporter": "python",
   "pygments_lexer": "ipython3",
   "version": "3.6.7"
  }
 },
 "nbformat": 4,
 "nbformat_minor": 2
}
