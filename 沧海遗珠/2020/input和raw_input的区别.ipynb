{
 "cells": [
  {
   "cell_type": "markdown",
   "metadata": {},
   "source": [
    "首先明确一点，input()与raw_input()的区别只存在Python2.X环境下,因为在Python3中将Python2中的input()删除了,同时将raw_input()改名为input()。如果你主要使用Py3，那么你只需关注在使用input（）时所输入的数据最后都会输出成字符串格式，所以当你进行数字格式输入时要利用int（）做好格式转换。"
   ]
  },
  {
   "cell_type": "code",
   "execution_count": 1,
   "metadata": {},
   "outputs": [
    {
     "name": "stdout",
     "output_type": "stream",
     "text": [
      "Please input your age: 18\n",
      "18\n"
     ]
    }
   ],
   "source": [
    "# 例1\n",
    "a = input(\"Please input your age: \")\n",
    "print(a)"
   ]
  },
  {
   "cell_type": "code",
   "execution_count": 2,
   "metadata": {},
   "outputs": [
    {
     "name": "stdout",
     "output_type": "stream",
     "text": [
      "Please input your name: jason\n",
      "Jason\n"
     ]
    }
   ],
   "source": [
    "# 例2\n",
    "b=input(\"Please input your name: \")\n",
    "print(b.title())"
   ]
  },
  {
   "cell_type": "markdown",
   "metadata": {},
   "source": [
    "以上是在Py3环境下的运行结果,如果是在Py2中例2将会显示报错,如下:\n",
    "\n",
    "a = input(\"Please input your name: \")\n",
    "\n",
    "Please input your name: virgin\n",
    "\n",
    "Traceback (most recent call last):\n",
    "\n",
    "  File \"<stdin>\", line 1, in <module>\n",
    "    \n",
    "  File \"<string>\", line 1, in <module>\n",
    "    \n",
    "NameError: name 'virgin' is not defined\n",
    "\"\"\""
   ]
  },
  {
   "cell_type": "markdown",
   "metadata": {},
   "source": [
    "所以,,如果想要在Py2环境下使用input()函数输入字符串的话,必须严格按照以引号方式输入字符串.当然更便捷的方法,尽量多使用raw_input()而避免使用input().很显然Py3环境下并不存在这个问题,因为只有input()可供使用."
   ]
  }
 ],
 "metadata": {
  "kernelspec": {
   "display_name": "Python [conda env:Analysis]",
   "language": "python",
   "name": "conda-env-Analysis-py"
  },
  "language_info": {
   "codemirror_mode": {
    "name": "ipython",
    "version": 3
   },
   "file_extension": ".py",
   "mimetype": "text/x-python",
   "name": "python",
   "nbconvert_exporter": "python",
   "pygments_lexer": "ipython3",
   "version": "3.6.7"
  }
 },
 "nbformat": 4,
 "nbformat_minor": 2
}
