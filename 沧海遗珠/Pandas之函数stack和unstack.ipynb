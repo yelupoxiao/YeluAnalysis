{
 "cells": [
  {
   "cell_type": "markdown",
   "metadata": {},
   "source": [
    "在用pandas进行数据重排时，经常用到stack和unstack两个函数。stack的意思是堆叠，堆积，unstack即“不要堆叠”\n",
    "\n",
    "　常见的数据的层次化结构有两种，一种是表格，一种是“花括号”，即下面这样的l两种形式："
   ]
  },
  {
   "cell_type": "markdown",
   "metadata": {},
   "source": [
    "![1](./img/Pandas之函数stack和unstack.png)"
   ]
  },
  {
   "cell_type": "markdown",
   "metadata": {},
   "source": [
    "　表格在行列方向上均有索引（类似于DataFrame），花括号结构只有“列方向”上的索引（类似于层次化的Series），结构更加偏向于堆叠（Series-stack，方便记忆）。stack函数会将数据从”表格结构“变成”花括号结构“，即将其行索引变成列索引，反之，unstack函数将数据从”花括号结构“变成”表格结构“，即要将其中一层的列索引变成行索引。例："
   ]
  },
  {
   "cell_type": "code",
   "execution_count": 1,
   "metadata": {},
   "outputs": [
    {
     "name": "stdout",
     "output_type": "stream",
     "text": [
      "         one  two  three\n",
      "street1    0    1      2\n",
      "street2    3    4      5\n",
      "-----------------------------------------\n",
      "\n",
      "street1  one      0\n",
      "         two      1\n",
      "         three    2\n",
      "street2  one      3\n",
      "         two      4\n",
      "         three    5\n",
      "dtype: int32\n",
      "-----------------------------------------\n",
      "\n",
      "         one  two  three\n",
      "street1    0    1      2\n",
      "street2    3    4      5\n"
     ]
    }
   ],
   "source": [
    "import numpy as np\n",
    "import pandas as pd\n",
    "from pandas import Series,DataFrame\n",
    "data=DataFrame(np.arange(6).reshape((2,3)),index=pd.Index(['street1','street2']),columns=pd.Index(['one','two','three']))\n",
    "print(data)\n",
    "print('-----------------------------------------\\n')\n",
    "data2=data.stack()\n",
    "data3=data2.unstack()\n",
    "print(data2)\n",
    "print('-----------------------------------------\\n')\n",
    "print(data3)"
   ]
  },
  {
   "cell_type": "code",
   "execution_count": null,
   "metadata": {},
   "outputs": [],
   "source": []
  }
 ],
 "metadata": {
  "kernelspec": {
   "display_name": "Python [conda env:Analysis]",
   "language": "python",
   "name": "conda-env-Analysis-py"
  },
  "language_info": {
   "codemirror_mode": {
    "name": "ipython",
    "version": 3
   },
   "file_extension": ".py",
   "mimetype": "text/x-python",
   "name": "python",
   "nbconvert_exporter": "python",
   "pygments_lexer": "ipython3",
   "version": "3.6.7"
  }
 },
 "nbformat": 4,
 "nbformat_minor": 2
}
