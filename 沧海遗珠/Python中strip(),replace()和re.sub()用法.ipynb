{
 "cells": [
  {
   "cell_type": "markdown",
   "metadata": {},
   "source": [
    "# replace()"
   ]
  },
  {
   "cell_type": "markdown",
   "metadata": {},
   "source": [
    "语法:  \n",
    "str.replace(old,new[,max])  \n",
    "\n",
    "参数:  \n",
    "- old -- 将被替换的子字符串。\n",
    "- new -- 新字符串，用于替换old子字符串。\n",
    "- max -- 可选字符串, 替换不超过 max 次  \n",
    "\n",
    "示例:"
   ]
  },
  {
   "cell_type": "code",
   "execution_count": 2,
   "metadata": {},
   "outputs": [
    {
     "name": "stdout",
     "output_type": "stream",
     "text": [
      "thwas was string example ...wow!!!thwas is really string.\n",
      "thwas was string example ...wow!!!thwas was really string.\n"
     ]
    }
   ],
   "source": [
    "str = 'this is string example ...wow!!!this is really string.'\n",
    "print(str.replace('is', 'was', 3))\n",
    "print(str.replace('is', 'was'))"
   ]
  },
  {
   "cell_type": "markdown",
   "metadata": {},
   "source": [
    "# re.sub"
   ]
  },
  {
   "cell_type": "markdown",
   "metadata": {},
   "source": [
    "语法:  \n",
    "re.sub(pattern,repl,string,count=0,flags=0)  \n",
    "\n",
    "参数:\n",
    "- pattern：表示正则表达式中的模式字符串；\n",
    "\n",
    "- repl：被替换的字符串（既可以是字符串，也可以是函数）；\n",
    "\n",
    "- string：要被处理的，要被替换的字符串；\n",
    "\n",
    "- count：匹配的次数, 默认是全部替换\n",
    "\n",
    "- flags：编译标志,可以修改正则表达式的一些运行方式\n",
    "\n",
    "示例:"
   ]
  },
  {
   "cell_type": "code",
   "execution_count": 4,
   "metadata": {},
   "outputs": [],
   "source": [
    "import re"
   ]
  },
  {
   "cell_type": "code",
   "execution_count": 6,
   "metadata": {},
   "outputs": [
    {
     "name": "stdout",
     "output_type": "stream",
     "text": [
      "human and human\n",
      "human and girl\n"
     ]
    }
   ],
   "source": [
    "str1 = 'boy and girl'\n",
    "print(re.sub(r'boy|girl', 'human', str1))\n",
    "print(re.sub(r'boy|girl', 'human', str1, count=1))"
   ]
  },
  {
   "cell_type": "markdown",
   "metadata": {},
   "source": [
    "# strip()"
   ]
  },
  {
   "cell_type": "markdown",
   "metadata": {},
   "source": [
    "对于这个函数要记住3点：\n",
    "\n",
    "-  默认删除行首或者行尾的空白符（包括'\\n', '\\r',  '\\t',  ' ')\n",
    "\n",
    "- 能使用，分隔去除多个值\n",
    "\n",
    "- lstrip()表示删除左边的，rstrip()表示删除右边的\n",
    "\n",
    "示例"
   ]
  },
  {
   "cell_type": "code",
   "execution_count": 7,
   "metadata": {},
   "outputs": [
    {
     "name": "stdout",
     "output_type": "stream",
     "text": [
      "good good d\n"
     ]
    }
   ],
   "source": [
    "s1 = 'good'\n",
    "s2 = s1.strip('o,G')\n",
    "s3 = s1.strip('o,g')\n",
    "print(s1, s2, s3)"
   ]
  },
  {
   "cell_type": "markdown",
   "metadata": {},
   "source": [
    "注意,strip函数不仅可以删除空白符,还可以指定删除的对象,如示例中s2与s3.在s2中要删除的对象是'o'和'G',但我们知道strip函数是删除行首或行位的字符,所以s2结果不变;但在s3中,因为'g'在行首,在删除'g'后,继续连续删除两个'o',所以最后的结果是'd'"
   ]
  }
 ],
 "metadata": {
  "kernelspec": {
   "display_name": "Python [conda env:Analysis]",
   "language": "python",
   "name": "conda-env-Analysis-py"
  },
  "language_info": {
   "codemirror_mode": {
    "name": "ipython",
    "version": 3
   },
   "file_extension": ".py",
   "mimetype": "text/x-python",
   "name": "python",
   "nbconvert_exporter": "python",
   "pygments_lexer": "ipython3",
   "version": "3.6.7"
  }
 },
 "nbformat": 4,
 "nbformat_minor": 2
}
