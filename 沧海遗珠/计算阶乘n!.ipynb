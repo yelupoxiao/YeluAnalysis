{
 "cells": [
  {
   "cell_type": "markdown",
   "metadata": {},
   "source": [
    "通过计算\"a*a+b*b+c*c...\"  函数自定义熟悉函数不定项参数操作"
   ]
  },
  {
   "cell_type": "code",
   "execution_count": 1,
   "metadata": {},
   "outputs": [
    {
     "name": "stdout",
     "output_type": "stream",
     "text": [
      "45\n"
     ]
    }
   ],
   "source": [
    "#  计算a*a+b*b+c*c...\n",
    "\n",
    "\n",
    "def calc(*numbers):\n",
    "    sum = 0\n",
    "    for n in numbers:\n",
    "        sum += n * n\n",
    "    return sum\n",
    "\n",
    "\n",
    "print(calc(2, 4, 5))"
   ]
  },
  {
   "cell_type": "markdown",
   "metadata": {},
   "source": [
    "通过计算阶乘n!熟悉if条件语句与for循环语句的使用以及两者的结合,下面提供了三种求阶乘n!的方法:"
   ]
  },
  {
   "cell_type": "code",
   "execution_count": 3,
   "metadata": {},
   "outputs": [
    {
     "name": "stdout",
     "output_type": "stream",
     "text": [
      "请输入一个数字:5\n",
      "5的阶乘为120\n"
     ]
    }
   ],
   "source": [
    "# 方法一\n",
    "def fac():\n",
    "    num = int(input(\"请输入一个数字:\"))\n",
    "    factroial = 1\n",
    "    # 判断数字正负\n",
    "    if num < 0:\n",
    "        print(\"抱歉,负数没有阶乘.\")\n",
    "    elif num == 0:\n",
    "        print(\"0的阶乘为1.\")\n",
    "    else:\n",
    "        for i in range(1, num + 1):\n",
    "            factroial *= i\n",
    "        print(\"{}的阶乘为{}\".format(num, factroial))\n",
    "\n",
    "\n",
    "if __name__ == '__main__':\n",
    "    fac()"
   ]
  },
  {
   "cell_type": "code",
   "execution_count": 14,
   "metadata": {
    "scrolled": true
   },
   "outputs": [
    {
     "name": "stdout",
     "output_type": "stream",
     "text": [
      "请输入一个数字:5\n",
      "5的阶乘为120\n"
     ]
    }
   ],
   "source": [
    "# 方法二\n",
    "def fac():\n",
    "    num = int(input(\"请输入一个数字:\"))\n",
    "    # 判断数字正负\n",
    "    if num < 0:\n",
    "        print(\"抱歉,负数没有阶乘.\")\n",
    "    elif num == 0:\n",
    "        print(\"0的阶乘为1.\")\n",
    "    else:\n",
    "        print(\"{}的阶乘为{}\".format(num, factorial(num)))\n",
    "\n",
    "\n",
    "def factorial(n):\n",
    "    result = n\n",
    "    for i in range(1, n):\n",
    "        result*= i\n",
    "    return result\n",
    "\n",
    "\n",
    "if __name__ == '__main__':\n",
    "    fac()"
   ]
  },
  {
   "cell_type": "code",
   "execution_count": 16,
   "metadata": {},
   "outputs": [
    {
     "name": "stdout",
     "output_type": "stream",
     "text": [
      "请输入一个数字:5\n",
      "5的阶乘为120\n"
     ]
    }
   ],
   "source": [
    "# 方法三\n",
    "def fac():\n",
    "    num = int(input(\"请输入一个数字:\"))\n",
    "    # 判断数字正负\n",
    "    if num < 0:\n",
    "        print(\"抱歉,负数没有阶乘.\")\n",
    "    elif num == 0:\n",
    "        print(\"0的阶乘为1.\")\n",
    "    else:\n",
    "        print(\"{}的阶乘为{}\".format(num, fact(num)))\n",
    "\n",
    "\n",
    "def fact(n):\n",
    "    if n == 1:\n",
    "        return 1\n",
    "    return n * fact(n - 1)\n",
    "\n",
    "\n",
    "if __name__ == '__main__':\n",
    "    fac()"
   ]
  },
  {
   "cell_type": "markdown",
   "metadata": {},
   "source": [
    "三种方法中第一种方法将所有计算都纳入到一个函数中,我认为是新手常规思维,虽然代码行少但是不优雅;后两种方法将整个计算过程分解为两步,一是输出显示部分(可理解为外部),另一是计算部分(可理解为内部),这是常规的编程思维,即每个函数只负责一个功能.后两种方法相比较,个人认为第三种递归的用法最地道,简洁而优雅."
   ]
  }
 ],
 "metadata": {
  "kernelspec": {
   "display_name": "Python [conda env:Analysis]",
   "language": "python",
   "name": "conda-env-Analysis-py"
  },
  "language_info": {
   "codemirror_mode": {
    "name": "ipython",
    "version": 3
   },
   "file_extension": ".py",
   "mimetype": "text/x-python",
   "name": "python",
   "nbconvert_exporter": "python",
   "pygments_lexer": "ipython3",
   "version": "3.6.7"
  }
 },
 "nbformat": 4,
 "nbformat_minor": 2
}
