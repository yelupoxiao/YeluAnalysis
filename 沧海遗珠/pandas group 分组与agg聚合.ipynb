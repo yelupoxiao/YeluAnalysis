{
 "cells": [
  {
   "cell_type": "code",
   "execution_count": 4,
   "metadata": {},
   "outputs": [],
   "source": [
    "# 构建示例数据表\n",
    "import pandas as pd\n",
    "\n",
    "df = pd.DataFrame({\n",
    "    'Country':\n",
    "    ['China', 'China', 'India', 'India', 'America', 'Japan', 'China', 'India'],\n",
    "    'Income': [10000, 10000, 5000, 5002, 40000, 50000, 8000, 5000],\n",
    "    'Age': [5000, 4321, 1234, 4010, 250, 250, 4500, 4321]\n",
    "})"
   ]
  },
  {
   "cell_type": "code",
   "execution_count": 5,
   "metadata": {},
   "outputs": [
    {
     "data": {
      "text/html": [
       "<div>\n",
       "<style scoped>\n",
       "    .dataframe tbody tr th:only-of-type {\n",
       "        vertical-align: middle;\n",
       "    }\n",
       "\n",
       "    .dataframe tbody tr th {\n",
       "        vertical-align: top;\n",
       "    }\n",
       "\n",
       "    .dataframe thead th {\n",
       "        text-align: right;\n",
       "    }\n",
       "</style>\n",
       "<table border=\"1\" class=\"dataframe\">\n",
       "  <thead>\n",
       "    <tr style=\"text-align: right;\">\n",
       "      <th></th>\n",
       "      <th>Country</th>\n",
       "      <th>Income</th>\n",
       "      <th>Age</th>\n",
       "    </tr>\n",
       "  </thead>\n",
       "  <tbody>\n",
       "    <tr>\n",
       "      <th>0</th>\n",
       "      <td>China</td>\n",
       "      <td>10000</td>\n",
       "      <td>5000</td>\n",
       "    </tr>\n",
       "    <tr>\n",
       "      <th>1</th>\n",
       "      <td>China</td>\n",
       "      <td>10000</td>\n",
       "      <td>4321</td>\n",
       "    </tr>\n",
       "    <tr>\n",
       "      <th>2</th>\n",
       "      <td>India</td>\n",
       "      <td>5000</td>\n",
       "      <td>1234</td>\n",
       "    </tr>\n",
       "    <tr>\n",
       "      <th>3</th>\n",
       "      <td>India</td>\n",
       "      <td>5002</td>\n",
       "      <td>4010</td>\n",
       "    </tr>\n",
       "    <tr>\n",
       "      <th>4</th>\n",
       "      <td>America</td>\n",
       "      <td>40000</td>\n",
       "      <td>250</td>\n",
       "    </tr>\n",
       "    <tr>\n",
       "      <th>5</th>\n",
       "      <td>Japan</td>\n",
       "      <td>50000</td>\n",
       "      <td>250</td>\n",
       "    </tr>\n",
       "    <tr>\n",
       "      <th>6</th>\n",
       "      <td>China</td>\n",
       "      <td>8000</td>\n",
       "      <td>4500</td>\n",
       "    </tr>\n",
       "    <tr>\n",
       "      <th>7</th>\n",
       "      <td>India</td>\n",
       "      <td>5000</td>\n",
       "      <td>4321</td>\n",
       "    </tr>\n",
       "  </tbody>\n",
       "</table>\n",
       "</div>"
      ],
      "text/plain": [
       "   Country  Income   Age\n",
       "0    China   10000  5000\n",
       "1    China   10000  4321\n",
       "2    India    5000  1234\n",
       "3    India    5002  4010\n",
       "4  America   40000   250\n",
       "5    Japan   50000   250\n",
       "6    China    8000  4500\n",
       "7    India    5000  4321"
      ]
     },
     "execution_count": 5,
     "metadata": {},
     "output_type": "execute_result"
    }
   ],
   "source": [
    "df"
   ]
  },
  {
   "cell_type": "code",
   "execution_count": 7,
   "metadata": {},
   "outputs": [
    {
     "name": "stdout",
     "output_type": "stream",
     "text": [
      "America\n",
      "   Country  Income  Age\n",
      "4  America   40000  250\n",
      "China\n",
      "  Country  Income   Age\n",
      "0   China   10000  5000\n",
      "1   China   10000  4321\n",
      "6   China    8000  4500\n",
      "India\n",
      "  Country  Income   Age\n",
      "2   India    5000  1234\n",
      "3   India    5002  4010\n",
      "7   India    5000  4321\n",
      "Japan\n",
      "  Country  Income  Age\n",
      "5   Japan   50000  250\n"
     ]
    }
   ],
   "source": [
    "# 单列分组\n",
    "df_gb = df.groupby('Country')\n",
    "for index, data in df_gb:\n",
    "    print(index)\n",
    "    print(data)"
   ]
  },
  {
   "cell_type": "code",
   "execution_count": 9,
   "metadata": {},
   "outputs": [
    {
     "name": "stdout",
     "output_type": "stream",
     "text": [
      "America 40000\n",
      "   Country  Income  Age\n",
      "4  America   40000  250\n",
      "China 8000\n",
      "  Country  Income   Age\n",
      "6   China    8000  4500\n",
      "China 10000\n",
      "  Country  Income   Age\n",
      "0   China   10000  5000\n",
      "1   China   10000  4321\n",
      "India 5000\n",
      "  Country  Income   Age\n",
      "2   India    5000  1234\n",
      "7   India    5000  4321\n",
      "India 5002\n",
      "  Country  Income   Age\n",
      "3   India    5002  4010\n",
      "Japan 50000\n",
      "  Country  Income  Age\n",
      "5   Japan   50000  250\n"
     ]
    }
   ],
   "source": [
    "# 多列分组\n",
    "df_gb = df.groupby(['Country', 'Income'])\n",
    "for (index1, index2), data in df_gb:\n",
    "    print(index1, index2)\n",
    "    print(data)"
   ]
  },
  {
   "cell_type": "code",
   "execution_count": 10,
   "metadata": {},
   "outputs": [
    {
     "name": "stdout",
     "output_type": "stream",
     "text": [
      "        Income                        Age                   \n",
      "           min          mean    max   min         mean   max\n",
      "Country                                                     \n",
      "America  40000  40000.000000  40000   250   250.000000   250\n",
      "China     8000   9333.333333  10000  4321  4607.000000  5000\n",
      "India     5000   5000.666667   5002  1234  3188.333333  4321\n",
      "Japan    50000  50000.000000  50000   250   250.000000   250\n"
     ]
    }
   ],
   "source": [
    "# 对分组后数据进行聚合\n",
    "# 默认情况对分组之后其他列进行聚合\n",
    "df_agg = df.groupby('Country').agg(['min', 'mean', 'max'])\n",
    "print(df_agg)"
   ]
  },
  {
   "cell_type": "code",
   "execution_count": 11,
   "metadata": {},
   "outputs": [
    {
     "name": "stdout",
     "output_type": "stream",
     "text": [
      "          Age                   \n",
      "          min         mean   max\n",
      "Country                         \n",
      "America   250   250.000000   250\n",
      "China    4321  4607.000000  5000\n",
      "India    1234  3188.333333  4321\n",
      "Japan     250   250.000000   250\n"
     ]
    }
   ],
   "source": [
    "# 对分组后的部分列进行聚合\n",
    "# 某些情况,只需要对部分数据进行不同的聚合操作,可以同来字典来构建\n",
    "num_agg = {'Age': ['min', 'mean', 'max']}\n",
    "print(df.groupby('Country').agg(num_agg))"
   ]
  },
  {
   "cell_type": "code",
   "execution_count": 13,
   "metadata": {},
   "outputs": [
    {
     "name": "stdout",
     "output_type": "stream",
     "text": [
      "          Age                    Income       \n",
      "          min         mean   max    min    max\n",
      "Country                                       \n",
      "America   250   250.000000   250  40000  40000\n",
      "China    4321  4607.000000  5000   8000  10000\n",
      "India    1234  3188.333333  4321   5000   5002\n",
      "Japan     250   250.000000   250  50000  50000\n"
     ]
    }
   ],
   "source": [
    "num_agg1 = {'Age': ['min', 'mean', 'max'], 'Income': ['min', 'max']}\n",
    "print(df.groupby('Country').agg(num_agg1))"
   ]
  },
  {
   "cell_type": "code",
   "execution_count": null,
   "metadata": {},
   "outputs": [],
   "source": []
  }
 ],
 "metadata": {
  "kernelspec": {
   "display_name": "Python [conda env:Analysis]",
   "language": "python",
   "name": "conda-env-Analysis-py"
  },
  "language_info": {
   "codemirror_mode": {
    "name": "ipython",
    "version": 3
   },
   "file_extension": ".py",
   "mimetype": "text/x-python",
   "name": "python",
   "nbconvert_exporter": "python",
   "pygments_lexer": "ipython3",
   "version": "3.6.7"
  }
 },
 "nbformat": 4,
 "nbformat_minor": 2
}
