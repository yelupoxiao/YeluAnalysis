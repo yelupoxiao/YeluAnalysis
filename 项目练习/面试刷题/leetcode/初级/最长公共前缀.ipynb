{
 "cells": [
  {
   "cell_type": "markdown",
   "metadata": {},
   "source": [
    "题目：最长公共前缀\n",
    "\n",
    "编写一个函数来查找字符串数组中最长的公共前缀字符串。\n",
    "\n",
    "如果没有公共前缀，则返回空字符串\"\"。\n",
    "\n",
    "Example 1:\n",
    "```\n",
    "Input: [\"flower\",\"flow\",\"flight\"]\n",
    "Output: \"fl\"\n",
    "```\n",
    "Example 2:\n",
    "\n",
    "```\n",
    "Input: [\"dog\",\"racecar\",\"car\"]\n",
    "Output: \"\"\n",
    "Explanation: There is no common prefix among the input strings.\n",
    "```\n",
    "注意：\n",
    "\n",
    "所有给定的输入都是小写字母a-z。"
   ]
  },
  {
   "cell_type": "markdown",
   "metadata": {},
   "source": [
    "解析：\n",
    "\n",
    "思路：将每个字符串的对应元素做一一比较，同留异去，并且结果字符串长度小于最少元素字符串的长度\n",
    "关键：利用enumerate函数得到结果字符串的索引序列"
   ]
  },
  {
   "cell_type": "code",
   "execution_count": 71,
   "metadata": {},
   "outputs": [],
   "source": [
    "# 解法一：对字符串的对应元素逐个进行比较\n",
    "\n",
    "\n",
    "class Solution(object):\n",
    "    def longestCommonPrefix(self, strs):\n",
    "        \"\"\"\n",
    "        :type strs: List[str]\n",
    "        :rtype: str\n",
    "        \"\"\"\n",
    "\n",
    "        def longestCommonPrefix(self, strs):\n",
    "            if not strs:\n",
    "                return \"\"\n",
    "\n",
    "            for i, letter_group in enumerate(zip(*strs)):\n",
    "                if len(set(letter_group)) > 1:\n",
    "                    return strs[0][:1]\n",
    "\n",
    "            else:\n",
    "                return min(strs)"
   ]
  },
  {
   "cell_type": "code",
   "execution_count": 73,
   "metadata": {},
   "outputs": [],
   "source": [
    "# 解法二：调用min()函数,利用其第二参数就行字符串长度比较\n",
    "\n",
    "\n",
    "class Solution(object):\n",
    "    def longestCommonPrefix(self, strs):\n",
    "        \"\"\"\n",
    "        :type strs: List[str]\n",
    "        :rtype: str\n",
    "        \"\"\"\n",
    "        if not strs:\n",
    "            return \"\"\n",
    "        shortest = min(strs, key=len)\n",
    "        for i, ch in enumerate(shortest):\n",
    "            for other in strs:\n",
    "                if other[i] != ch:\n",
    "                    return shoutest[:i]\n",
    "        return shortest"
   ]
  }
 ],
 "metadata": {
  "kernelspec": {
   "display_name": "Python [conda env:Analysis]",
   "language": "python",
   "name": "conda-env-Analysis-py"
  },
  "language_info": {
   "codemirror_mode": {
    "name": "ipython",
    "version": 3
   },
   "file_extension": ".py",
   "mimetype": "text/x-python",
   "name": "python",
   "nbconvert_exporter": "python",
   "pygments_lexer": "ipython3",
   "version": "3.6.7"
  }
 },
 "nbformat": 4,
 "nbformat_minor": 2
}
