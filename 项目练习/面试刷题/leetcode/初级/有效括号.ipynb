{
 "cells": [
  {
   "cell_type": "markdown",
   "metadata": {},
   "source": [
    "题目:有效括号\n",
    "\n",
    "由于只包含字符的字符串'('，')'，'{'，'}'，'['和']'，确定输入字符串是有效的。\n",
    "\n",
    "如果输入字符串有效：\n",
    "\n",
    "必须使用相同类型的括号关闭左括号。\n",
    "\n",
    "必须以正确的顺序关闭打开括号。\n",
    "\n",
    "请注意，空字符串也被视为有效。"
   ]
  },
  {
   "cell_type": "markdown",
   "metadata": {},
   "source": [
    "Example 1:\n",
    "```\n",
    "Input: \"()\"\n",
    "Output: true\n",
    "```\n",
    "Example 2:\n",
    "```\n",
    "Input: \"()[]{}\"\n",
    "Output: true\n",
    "```\n",
    "Example 3:\n",
    "```\n",
    "Input: \"(]\"\n",
    "Output: false\n",
    "```\n",
    "Example 4:\n",
    "```\n",
    "Input: \"([)]\"\n",
    "Output: false\n",
    "```\n",
    "Example 5:\n",
    "```\n",
    "Input: \"{[]}\"\n",
    "Output: true\n",
    "```"
   ]
  },
  {
   "cell_type": "markdown",
   "metadata": {},
   "source": [
    "解析:\n",
    "\n",
    "思路:\n",
    "\n",
    "从输入string提取括号进行比对,相等则为true,不相等则为false\n",
    "\n",
    "关键:\n",
    "\n",
    "1.用dict键值对表示括号对(任何对成对元素进行操作的算法可优先考虑使用字典表示)\n",
    "\n",
    "2.利用stack先进后出原则进行括号的提取,配对则删除,不配对则返回false(题解代码最后return not stack是对出现只有左括\n",
    "\n",
    "号没有右括号情况的补充.即若配对则stack为空,not stack则为true;若只有左括号,则not stack为false,因为stack不为空)"
   ]
  },
  {
   "cell_type": "code",
   "execution_count": 4,
   "metadata": {},
   "outputs": [],
   "source": [
    "class Solution(object):\n",
    "    def isValid(self, s):\n",
    "        \"\"\"\n",
    "        :type s: str\n",
    "        :rtype: bool\n",
    "        \"\"\"\n",
    "        if len(s) % 2 == 1: return False\n",
    "        dic = {'(': ')', '[': ']', '{': '}'}\n",
    "        stack = []\n",
    "        for char in s:\n",
    "            if char in dic:\n",
    "                stack.append(char)\n",
    "            else:\n",
    "                if not stack or dic[stack.pop()] != char:\n",
    "                    return False\n",
    "        return not stack"
   ]
  }
 ],
 "metadata": {
  "kernelspec": {
   "display_name": "Python [conda env:Analysis]",
   "language": "python",
   "name": "conda-env-Analysis-py"
  },
  "language_info": {
   "codemirror_mode": {
    "name": "ipython",
    "version": 3
   },
   "file_extension": ".py",
   "mimetype": "text/x-python",
   "name": "python",
   "nbconvert_exporter": "python",
   "pygments_lexer": "ipython3",
   "version": "3.6.7"
  }
 },
 "nbformat": 4,
 "nbformat_minor": 2
}
