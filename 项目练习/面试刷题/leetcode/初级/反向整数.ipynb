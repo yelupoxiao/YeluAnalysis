{
 "cells": [
  {
   "cell_type": "markdown",
   "metadata": {},
   "source": [
    "题目:反向整数\n",
    "\n",
    "给定32位有符号整数，返回整数的反向数字。\n",
    "\n",
    "例1：\n",
    "\n",
    "输入： 123\n",
    " 输出： 321\n",
    " \n",
    "例2：\n",
    "\n",
    "输入： -123\n",
    " 输出： -321\n",
    " \n",
    "例3：\n",
    "\n",
    "输入： 120\n",
    " 输出： 21\n",
    " \n",
    "注意：\n",
    "假设我们正在处理的环境中，其只能在32位带符号整数的范围内存储的整数：[-2^31, 2^31-1] 出于此问题的目的，假设当反向整数溢出时，函数返回0。"
   ]
  },
  {
   "cell_type": "markdown",
   "metadata": {},
   "source": [
    "解析:\n",
    "\n",
    "思路:将整数看成字符串进行反向表示即可\n",
    "\n",
    "关键:解决符号表示问题,并注意检验结果是否溢出"
   ]
  },
  {
   "cell_type": "code",
   "execution_count": 16,
   "metadata": {},
   "outputs": [],
   "source": [
    "class Solution(object):\n",
    "    def reverse(self, x):\n",
    "        \"\"\"\n",
    "        :type x: int\n",
    "        :rtype: int\n",
    "        \"\"\"\n",
    "        sign = [1, -1][x < 0]\n",
    "        rst = sign * int(str(abs(x))[::-1])\n",
    "        return rst if -(2**31) - 1 < rst < 2**31 else 0"
   ]
  }
 ],
 "metadata": {
  "kernelspec": {
   "display_name": "Python [conda env:Analysis]",
   "language": "python",
   "name": "conda-env-Analysis-py"
  },
  "language_info": {
   "codemirror_mode": {
    "name": "ipython",
    "version": 3
   },
   "file_extension": ".py",
   "mimetype": "text/x-python",
   "name": "python",
   "nbconvert_exporter": "python",
   "pygments_lexer": "ipython3",
   "version": "3.6.7"
  }
 },
 "nbformat": 4,
 "nbformat_minor": 2
}
