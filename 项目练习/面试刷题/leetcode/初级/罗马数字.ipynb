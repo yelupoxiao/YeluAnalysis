{
 "cells": [
  {
   "cell_type": "markdown",
   "metadata": {},
   "source": [
    "题目:罗马数字\n",
    "\n",
    "罗马数字是由七个不同的符号来表示  I，V，X，L，C，D和M。\n",
    "\n",
    "|Symbol |      Value|\n",
    "|-----|-----|\n",
    "|I|             1|\n",
    "|V |            5|\n",
    "|X |            10|\n",
    "|L|50|\n",
    "|C  |           100|\n",
    "|D    |         500|\n",
    "|M      |       1000|\n",
    "\n",
    "例如，两个用II 罗马数字写成，只有两个加在一起。十二写为，XII简称X+ II。数字二十七写为XXVII，XX+ V+ II。\n",
    "\n",
    "罗马数字通常从左到右从最大到最小。但是，四个数字不是IIII。相反，第四个被写为IV。因为一个在五个之前，我们减去四个。同样的原则适用于编号为9的数字IX。有六个使用减法的实例：\n",
    "\n",
    "- I可以放在V（5）和X（10）之前制作4和9。 \n",
    "- X可以在L（50）和C（100）之前放置40和90。 \n",
    "- C可以放在D（500）和M（1000）之前制作400和900。\n",
    "- 给定罗马数字，将其转换为整数。输入保证在1到3999的范围内。\n",
    "\n",
    "Example 1:\n",
    "```\n",
    "Input: \"III\"\n",
    "Output: 3\n",
    "```\n",
    "Example 2:\n",
    "```\n",
    "Input: \"IV\"\n",
    "Output: 4\n",
    "```\n",
    "Example 3:\n",
    "```\n",
    "Input: \"IX\"\n",
    "Output: 9\n",
    "```\n",
    "Example 4:\n",
    "```\n",
    "Input: \"LVIII\"\n",
    "Output: 58\n",
    "Explanation: L = 50, V= 5, III = 3.\n",
    "```\n",
    "Example 5:\n",
    "```\n",
    "Input: \"MCMXCIV\"\n",
    "Output: 1994\n",
    "Explanation: M = 1000, CM = 900, XC = 90 and IV = 4.\n",
    "```"
   ]
  },
  {
   "cell_type": "markdown",
   "metadata": {},
   "source": [
    "解析:\n",
    "\n",
    "思路:用字典封装罗马数字七个不同的符号,然后遍历所求罗马数字的的每个符号进行大小的比较,左边小于右边则减,左边大于右边则加\n",
    "\n",
    "关键:理解从左往右比较与从右往左比较的区别"
   ]
  },
  {
   "cell_type": "code",
   "execution_count": null,
   "metadata": {},
   "outputs": [],
   "source": [
    "# 解法一:从左往右比较\n",
    "\n",
    "\n",
    "class Solution(object):\n",
    "    def romanToInt(self, s):\n",
    "        \"\"\"\n",
    "        :type s: str\n",
    "        :rtype: int\n",
    "        \"\"\"\n",
    "        d = {'I': 1, 'V': 5, 'X': 10, 'L': 50, 'C': 100, 'D': 500, 'M': 1000}\n",
    "        r = d[s[len(s) - 1]]\n",
    "        for i in range(len(s) - 1):\n",
    "            if d[s[i]] < d[s[i + 1]]:\n",
    "                r -= d[s[i]]\n",
    "            else:\n",
    "                r += d[s[i]]\n",
    "        return r"
   ]
  },
  {
   "cell_type": "code",
   "execution_count": 1,
   "metadata": {},
   "outputs": [],
   "source": [
    "# 解法二:从右往左比较\n",
    "\n",
    "\n",
    "class Solution(object):\n",
    "    def romanToInt(self, s):\n",
    "        \"\"\"\n",
    "        :type s: str\n",
    "        :rtype: int\n",
    "        \"\"\"\n",
    "        d = {'M': 1000, 'D': 500, 'C': 100, 'L': 50, 'X': 10, 'V': 5, 'I': 1}\n",
    "        res, p = 0, 'I'\n",
    "        for c in s[::-1]:\n",
    "            res, p = res - d[c] if d[c] < d[p] else res + d[c], c\n",
    "\n",
    "        return res"
   ]
  }
 ],
 "metadata": {
  "kernelspec": {
   "display_name": "Python [conda env:Analysis]",
   "language": "python",
   "name": "conda-env-Analysis-py"
  },
  "language_info": {
   "codemirror_mode": {
    "name": "ipython",
    "version": 3
   },
   "file_extension": ".py",
   "mimetype": "text/x-python",
   "name": "python",
   "nbconvert_exporter": "python",
   "pygments_lexer": "ipython3",
   "version": "3.6.7"
  }
 },
 "nbformat": 4,
 "nbformat_minor": 2
}
