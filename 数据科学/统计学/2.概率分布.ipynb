{
 "cells": [
  {
   "cell_type": "markdown",
   "metadata": {},
   "source": [
    "> 在上一篇[描述性统计](./1.描述性统计.ipynb)中提到数据分析的对象主要是结构化化数据,而所有的结构化数据可以从三个维度进行描述,即数据的集中趋势描述,数据的离散程度描述和数据的分布形态描述,并对前两个维度进行了介绍.本篇主要是对数据描述的第三个维度进行介绍."
   ]
  },
  {
   "cell_type": "markdown",
   "metadata": {},
   "source": [
    "数据的分布形态描述是最形象的描述方式,因为可以用各种统计图形将数据的分布形态展现在图形中,让人一目了然.通常我们研究概率分布主要是研究各种分布的公式,均值,方差,分布以及常用实例."
   ]
  },
  {
   "cell_type": "markdown",
   "metadata": {},
   "source": [
    "![](./img/概率分布释义.jpg)"
   ]
  },
  {
   "cell_type": "markdown",
   "metadata": {},
   "source": [
    "## 基本概念"
   ]
  },
  {
   "cell_type": "markdown",
   "metadata": {},
   "source": [
    "### 随机变量"
   ]
  },
  {
   "cell_type": "markdown",
   "metadata": {},
   "source": [
    "[随机变量](https://zh.wikipedia.org/wiki/%E9%9A%8F%E6%9C%BA%E5%8F%98%E9%87%8F)是指在随机事件中的数量表现,有两种基本数据类型:一种是离散数据，比如统计每次抛硬币的结果，要么正要么反，其统计数据间存在明显间隔；另一种是连续数据，比如时间，时间之间可以无限分割，1分与2分中间存在无限可能的时间。\n",
    "数据分布，即数据在统计图中的形状。\n",
    "以上两者的结合就是概率分布，可以表示为概率分布=数据类型+数据分布。在统计图中一般横轴是数据的值，纵轴则表示对应数据值的概率。\n"
   ]
  },
  {
   "cell_type": "markdown",
   "metadata": {},
   "source": [
    "在日常工作生活中,经常会遇到事情发生的结果不能确定的情况,通常我们使用一个具体数值来度量随记事件中某一个结果发生的可能性大小,这个数值就是概率.概率的取值总是在0到1之间，也可以表示为百分数0%和100%。如果某个随机事件的其中一个结果的发生概率等于0，表示这个结果不可能发生；与此相反，如果概率等于1，则表示随机事件的这个结果必定会发生；介于0到1之间的概率则说明结果发生的可能性大小，数值越接近1，表示结果发生的可能性越大。"
   ]
  },
  {
   "cell_type": "markdown",
   "metadata": {},
   "source": [
    "### 古典概率"
   ]
  },
  {
   "cell_type": "markdown",
   "metadata": {},
   "source": [
    "古典概型可以说是我们生活中最为常见、也是最好理解的概率场景。其核心在于假定试验中所有结果出现的可能性是相等的，即**等可能性**，而古典概率的计算主要基于排列组合。  \n",
    "  \n",
    "  \n",
    "**排列**即从n个元素中取出k个元素，k个元素的排列数量为,表达公式为:\n",
    "$$\n",
    "P_k^n=\\frac{n!}{(n-k)!}\n",
    "$$\n",
    "**组合**和排列不同的是，组合取出元素的顺序不考虑,表达公式为:\n",
    "$$\n",
    "C_k^n=\\frac{n!}{k!(n-k)!}\n",
    "$$\n"
   ]
  },
  {
   "cell_type": "markdown",
   "metadata": {},
   "source": [
    "### 条件概率"
   ]
  },
  {
   "cell_type": "markdown",
   "metadata": {},
   "source": [
    "条件概率就是在附加一定条件之下所计算的概率。严格来说，现实中的任何概率都是条件概率：假定你在实验室投掷硬币，出现正面的频率约为1/2，你只能说在此时此地，在这种试验条件下，可以认为这枚硬币是均匀的，试验环境即为“条件”。  \n",
    "设有两事件A，B，在给定B发生的条件下A的条件概率记为$P(A|B)$,表达公式为:\n",
    "$$\n",
    "P(A|B)=\\frac{P(AB)}{P(B)}\n",
    "$$"
   ]
  },
  {
   "cell_type": "markdown",
   "metadata": {},
   "source": [
    "### 离散变量"
   ]
  },
  {
   "cell_type": "markdown",
   "metadata": {},
   "source": [
    "也就是上面讲到的离散数据,是指在任意两个值之间具有可计数的值的数值变量。离散变量始终为数值变量。例如，客户投诉数量或者瑕疵或缺陷数。"
   ]
  },
  {
   "cell_type": "markdown",
   "metadata": {},
   "source": [
    "### 连续变量"
   ]
  },
  {
   "cell_type": "markdown",
   "metadata": {},
   "source": [
    "是指在任意两个值之间具有无限个值的数值变量。连续变量可以是数值变量，也可以是日期/时间变量。例如，零件的长度，或者收到付款的日期和时间。"
   ]
  },
  {
   "cell_type": "markdown",
   "metadata": {},
   "source": [
    "### 期望值"
   ]
  },
  {
   "cell_type": "markdown",
   "metadata": {},
   "source": [
    "一个离散性随机变量的期望值（或数学期望，亦简称期望，物理学中称为期待值）是试验中每次可能的结果乘以其结果概率的总和。期望值像是随机试验在同样的机会下重复多次，所有那些可能状态平均的结果，便基本上等同“期望值”所期望的数。期望值可能与每一个结果都不相等。换句话说，期望值是该变量输出值的加权平均。这里强调下期望值和平均值的区别,两者经常被混淆使用:\n",
    "- 平均值是对样本的一个统计量（statistic），是可算的。\n",
    "- 期望值是对随机变量在某个度量中的描述量，是理想化的，被估计的。\n",
    "- 如果是随机独立一致样本，当样本足够大的时候，平均值向期望值收敛。"
   ]
  },
  {
   "cell_type": "markdown",
   "metadata": {},
   "source": [
    "学会确定事件不同结果的概率以后，下一步就是研究各个结果的概率分布情况，从而能够在下一次面对同样的事件时，做到心中有底，决策有理。概率分布是指事件的不同结果对应的发生概率所构成的分布，根据数据连续性的不同，数据可以分为离散型数据和连续型数据。同样，事件发生结果的对应数据既可能是离散型数据，也可能是连续型数据。因此，事件结果所对应的概率分布因为结果对应数据的不同也被分为离散变量概率分布和连续变量概率分布。"
   ]
  },
  {
   "cell_type": "markdown",
   "metadata": {},
   "source": [
    "## 离散变量概率分布"
   ]
  },
  {
   "cell_type": "code",
   "execution_count": null,
   "metadata": {},
   "outputs": [],
   "source": []
  },
  {
   "cell_type": "markdown",
   "metadata": {},
   "source": [
    "### 二项分布"
   ]
  },
  {
   "cell_type": "markdown",
   "metadata": {},
   "source": [
    "### 伯努利分布"
   ]
  },
  {
   "cell_type": "markdown",
   "metadata": {},
   "source": [
    "### 泊松分布"
   ]
  },
  {
   "cell_type": "markdown",
   "metadata": {},
   "source": [
    "## 连续变量概率分布"
   ]
  },
  {
   "cell_type": "markdown",
   "metadata": {},
   "source": [
    "### 均匀分布"
   ]
  },
  {
   "cell_type": "markdown",
   "metadata": {},
   "source": [
    "### 正态分布"
   ]
  },
  {
   "cell_type": "markdown",
   "metadata": {},
   "source": [
    "### 偏态分布"
   ]
  },
  {
   "cell_type": "markdown",
   "metadata": {},
   "source": [
    "### 卡方分布"
   ]
  },
  {
   "cell_type": "markdown",
   "metadata": {},
   "source": [
    "### 指数分布"
   ]
  },
  {
   "cell_type": "markdown",
   "metadata": {},
   "source": [
    "### 伽玛分布"
   ]
  },
  {
   "cell_type": "markdown",
   "metadata": {},
   "source": [
    "### 贝塔分布"
   ]
  },
  {
   "cell_type": "markdown",
   "metadata": {},
   "source": [
    "### 威布尔分布"
   ]
  },
  {
   "cell_type": "markdown",
   "metadata": {},
   "source": [
    "### F分布"
   ]
  },
  {
   "cell_type": "code",
   "execution_count": null,
   "metadata": {},
   "outputs": [],
   "source": []
  }
 ],
 "metadata": {
  "kernelspec": {
   "display_name": "Python [conda env:analysis]",
   "language": "python",
   "name": "conda-env-analysis-py"
  }
 },
 "nbformat": 4,
 "nbformat_minor": 2
}
