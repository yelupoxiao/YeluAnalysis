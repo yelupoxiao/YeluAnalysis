{
 "cells": [
  {
   "cell_type": "markdown",
   "metadata": {},
   "source": [
    "> 在上一篇[描述性统计](./1.描述性统计.ipynb)中提到数据分析的对象主要是结构化化数据,而所有的结构化数据可以从三个维度进行描述,即数据的集中趋势描述,数据的离散程度描述和数据的分布形态描述,并对前两个维度进行了介绍.本篇主要是对数据描述的第三个维度进行介绍."
   ]
  },
  {
   "cell_type": "markdown",
   "metadata": {},
   "source": [
    "数据的分布形态描述是最形象的描述方式,因为可以用各种统计图形将数据的分布形态展现在图形中,让人一目了然.通常我们研究概率分布主要是研究各种分布的公式,均值,方差,分布以及常用实例."
   ]
  },
  {
   "cell_type": "markdown",
   "metadata": {},
   "source": [
    "![](./img/概率分布释义.jpg)"
   ]
  },
  {
   "cell_type": "markdown",
   "metadata": {},
   "source": [
    "## 基本概念"
   ]
  },
  {
   "cell_type": "markdown",
   "metadata": {},
   "source": [
    "### 随机变量"
   ]
  },
  {
   "cell_type": "markdown",
   "metadata": {},
   "source": [
    "[随机变量](https://zh.wikipedia.org/wiki/%E9%9A%8F%E6%9C%BA%E5%8F%98%E9%87%8F)是指在随机事件中的数量表现,有两种基本数据类型:一种是离散数据，比如统计每次抛硬币的结果，要么正要么反，其统计数据间存在明显间隔；另一种是连续数据，比如时间，时间之间可以无限分割，1分与2分中间存在无限可能的时间。\n",
    "数据分布，即数据在统计图中的形状。\n",
    "以上两者的结合就是概率分布，可以表示为概率分布=数据类型+数据分布。在统计图中一般横轴是数据的值，纵轴则表示对应数据值的概率。\n"
   ]
  },
  {
   "cell_type": "markdown",
   "metadata": {},
   "source": [
    "在日常工作生活中,经常会遇到事情发生的结果不能确定的情况,通常我们使用一个具体数值来度量随记事件中某一个结果发生的可能性大小,这个数值就是概率.概率的取值总是在0到1之间，也可以表示为百分数0%和100%。如果某个随机事件的其中一个结果的发生概率等于0，表示这个结果不可能发生；与此相反，如果概率等于1，则表示随机事件的这个结果必定会发生；介于0到1之间的概率则说明结果发生的可能性大小，数值越接近1，表示结果发生的可能性越大。"
   ]
  },
  {
   "cell_type": "markdown",
   "metadata": {},
   "source": [
    "### 古典概率"
   ]
  },
  {
   "cell_type": "markdown",
   "metadata": {},
   "source": [
    "古典概型可以说是我们生活中最为常见、也是最好理解的概率场景。其核心在于假定试验中所有结果出现的可能性是相等的，即**等可能性**，而古典概率的计算主要基于排列组合。  \n",
    "  \n",
    "  \n",
    "**排列**即从n个元素中取出k个元素，k个元素的排列数量为,表达公式为:\n",
    "$$\n",
    "P_k^n=\\frac{n!}{(n-k)!}\n",
    "$$\n",
    "**组合**和排列不同的是，组合取出元素的顺序不考虑,表达公式为:\n",
    "$$\n",
    "C_k^n=\\frac{n!}{k!(n-k)!}\n",
    "$$\n"
   ]
  },
  {
   "cell_type": "markdown",
   "metadata": {},
   "source": [
    "### 条件概率"
   ]
  },
  {
   "cell_type": "markdown",
   "metadata": {},
   "source": [
    "条件概率就是在附加一定条件之下所计算的概率。严格来说，现实中的任何概率都是条件概率：假定你在实验室投掷硬币，出现正面的频率约为1/2，你只能说在此时此地，在这种试验条件下，可以认为这枚硬币是均匀的，试验环境即为“条件”。  \n",
    "设有两事件A，B，在给定B发生的条件下A的条件概率记为$P(A|B)$,表达公式为:\n",
    "$$\n",
    "P(A|B)=\\frac{P(AB)}{P(B)}\n",
    "$$"
   ]
  },
  {
   "cell_type": "markdown",
   "metadata": {},
   "source": [
    "### 离散变量"
   ]
  },
  {
   "cell_type": "markdown",
   "metadata": {},
   "source": [
    "也就是上面讲到的离散数据,是指在任意两个值之间具有可计数的值的数值变量。离散变量始终为数值变量。例如，客户投诉数量或者瑕疵或缺陷数。"
   ]
  },
  {
   "cell_type": "markdown",
   "metadata": {},
   "source": [
    "### 连续变量"
   ]
  },
  {
   "cell_type": "markdown",
   "metadata": {},
   "source": [
    "是指在任意两个值之间具有无限个值的数值变量。连续变量可以是数值变量，也可以是日期/时间变量。例如，零件的长度，或者收到付款的日期和时间。"
   ]
  },
  {
   "cell_type": "markdown",
   "metadata": {},
   "source": [
    "### 期望值"
   ]
  },
  {
   "cell_type": "markdown",
   "metadata": {},
   "source": [
    "一个离散性随机变量的期望值（或数学期望，亦简称期望，物理学中称为期待值）是试验中每次可能的结果乘以其结果概率的总和。期望值像是随机试验在同样的机会下重复多次，所有那些可能状态平均的结果，便基本上等同“期望值”所期望的数。期望值可能与每一个结果都不相等。换句话说，期望值是该变量输出值的加权平均。这里强调下期望值和平均值的区别,两者经常被混淆使用:\n",
    "- 平均值是对样本的一个统计量（statistic），是可算的。\n",
    "- 期望值是对随机变量在某个度量中的描述量，是理想化的，被估计的。\n",
    "- 如果是随机独立一致样本，当样本足够大的时候，平均值向期望值收敛。"
   ]
  },
  {
   "cell_type": "markdown",
   "metadata": {},
   "source": [
    "学会确定事件不同结果的概率以后，下一步就是研究各个结果的概率分布情况，从而能够在下一次面对同样的事件时，做到心中有底，决策有理。概率分布是指事件的不同结果对应的发生概率所构成的分布，根据数据连续性的不同，数据可以分为离散型数据和连续型数据。同样，事件发生结果的对应数据既可能是离散型数据，也可能是连续型数据。因此，事件结果所对应的概率分布因为结果对应数据的不同也被分为离散变量概率分布和连续变量概率分布。"
   ]
  },
  {
   "cell_type": "markdown",
   "metadata": {},
   "source": [
    "![](./img/两种概率分布图.png)"
   ]
  },
  {
   "cell_type": "markdown",
   "metadata": {},
   "source": [
    "## 离散变量概率分布"
   ]
  },
  {
   "cell_type": "markdown",
   "metadata": {},
   "source": [
    "离散型概率分布是一条条垂直于X轴的垂线(或矩形柱),每条垂线与X轴的交点代表事件可能发生的结果,垂线上端点对应的Y轴表示该结果发生的概率.常见的离散型概率分布有伯努利分布,二项分布和泊松分布等."
   ]
  },
  {
   "cell_type": "markdown",
   "metadata": {},
   "source": [
    "### 伯努利分布"
   ]
  },
  {
   "cell_type": "markdown",
   "metadata": {},
   "source": [
    "现实生活中许多事件或活动的结果往往只有两个.抛硬币问题(正面/反面),产品质量检验问题(合格/不合格),投票选举问题(支持/不支持)等.如果某事件或活动的结果多于两个,但只关心其中一个,也可视为只有两个结果,比如奥运会中国乒乓球队是否获得金牌(排名有很多,奖牌也分为金银铜三种,但这里我们只关心是否拿金牌,也就是只有两个结果,获得金牌或未获得金牌).对于以上类似事件,在实际运用中,一般用\"成功\"表示我们感兴趣的发生结果(比如合格,支持,获得金牌等),用\"失败\"表示我们不感兴趣的结果.这一类事件或活动被称为伯努利试验.  \n",
    "\n",
    "伯努利分布(Bernoulli distribution)，又名两点分布或者0-1分布，是一个离散型概率分布.若伯努利试验成功，则伯努利随机变量取值为1。若伯努利试验失败，则伯努利随机变量取值为0。记其成功概率为$p(0≤p≤1)$,失败概率为$q=1-p$,则伯努利分布的**公式**表达为:"
   ]
  },
  {
   "cell_type": "markdown",
   "metadata": {},
   "source": [
    "$$\n",
    "f_X(x)=p^x(1-p)^{1-x}=\\begin{cases}\n",
    "p, \\quad if& x=1\\\\\n",
    "q, \\quad  if& x=0\n",
    "\\end{cases}\n",
    "$$"
   ]
  },
  {
   "cell_type": "markdown",
   "metadata": {},
   "source": [
    "**期望值**为:\n",
    "$$\n",
    "E[X]=\\sum_{i=0}{1}x_if_X(x)=0+p=p\n",
    "$$"
   ]
  },
  {
   "cell_type": "markdown",
   "metadata": {},
   "source": [
    "**方差**为:"
   ]
  },
  {
   "cell_type": "markdown",
   "metadata": {},
   "source": [
    "$$\n",
    "var[X]=\\sum_{i=0}{1}=(x_i-E[X])^2f_X(x)=(0-p)^2(1-p))+(1-p)^2p=p(1-p)=pq\n",
    "$$"
   ]
  },
  {
   "cell_type": "code",
   "execution_count": 104,
   "metadata": {},
   "outputs": [],
   "source": [
    "import pandas as pd\n",
    "from pandas import Series, DataFrame\n",
    "import numpy as np\n",
    "import matplotlib.pyplot as plt\n",
    "import seaborn as sns\n",
    "from scipy.stats import bernoulli\n",
    "from scipy.stats import binom\n",
    "from scipy.stats import poisson\n",
    "from scipy.stats import uniform"
   ]
  },
  {
   "cell_type": "code",
   "execution_count": 65,
   "metadata": {},
   "outputs": [
    {
     "data": {
      "text/plain": [
       "Text(0.5, 1.0, '伯努利分布：p=0.50')"
      ]
     },
     "execution_count": 65,
     "metadata": {},
     "output_type": "execute_result"
    },
    {
     "data": {
      "image/png": "[encoded data removed]",
      "text/plain": [
       "<Figure size 432x288 with 1 Axes>"
      ]
     },
     "metadata": {
      "needs_background": "light"
     },
     "output_type": "display_data"
    }
   ],
   "source": [
    "# 利用plt模拟伯努利分布\n",
    "#解决画图中文乱码\n",
    "plt.rcParams['font.sans-serif']=['SimHei']\n",
    "plt.rcParams['axes.unicode_minus']=False\n",
    "#定义随机变量\n",
    "X = np.arange(10) \n",
    "p = 0.5\n",
    "#伯努利概率函数\n",
    "pList = bernoulli.pmf(X,p)\n",
    "#绘图，marker：点的形状，linestyle：线条的形状\n",
    "plt.plot(X,pList,marker = 'o',linestyle = 'None' )\n",
    "#vlines绘制树直线，参数的含义（x轴坐标轴，y轴最小值，y轴最大值）\n",
    "plt.vlines(X,0,pList)\n",
    "plt.xlabel(\"随机变量：抛硬币{}次\".format(len(X)))\n",
    "plt.ylabel(\"概率\")\n",
    "plt.title('伯努利分布：p={:.2f}' .format( p))"
   ]
  },
  {
   "cell_type": "code",
   "execution_count": 66,
   "metadata": {
    "scrolled": true
   },
   "outputs": [
    {
     "data": {
      "text/plain": [
       "[Text(0, 0.5, 'Frequency'), Text(0.5, 0, 'Bernouli')]"
      ]
     },
     "execution_count": 66,
     "metadata": {},
     "output_type": "execute_result"
    },
    {
     "data": {
      "image/png": "[encoded data removed]",
      "text/plain": [
       "<Figure size 432x288 with 1 Axes>"
      ]
     },
     "metadata": {
      "needs_background": "light"
     },
     "output_type": "display_data"
    }
   ],
   "source": [
    "# 利用sns模拟伯努利分布\n",
    "data_bern=bernoulli.rvs(size=10,p=0.5)\n",
    "ax=sns.distplot(data_bern,kde=True,color='blue',hist_kws={'linewidth':25,'alpha':1})\n",
    "ax.set(xlabel='Bernouli',ylabel='Frequency')"
   ]
  },
  {
   "cell_type": "markdown",
   "metadata": {},
   "source": [
    "### 二项分布"
   ]
  },
  {
   "cell_type": "markdown",
   "metadata": {},
   "source": [
    "二项分布（Binomial distribution）是n个独立的是/非试验中成功的次数的离散概率分布，其中每次试验的成功概率为p。实际上单次的成功/失败试验就是一次伯努利试验;当n=1时,二项分布就是伯努利分布."
   ]
  },
  {
   "cell_type": "markdown",
   "metadata": {},
   "source": [
    "二项分布的**公式**表达为:\n"
   ]
  },
  {
   "cell_type": "markdown",
   "metadata": {},
   "source": [
    "$$\n",
    "f(k;n,p)=Pr(X=k)=\\left(_k^n\\right)p^k(1-p)^{n-k}\n",
    "$$"
   ]
  },
  {
   "cell_type": "markdown",
   "metadata": {},
   "source": [
    "对于k=0, 1, 2,...,n,其中$\\left(_k^n\\right)=\\frac{n!}{k!(n-k)!}$是二项式系数（这就是二项分布的名称的由来），又记为C(n,k)。该公式可以用以下方法理解：我们希望有$k$次成功$(p^k)$和$n−k$次失败$(1−p)^{n−k}$。然而，k次成功可以在n次试验的任何地方出现，而把k次成功分布在n次试验中共有C(n, k)个不同的方法。"
   ]
  },
  {
   "cell_type": "markdown",
   "metadata": {},
   "source": [
    "**期望值**为:"
   ]
  },
  {
   "cell_type": "markdown",
   "metadata": {},
   "source": [
    "$$\n",
    "E[X]=np\n",
    "$$"
   ]
  },
  {
   "cell_type": "markdown",
   "metadata": {},
   "source": [
    "**方差**为:"
   ]
  },
  {
   "cell_type": "markdown",
   "metadata": {},
   "source": [
    "$$\n",
    "Var[X]=np(1-p)\n",
    "$$"
   ]
  },
  {
   "cell_type": "markdown",
   "metadata": {},
   "source": [
    "我们使用计算机模拟的方法，产生10000个符合（n，p）的二项分布随机数，相当于进行10000次实验，每次实验投掷了n枚硬币，正面朝上的硬币数就是所产生的随机数。"
   ]
  },
  {
   "cell_type": "code",
   "execution_count": 100,
   "metadata": {
    "scrolled": true
   },
   "outputs": [
    {
     "data": {
      "text/plain": [
       "Text(0, 0.5, 'probability')"
      ]
     },
     "execution_count": 100,
     "metadata": {},
     "output_type": "execute_result"
    },
    {
     "data": {
      "image/png": "[encoded data removed]",
      "text/plain": [
       "<Figure size 432x288 with 1 Axes>"
      ]
     },
     "metadata": {
      "needs_background": "light"
     },
     "output_type": "display_data"
    }
   ],
   "source": [
    "# 利用plt模拟二项分布\n",
    "n , p =10 ,0.5\n",
    "sample = np.random.binomial(n, p, size=10000)  # 产生10000个符合二项分布的随机数\n",
    "bins = np.arange(n + 2)\n",
    "plt.hist(sample, bins=bins, align='left',density=True, rwidth=0.5)  # 绘制直方图\n",
    "# 设置标题和坐标\n",
    "plt.title('Binomial FMF with n={},p={}'.format(n, p))\n",
    "plt.xlabel('number of successes')\n",
    "plt.ylabel('probability')"
   ]
  },
  {
   "cell_type": "code",
   "execution_count": 102,
   "metadata": {
    "scrolled": false
   },
   "outputs": [
    {
     "data": {
      "text/plain": [
       "[Text(0, 0.5, 'probability'), Text(0.5, 0, 'number of successes')]"
      ]
     },
     "execution_count": 102,
     "metadata": {},
     "output_type": "execute_result"
    },
    {
     "data": {
      "image/png": "[encoded data removed]",
      "text/plain": [
       "<Figure size 432x288 with 1 Axes>"
      ]
     },
     "metadata": {
      "needs_background": "light"
     },
     "output_type": "display_data"
    }
   ],
   "source": [
    "# 利用sns模拟二项分布\n",
    "data_binom = binom.rvs(n=5,p=0.5,loc=0,size=10000)\n",
    "ax = sns.distplot(data_binom,\n",
    "                  kde=True,\n",
    "                  color='blue',\n",
    "                  hist_kws={\"linewidth\": 25,'alpha':1})\n",
    "ax.set(xlabel='number of successes', ylabel='probability')"
   ]
  },
  {
   "cell_type": "markdown",
   "metadata": {},
   "source": [
    "### 泊松分布"
   ]
  },
  {
   "cell_type": "markdown",
   "metadata": {},
   "source": [
    "泊松分布考虑的是在连续时间或空间单位上发生的随机事件次数的概率.换句话说,基于过去某个随机事件在某段时间或某个空间内发生的平均次数,如某一服务设施在一定时间内受到的服务请求的次数，电话交换机接到呼叫的次数、汽车站台的候客人数、机器出现的故障数、自然灾害发生的次数、DNA序列的变异数、放射性原子核的衰变数、激光的光子数分布等等。"
   ]
  },
  {
   "cell_type": "markdown",
   "metadata": {},
   "source": [
    "泊松分布的**公式**表达为:"
   ]
  },
  {
   "cell_type": "markdown",
   "metadata": {},
   "source": [
    "$$\n",
    "P(X=k)=\\frac{e^{-\\lambda}\\lambda^k}{k!}\n",
    "$$\n",
    "参数λ是单位时间（或单位面积）内随机事件的平均发生率."
   ]
  },
  {
   "cell_type": "markdown",
   "metadata": {},
   "source": [
    "**期望值**为:\n",
    "$$\n",
    "E(X)=\\lambda\n",
    "$$"
   ]
  },
  {
   "cell_type": "markdown",
   "metadata": {},
   "source": [
    "**方差**为:\n",
    "$$\n",
    "Var(X)=E(X)=\\lambda\n",
    "$$"
   ]
  },
  {
   "cell_type": "markdown",
   "metadata": {},
   "source": [
    "假设通过一定时间的观察，我们知道某个路口每小时平均有8辆车通过，这是一个典型的泊松分布实例，我们通过Python进行统计模拟来看看在统计图它具体是如何呈现的。"
   ]
  },
  {
   "cell_type": "code",
   "execution_count": 99,
   "metadata": {},
   "outputs": [
    {
     "data": {
      "image/png": "[encoded data removed]",
      "text/plain": [
       "<Figure size 432x288 with 1 Axes>"
      ]
     },
     "metadata": {
      "needs_background": "light"
     },
     "output_type": "display_data"
    }
   ],
   "source": [
    "# 用plt模拟泊松分布\n",
    "lamb = 8\n",
    "sample = np.random.poisson(lamb, size=10000)\n",
    "bins = np.arange(20)\n",
    "plt.hist(sample, bins=bins, align='left',density=True, rwidth=0.5)\n",
    "plt.title('Possion PMF (lambda=8)')\n",
    "plt.xlabel('number of appear')\n",
    "plt.ylabel('probability')\n",
    "plt.show()"
   ]
  },
  {
   "cell_type": "code",
   "execution_count": 97,
   "metadata": {},
   "outputs": [
    {
     "data": {
      "text/plain": [
       "[Text(0, 0.5, 'probability'), Text(0.5, 0, 'number of appear')]"
      ]
     },
     "execution_count": 97,
     "metadata": {},
     "output_type": "execute_result"
    },
    {
     "data": {
      "image/png": "[encoded data removed]",
      "text/plain": [
       "<Figure size 432x288 with 1 Axes>"
      ]
     },
     "metadata": {
      "needs_background": "light"
     },
     "output_type": "display_data"
    }
   ],
   "source": [
    "# 利用sns模拟泊松分布\n",
    "data_binom = poisson.rvs(mu=8, size=10000)\n",
    "ax = sns.distplot(data_binom,\n",
    "                  kde=True,\n",
    "                  color='blue',\n",
    "                  hist_kws={\"linewidth\": 25,'alpha':1})\n",
    "ax.set(xlabel='number of appear', ylabel='probability')"
   ]
  },
  {
   "cell_type": "markdown",
   "metadata": {},
   "source": [
    "## 连续变量概率分布"
   ]
  },
  {
   "cell_type": "markdown",
   "metadata": {},
   "source": [
    "连续性概率分布的图形是一条连续的曲线,表示事件的结果可能是X轴上的任意一点.与离散型概率分布不同的是,Y轴表示结果对应的概率密度(区别于概率).对于任何连续型概率分布,曲线下方的总面积等于1(概率综合是100%),连续型概率分布对应的函数被称为概率密度函数.常见的连续型概率分布有均匀分布,正态分布,指数分布等."
   ]
  },
  {
   "cell_type": "markdown",
   "metadata": {},
   "source": [
    "### 均匀分布"
   ]
  },
  {
   "cell_type": "markdown",
   "metadata": {},
   "source": [
    "均匀分布算是最简单的连续型概率分布。因为其概率密度是一个常数，不随随机变量X取值的变化而变化。如果连续型随机变量 X 具有如下的概率密度函数，则称 X 服从 [a,b] 上的均匀分布（uniform distribution）,记作$ X∼U(a,b)$ 或 $X∼Unif(a,b)$均匀分布的**公式**为:\n",
    "\n",
    " "
   ]
  },
  {
   "cell_type": "markdown",
   "metadata": {},
   "source": [
    "\n",
    "$$\n",
    "f_X(x)=\\begin{cases}\\frac{1}{b-a}\\quad for\\quad a≤x≤b\\\\\\\\ 0\\qquad x<a \\quad  or\\quad x>b \\end{cases}\n",
    "$$"
   ]
  },
  {
   "cell_type": "markdown",
   "metadata": {},
   "source": [
    "**期望值**为:"
   ]
  },
  {
   "cell_type": "markdown",
   "metadata": {},
   "source": [
    "$$\n",
    "E[X]=\\frac{a+b}{2}\n",
    "$$"
   ]
  },
  {
   "cell_type": "markdown",
   "metadata": {},
   "source": [
    "**方差**为:"
   ]
  },
  {
   "cell_type": "markdown",
   "metadata": {},
   "source": [
    "$$\n",
    "Var[X]=\\frac{(b-a)^2}{12}\n",
    "$$"
   ]
  },
  {
   "cell_type": "code",
   "execution_count": 105,
   "metadata": {},
   "outputs": [
    {
     "name": "stdout",
     "output_type": "stream",
     "text": [
      "[2.004 4.    5.996]\n",
      "True\n"
     ]
    },
    {
     "name": "stderr",
     "output_type": "stream",
     "text": [
      "D:\\YY\\Anaconda\\envs\\analysis\\lib\\site-packages\\ipykernel_launcher.py:29: MatplotlibDeprecationWarning: \n",
      "The 'normed' kwarg was deprecated in Matplotlib 2.1 and will be removed in 3.1. Use 'density' instead.\n"
     ]
    },
    {
     "data": {
      "image/png": "[encoded data removed]",
      "text/plain": [
       "<Figure size 432x288 with 1 Axes>"
      ]
     },
     "metadata": {
      "needs_background": "light"
     },
     "output_type": "display_data"
    }
   ],
   "source": [
    "def uniform_distribution(loc=0, scale=1):\n",
    "    \"\"\"\n",
    "    均匀分布，在实际的定义中有两个参数，分布定义域区间的起点和终点[a, b]\n",
    "    :param loc: 该分布的起点, 相当于a\n",
    "    :param scale: 区间长度, 相当于 b-a\n",
    "    :return:\n",
    "    \"\"\"\n",
    "    uniform_dis = uniform(loc=loc, scale=scale)\n",
    "    x = np.linspace(uniform_dis.ppf(0.01),\n",
    "                    uniform_dis.ppf(0.99), 100)\n",
    "    fig, ax = plt.subplots(1, 1)\n",
    "\n",
    "    # 直接传入参数\n",
    "    ax.plot(x, uniform.pdf(x, loc=2, scale=4), 'r-',\n",
    "            lw=5, alpha=0.6, label='uniform pdf')\n",
    "\n",
    "    # 从冻结的均匀分布取值\n",
    "    ax.plot(x, uniform_dis.pdf(x), 'k-',\n",
    "            lw=2, label='frozen pdf')\n",
    "\n",
    "    # 计算ppf分别等于0.001, 0.5, 0.999时的x值\n",
    "    vals = uniform_dis.ppf([0.001, 0.5, 0.999])\n",
    "    print(vals)  # [ 2.004  4.     5.996]\n",
    "\n",
    "    # Check accuracy of cdf and ppf\n",
    "    print(np.allclose([0.001, 0.5, 0.999], uniform_dis.cdf(vals)))  # Ture\n",
    "\n",
    "    r = uniform_dis.rvs(size=10000)\n",
    "    ax.hist(r, normed=True, histtype='stepfilled', alpha=0.2)\n",
    "    plt.ylabel('Probability')\n",
    "    plt.title(r'PDF of Unif({}, {})'.format(loc, loc+scale))\n",
    "    ax.legend(loc='best', frameon=False)\n",
    "    plt.show()\n",
    "\n",
    "uniform_distribution(loc=2, scale=4)"
   ]
  },
  {
   "cell_type": "markdown",
   "metadata": {},
   "source": [
    "### 正态分布"
   ]
  },
  {
   "cell_type": "markdown",
   "metadata": {},
   "source": [
    "正态概率分布(normal distribution）是所有概率分布中最重要的形式,因为它表明被测事物处在稳定的状态下,测量数据的波动是由偶然因素引起的,所以在实践中有着广泛的应用.  \n",
    "正态分布的数学期望值或期望值$\\mu$ 等于位置参数，决定了分布的位置；其方差$ \\sigma ^{2}$的开平方或标准差 $\\sigma$等于尺度参数，决定了分布的幅度。正态分布的概率密度函数曲线呈钟形，因此人们又经常称之为钟形曲线（类似于寺庙里的大钟，因此得名）。我们通常所说的标准正态分布是位置参数 $ \\mu =0$，尺度参数 $\\sigma ^{2}=1$的正态分布.正态分布的**公式**表达为:"
   ]
  },
  {
   "cell_type": "markdown",
   "metadata": {},
   "source": [
    "$$\n",
    "f(x)=\\frac{1}{\\sqrt{2\\pi}\\sigma}e^\\frac{(x-\\mu)^2}{2\\sigma^2}\n",
    "$$"
   ]
  },
  {
   "cell_type": "markdown",
   "metadata": {},
   "source": [
    "公式中μ表示均值，σ表示标准差，π是圆周率，e是自然常数。"
   ]
  },
  {
   "cell_type": "code",
   "execution_count": 106,
   "metadata": {},
   "outputs": [
    {
     "data": {
      "image/png": "[encoded data removed]",
      "text/plain": [
       "<Figure size 432x288 with 1 Axes>"
      ]
     },
     "metadata": {
      "needs_background": "light"
     },
     "output_type": "display_data"
    }
   ],
   "source": [
    "def norm_pdf(x, mu, sigma):\n",
    "    pdf = np.exp(-( (x - mu)**2) / (2 * sigma**2)) / (sigma * np.sqrt(2 * np.pi))\n",
    "    return pdf\n",
    "\n",
    "\n",
    "mu = 0\n",
    "sigma = 1\n",
    "\n",
    "# 用统计模拟绘制正态分布的直方图\n",
    "sample = np.random.normal(mu, sigma, size=10000)\n",
    "plt.hist(sample, bins=100, alpha=0.7, density=True)\n",
    "\n",
    "# 根据正态分布的公式绘制PDF曲线\n",
    "x = np.arange(-5, 5, 0.01)\n",
    "y = norm_pdf(x, mu, sigma)\n",
    "plt.plot(x, y, color='red', lw=3)\n",
    "plt.show()"
   ]
  },
  {
   "cell_type": "markdown",
   "metadata": {},
   "source": [
    "### 指数分布"
   ]
  },
  {
   "cell_type": "markdown",
   "metadata": {},
   "source": [
    "指数分布（Exponential distribution）是一种连续概率分布。指数分布可以用来表示独立随机事件发生的时间间隔，比如旅客进入机场的时间间隔、打进客服中心电话的时间间隔、百科新条目出现的时间间隔等等。指数分布的**公式**表达为:"
   ]
  },
  {
   "cell_type": "markdown",
   "metadata": {},
   "source": [
    "$$\n",
    "f(x;\\lambda)=\\begin{cases}\\lambda e^{-\\lambda x}\\quad , x≥0,\\\\\\\\ 0\\qquad ,\\quad x< 0\\end{cases}\n",
    "$$"
   ]
  },
  {
   "cell_type": "markdown",
   "metadata": {},
   "source": [
    "其中λ > 0是分布的一个参数，常被称为率参数（rate parameter）。即每单位时间发生该事件的次数。指数分布的区间是[0,∞)。  如果一个随机变量X 呈指数分布，则可以写作:$X ~ Exponential（λ）$。"
   ]
  },
  {
   "cell_type": "markdown",
   "metadata": {},
   "source": [
    "**期望值**为:\n",
    "$$\n",
    "E[X]=\\frac{1}{\\lambda}\n",
    "$$"
   ]
  },
  {
   "cell_type": "markdown",
   "metadata": {},
   "source": [
    "**方差**为:\n",
    "$$\n",
    "D[X]=\\frac{1}{\\lambda ^2}\n",
    "$$"
   ]
  },
  {
   "cell_type": "code",
   "execution_count": 107,
   "metadata": {},
   "outputs": [
    {
     "data": {
      "image/png": "[encoded data removed]",
      "text/plain": [
       "<Figure size 432x288 with 1 Axes>"
      ]
     },
     "metadata": {
      "needs_background": "light"
     },
     "output_type": "display_data"
    }
   ],
   "source": [
    "lambd = 0.5\n",
    "x = np.arange(0,15,0.1)\n",
    "y = lambd*np.exp(-lambd*x)\n",
    "plt.plot(x,y)\n",
    "plt.show()"
   ]
  },
  {
   "cell_type": "markdown",
   "metadata": {},
   "source": [
    "### 伽玛分布"
   ]
  },
  {
   "cell_type": "markdown",
   "metadata": {},
   "source": [
    "伽玛分布即为多个独立且相同分布（iid）的指数分布变量的和的分布。从意义来看：指数分布解决的问题是“要等到一个随机事件发生，需要经历多久时间”，伽玛分布解决的问题是“要等到n个随机事件都发生，需要经历多久时间”。所以，伽玛分布可以看作是n个指数分布的独立随机变量的加总，即，n个Exponential(λ)random variables--->Gamma(n,λ）\n"
   ]
  },
  {
   "cell_type": "markdown",
   "metadata": {},
   "source": [
    "### 贝塔分布"
   ]
  },
  {
   "cell_type": "markdown",
   "metadata": {},
   "source": [
    "Beta分布是一个定义在[0,1]区间上的连续概率分布族，它有两个正值参数，称为形状参数，一般用$\\alpha$和$\\beta$表示。在贝叶斯推断中，Beta分布是Bernoulli、二项分布、负二项分布和几何分布的共轭先验分布。"
   ]
  },
  {
   "cell_type": "markdown",
   "metadata": {},
   "source": [
    "### 威布尔分布"
   ]
  },
  {
   "cell_type": "markdown",
   "metadata": {},
   "source": [
    "威布尔分布（Weibull distribution）即韦伯分布,是可靠性分析和寿命检验的理论基础。威布尔分布在可靠性工程中被广泛应用，尤其适用于机电类产品的磨损累计失效的分布形式。由于它可以利用概率值很容易地推断出它的分布参数，被广泛应用于各种寿命试验的数据处理。例如，可以使用此分布回答以下问题：\n",
    "\n",
    "- 预计将在老化期间失效的项目所占的百分比是多少？例如，预计将在 8 小时老化期间失效的保险丝占多大百分比？\n",
    "\n",
    "- 预计在有效寿命阶段有多少次保修索赔？例如，在该轮胎的 50,000 英里有效寿命期间预计有多少次保修索赔？\n",
    "\n",
    "- 预计何时会出现快速磨损？例如，应将维护定期安排在何时以防止发动机进入磨损阶段？"
   ]
  },
  {
   "cell_type": "markdown",
   "metadata": {},
   "source": [
    "### 卡方分布\n",
    "\n",
    "卡方分布（chi-square distribution, χ²-distribution，或写作χ²分布）是概率论与统计学中常用的一种概率分布。k个独立的标准正态分布变量的平方和服从自由度为k的卡方分布。卡方分布是一种特殊的伽玛分布，是统计推断中应用最为广泛的概率分布之一，例如假设检验和置信区间的计算。\n",
    "\n",
    "由卡方分布延伸出来皮尔森卡方检定常用于：\n",
    "\n",
    "- 样本某性质的比例分布与总体理论分布的拟合优度（例如某行政机关男女比是否符合该机关所在城镇的男女比）；\n",
    "- 同一总体的两个随机变量是否独立（例如人的身高与交通违规的关联性）；\n",
    "- 二或多个总体同一属性的同素性检定（意大利面店和寿司店的营业额有没有差距）。"
   ]
  },
  {
   "cell_type": "markdown",
   "metadata": {},
   "source": [
    "\n",
    "### F分布"
   ]
  },
  {
   "cell_type": "markdown",
   "metadata": {},
   "source": [
    "设X、Y为两个独立的随机变量，X服从自由度为k1的卡方分布，Y服从自由度为k2的卡方分布，这2 个独立的卡方分布被各自的自由度除以后的比率这一统计量的分布即为F分布.对于正态总体来说，两个总体的方差比较可以用F-分布来检验.一般较大的方差放在分子上；如果两个方差相等，则这个比值在1附近，这个值越大，他们越可能不相等。是否有统计学意义，需要有个判断的临界值。在设定的显著性水平（一般是0.05）下，根据分子的自由度为以及分母的自由度，查F-分布表，得到F的临界值，最后将实际求出的F值同临界值比较，得出方差存在显著差异（有统计学意义）或者方差不存在显著差异（无统计学意义）的结论."
   ]
  }
 ],
 "metadata": {
  "kernelspec": {
   "display_name": "analysis",
   "language": "python",
   "name": "analysis"
  },
  "language_info": {
   "codemirror_mode": {
    "name": "ipython",
    "version": 3
   },
   "file_extension": ".py",
   "mimetype": "text/x-python",
   "name": "python",
   "nbconvert_exporter": "python",
   "pygments_lexer": "ipython3",
   "version": "3.6.8"
  }
 },
 "nbformat": 4,
 "nbformat_minor": 2
}
