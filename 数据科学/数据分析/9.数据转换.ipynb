{
 "cells": [
  {
   "cell_type": "markdown",
   "metadata": {},
   "source": [
    "# 概念释义"
   ]
  },
  {
   "cell_type": "markdown",
   "metadata": {},
   "source": [
    "在实际工作中，让不同渠道的数据统一到一个目标数据库里，就需要用到数据变换。比如A和B都考了80分，但前者是百分制，后者满分是500分，如果把从这两个渠道收集的数据进行集成挖掘，即便再牛的算法结果也是不正确的。因为这两个渠道的分数代表的含义完成不同。\n",
    "\n",
    "从数据挖掘的整个流程来看，字段筛选→数据探索→相关性分析→选择算法模型→数据变换→数据挖掘→挖掘结果可视化呈现→输出结论报告。可以看出数据变换是数据准备的重要环节，通过数据平滑、数据聚集、数据概化和规范化等方式将数据转换成适用于数据挖掘的形式。"
   ]
  },
  {
   "cell_type": "markdown",
   "metadata": {},
   "source": [
    "# 常见的数据变换方法"
   ]
  },
  {
   "cell_type": "markdown",
   "metadata": {},
   "source": [
    "- 数据平滑：\n",
    "\n",
    "去除数据中的噪声，将连续数据离散化，如分箱、聚类、回归等\n",
    "\n",
    "- 数据聚集\n",
    "\n",
    "对数据进行汇总，如Max（）反馈某个字段最大值、Sum(）返回某个字段的数值总和\n",
    "\n",
    "- 数据概化\n",
    "\n",
    "将数据由较低的概念抽象成较高的概念，从而减少数据复杂度，如上海、杭州、深圳、北京可以概化成中古。\n",
    "\n",
    "- 数据规范化\n",
    "\n",
    "使属性数据按比例缩放，从而将原来的数值映射到一个新的特定区域中。常用方法有最小最大规划化、Z-Score规划范、按小数定标规范化。\n",
    "\n",
    "- 属性构造\n",
    "\n",
    "构造新的属性并添加到属性集中。如数据表中统计每个人的英语、语文和数学成绩，可以构造一个“总和”的属性，这个新属性可用到后续的数据挖掘计算中"
   ]
  },
  {
   "cell_type": "markdown",
   "metadata": {},
   "source": [
    "# 数据规范化"
   ]
  },
  {
   "cell_type": "markdown",
   "metadata": {},
   "source": [
    "数据规范化是数据变换的主要内容，下面利用Python的SciKit-Learn库中的数据变换模块逐一对主要的数据规范化方法进行代码实现。"
   ]
  },
  {
   "cell_type": "markdown",
   "metadata": {},
   "source": [
    "## Min-max 规范化"
   ]
  },
  {
   "cell_type": "markdown",
   "metadata": {},
   "source": [
    "Min-max规范化方法是将原始数据变换到[0,1]的空间中，计算公式是：\n",
    "\n",
    "新数值=（原数值-极小值）/（极大值-极小值）"
   ]
  },
  {
   "cell_type": "code",
   "execution_count": 4,
   "metadata": {},
   "outputs": [
    {
     "data": {
      "text/plain": [
       "array([[ 0.        ,  0.        ,  0.66666667],\n",
       "       [ 1.        ,  1.        ,  1.        ],\n",
       "       [ 0.        ,  1.        ,  0.        ]])"
      ]
     },
     "execution_count": 4,
     "metadata": {},
     "output_type": "execute_result"
    }
   ],
   "source": [
    "# coding:utf-8\n",
    "from sklearn import preprocessing\n",
    "import numpy as np\n",
    "# 初始化数据,每一行表示一个样本,每一列表示一个特征\n",
    "x = np.array([[0., -3., 1.], [3., 1., 2.], [0., 1., -1.]])\n",
    "# 将数据进行[0,1]规范化\n",
    "min_max_scaler = preprocessing.MinMaxScaler()\n",
    "minmax_x = min_max_scaler.fit_transform(x)\n",
    "minmax_x"
   ]
  },
  {
   "cell_type": "markdown",
   "metadata": {},
   "source": [
    "## Z-Score规范化"
   ]
  },
  {
   "cell_type": "markdown",
   "metadata": {},
   "source": [
    "对于不同\"量纲\"的数据可以通过Z-Score规范化进行标准转换,计算公式是:\n",
    "\n",
    "新数值=(原数值-均值)/标准差"
   ]
  },
  {
   "cell_type": "code",
   "execution_count": 8,
   "metadata": {},
   "outputs": [
    {
     "data": {
      "text/plain": [
       "array([[-0.70710678, -1.41421356,  0.26726124],\n",
       "       [ 1.41421356,  0.70710678,  1.06904497],\n",
       "       [-0.70710678,  0.70710678, -1.33630621]])"
      ]
     },
     "execution_count": 8,
     "metadata": {},
     "output_type": "execute_result"
    }
   ],
   "source": [
    "# 将数据进行Z-Score规范化\n",
    "scaler_x = preprocessing.scale(x)\n",
    "scaler_x"
   ]
  },
  {
   "cell_type": "markdown",
   "metadata": {},
   "source": [
    "## 小数定标规范化"
   ]
  },
  {
   "cell_type": "markdown",
   "metadata": {},
   "source": [
    "小数定标规范化是通过移动小数点的位置来进行规范化。小数点移动多少位取决于属性A取值中的最大绝对值。例如，属性A的取值范围是-999到88，那么最大绝对值是999，小数点就要移动3位，即新数值=原始值/1000 。那么A的取值范围就被规范化为-0.999到0.088"
   ]
  },
  {
   "cell_type": "code",
   "execution_count": 9,
   "metadata": {},
   "outputs": [
    {
     "data": {
      "text/plain": [
       "array([[ 0. , -0.3,  0.1],\n",
       "       [ 0.3,  0.1,  0.2],\n",
       "       [ 0. ,  0.1, -0.1]])"
      ]
     },
     "execution_count": 9,
     "metadata": {},
     "output_type": "execute_result"
    }
   ],
   "source": [
    "# 小数定标规范化\n",
    "j = np.ceil(np.log10(np.max(abs(x))))\n",
    "scaled_x = x / 10**j\n",
    "scaled_x"
   ]
  },
  {
   "cell_type": "markdown",
   "metadata": {},
   "source": [
    "# 数据变换比算法选择更重要"
   ]
  },
  {
   "cell_type": "markdown",
   "metadata": {},
   "source": [
    "在考试成绩中，我们需要让数据满足一定的规律，达到规范性的要求，从而便于进行挖掘。这就是数据变化的作用。如果不进行数据变换，要么是维数过多增加计算成本，要么是数据过于集中很难找到数据之间的特征。"
   ]
  },
  {
   "cell_type": "code",
   "execution_count": null,
   "metadata": {},
   "outputs": [],
   "source": []
  }
 ],
 "metadata": {
  "kernelspec": {
   "display_name": "Python [conda env:analysis]",
   "language": "python",
   "name": "conda-env-analysis-py"
  },
  "language_info": {
   "codemirror_mode": {
    "name": "ipython",
    "version": 3
   },
   "file_extension": ".py",
   "mimetype": "text/x-python",
   "name": "python",
   "nbconvert_exporter": "python",
   "pygments_lexer": "ipython3",
   "version": "3.6.8"
  }
 },
 "nbformat": 4,
 "nbformat_minor": 2
}
