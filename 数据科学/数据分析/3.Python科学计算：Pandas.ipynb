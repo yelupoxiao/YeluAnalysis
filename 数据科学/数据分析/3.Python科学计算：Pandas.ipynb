{
 "cells": [
  {
   "cell_type": "markdown",
   "metadata": {},
   "source": [
    "正是因为Pandas工具,使用Python进行数据挖掘才具有了优势.\n",
    "\n",
    "Pandas是基于NumPy构建的含有更高级数据结构和分析能力的工具包.\n",
    "\n",
    "在NumPy中数据结构围绕ndarray展开,而在Pandas中则是围绕Series和DataFrame这两个数据结构展开,其分别代表一维序列和二维表结构,基于这两种数据结构,"
   ]
  },
  {
   "cell_type": "markdown",
   "metadata": {},
   "source": [
    "# 数据结构"
   ]
  },
  {
   "cell_type": "code",
   "execution_count": 10,
   "metadata": {},
   "outputs": [
    {
     "name": "stdout",
     "output_type": "stream",
     "text": [
      "0    1\n",
      "1    2\n",
      "2    3\n",
      "3    4\n",
      "dtype: int64\n",
      "a    1\n",
      "b    2\n",
      "c    3\n",
      "d    4\n",
      "dtype: int64\n",
      "A    1\n",
      "B    2\n",
      "C    3\n",
      "D    4\n",
      "dtype: int64\n"
     ]
    }
   ],
   "source": [
    "import pandas as pd\n",
    "from pandas import Series, DataFrame\n",
    "# Series有两个基本属性：index 和 values。index默认为从0开始的递增整数序列\n",
    "x1 = Series([1, 2, 3, 4])\n",
    "# 通过指定index可以自定义索引\n",
    "x2 = Series(data=[1, 2, 3, 4], index=['a', 'b', 'c', 'd'])\n",
    "# 也可以通过字典创建Series\n",
    "d = {'A': 1, 'B': 2, 'C': 3, 'D': 4}\n",
    "x3 = Series(d)\n",
    "\n",
    "print(x1)\n",
    "print(x2)\n",
    "print(x3)"
   ]
  },
  {
   "cell_type": "code",
   "execution_count": 3,
   "metadata": {},
   "outputs": [
    {
     "name": "stdout",
     "output_type": "stream",
     "text": [
      "import pandas as pd\n",
      "from pandas import Series, DataFrame\n",
      "x1 = Series([1, 2, 3, 4])\n",
      "x2 = Series(data=[1, 2, 3, 4], index=['a', 'b', 'c', 'd'])\n",
      "print(x1)\n",
      "print(x1)\n",
      "import pandas as pd\n",
      "from pandas import Series, DataFrame\n",
      "x1 = Series([1, 2, 3, 4])\n",
      "x2 = Series(data=x1, index=['a', 'b', 'c', 'd'])b\n",
      "print(x1)\n",
      "print(x1)\n",
      "history\n"
     ]
    }
   ],
   "source": [
    "history\n"
   ]
  },
  {
   "cell_type": "code",
   "execution_count": 18,
   "metadata": {},
   "outputs": [
    {
     "name": "stdout",
     "output_type": "stream",
     "text": [
      "   Chinese  English  Math\n",
      "0       66       65    30\n",
      "1       95       85    98\n",
      "2       93       92    96\n",
      "3       90       88    77\n",
      "4       80       90    90\n",
      "- - - - - - - - - - - - - - - - -\n",
      "            English  Math  Chinese\n",
      "ZhangFei         65    30       66\n",
      "GuaYu            85    98       95\n",
      "ZhaoYun          92    96       93\n",
      "HuangZhong       88    77       90\n",
      "DianWei          90    90       80\n"
     ]
    }
   ],
   "source": [
    "# DataFrame数据结构类似数据库表,包括行索引和列索引\n",
    "data = {\n",
    "    'Chinese': [66, 95, 93, 90, 80],\n",
    "    'English': [65, 85, 92, 88, 90],\n",
    "    'Math': [30, 98, 96, 77, 90]\n",
    "}\n",
    "df1 = DataFrame(data)\n",
    "df2 = DataFrame(\n",
    "    data,\n",
    "    index=['ZhangFei', 'GuaYu', 'ZhaoYun', 'HuangZhong', 'DianWei'],\n",
    "    columns=['English', 'Math', 'Chinese'])\n",
    "\n",
    "print(df1)\n",
    "print('- - - - - - - - - - - - - - - - -')\n",
    "print(df2)"
   ]
  },
  {
   "cell_type": "markdown",
   "metadata": {},
   "source": [
    "# 数据导入和输出"
   ]
  },
  {
   "cell_type": "code",
   "execution_count": 22,
   "metadata": {},
   "outputs": [
    {
     "name": "stdout",
     "output_type": "stream",
     "text": [
      "Empty DataFrame\n",
      "Columns: []\n",
      "Index: []\n"
     ]
    }
   ],
   "source": [
    "# 注意:需要额外安装xlrd 和 openpyxl 包\n",
    "import pandas as pd\n",
    "from pandas import Series, DataFrame\n",
    "score = DataFrame(pd.read_excel('data.xlsx'))\n",
    "score.to_excel('dataA.xlsx')\n",
    "print(score)"
   ]
  },
  {
   "cell_type": "markdown",
   "metadata": {},
   "source": [
    "# 数据清洗"
   ]
  },
  {
   "cell_type": "code",
   "execution_count": 24,
   "metadata": {},
   "outputs": [],
   "source": [
    "data = {\n",
    "    'Chinese': [66, 95, 93, 90, 80],\n",
    "    'English': [65, 85, 92, 88, 90],\n",
    "    'Math': [30, 98, 96, 77, 90]\n",
    "}\n",
    "df2 = DataFrame(\n",
    "    data,\n",
    "    index=['ZhangFei', 'GuanYu', 'ZhaoYun', 'HuangZhong', 'DianWei'],\n",
    "    columns=['English', 'Math', 'Chinese'])"
   ]
  },
  {
   "cell_type": "code",
   "execution_count": 35,
   "metadata": {},
   "outputs": [],
   "source": [
    "# 删除DataFrame中不必要的行列\n",
    "df3 = df2.drop(columns=['Chinese'])\n",
    "df4 = df2.drop(index=['ZhangFei'])\n",
    "\n",
    "# 重命名\n",
    "df5 = df2.rename(\n",
    "    columns={\n",
    "        'Chinese': 'YuWen',\n",
    "        'English': 'Yingyu'\n",
    "    }, inplace=True)\n",
    "\n",
    "# 去重复行\n",
    "df6 = df2.drop_duplicates()\n",
    "\n",
    "# 更改数据格式\n",
    "df2['Chinese'].astype('str')\n",
    "df2['Chinese'].astype('np.int64')\n",
    "\n",
    "# 删除左右两边空格\n",
    "df2['Chinese'] = df2['Chinese'].map(str.strip)\n",
    "# 删除左边空格\n",
    "df2['Chinese'] = df2['Chinese'].map(str.lstrip)\n",
    "# 删除右边空格\n",
    "df2['Chinese'] = df2['Chinese'].map(str.rstrip)\n",
    "\n",
    "# 全部大写\n",
    "df2.columns = df2.columns.str.upper()\n",
    "# 全部小写\n",
    "df2.columns = df2.columns.str.lower()\n",
    "# 首字母大写\n",
    "df2.columns = df2.columns.str.title()"
   ]
  },
  {
   "cell_type": "code",
   "execution_count": 36,
   "metadata": {
    "scrolled": false
   },
   "outputs": [
    {
     "name": "stdout",
     "output_type": "stream",
     "text": [
      "            Yingyu  Math\n",
      "ZhangFei        65    30\n",
      "GuanYu          85    98\n",
      "ZhaoYun         92    96\n",
      "HuangZhong      88    77\n",
      "DianWei         90    90\n"
     ]
    }
   ],
   "source": []
  },
  {
   "cell_type": "markdown",
   "metadata": {},
   "source": [
    "数据量大的情况下,有些字段存在空值NaN,可以用Pandas中的isnull函数进行查找.\n",
    "\n",
    "若查找df表中哪个地方存在空值,可对df表使用df.isnull()操作;\n",
    "\n",
    "若想知道哪列存在空值,可使用df.isnull().any()"
   ]
  },
  {
   "cell_type": "code",
   "execution_count": null,
   "metadata": {},
   "outputs": [],
   "source": [
    "# apply函数是Pandas中自由度非常高的函数\n",
    "\n",
    "# 大写转化\n",
    "df['name'] = df['name'].apply(str.upper)\n",
    "\n",
    "\n",
    "# 对数值进行自定义函数操作\n",
    "def double_df(x):\n",
    "    return 2 * x\n",
    "\n",
    "\n",
    "df1[u'语文'] = df1[u'语文'].apply(duble_df)\n",
    "\n",
    "# 复杂函数操作\n",
    "\"\"\"\n",
    "axis=1代表按照列为轴进行操作,\n",
    "axis=0代表按照行为轴进行操作,\n",
    "args是传递的两个参数,即n=2,m=3,\n",
    "在plus函数中使用到了n和m,从而生成新的df\n",
    "\n",
    "\"\"\"\n",
    "\n",
    "\n",
    "def plus(df, n, m):\n",
    "    df['new1'] = (df[u'语文'] + df[u'英语']) * m\n",
    "    df['new2'] = (df[u'语文'] + df[u'英语']) * n\n",
    "    return df\n",
    "\n",
    "\n",
    "df1 = df1.apply(\n",
    "    plus, axis=1, args=(\n",
    "        2,\n",
    "        3,\n",
    "    ))"
   ]
  },
  {
   "cell_type": "markdown",
   "metadata": {},
   "source": [
    "# 数据统计"
   ]
  },
  {
   "cell_type": "markdown",
   "metadata": {},
   "source": [
    "![常用统计函数](./img/Pandas中常用的统计函数.jpg)"
   ]
  },
  {
   "cell_type": "code",
   "execution_count": 38,
   "metadata": {},
   "outputs": [
    {
     "name": "stdout",
     "output_type": "stream",
     "text": [
      "       name  data1\n",
      "0  ZhangFei      0\n",
      "1    GuanYu      1\n",
      "2         a      2\n",
      "3         b      3\n",
      "4         c      4\n",
      "          data1\n",
      "count  5.000000\n",
      "mean   2.000000\n",
      "std    1.581139\n",
      "min    0.000000\n",
      "25%    1.000000\n",
      "50%    2.000000\n",
      "75%    3.000000\n",
      "max    4.000000\n"
     ]
    }
   ],
   "source": [
    "df1 = DataFrame({\n",
    "    'name': ['ZhangFei', 'GuanYu', 'a', 'b', 'c'],\n",
    "    'data1': range(5)\n",
    "})\n",
    "\n",
    "print(df1)\n",
    "print(df1.describe())"
   ]
  },
  {
   "cell_type": "markdown",
   "metadata": {},
   "source": [
    "# 数据表合并"
   ]
  },
  {
   "cell_type": "code",
   "execution_count": null,
   "metadata": {},
   "outputs": [],
   "source": [
    "\n",
    "# 基于指定列进行连接\n",
    "df3 = pd.merge(df1, df2, on='name')\n",
    "\n",
    "# inner 内连接\n",
    "df3 = pd.merage(df1, df2, how='inner')\n",
    "\n",
    "# left 左连接\n",
    "df3 = pd.merge(df1, df2, how='left')\n",
    "\n",
    "# right 右连接\n",
    "df3 = pd.merge(df1, df2, how='right')\n",
    "\n",
    "# outer 外连接\n",
    "df3 = pd.merge(df1, df2, how='outer')"
   ]
  },
  {
   "cell_type": "markdown",
   "metadata": {},
   "source": [
    "# 用SQL方式打开Pandas"
   ]
  },
  {
   "cell_type": "markdown",
   "metadata": {},
   "source": [
    "在Python中可以直接使用SQL语句来操作Pandas,需要导入包pandasql\n",
    "\n",
    "pandasql中的主要函数sqldf,接受两个参数:一个sql查询语句,还有一组环境变量globals()或locals()"
   ]
  },
  {
   "cell_type": "code",
   "execution_count": 40,
   "metadata": {},
   "outputs": [
    {
     "name": "stdout",
     "output_type": "stream",
     "text": [
      "       name  data1\n",
      "0  ZhangFei      0\n"
     ]
    }
   ],
   "source": [
    "import pandas as pd\n",
    "from pandas import DataFrame\n",
    "from pandasql import sqldf, load_meat, load_births\n",
    "df1 = DataFrame({\n",
    "    'name': ['ZhangFei', 'GuanYu', 'a', 'b', 'c'],\n",
    "    'data1': range(5)\n",
    "})\n",
    "pysqldf = lambda sql: sqldf(sql, globals())\n",
    "sql = \"select * from df1 where name ='ZhangFei'\"\n",
    "print (pysqldf(sql))"
   ]
  },
  {
   "cell_type": "markdown",
   "metadata": {},
   "source": [
    "# 本章导图"
   ]
  },
  {
   "cell_type": "markdown",
   "metadata": {},
   "source": [
    "![img](./img/Pandas库.png)"
   ]
  },
  {
   "cell_type": "markdown",
   "metadata": {},
   "source": [
    "# 课后作业"
   ]
  },
  {
   "cell_type": "code",
   "execution_count": 14,
   "metadata": {},
   "outputs": [
    {
     "name": "stdout",
     "output_type": "stream",
     "text": [
      "语文    0\n",
      "英语    0\n",
      "数学    1\n",
      "总分    0\n",
      "dtype: int64\n",
      "              语文         英语         数学          总分\n",
      "count   5.000000   5.000000   4.000000    5.000000\n",
      "mean   84.800000  84.000000  90.250000  455.800000\n",
      "std    11.987493  10.931606   9.464847  182.943161\n",
      "min    66.000000  65.000000  77.000000  131.000000\n",
      "25%    80.000000  85.000000  86.750000  510.000000\n",
      "50%    90.000000  88.000000  93.000000  520.000000\n",
      "75%    93.000000  90.000000  96.500000  556.000000\n",
      "max    95.000000  92.000000  98.000000  562.000000\n",
      "      语文    英语    数学     总分\n",
      "赵云  93.0  92.0  96.0  562.0\n",
      "关羽  95.0  85.0  98.0  556.0\n",
      "典韦  80.0  90.0  90.0  520.0\n",
      "黄忠  90.0  88.0  77.0  510.0\n",
      "张飞  66.0  65.0   NaN  131.0\n",
      "语文    0\n",
      "英语    0\n",
      "数学    0\n",
      "总分    0\n",
      "dtype: int64\n",
      "              语文         英语         数学          总分\n",
      "count   5.000000   5.000000   5.000000    5.000000\n",
      "mean   84.800000  84.000000  90.250000  259.050000\n",
      "std    11.987493  10.931606   8.196798   23.911556\n",
      "min    66.000000  65.000000  77.000000  221.250000\n",
      "25%    80.000000  85.000000  90.000000  255.000000\n",
      "50%    90.000000  88.000000  90.250000  260.000000\n",
      "75%    93.000000  90.000000  96.000000  278.000000\n",
      "max    95.000000  92.000000  98.000000  281.000000\n",
      "      语文    英语     数学      总分\n",
      "赵云  93.0  92.0  96.00  281.00\n",
      "关羽  95.0  85.0  98.00  278.00\n",
      "典韦  80.0  90.0  90.00  260.00\n",
      "黄忠  90.0  88.0  77.00  255.00\n",
      "张飞  66.0  65.0  90.25  221.25\n"
     ]
    }
   ],
   "source": [
    "#!/usr/bin/env python3\n",
    "# -*- conding:utf-8 -*-\n",
    "\n",
    "import pandas as pd\n",
    "\n",
    "data = {\n",
    "    'Chinese': [66, 95, 93, 90, 80, 80],\n",
    "    'English': [65, 85, 92, 88, 90, 90],\n",
    "    'Math': [None, 98, 96, 77, 90, 90]\n",
    "}\n",
    "df = DataFrame(\n",
    "    data,\n",
    "    index=['张飞', '关羽', '赵云', '黄忠', '典韦', '典韦'],\n",
    "    columns=['English', 'Math', 'Chinese'])\n",
    "\n",
    "#去重复行\n",
    "df = df.drop_duplicates()\n",
    "#按列名重新排序\n",
    "cols = ['Chinese', 'English', 'Math']\n",
    "df = df.filter(cols, axis=1)\n",
    "#列名改成中文\n",
    "df.rename(\n",
    "    columns={\n",
    "        'Chinese': '语文',\n",
    "        'English': '英语',\n",
    "        'Math': '数学'\n",
    "    }, inplace=True)\n",
    "\n",
    "\n",
    "def total_score(df):\n",
    "    df['总分'] = df['语文'] + df['英语'] + df['数学']\n",
    "    return df\n",
    "\n",
    "\n",
    "# 求成绩的和,有三种方法\n",
    "# 使用apply方法\n",
    "df = df.apply(total_score, axis=1)\n",
    "# 直接相加\n",
    "df['总分'] = df['语文'] + df['英语'] + df['数学']\n",
    "# 用sum统计函数求和\n",
    "df['总分'] = df.sum(axis=1)\n",
    "\n",
    "#按照总分排序,从高到低,此时有缺失值\n",
    "df.sort_values(['总分'], ascending=False, inplace=True)\n",
    "# 打印,张飞有空值\n",
    "print(df.isnull().sum())\n",
    "print(df.describe())\n",
    "print(df)\n",
    "\n",
    "# 使用数学成绩均值填充张飞的缺失值\n",
    "df['数学'].fillna(df['数学'].mean(), inplace=True)\n",
    "# 再次求成绩之和并打印\n",
    "df = df.apply(total_score, axis=1)\n",
    "print(df.isnull().sum())\n",
    "print(df.describe())\n",
    "print(df)"
   ]
  },
  {
   "cell_type": "markdown",
   "metadata": {},
   "source": [
    "注意:基于上一章NumPy库知识所强调内容,掌握区分axis=0与axis=1的方法:\n",
    "\n",
    "axis=0就是跨行,axis=1就是跨列"
   ]
  }
 ],
 "metadata": {
  "kernelspec": {
   "display_name": "Python [conda env:analysis]",
   "language": "python",
   "name": "conda-env-analysis-py"
  },
  "language_info": {
   "codemirror_mode": {
    "name": "ipython",
    "version": 3
   },
   "file_extension": ".py",
   "mimetype": "text/x-python",
   "name": "python",
   "nbconvert_exporter": "python",
   "pygments_lexer": "ipython3",
   "version": "3.6.8"
  }
 },
 "nbformat": 4,
 "nbformat_minor": 2
}
