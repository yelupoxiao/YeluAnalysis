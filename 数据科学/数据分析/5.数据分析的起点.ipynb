{
 "cells": [
  {
   "cell_type": "markdown",
   "metadata": {},
   "source": [
    "最近两篇概念比较多,但都是关键知识,也是后期项目实战的基础,务必牢牢掌握.\n",
    "\n",
    "作者本篇安排的内容本来是\"用户画像:标签化就是数据的抽象能力\",那么我为什么写成\"数据分析的起点\"呢?这里我说下自己的理解:\n",
    "\n",
    "1.用户画像就是实际业务,换句话说就是业务需求,而对数据进行标签化是用户画像的关键步骤,通过对用户打标签达到快速理解用户群体的目的,以此为依据帮助企业进行精准化营销从而实现销量的增长.\n",
    "\n",
    "2.\"用户画像\"是数据分析的起点,更准确地说是业务需求是数据分析的起点,而\"打标签\"可以算是数据分析的基本功,也是小白和高手的分水岭.拿用户画像来说,小白常常迷茫于找不到切入点,往往是表面工作做了一大堆但多是\"隔靴搔痒\",对实际业务半毛钱的价值也发挥不了,因此只能做些简单而基础的统计和增删改查工作.显然作者不是小白.不论是用户画像\"三步走\"\"的模式构建,还是三层数据流处理的阶段划分都足见其深厚功底.\n",
    "\n",
    "3.结合前后知识讲解,本篇仍然属于数据分析的基础,仍然是数据分析基础概念的介绍.通过对用户画像具体如何实现的介绍,展现了数据分析的概貌,引出了\"标签化是数据抽象能力\"的观念.更重要的是,数据分析总是从有业务需求开始的,而落脚点必然是用于引出下一步行动,即指导业务实践或满足业务需求.也就是作者所讲的\"我们的最终目的不是处理这些数据,而是理解、使用这些数据挖掘的结果\"\""
   ]
  },
  {
   "cell_type": "markdown",
   "metadata": {},
   "source": [
    "![用户画像](./img/用户画像.png)"
   ]
  },
  {
   "cell_type": "code",
   "execution_count": null,
   "metadata": {},
   "outputs": [],
   "source": []
  }
 ],
 "metadata": {
  "kernelspec": {
   "display_name": "Python [conda env:analysis]",
   "language": "python",
   "name": "conda-env-analysis-py"
  },
  "language_info": {
   "codemirror_mode": {
    "name": "ipython",
    "version": 3
   },
   "file_extension": ".py",
   "mimetype": "text/x-python",
   "name": "python",
   "nbconvert_exporter": "python",
   "pygments_lexer": "ipython3",
   "version": "3.6.8"
  }
 },
 "nbformat": 4,
 "nbformat_minor": 2
}
