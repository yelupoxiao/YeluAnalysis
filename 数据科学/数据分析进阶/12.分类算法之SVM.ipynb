{
 "cells": [
  {
   "cell_type": "markdown",
   "metadata": {},
   "source": [
    "# 应用场景"
   ]
  },
  {
   "cell_type": "markdown",
   "metadata": {},
   "source": [
    "SVM(Support Vector Machine)中文名是支持向量机,是一种常见的分类方法,在机器学习中,是有监督学习模型的一种."
   ]
  },
  {
   "cell_type": "markdown",
   "metadata": {},
   "source": [
    "# 原理概念"
   ]
  },
  {
   "cell_type": "markdown",
   "metadata": {},
   "source": [
    "## 有监督学习&无监督学习"
   ]
  },
  {
   "cell_type": "markdown",
   "metadata": {},
   "source": [
    "有监督学习是指在已有类别标签的情况下,将样本数据进行分类,比如已告知机器哪个是红球哪个是蓝球让其把混杂一堆的红蓝球分开.  \n",
    "无监督学习是指在无类别标签的情况下,样本数据根据一定的方法进行分类,即聚类,分类号的类别需要进一步分析后,从而得知每个类别的特点,比如机器需要自己学习什么是红球什么是蓝球然后再对混杂一堆的红蓝球进行分类."
   ]
  },
  {
   "cell_type": "markdown",
   "metadata": {},
   "source": [
    "## 超平面"
   ]
  },
  {
   "cell_type": "markdown",
   "metadata": {},
   "source": [
    "![](./img/SVM之超平面1.png)"
   ]
  },
  {
   "cell_type": "markdown",
   "metadata": {},
   "source": [
    "![](./img/SVM之超平面2.jpg)"
   ]
  },
  {
   "cell_type": "markdown",
   "metadata": {},
   "source": [
    "我们的目标是把红蓝球分开.通过比较以上两张图,上图表示用一条曲线实现分类目标.但我们希望两者可以自然分开.  \n",
    "想象一个场景,猛拍一下桌子,使得上图呈现出下图的模样.  \n",
    "于是,二维平面变成了三维空间,而原来的曲线变成了一个平面.  \n",
    "这个平面就是**超平面**  \n",
    "**SVM算法的计算过程就是帮助我们找出超平面的过程,这个超平面就是我们的SVM分类器.**"
   ]
  },
  {
   "cell_type": "markdown",
   "metadata": {},
   "source": [
    "如果我们把红蓝两种颜色的球放到一个三维空间中,发现决策面就变成了一个平面.用线性函数来表示,如果在一维空间里就表示一个点,在二维空间里表示一条直线,在三维空间中代表一个平面,当然空间维数还可以更多.我们给这个线性函数起个名字就叫\"超平面\",表达公式如下:"
   ]
  },
  {
   "cell_type": "markdown",
   "metadata": {},
   "source": [
    "$$\n",
    "g(x)=w^Tx+b , 其中w,x∈R^n\n",
    "$$"
   ]
  },
  {
   "cell_type": "markdown",
   "metadata": {},
   "source": [
    "w,x是n维空间里的向量,其中x是函数变量,w是法向量.法向量这里指的是垂直于平面的直线所表示的向量,决定了超平面的方向.  "
   ]
  },
  {
   "cell_type": "markdown",
   "metadata": {},
   "source": [
    "## 分类间隔"
   ]
  },
  {
   "cell_type": "markdown",
   "metadata": {},
   "source": [
    "![](./img/SVM之分类间隔.jpg)"
   ]
  },
  {
   "cell_type": "markdown",
   "metadata": {},
   "source": [
    "图中A,B,C三条线都可以实现分类目标,区别是A线更靠近红球,在真实环境下,如果红球再多些,也可能被误认为是篮球.B线同理.相比于A线和B线,C线的划分更优,其健壮性更优.于是我们把分类的问题转化为寻找直线C的过程.实际分类环境其实是在多维空间中,这样直线C就变成了决策面C.  \n",
    "在保证决策面不变,且分类不产生错误的情况下,移动决策面C,直到产生两个极限位置:如图中的决策面A和决策面B.极限位置是指越过这个位置就会产生分类错误.两个极限位置A和B之间的分界线C就是最有决策面.极限位置到最有决策面C之间的距离就是**分类间隔(margin)**"
   ]
  },
  {
   "cell_type": "markdown",
   "metadata": {},
   "source": [
    "转动最有决策面可以得到多个最优决策面,这些决策面都能把数据集正确分开,但它们的分类间隔可能是不同的,而那个拥有最大间隔的决策面就是SVM要找的最优解"
   ]
  },
  {
   "cell_type": "markdown",
   "metadata": {},
   "source": [
    "超平面将不同的样本划分开,同时使得样本集中的点到这个分类超平面的最小距离(即分类间隔)最大化.在这个过程中,支持向量就是离分类超平面最近的样本点,实际上如果确定了支持向量也就确定了这个超平面.  \n",
    "所以说,SVM就是求解最大分类间隔的过程."
   ]
  },
  {
   "cell_type": "markdown",
   "metadata": {},
   "source": [
    "我们定义某类样本集到超平面的距离是这个样本集合内的样本到超平面的最短距离.用di代表点xi到超平面wxi+b=0的欧氏距离.于是问题转化为求解di的最小值,用它来代表这个样本到超平面的最短距离.di的表达公式为:"
   ]
  },
  {
   "cell_type": "markdown",
   "metadata": {},
   "source": [
    "$$\n",
    "d_i=\\frac{|wx_i+b|}{||w||}\n",
    "$$"
   ]
  },
  {
   "cell_type": "markdown",
   "metadata": {},
   "source": [
    "||w||为超平面的范数,di的公式可以用解析几何知识进行推导."
   ]
  },
  {
   "cell_type": "markdown",
   "metadata": {},
   "source": [
    "## 硬间隔,软间隔"
   ]
  },
  {
   "cell_type": "markdown",
   "metadata": {},
   "source": [
    "如果数据是完全线性可分的,那么学习模型可以称为硬间隔支持向量机.换句话说,硬间隔就是完全分类准确,不能存在分类错误的情况.而软间隔是允许一定量的样本分类错误.  \n",
    "实际工作中的数据没那么\"干净\",或多或少都会存在一些噪点.所以线性可分是个理想情况.所以实际工作中往往需要使用软间隔SVM,即近似线性可分,如下图所示:"
   ]
  },
  {
   "cell_type": "markdown",
   "metadata": {},
   "source": [
    "![](./img/SVM之软间隔.jpg)"
   ]
  },
  {
   "cell_type": "markdown",
   "metadata": {},
   "source": [
    "## 核函数"
   ]
  },
  {
   "cell_type": "markdown",
   "metadata": {},
   "source": [
    "如果数据集是非线性的该如何分类呢?如下图所示:"
   ]
  },
  {
   "cell_type": "markdown",
   "metadata": {},
   "source": [
    "![](./img/SVM之核函数.jpg)"
   ]
  },
  {
   "cell_type": "markdown",
   "metadata": {},
   "source": [
    "图中的两类数据,分别分布为两个圆圈的形状.这种情况下,不论多高级的分类器,只要映射函数是线性的就没法处理.这时需要用到核函数.\n",
    "核函数可以将样本从原始空间映射到一个更高维的特质空间中,使得样本在新的空间中线性可分.  \n",
    "这样我们可以使用原来的推导来进行计算,只是所有的推导是新的空间,而 不是在原来的空间中进行."
   ]
  },
  {
   "cell_type": "markdown",
   "metadata": {},
   "source": [
    "最常用的核函数有线性核,多项式核,高斯核,拉普拉斯核,sigmoid核,或者这些核函数的组合.这些函数的区别在于映射方式的不同.通过这些核函数我们就可以把样本空间投射到新的高维空间中."
   ]
  },
  {
   "cell_type": "markdown",
   "metadata": {},
   "source": [
    "另外,SVM本身是一个二值分类器,最初是为二分类问题设计的,也就是yes或no.实际上我们要解决的问题可能是多分类的情况,比如对文本进行分类或者对图像进行识别.针对这种情况,我们可以将多个二分类器组合起来形成一个多分类器,常见的方法有\"一对多法\"和\"一对一法\"两种."
   ]
  },
  {
   "cell_type": "markdown",
   "metadata": {},
   "source": [
    "# 工具介绍"
   ]
  },
  {
   "cell_type": "markdown",
   "metadata": {},
   "source": [
    "在Python的sklearn工具包中有SVM算法,其既可以做回归,也可以做分类器.  \n",
    "当SVM做回归的时候,可以使用SVC或者LinearSVC.SVC的英文是Support Vector Classification.  \n",
    "LinearSVC是个线性分类器,用于处理线性可分的数据,只能使用线性核函数.针对非线性数据,需要用到SVC.  \n",
    "在SVC中我们既可以使用到线性核函数(进行线性划分),也能使用高维的核函数(进行非线性划分)."
   ]
  },
  {
   "cell_type": "markdown",
   "metadata": {},
   "source": [
    "## 如何创建一个SVM分类器"
   ]
  },
  {
   "cell_type": "markdown",
   "metadata": {},
   "source": [
    "SVC的构造函数:model=svm.SVC(kernel='rbf',C=1.0,gamma='auto') .其中有三个重要参数kernel,C和gamma."
   ]
  },
  {
   "cell_type": "markdown",
   "metadata": {},
   "source": [
    "### 参数kernel"
   ]
  },
  {
   "cell_type": "markdown",
   "metadata": {},
   "source": [
    "kernel代表核函数的选择,它有四种选择,默认rbf,即高斯核函数.  \n",
    "- linear:线性核函数  \n",
    "在数据线性可分的情况下使用,速度快效果好,但不能处理线性不可分数据.\n",
    "- poly:多项式核函数  \n",
    "可将数据从低维空间映射到高维空间,但参数较多,计算量大\n",
    "- rbf:高斯核函数(默认)  \n",
    "同样可将数据从低维映射到高维,但相比于多项式来说所需参数较少,通用性强.\n",
    "- sigmoid:sigmoid核函数  \n",
    "sigmoid经常用在神经网络的映射中,当使用sigmoid核函数时,SVM实现的是多层神经网络."
   ]
  },
  {
   "cell_type": "markdown",
   "metadata": {},
   "source": [
    "### 参数C"
   ]
  },
  {
   "cell_type": "markdown",
   "metadata": {},
   "source": [
    "代表目标函数的惩罚系数.惩罚系数指的是分错样本时的惩罚程度,默认情况下为1.0.当C越大的时候,分类器的准确性越高,但同样容错率会越低,泛化能力会变差;反之,C越小,泛化能力越强的,但准确性会降低."
   ]
  },
  {
   "cell_type": "markdown",
   "metadata": {},
   "source": [
    "### 参数gamma"
   ]
  },
  {
   "cell_type": "markdown",
   "metadata": {},
   "source": [
    "代表核函数的系数,默认为样本特征数的倒数,即gamma=1/n_features"
   ]
  },
  {
   "cell_type": "markdown",
   "metadata": {},
   "source": [
    "# 项目流程"
   ]
  },
  {
   "cell_type": "markdown",
   "metadata": {},
   "source": [
    "## 问题描述"
   ]
  },
  {
   "cell_type": "markdown",
   "metadata": {},
   "source": [
    "医疗人员采集了患者乳腺肿块经过细针穿刺(FNA)后数字化图像,并且对这些数字图像进行了特征提取,这些特征可以描述图像中的细胞核呈现.肿瘤可分为良性和恶性."
   ]
  },
  {
   "cell_type": "markdown",
   "metadata": {},
   "source": [
    "## 关键流程"
   ]
  },
  {
   "cell_type": "markdown",
   "metadata": {},
   "source": [
    "![](./img/SVM之项目流程示意图.png)"
   ]
  },
  {
   "cell_type": "markdown",
   "metadata": {},
   "source": [
    "### 数据获取"
   ]
  },
  {
   "cell_type": "code",
   "execution_count": 15,
   "metadata": {},
   "outputs": [],
   "source": [
    "import pandas as pd\n",
    "import matplotlib.pyplot as plt\n",
    "import seaborn as sns\n",
    "from sklearn import svm\n",
    "from sklearn.model_selection import train_test_split\n",
    "from sklearn.preprocessing import StandardScaler\n",
    "from sklearn import metrics"
   ]
  },
  {
   "cell_type": "code",
   "execution_count": 2,
   "metadata": {},
   "outputs": [],
   "source": [
    "# 加载数据集\n",
    "data = pd.read_csv('./data/breast_cancer_data.csv')"
   ]
  },
  {
   "cell_type": "markdown",
   "metadata": {},
   "source": [
    "数据表共包含32个字段,代表含义如下:"
   ]
  },
  {
   "cell_type": "markdown",
   "metadata": {},
   "source": [
    "![](./img/SVM之项目流程参数说明表.jpg)"
   ]
  },
  {
   "cell_type": "markdown",
   "metadata": {},
   "source": [
    "每张图像都计算了响应的特征,有30个特征值(除ID字段和分类标识结果字段diagnosis),实际上是10个特征值的3个维度,即平均,标准差和最大值.这些特征值都保留了4位数字.字段那种没有缺失值.在569个患者中,一共有357个是良性,212个是恶性."
   ]
  },
  {
   "cell_type": "markdown",
   "metadata": {},
   "source": [
    "### 数据探索"
   ]
  },
  {
   "cell_type": "code",
   "execution_count": 3,
   "metadata": {},
   "outputs": [
    {
     "name": "stdout",
     "output_type": "stream",
     "text": [
      "Index(['id', 'diagnosis', 'radius_mean', 'texture_mean', 'perimeter_mean',\n",
      "       'area_mean', 'smoothness_mean', 'compactness_mean', 'concavity_mean',\n",
      "       'concave points_mean', 'symmetry_mean', 'fractal_dimension_mean',\n",
      "       'radius_se', 'texture_se', 'perimeter_se', 'area_se', 'smoothness_se',\n",
      "       'compactness_se', 'concavity_se', 'concave points_se', 'symmetry_se',\n",
      "       'fractal_dimension_se', 'radius_worst', 'texture_worst',\n",
      "       'perimeter_worst', 'area_worst', 'smoothness_worst',\n",
      "       'compactness_worst', 'concavity_worst', 'concave points_worst',\n",
      "       'symmetry_worst', 'fractal_dimension_worst'],\n",
      "      dtype='object')\n",
      "         id diagnosis  radius_mean  texture_mean  perimeter_mean  area_mean  \\\n",
      "0    842302         M        17.99         10.38          122.80     1001.0   \n",
      "1    842517         M        20.57         17.77          132.90     1326.0   \n",
      "2  84300903         M        19.69         21.25          130.00     1203.0   \n",
      "3  84348301         M        11.42         20.38           77.58      386.1   \n",
      "4  84358402         M        20.29         14.34          135.10     1297.0   \n",
      "\n",
      "   smoothness_mean  compactness_mean  concavity_mean  concave points_mean  \\\n",
      "0          0.11840           0.27760          0.3001              0.14710   \n",
      "1          0.08474           0.07864          0.0869              0.07017   \n",
      "2          0.10960           0.15990          0.1974              0.12790   \n",
      "3          0.14250           0.28390          0.2414              0.10520   \n",
      "4          0.10030           0.13280          0.1980              0.10430   \n",
      "\n",
      "   symmetry_mean  fractal_dimension_mean  radius_se  texture_se  perimeter_se  \\\n",
      "0         0.2419                 0.07871     1.0950      0.9053         8.589   \n",
      "1         0.1812                 0.05667     0.5435      0.7339         3.398   \n",
      "2         0.2069                 0.05999     0.7456      0.7869         4.585   \n",
      "3         0.2597                 0.09744     0.4956      1.1560         3.445   \n",
      "4         0.1809                 0.05883     0.7572      0.7813         5.438   \n",
      "\n",
      "   area_se  smoothness_se  compactness_se  concavity_se  concave points_se  \\\n",
      "0   153.40       0.006399         0.04904       0.05373            0.01587   \n",
      "1    74.08       0.005225         0.01308       0.01860            0.01340   \n",
      "2    94.03       0.006150         0.04006       0.03832            0.02058   \n",
      "3    27.23       0.009110         0.07458       0.05661            0.01867   \n",
      "4    94.44       0.011490         0.02461       0.05688            0.01885   \n",
      "\n",
      "   symmetry_se  fractal_dimension_se  radius_worst  texture_worst  \\\n",
      "0      0.03003              0.006193         25.38          17.33   \n",
      "1      0.01389              0.003532         24.99          23.41   \n",
      "2      0.02250              0.004571         23.57          25.53   \n",
      "3      0.05963              0.009208         14.91          26.50   \n",
      "4      0.01756              0.005115         22.54          16.67   \n",
      "\n",
      "   perimeter_worst  area_worst  smoothness_worst  compactness_worst  \\\n",
      "0           184.60      2019.0            0.1622             0.6656   \n",
      "1           158.80      1956.0            0.1238             0.1866   \n",
      "2           152.50      1709.0            0.1444             0.4245   \n",
      "3            98.87       567.7            0.2098             0.8663   \n",
      "4           152.20      1575.0            0.1374             0.2050   \n",
      "\n",
      "   concavity_worst  concave points_worst  symmetry_worst  \\\n",
      "0           0.7119                0.2654          0.4601   \n",
      "1           0.2416                0.1860          0.2750   \n",
      "2           0.4504                0.2430          0.3613   \n",
      "3           0.6869                0.2575          0.6638   \n",
      "4           0.4000                0.1625          0.2364   \n",
      "\n",
      "   fractal_dimension_worst  \n",
      "0                  0.11890  \n",
      "1                  0.08902  \n",
      "2                  0.08758  \n",
      "3                  0.17300  \n",
      "4                  0.07678  \n",
      "                 id  radius_mean  texture_mean  perimeter_mean    area_mean  \\\n",
      "count  5.690000e+02   569.000000    569.000000      569.000000   569.000000   \n",
      "mean   3.037183e+07    14.127292     19.289649       91.969033   654.889104   \n",
      "std    1.250206e+08     3.524049      4.301036       24.298981   351.914129   \n",
      "min    8.670000e+03     6.981000      9.710000       43.790000   143.500000   \n",
      "25%    8.692180e+05    11.700000     16.170000       75.170000   420.300000   \n",
      "50%    9.060240e+05    13.370000     18.840000       86.240000   551.100000   \n",
      "75%    8.813129e+06    15.780000     21.800000      104.100000   782.700000   \n",
      "max    9.113205e+08    28.110000     39.280000      188.500000  2501.000000   \n",
      "\n",
      "       smoothness_mean  compactness_mean  concavity_mean  concave points_mean  \\\n",
      "count       569.000000        569.000000      569.000000           569.000000   \n",
      "mean          0.096360          0.104341        0.088799             0.048919   \n",
      "std           0.014064          0.052813        0.079720             0.038803   \n",
      "min           0.052630          0.019380        0.000000             0.000000   \n",
      "25%           0.086370          0.064920        0.029560             0.020310   \n",
      "50%           0.095870          0.092630        0.061540             0.033500   \n",
      "75%           0.105300          0.130400        0.130700             0.074000   \n",
      "max           0.163400          0.345400        0.426800             0.201200   \n",
      "\n",
      "       symmetry_mean  fractal_dimension_mean   radius_se  texture_se  \\\n",
      "count     569.000000              569.000000  569.000000  569.000000   \n",
      "mean        0.181162                0.062798    0.405172    1.216853   \n",
      "std         0.027414                0.007060    0.277313    0.551648   \n",
      "min         0.106000                0.049960    0.111500    0.360200   \n",
      "25%         0.161900                0.057700    0.232400    0.833900   \n",
      "50%         0.179200                0.061540    0.324200    1.108000   \n",
      "75%         0.195700                0.066120    0.478900    1.474000   \n",
      "max         0.304000                0.097440    2.873000    4.885000   \n",
      "\n",
      "       perimeter_se     area_se  smoothness_se  compactness_se  concavity_se  \\\n",
      "count    569.000000  569.000000     569.000000      569.000000    569.000000   \n",
      "mean       2.866059   40.337079       0.007041        0.025478      0.031894   \n",
      "std        2.021855   45.491006       0.003003        0.017908      0.030186   \n",
      "min        0.757000    6.802000       0.001713        0.002252      0.000000   \n",
      "25%        1.606000   17.850000       0.005169        0.013080      0.015090   \n",
      "50%        2.287000   24.530000       0.006380        0.020450      0.025890   \n",
      "75%        3.357000   45.190000       0.008146        0.032450      0.042050   \n",
      "max       21.980000  542.200000       0.031130        0.135400      0.396000   \n",
      "\n",
      "       concave points_se  symmetry_se  fractal_dimension_se  radius_worst  \\\n",
      "count         569.000000   569.000000            569.000000    569.000000   \n",
      "mean            0.011796     0.020542              0.003795     16.269190   \n",
      "std             0.006170     0.008266              0.002646      4.833242   \n",
      "min             0.000000     0.007882              0.000895      7.930000   \n",
      "25%             0.007638     0.015160              0.002248     13.010000   \n",
      "50%             0.010930     0.018730              0.003187     14.970000   \n",
      "75%             0.014710     0.023480              0.004558     18.790000   \n",
      "max             0.052790     0.078950              0.029840     36.040000   \n",
      "\n",
      "       texture_worst  perimeter_worst   area_worst  smoothness_worst  \\\n",
      "count     569.000000       569.000000   569.000000        569.000000   \n",
      "mean       25.677223       107.261213   880.583128          0.132369   \n",
      "std         6.146258        33.602542   569.356993          0.022832   \n",
      "min        12.020000        50.410000   185.200000          0.071170   \n",
      "25%        21.080000        84.110000   515.300000          0.116600   \n",
      "50%        25.410000        97.660000   686.500000          0.131300   \n",
      "75%        29.720000       125.400000  1084.000000          0.146000   \n",
      "max        49.540000       251.200000  4254.000000          0.222600   \n",
      "\n",
      "       compactness_worst  concavity_worst  concave points_worst  \\\n",
      "count         569.000000       569.000000            569.000000   \n",
      "mean            0.254265         0.272188              0.114606   \n",
      "std             0.157336         0.208624              0.065732   \n",
      "min             0.027290         0.000000              0.000000   \n",
      "25%             0.147200         0.114500              0.064930   \n",
      "50%             0.211900         0.226700              0.099930   \n",
      "75%             0.339100         0.382900              0.161400   \n",
      "max             1.058000         1.252000              0.291000   \n",
      "\n",
      "       symmetry_worst  fractal_dimension_worst  \n",
      "count      569.000000               569.000000  \n",
      "mean         0.290076                 0.083946  \n",
      "std          0.061867                 0.018061  \n",
      "min          0.156500                 0.055040  \n",
      "25%          0.250400                 0.071460  \n",
      "50%          0.282200                 0.080040  \n",
      "75%          0.317900                 0.092080  \n",
      "max          0.663800                 0.207500  \n"
     ]
    }
   ],
   "source": [
    "# 数据探索\n",
    "# 因为数据集中列比较多,我们需要把dataframe中的列全部显示出来\n",
    "pd.set_option('display.max_columns', None)\n",
    "print(data.columns)\n",
    "print(data.head(5))\n",
    "print(data.describe())"
   ]
  },
  {
   "cell_type": "markdown",
   "metadata": {},
   "source": [
    "### 数据清洗"
   ]
  },
  {
   "cell_type": "markdown",
   "metadata": {},
   "source": [
    "运行结果中,在32个字段里,id没有实际含义可以去掉.diagnosis字段取值为B或M,可以用0和1替代.其余30个字段,其中可以分成三组字段,下划线后面的mean,se和worst代表了每组字段不同的度量方式."
   ]
  },
  {
   "cell_type": "code",
   "execution_count": 4,
   "metadata": {
    "scrolled": true
   },
   "outputs": [],
   "source": [
    "# 将特征字段分成3组\n",
    "features_mean = list(data.columns[2:12])\n",
    "features_se = list(data.columns[12:22])\n",
    "features_worst = list(data.columns[22:32])\n",
    "# 数据清洗\n",
    "# ID列没用,删除\n",
    "data.drop('id', axis=1, inplace=True)\n",
    "# 将B良性替换为0,M恶性替换为1\n",
    "data['diagnosis'] = data['diagnosis'].map({'M': 1, 'B': 0})"
   ]
  },
  {
   "cell_type": "markdown",
   "metadata": {},
   "source": [
    "### 特征选择"
   ]
  },
  {
   "cell_type": "markdown",
   "metadata": {},
   "source": [
    "通过观察features_mean各变量间的关系,我们可以使用DataFrame的corr()函数,然后用热力图进行可视化呈现"
   ]
  },
  {
   "cell_type": "code",
   "execution_count": 5,
   "metadata": {},
   "outputs": [
    {
     "data": {
      "image/png": "[encoded data removed]",
      "text/plain": [
       "<Figure size 432x288 with 1 Axes>"
      ]
     },
     "metadata": {
      "needs_background": "light"
     },
     "output_type": "display_data"
    },
    {
     "data": {
      "image/png": "[encoded data removed]",
      "text/plain": [
       "<Figure size 1008x1008 with 2 Axes>"
      ]
     },
     "metadata": {
      "needs_background": "light"
     },
     "output_type": "display_data"
    }
   ],
   "source": [
    "# 将肿瘤诊断结果可视化\n",
    "sns.countplot(data['diagnosis'], label='Count')\n",
    "plt.show()\n",
    "# 用热力图呈现features_mean字段之间的相关性\n",
    "corr = data[features_mean].corr()\n",
    "plt.figure(figsize=(14, 14))\n",
    "# annot=True 显示每个方格的数据\n",
    "sns.heatmap(corr, annot=True)\n",
    "plt.show()"
   ]
  },
  {
   "cell_type": "markdown",
   "metadata": {},
   "source": [
    "热力图中对角线上的是单变量自身的相关系数1.颜色越浅代表相关性越大.  \n",
    "可以看出radius_mean,perimeter_mean和area_mean相关性非常大,compactness_mean,concavity_mean,concave_points_mean这三个字段你也是相关的.我们取其中一个作为代表."
   ]
  },
  {
   "cell_type": "markdown",
   "metadata": {},
   "source": [
    "**特征选择目的是降维,用少量的特征代表数据的特性,同时增强分类器的泛化能力,避免数据过拟合.**"
   ]
  },
  {
   "cell_type": "markdown",
   "metadata": {},
   "source": [
    "mean,se,worst这三组特征是对同一组内容的不同度量方式,可以保留mean组,忽略se和worst.同时,在mean这组特征中,radius_mean,perimeter_mean,area_mean这三个属性相关性大,compactness_mean,daconacavity_mean,concave points_mean这三个属性相关性大,可分别从这2类中选择1个属性作为代表,比如radius_mean和compactness_mean.  \n",
    "这样的话,我们就把原来的10个属性缩减为6个属性了."
   ]
  },
  {
   "cell_type": "code",
   "execution_count": 6,
   "metadata": {},
   "outputs": [],
   "source": [
    "# 特征选择\n",
    "features_remain = [\n",
    "    'radius_mean', 'texture_mean', 'smoothness_mean', 'compactness_mean',\n",
    "    'symmetry_mean', 'fractal_dimension_mean'\n",
    "]"
   ]
  },
  {
   "cell_type": "code",
   "execution_count": 34,
   "metadata": {},
   "outputs": [],
   "source": [
    "# 抽取30%的数据作为测试集,其余作为训练集\n",
    "train, test = train_test_split(data, test_size=0.3)\n",
    "# 抽取特征选择数值作为训练和测试数据\n",
    "train_x = train[features_remain]\n",
    "train_y = train['diagnosis']\n",
    "test_x = test[features_remain]\n",
    "test_y = test['diagnosis']"
   ]
  },
  {
   "cell_type": "code",
   "execution_count": 35,
   "metadata": {},
   "outputs": [],
   "source": [
    "# 对数据进行规范化,避免因为维度问题造成数据误差\n",
    "# 采用Z-Scores规范化数据,保证每个特征维度的数据均值为0,方差为1\n",
    "ss = StandardScaler()\n",
    "train_x = ss.fit_transform(train_x)\n",
    "test_x = ss.transform(test_x)"
   ]
  },
  {
   "cell_type": "code",
   "execution_count": 36,
   "metadata": {},
   "outputs": [
    {
     "name": "stdout",
     "output_type": "stream",
     "text": [
      "准确率: 0.941520467836\n"
     ]
    }
   ],
   "source": [
    "# 创建SVM分类器\n",
    "model = svm.SVC()\n",
    "# 用训练集做训练\n",
    "model.fit(train_x, train_y)\n",
    "# 用测试集做测试\n",
    "prediction = model.predict(test_x)\n",
    "print('准确率:', metrics.accuracy_score(prediction, test_y))"
   ]
  },
  {
   "cell_type": "markdown",
   "metadata": {},
   "source": [
    "### 要点总结"
   ]
  },
  {
   "cell_type": "markdown",
   "metadata": {},
   "source": [
    "sklearn为我们提供了很好的工具,让我们无需关心中间的运算细节,但正因为这样,我们更需要对每个流程熟练掌握,通过实战项目训练数据化思维和对数据的敏感."
   ]
  }
 ],
 "metadata": {
  "kernelspec": {
   "display_name": "Python [conda env:analysis]",
   "language": "python",
   "name": "conda-env-analysis-py"
  },
  "language_info": {
   "codemirror_mode": {
    "name": "ipython",
    "version": 3
   },
   "file_extension": ".py",
   "mimetype": "text/x-python",
   "name": "python",
   "nbconvert_exporter": "python",
   "pygments_lexer": "ipython3",
   "version": "3.6.8"
  }
 },
 "nbformat": 4,
 "nbformat_minor": 2
}
