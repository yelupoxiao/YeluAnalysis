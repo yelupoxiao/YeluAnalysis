{
 "cells": [
  {
   "cell_type": "markdown",
   "metadata": {},
   "source": [
    "# 使用Numpy让你的Python科学计算更高效"
   ]
  },
  {
   "cell_type": "markdown",
   "metadata": {},
   "source": [
    "- 为什么要用Numpy数组结构而不是Python本身的列表list ?\n",
    "\n",
    "这是因为列表list的元素在系统内存中是分散存储的,而Numpy数组存储在一个均匀连续的内存块中.这样数组计算遍历所有的元素,不像list还需要对内存地址进行查找,从而节省了计算资源."
   ]
  },
  {
   "cell_type": "markdown",
   "metadata": {},
   "source": [
    "- 避免采用隐式拷贝,而是采用就地操作的方式\n",
    "\n",
    "如写成 x\\*=2 ,而非 y =x\\* 2"
   ]
  },
  {
   "cell_type": "markdown",
   "metadata": {},
   "source": [
    "- Numpy中有两个重要的对象\n",
    "\n",
    "ndarray (N-dimensional array object) : 解决多维数组问题\n",
    "\n",
    "nufunc(universal function object) : 解决对数组进行处理"
   ]
  },
  {
   "cell_type": "markdown",
   "metadata": {},
   "source": [
    "# 定义数组"
   ]
  },
  {
   "cell_type": "markdown",
   "metadata": {},
   "source": [
    "## 创建数组"
   ]
  },
  {
   "cell_type": "code",
   "execution_count": 8,
   "metadata": {
    "scrolled": true
   },
   "outputs": [
    {
     "name": "stdout",
     "output_type": "stream",
     "text": [
      "(3,)\n",
      "(3, 3)\n",
      "int32\n",
      "[[ 1  2  3]\n",
      " [ 4 10  6]\n",
      " [ 7  8  9]]\n"
     ]
    }
   ],
   "source": [
    "import numpy as np\n",
    "a = np.array([1, 2, 3])\n",
    "b = np.array([[1, 2, 3], [4, 5, 6], [7, 8, 9]])\n",
    "b[1, 1] = 10\n",
    "print(a.shape)\n",
    "print(b.shape)\n",
    "print(a.dtype)\n",
    "print(b)"
   ]
  },
  {
   "cell_type": "markdown",
   "metadata": {},
   "source": [
    "## 结构数组"
   ]
  },
  {
   "cell_type": "code",
   "execution_count": 5,
   "metadata": {
    "scrolled": true
   },
   "outputs": [
    {
     "name": "stdout",
     "output_type": "stream",
     "text": [
      "29.0\n",
      "77.5\n",
      "93.25\n",
      "93.75\n"
     ]
    }
   ],
   "source": [
    "import numpy as np\n",
    "# 自定义数据类型\n",
    "persontype = np.dtype({\n",
    "    'names': ['name', 'age', 'chinese', 'math', 'english'],\n",
    "    'formats': ['S32', 'i', 'i', 'i', 'f']\n",
    "})\n",
    "peoples = np.array([(\"ZhangFei\", 32, 75, 100, 90), (\"GuaYu\", 24, 85, 96, 88.5),\n",
    "                    (\"Zhaoyu\", 28, 85, 92, 96.5),\n",
    "                    (\"HuangZhong\", 32, 65, 85, 100)],\n",
    "                   dtype=persontype)\n",
    "ages = peoples[:]['age']\n",
    "chineses = peoples[:]['chinese']\n",
    "maths = peoples[:]['math']\n",
    "englishs = peoples[:]['english']\n",
    "print(np.mean(ages))\n",
    "print(np.mean(chineses))\n",
    "print(np.mean(maths))\n",
    "print(np.mean(englishs))"
   ]
  },
  {
   "cell_type": "markdown",
   "metadata": {},
   "source": [
    "# Numpy运算"
   ]
  },
  {
   "cell_type": "markdown",
   "metadata": {},
   "source": [
    "## 连续数组的创建"
   ]
  },
  {
   "cell_type": "code",
   "execution_count": 20,
   "metadata": {},
   "outputs": [
    {
     "name": "stdout",
     "output_type": "stream",
     "text": [
      "[1 3 5 7 9]\n",
      "[ 1.  3.  5.  7.  9.]\n"
     ]
    }
   ],
   "source": [
    "# 使用arange方法创建\n",
    "x1 = np.arange(1, 11, 2)\n",
    "# 使用linspace方法创建\n",
    "x2 = np.linspace(1, 9, 5)\n",
    "print(x1)\n",
    "print(x2)"
   ]
  },
  {
   "cell_type": "markdown",
   "metadata": {},
   "source": [
    "## 算数运算"
   ]
  },
  {
   "cell_type": "code",
   "execution_count": 11,
   "metadata": {
    "scrolled": true
   },
   "outputs": [
    {
     "name": "stdout",
     "output_type": "stream",
     "text": [
      "[  2.   6.  10.  14.  18.]\n",
      "[ 0.  0.  0.  0.  0.]\n",
      "[  1.   9.  25.  49.  81.]\n",
      "[ 1.  1.  1.  1.  1.]\n",
      "[  1.00000000e+00   2.70000000e+01   3.12500000e+03   8.23543000e+05\n",
      "   3.87420489e+08]\n",
      "[ 0.  0.  0.  0.  0.]\n"
     ]
    }
   ],
   "source": [
    "# 加\n",
    "print(np.add(x1,x2))\n",
    "# 减\n",
    "print(np.subtract(x1,x2))\n",
    "# 乘\n",
    "print(np.multiply(x1,x2))\n",
    "# 除\n",
    "print(np.divide(x1,x2))\n",
    "# 求N次方\n",
    "print(np.power(x1,x2))\n",
    "# 取余\n",
    "print(np.mod(x1,x2))"
   ]
  },
  {
   "cell_type": "markdown",
   "metadata": {},
   "source": [
    "## 统计函数"
   ]
  },
  {
   "cell_type": "code",
   "execution_count": 17,
   "metadata": {},
   "outputs": [
    {
     "name": "stdout",
     "output_type": "stream",
     "text": [
      "1\n",
      "[1 2 3]\n",
      "[1 4 7]\n",
      "9\n",
      "[7 8 9]\n",
      "[3 6 9]\n"
     ]
    }
   ],
   "source": [
    "arr = np.array([[1, 2, 3], [4, 5, 6], [7, 8, 9]])\n",
    "\n",
    "# 求数组全部元素中的最小值\n",
    "print(np.amin(arr))\n",
    "\n",
    "# 求沿axis=0轴的最小值\n",
    "print(np.amin(arr, 0))\n",
    "\n",
    "# 求沿axis=1轴的最小值\n",
    "print(np.amin(arr, 1))\n",
    "\n",
    "# 求数组全部元素中的最大值\n",
    "print(np.amax(arr))\n",
    "\n",
    "# 求沿axis=0轴的最大值\n",
    "print(np.amax(arr, 0))\n",
    "\n",
    "# 求沿axis=1轴的最大值\n",
    "print(np.amax(arr, 1))"
   ]
  },
  {
   "cell_type": "code",
   "execution_count": 19,
   "metadata": {},
   "outputs": [
    {
     "name": "stdout",
     "output_type": "stream",
     "text": [
      "8\n",
      "[6 6 6]\n",
      "[2 2 2]\n"
     ]
    }
   ],
   "source": [
    "# 统计数组全部元素中最大值与最小值之差ptp()\n",
    "print(np.ptp(arr))\n",
    "\n",
    "# 统计沿axis=0轴中最大与最小之差\n",
    "print(np.ptp(arr, 0))\n",
    "\n",
    "# 统计沿axis=1轴最大与最小之差\n",
    "print(np.ptp(arr, 1))"
   ]
  },
  {
   "cell_type": "code",
   "execution_count": 29,
   "metadata": {},
   "outputs": [
    {
     "name": "stdout",
     "output_type": "stream",
     "text": [
      "5.0\n",
      "[ 4.  5.  6.]\n",
      "[ 2.  5.  8.]\n"
     ]
    }
   ],
   "source": [
    "# 用方法percentile()可以统计数组的百分位数,代表着第p个百分位数,p的取值范围是0-100.\n",
    "# p=0就是求最小值,p=50就是求均值,P=100就是求最大值;同样可以在不同轴上的百分位数\n",
    "print(np.percentile(a, 50))\n",
    "print(np.percentile(a, 50, axis=0))\n",
    "print(np.percentile(a, 50, axis=1))"
   ]
  },
  {
   "cell_type": "code",
   "execution_count": 37,
   "metadata": {},
   "outputs": [
    {
     "name": "stdout",
     "output_type": "stream",
     "text": [
      "5.0\n",
      "[ 4.  5.  6.]\n",
      "[ 2.  5.  8.]\n",
      "5.0\n",
      "[ 4.  5.  6.]\n",
      "[ 2.  5.  8.]\n",
      "2.5\n",
      "3.0\n"
     ]
    }
   ],
   "source": [
    "# 求中位数\n",
    "print(np.median(a))\n",
    "print(np.median(a, axis=0))\n",
    "print(np.median(a, axis=1))\n",
    "\n",
    "# 求平均数\n",
    "print(np.mean(a))\n",
    "print(np.mean(a, axis=0))\n",
    "print(np.mean(a, axis=1))\n",
    "\n",
    "# 求加权平均值\n",
    "arr = np.array([1, 2, 3, 4])\n",
    "print(np.average(arr))\n",
    "# 设定权重\n",
    "wts = np.array([1, 2, 3, 4])\n",
    "print(np.average(arr,weights=wts))"
   ]
  },
  {
   "cell_type": "code",
   "execution_count": 38,
   "metadata": {},
   "outputs": [
    {
     "name": "stdout",
     "output_type": "stream",
     "text": [
      "1.11803398875\n",
      "1.25\n"
     ]
    }
   ],
   "source": [
    "arr = np.array([1, 2, 3, 4])\n",
    "\n",
    "# 求标准差\n",
    "print(np.std(arr))\n",
    "# 求方差\n",
    "print(np.var(arr))"
   ]
  },
  {
   "cell_type": "markdown",
   "metadata": {},
   "source": [
    "# Numpy排序"
   ]
  },
  {
   "cell_type": "markdown",
   "metadata": {},
   "source": [
    "在Numpy中可以使用sort函数实现对数组的排序,函数sort的具体写法是\n",
    "\n",
    "sort(a, axis , kind , order)\n",
    "\n",
    "默认情况下使用快速排序,在kind里,可以指定quicksort,mergesort,和heapsort分别表示快速排序,合并排序,堆排序;\n",
    "\n",
    "同样axis默认是-1,即沿着数组的最后一个轴进行排序,可以取不同的轴或者令axis=None代表采用扁平化的方式作为一个向量进行排序;\n",
    "\n",
    "order字段,对于结构化的数组可以指定按照某个字段进行排序"
   ]
  },
  {
   "cell_type": "code",
   "execution_count": 42,
   "metadata": {},
   "outputs": [
    {
     "name": "stdout",
     "output_type": "stream",
     "text": [
      "[[2 3 4]\n",
      " [1 2 4]]\n",
      "[1 2 2 3 4 4]\n",
      "[[2 3 1]\n",
      " [4 4 2]]\n",
      "[[2 3 4]\n",
      " [1 2 4]]\n"
     ]
    }
   ],
   "source": [
    "arr = np.array([[4, 3, 2], [2, 4, 1]])\n",
    "print(np.sort(arr))\n",
    "print(np.sort(arr, axis=None))\n",
    "print(np.sort(arr, axis=0))\n",
    "print(np.sort(arr, axis=1))"
   ]
  },
  {
   "cell_type": "markdown",
   "metadata": {},
   "source": [
    "# 课后作业"
   ]
  },
  {
   "cell_type": "code",
   "execution_count": 57,
   "metadata": {},
   "outputs": [
    {
     "name": "stdout",
     "output_type": "stream",
     "text": [
      "\n",
      " 本章作业\n",
      "\n",
      "科目|平均成绩|最小成绩|最大成绩|方差|标准差\n",
      "语文|84.8|66|95|114.96000000000001|10.721940122944169\n",
      "英语|82.5|65|92|108.25|10.404326023342406\n",
      "数学|73.5|30|98|752.75|27.436289836637897\n",
      "排名\n",
      "[(b'Zhaoyun', 93, 92, 96), (b'Guanyu', 95, 85, 98), (b'Huangzhou', 90, 88, 70), (b'Zhangfei', 66, 65, 30)]\n"
     ]
    }
   ],
   "source": [
    "# !/usr/bin/python\n",
    "# -*-coding:utf-8-*-\n",
    "\n",
    "print(\"\\n 本章作业\\n\")\n",
    "\n",
    "import numpy as np\n",
    "\n",
    "pensontype = np.dtype({\n",
    "    'names': ['name', 'chinese', 'english', 'math'],\n",
    "    'formats': ['S32', 'i', 'i', 'i']\n",
    "})\n",
    "peoples = np.array([('Zhangfei', 66, 65, 30), ('Guanyu', 95, 85, 98),\n",
    "                    ('Zhaoyun', 93, 92, 96), ('Huangzhou', 90, 88, 70)],\n",
    "                   dtype=pensontype)\n",
    "\n",
    "# 指定的竖列\n",
    "name = peoples[:]['name']\n",
    "chinses = peoples[:]['chinese']\n",
    "english = peoples[:]['english']\n",
    "math = peoples[:]['math']\n",
    "\n",
    "\n",
    "# 定义函数用于显示每一排的内容\n",
    "def show(name, cj):\n",
    "    print('{}|{}|{}|{}|{}|{}'.format(name, np.mean(cj), np.min(cj), np.max(cj),\n",
    "                                     np.var(cj), np.std(cj)))\n",
    "\n",
    "\n",
    "print(\"科目|平均成绩|最小成绩|最大成绩|方差|标准差\")\n",
    "show('语文', chinese)\n",
    "show('英语', english)\n",
    "show('数学', math)\n",
    "\n",
    "print(\"排名\")\n",
    "# 用sorted函数进行排序\n",
    "ranking = sorted(peoples, key=lambda x:x[1]+x[2]+x[3], reverse=True)\n",
    "print(ranking)"
   ]
  },
  {
   "cell_type": "markdown",
   "metadata": {},
   "source": [
    "# 本章导图"
   ]
  },
  {
   "cell_type": "markdown",
   "metadata": {},
   "source": [
    "![mapping](./img/Numpy库.png)"
   ]
  }
 ],
 "metadata": {
  "kernelspec": {
   "display_name": "Python [conda env:analysis]",
   "language": "python",
   "name": "conda-env-analysis-py"
  },
  "language_info": {
   "codemirror_mode": {
    "name": "ipython",
    "version": 3
   },
   "file_extension": ".py",
   "mimetype": "text/x-python",
   "name": "python",
   "nbconvert_exporter": "python",
   "pygments_lexer": "ipython3",
   "version": "3.6.8"
  }
 },
 "nbformat": 4,
 "nbformat_minor": 2
}
