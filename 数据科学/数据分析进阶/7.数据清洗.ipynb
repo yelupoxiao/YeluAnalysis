{
 "cells": [
  {
   "cell_type": "markdown",
   "metadata": {},
   "source": [
    "经过数据采集得到的数据,通常情况下是无法直接拿来用的,因为可能存在缺失值、空行、重复行等等诸多问题。因此需要对采集得到的数据做一些必要的处理，也就是数据清洗。就好比炒菜一样，大部分时间都花在准备上，如买菜、择菜、洗菜等。在整个数据分析过程中，不论是 在时间还是 功夫上，数据清洗大概占到了80%。"
   ]
  },
  {
   "cell_type": "markdown",
   "metadata": {},
   "source": [
    "那么，当接到一份“新鲜”数据后，该如何着手进行数据清洗呢？有没有什么流程、方法之类的知识可以让人快速上手数据清洗呢？又如何才能得到干净、标准、连续的数据呢？这里介绍一种叫做“完全合一”的四项原则。按照“完全合一”原则进行操作，可以帮助我们解决数据清理中遇到的大部分问题。"
   ]
  },
  {
   "cell_type": "markdown",
   "metadata": {},
   "source": [
    "# 数据清洗“完全合一”"
   ]
  },
  {
   "cell_type": "markdown",
   "metadata": {},
   "source": [
    "- <font color=#DC143C>完</font>整性"
   ]
  },
  {
   "cell_type": "markdown",
   "metadata": {},
   "source": [
    "    单条数据是否存在空值，统计的字段是否完善    "
   ]
  },
  {
   "cell_type": "markdown",
   "metadata": {},
   "source": [
    "- <font color=#DC143C>全</font>面性"
   ]
  },
  {
   "cell_type": "markdown",
   "metadata": {},
   "source": [
    "    观察某一列的全部数值，比如在Excel表中，选中一列，查看该列的平均值、最大值、最小值，然后通过常识来判断该列是否有问题，比如：数据定义、单位标识、数据本身。"
   ]
  },
  {
   "cell_type": "markdown",
   "metadata": {},
   "source": [
    "- <font color=#DC143C>合</font>法性"
   ]
  },
  {
   "cell_type": "markdown",
   "metadata": {},
   "source": [
    "    数据的类型、内容、大小的合法性。比如数据中是否存在非ASCII字符、性别存在未知、年龄大于200岁等。"
   ]
  },
  {
   "cell_type": "markdown",
   "metadata": {},
   "source": [
    "- 唯<font color=#DC143C>一</font>性"
   ]
  },
  {
   "cell_type": "markdown",
   "metadata": {},
   "source": [
    "    数据是否存在重复记录，因为数据通常来自不同渠道的汇总，出现重复情况在所难免。行数据、列数据都需要是唯一的，比如一个人不能重复记录多次，且一个人的体重也不能在列指标中重复记录多次。"
   ]
  },
  {
   "cell_type": "markdown",
   "metadata": {},
   "source": [
    "# 利用Pandas进行数据清洗"
   ]
  },
  {
   "cell_type": "markdown",
   "metadata": {},
   "source": [
    "首先导入练习数据."
   ]
  },
  {
   "cell_type": "code",
   "execution_count": 141,
   "metadata": {
    "scrolled": true
   },
   "outputs": [
    {
     "name": "stdout",
     "output_type": "stream",
     "text": [
      "      1     micky mouse    56       70kgs   72   69   71    -  -.1  -.2\n",
      "0   2.0     donald duck  34.0   154.89lbs    -    -    -   85   84   76\n",
      "1   3.0      mini mouse  16.0         NaN    -    -    -   65   69   72\n",
      "2   4.0  scrooge mcduck   NaN       78kgs   78   79   72    -    -    -\n",
      "3   5.0    pink panther  54.0  198.658lbs    -    -    -   69  NaN   75\n",
      "4   6.0     huey mcduck  52.0      189lbs    -    -    -   68   75   72\n",
      "5   7.0    dewey mcduck  19.0       56kgs    -    -    -   71   78   75\n",
      "6   8.0      scoopy doo  32.0       78kgs   78   76   75    -    -    -\n",
      "7   NaN             NaN   NaN         NaN  NaN  NaN  NaN  NaN  NaN  NaN\n",
      "8   9.0     huey mcduck  52.0      189lbs    -    -    -   68   75   72\n",
      "9  10.0    louie mcduck  12.0       45kgs    -    -    -   92   95   87\n"
     ]
    }
   ],
   "source": [
    "import pandas as pd\n",
    "from pandas import Series, DataFrame\n",
    "path = './data/data7_example.csv'\n",
    "df1 = DataFrame(pd.read_csv(path))\n",
    "print(df1)"
   ]
  },
  {
   "cell_type": "markdown",
   "metadata": {},
   "source": [
    "经过观察,可以明显地发现,这份数据存在有缺失值、有空行、没有字段名、数据标识（单位）不统一、存在重复数据这些问题。下面按照“完全合一”的原则对这份数据进行清洗。"
   ]
  },
  {
   "cell_type": "markdown",
   "metadata": {},
   "source": [
    "## 1.完整性"
   ]
  },
  {
   "cell_type": "markdown",
   "metadata": {},
   "source": [
    "在实际业务中，往往因为数据量较大，会出现有些数据没有采集到的情况。通常我们可以采用以下三个方法进行处理：\n",
    "\n",
    "- 删除：删除数据缺失的记录\n",
    "\n",
    "- 均值：使用当前列的均值\n",
    "\n",
    "- 高频：使用当前列出现频率最高的数据"
   ]
  },
  {
   "cell_type": "markdown",
   "metadata": {},
   "source": [
    "### 问题1:缺失值"
   ]
  },
  {
   "cell_type": "code",
   "execution_count": 142,
   "metadata": {
    "scrolled": true
   },
   "outputs": [],
   "source": [
    "# 补全列名\n",
    "df2 = DataFrame(\n",
    "    pd.read_csv(\n",
    "        path,\n",
    "        names=[\n",
    "            'Order', 'Name', 'Age', 'Weight', 'm0006', 'm0612', 'm1218',\n",
    "            'f0006', 'f0612', 'f1218'\n",
    "        ]))\n",
    "df2.dropna(how='all', inplace=True)"
   ]
  },
  {
   "cell_type": "code",
   "execution_count": 143,
   "metadata": {},
   "outputs": [],
   "source": [
    "# 对Age列缺失值进行填充,这里使用了均值\n",
    "df2['Age'].fillna(df2['Age'].mean(), inplace=True)"
   ]
  },
  {
   "cell_type": "markdown",
   "metadata": {},
   "source": [
    "### 问题2:空行"
   ]
  },
  {
   "cell_type": "code",
   "execution_count": 144,
   "metadata": {},
   "outputs": [
    {
     "name": "stdout",
     "output_type": "stream",
     "text": [
      "    Order            Name        Age      Weight m0006 m0612 m1218 f0006  \\\n",
      "0     1.0     micky mouse  56.000000       70kgs    72    69    71     -   \n",
      "1     2.0     donald duck  34.000000   154.89lbs     -     -     -    85   \n",
      "2     3.0      mini mouse  16.000000         NaN     -     -     -    65   \n",
      "3     4.0  scrooge mcduck  36.333333       78kgs    78    79    72     -   \n",
      "4     5.0    pink panther  54.000000  198.658lbs     -     -     -    69   \n",
      "5     6.0     huey mcduck  52.000000      189lbs     -     -     -    68   \n",
      "6     7.0    dewey mcduck  19.000000       56kgs     -     -     -    71   \n",
      "7     8.0      scoopy doo  32.000000       78kgs    78    76    75     -   \n",
      "9     9.0     huey mcduck  52.000000      189lbs     -     -     -    68   \n",
      "10   10.0    louie mcduck  12.000000       45kgs     -     -     -    92   \n",
      "\n",
      "   f0612 f1218  \n",
      "0      -     -  \n",
      "1     84    76  \n",
      "2     69    72  \n",
      "3      -     -  \n",
      "4    NaN    75  \n",
      "5     75    72  \n",
      "6     78    75  \n",
      "7      -     -  \n",
      "9     75    72  \n",
      "10    95    87  \n"
     ]
    }
   ],
   "source": [
    "# 删除空行并打印\n",
    "df2.dropna(how='all', inplace=True)\n",
    "print(df2)"
   ]
  },
  {
   "cell_type": "markdown",
   "metadata": {},
   "source": [
    "## 2.全面性"
   ]
  },
  {
   "cell_type": "markdown",
   "metadata": {},
   "source": [
    "### 问题:列数据的单位不统一"
   ]
  },
  {
   "cell_type": "markdown",
   "metadata": {},
   "source": [
    "Weight列的单位不统一,需要修正,这里单位统一为千克(kgs)"
   ]
  },
  {
   "cell_type": "code",
   "execution_count": 145,
   "metadata": {},
   "outputs": [
    {
     "name": "stdout",
     "output_type": "stream",
     "text": [
      "   Order          Name   Age      Weight m0006 m0612 m1218 f0006 f0612 f1218\n",
      "1    2.0   donald duck  34.0   154.89lbs     -     -     -    85    84    76\n",
      "4    5.0  pink panther  54.0  198.658lbs     -     -     -    69   NaN    75\n",
      "5    6.0   huey mcduck  52.0      189lbs     -     -     -    68    75    72\n",
      "9    9.0   huey mcduck  52.0      189lbs     -     -     -    68    75    72\n"
     ]
    }
   ],
   "source": [
    "# 获取weight列中单位为lbs的数据\n",
    "rows_with_lbs = df2['Weight'].str.contains('lbs').fillna(False)\n",
    "print(df2[rows_with_lbs])"
   ]
  },
  {
   "cell_type": "code",
   "execution_count": 131,
   "metadata": {},
   "outputs": [
    {
     "name": "stdout",
     "output_type": "stream",
     "text": [
      "    Order            Name        Age Weight m0006 m0612 m1218 f0006 f0612  \\\n",
      "0     1.0     micky mouse  56.000000  70kgs    72    69    71     -     -   \n",
      "1     2.0     donald duck  34.000000  70kgs     -     -     -    85    84   \n",
      "2     3.0      mini mouse  16.000000    NaN     -     -     -    65    69   \n",
      "3     4.0  scrooge mcduck  36.333333  78kgs    78    79    72     -     -   \n",
      "4     5.0    pink panther  54.000000  90kgs     -     -     -    69   NaN   \n",
      "5     6.0     huey mcduck  52.000000  85kgs     -     -     -    68    75   \n",
      "6     7.0    dewey mcduck  19.000000  56kgs     -     -     -    71    78   \n",
      "7     8.0      scoopy doo  32.000000  78kgs    78    76    75     -     -   \n",
      "9     9.0     huey mcduck  52.000000  85kgs     -     -     -    68    75   \n",
      "10   10.0    louie mcduck  12.000000  45kgs     -     -     -    92    95   \n",
      "\n",
      "   f1218  \n",
      "0      -  \n",
      "1     76  \n",
      "2     72  \n",
      "3      -  \n",
      "4     75  \n",
      "5     72  \n",
      "6     75  \n",
      "7      -  \n",
      "9     72  \n",
      "10    87  \n"
     ]
    }
   ],
   "source": [
    "# 将lbs转换为kgs,2.2lbs=1kgs\n",
    "for i, lbs_row in df2[rows_with_lbs].iterrows():\n",
    "    # 截取从头开始至倒数第三个字符之前的数据,也就是去掉最后的lbs\n",
    "    weight = int(float(lbs_row['Weight'][:-3]) / 2.2)\n",
    "    df2.at[i, 'Weight'] = '{}kgs'.format(weight)\n",
    "\n",
    "print(df2)"
   ]
  },
  {
   "cell_type": "markdown",
   "metadata": {},
   "source": [
    "## 3.合理性"
   ]
  },
  {
   "cell_type": "markdown",
   "metadata": {},
   "source": [
    "### 问题:非ASCII字符"
   ]
  },
  {
   "cell_type": "code",
   "execution_count": 132,
   "metadata": {},
   "outputs": [],
   "source": [
    "# # 删除非 ASCII 字符\n",
    "# df['first_name'].replace({r'[^\\x00-\\x7F]+':''}, regex=True, inplace=True)\n",
    "# df['last_name'].replace({r'[^\\x00-\\x7F]+':''}, regex=True, inplace=True)"
   ]
  },
  {
   "cell_type": "markdown",
   "metadata": {},
   "source": [
    "## 4.唯一性"
   ]
  },
  {
   "cell_type": "markdown",
   "metadata": {},
   "source": [
    "### 问题1:一列有多个参数"
   ]
  },
  {
   "cell_type": "code",
   "execution_count": 135,
   "metadata": {},
   "outputs": [
    {
     "name": "stdout",
     "output_type": "stream",
     "text": [
      "    Order        Age Weight m0006 m0612 m1218 f0006 f0612 f1218 first_name  \\\n",
      "0     1.0  56.000000  70kgs    72    69    71     -     -     -      micky   \n",
      "1     2.0  34.000000  70kgs     -     -     -    85    84    76     donald   \n",
      "2     3.0  16.000000    NaN     -     -     -    65    69    72       mini   \n",
      "3     4.0  36.333333  78kgs    78    79    72     -     -     -    scrooge   \n",
      "4     5.0  54.000000  90kgs     -     -     -    69   NaN    75       pink   \n",
      "5     6.0  52.000000  85kgs     -     -     -    68    75    72       huey   \n",
      "6     7.0  19.000000  56kgs     -     -     -    71    78    75      dewey   \n",
      "7     8.0  32.000000  78kgs    78    76    75     -     -     -     scoopy   \n",
      "9     9.0  52.000000  85kgs     -     -     -    68    75    72       huey   \n",
      "10   10.0  12.000000  45kgs     -     -     -    92    95    87      louie   \n",
      "\n",
      "   last_name  \n",
      "0      mouse  \n",
      "1       duck  \n",
      "2      mouse  \n",
      "3     mcduck  \n",
      "4    panther  \n",
      "5     mcduck  \n",
      "6     mcduck  \n",
      "7        doo  \n",
      "9     mcduck  \n",
      "10    mcduck  \n"
     ]
    }
   ],
   "source": [
    "# 拆分Name列,删除原数据列\n",
    "# df2.insert(1, 'FristName', df2['Name'].map(lambda x: x.split(' ')[0]))\n",
    "# df2.insert(2, 'LastName', df2['Name'].map(lambda x: x.split(' ')[1]))\n",
    "# del df2['Name']\n",
    "# print(df2)\n",
    "df2[['first_name','last_name']]=df2['Name'].str.split(expand=True)\n",
    "df2.drop('Name',axis=1,inplace=True)\n",
    "print(df2)"
   ]
  },
  {
   "cell_type": "markdown",
   "metadata": {},
   "source": [
    "### 问题2:重复数据"
   ]
  },
  {
   "cell_type": "markdown",
   "metadata": {},
   "source": [
    "去重可以使用drop_duplicates()来删除"
   ]
  },
  {
   "cell_type": "code",
   "execution_count": 138,
   "metadata": {},
   "outputs": [
    {
     "name": "stdout",
     "output_type": "stream",
     "text": [
      "    Order        Age Weight m0006 m0612 m1218 f0006 f0612 f1218 first_name  \\\n",
      "0     1.0  56.000000  70kgs    72    69    71     -     -     -      micky   \n",
      "1     2.0  34.000000  70kgs     -     -     -    85    84    76     donald   \n",
      "2     3.0  16.000000    NaN     -     -     -    65    69    72       mini   \n",
      "3     4.0  36.333333  78kgs    78    79    72     -     -     -    scrooge   \n",
      "4     5.0  54.000000  90kgs     -     -     -    69   NaN    75       pink   \n",
      "5     6.0  52.000000  85kgs     -     -     -    68    75    72       huey   \n",
      "6     7.0  19.000000  56kgs     -     -     -    71    78    75      dewey   \n",
      "7     8.0  32.000000  78kgs    78    76    75     -     -     -     scoopy   \n",
      "10   10.0  12.000000  45kgs     -     -     -    92    95    87      louie   \n",
      "\n",
      "   last_name  \n",
      "0      mouse  \n",
      "1       duck  \n",
      "2      mouse  \n",
      "3     mcduck  \n",
      "4    panther  \n",
      "5     mcduck  \n",
      "6     mcduck  \n",
      "7        doo  \n",
      "10    mcduck  \n"
     ]
    }
   ],
   "source": [
    "# 删除重复数据行\n",
    "df2.drop_duplicates(['first_name','last_name'], inplace=True)\n",
    "print(df2)"
   ]
  },
  {
   "cell_type": "markdown",
   "metadata": {},
   "source": [
    "# 养成数据审核的习惯"
   ]
  },
  {
   "cell_type": "markdown",
   "metadata": {},
   "source": [
    "没有高质量的数据，就没有高质量的数据挖掘，而数据清洗是高质量数据的一道保障."
   ]
  },
  {
   "cell_type": "markdown",
   "metadata": {},
   "source": [
    "![img](./img/数据清洗.jpg)"
   ]
  }
 ],
 "metadata": {
  "kernelspec": {
   "display_name": "Python [conda env:analysis]",
   "language": "python",
   "name": "conda-env-analysis-py"
  },
  "language_info": {
   "codemirror_mode": {
    "name": "ipython",
    "version": 3
   },
   "file_extension": ".py",
   "mimetype": "text/x-python",
   "name": "python",
   "nbconvert_exporter": "python",
   "pygments_lexer": "ipython3",
   "version": "3.6.8"
  }
 },
 "nbformat": 4,
 "nbformat_minor": 2
}
