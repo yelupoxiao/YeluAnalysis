{
 "cells": [
  {
   "cell_type": "markdown",
   "metadata": {},
   "source": [
    "# Numpy是Python中专门处理高维数组的计算包"
   ]
  },
  {
   "source": [
    "Numpy 是 Python 专门处理高维数组 (high dimensional array) 的计算的包，每次使用它遇到问题都会它的官网 (www.numpy.org). 去找答案。"
   ],
   "cell_type": "code",
   "metadata": {},
   "execution_count": null,
   "outputs": []
  },
  {
   "cell_type": "code",
   "execution_count": 4,
   "metadata": {},
   "outputs": [
    {
     "name": "stdout",
     "output_type": "stream",
     "text": [
      "Numpy:\n",
      "Wall time: 44 ms\n",
      "List:\n",
      "Wall time: 1.51 s\n"
     ]
    }
   ],
   "source": [
    "import numpy as np\n",
    "my_arry = np.arange(1000000)\n",
    "my_list = list(range(1000000))\n",
    "print(\"Numpy:\")\n",
    "%time for _ in range(10) :my_arry2=my_arry*2\n",
    "print(\"List:\")\n",
    "%time for _ in range(10):my_list2=[x*2 for x in my_list]    "
   ]
  },
  {
   "cell_type": "code",
   "execution_count": 17,
   "metadata": {
    "scrolled": true
   },
   "outputs": [
    {
     "data": {
      "text/plain": [
       "array([[[ 0,  1,  2,  3],\n",
       "        [ 4,  5,  6,  7]],\n",
       "\n",
       "       [[ 8,  9, 10, 11],\n",
       "        [12, 13, 14, 15]]])"
      ]
     },
     "execution_count": 17,
     "metadata": {},
     "output_type": "execute_result"
    }
   ],
   "source": [
    "arr = np.arange(16).reshape((2,2,4))\n",
    "arr"
   ]
  },
  {
   "cell_type": "code",
   "execution_count": 18,
   "metadata": {},
   "outputs": [
    {
     "data": {
      "text/plain": [
       "array([[[ 0,  1,  2,  3],\n",
       "        [ 8,  9, 10, 11]],\n",
       "\n",
       "       [[ 4,  5,  6,  7],\n",
       "        [12, 13, 14, 15]]])"
      ]
     },
     "execution_count": 18,
     "metadata": {},
     "output_type": "execute_result"
    }
   ],
   "source": [
    "arr.transpose(1,0,2)"
   ]
  },
  {
   "cell_type": "markdown",
   "metadata": {},
   "source": [
    "# 创建数组"
   ]
  },
  {
   "cell_type": "markdown",
   "metadata": {},
   "source": [
    "## 按部就班法"
   ]
  },
  {
   "cell_type": "markdown",
   "metadata": {},
   "source": [
    "给了列表和元组原材料,用np.array()包装下即可"
   ]
  },
  {
   "cell_type": "code",
   "execution_count": 19,
   "metadata": {},
   "outputs": [
    {
     "data": {
      "text/plain": [
       "array([3.5, 5. , 2. , 8. , 4.2])"
      ]
     },
     "execution_count": 19,
     "metadata": {},
     "output_type": "execute_result"
    }
   ],
   "source": [
    "l=[3.5,5,2,8,4.2]\n",
    "np.array(l)"
   ]
  },
  {
   "cell_type": "code",
   "execution_count": 20,
   "metadata": {},
   "outputs": [
    {
     "data": {
      "text/plain": [
       "array([3.5, 5. , 2. , 8. , 4.2])"
      ]
     },
     "execution_count": 20,
     "metadata": {},
     "output_type": "execute_result"
    }
   ],
   "source": [
    "t=[3.5,5,2.,8.,4.2]\n",
    "np.array(t)"
   ]
  },
  {
   "cell_type": "markdown",
   "metadata": {},
   "source": [
    "## 定隔定点法"
   ]
  },
  {
   "cell_type": "markdown",
   "metadata": {},
   "source": [
    "- 定隔的arange:固定元素带下间隔\n"
   ]
  },
  {
   "cell_type": "markdown",
   "metadata": {},
   "source": [
    "参数依次为起点,终点,间隔;间隔默认为1"
   ]
  },
  {
   "cell_type": "code",
   "execution_count": 21,
   "metadata": {},
   "outputs": [
    {
     "name": "stdout",
     "output_type": "stream",
     "text": [
      "[0 1 2 3 4 5 6 7]\n",
      "[2 3 4 5 6 7]\n",
      "[2 4 6]\n"
     ]
    }
   ],
   "source": [
    "print(np.arange(8))\n",
    "print(np.arange(2,8))\n",
    "print(np.arange(2,8,2))"
   ]
  },
  {
   "cell_type": "markdown",
   "metadata": {},
   "source": [
    "注:用函数print打印numpy数组就没有arrar()的字样了,只用其内容,而且元素之间的逗号也没有了"
   ]
  },
  {
   "cell_type": "markdown",
   "metadata": {},
   "source": [
    "- 定点的linspace:固定元素个数"
   ]
  },
  {
   "cell_type": "markdown",
   "metadata": {},
   "source": [
    "参数依次为起点,终点,点数;点数默认为50"
   ]
  },
  {
   "cell_type": "code",
   "execution_count": 24,
   "metadata": {},
   "outputs": [
    {
     "name": "stdout",
     "output_type": "stream",
     "text": [
      "[2. 4. 6.]\n",
      "[3.  3.5 4.  4.5 5.  5.5 6.  6.5 7.  7.5 8. ]\n"
     ]
    }
   ],
   "source": [
    "print(np.linspace(2,6,3))\n",
    "print(np.linspace(3,8,11))"
   ]
  },
  {
   "cell_type": "markdown",
   "metadata": {},
   "source": [
    "## 一步登天法"
   ]
  },
  {
   "cell_type": "code",
   "execution_count": 26,
   "metadata": {},
   "outputs": [
    {
     "name": "stdout",
     "output_type": "stream",
     "text": [
      "[0. 0. 0. 0. 0.]\n"
     ]
    }
   ],
   "source": [
    "print(np.zeros(5))"
   ]
  },
  {
   "cell_type": "code",
   "execution_count": 29,
   "metadata": {},
   "outputs": [
    {
     "name": "stdout",
     "output_type": "stream",
     "text": [
      "[[1. 1. 1.]\n",
      " [1. 1. 1.]]\n"
     ]
    }
   ],
   "source": [
    "print(np.ones((2,3)))"
   ]
  },
  {
   "cell_type": "code",
   "execution_count": 30,
   "metadata": {},
   "outputs": [
    {
     "name": "stdout",
     "output_type": "stream",
     "text": [
      "[[[0.84825685 0.45550613 0.11376493 0.00690201]\n",
      "  [0.50812154 0.00422161 0.97363326 0.77431712]\n",
      "  [0.5345763  0.42039751 0.87074236 0.49044429]]\n",
      "\n",
      " [[0.49676412 0.91359246 0.71768746 0.00284036]\n",
      "  [0.67845879 0.35757291 0.14839064 0.65117663]\n",
      "  [0.3508342  0.08930718 0.20696361 0.01327465]]]\n"
     ]
    }
   ],
   "source": [
    "print(np.random.random((2,3,4)))"
   ]
  },
  {
   "cell_type": "code",
   "execution_count": 31,
   "metadata": {},
   "outputs": [
    {
     "data": {
      "text/plain": [
       "array([[1., 0., 0., 0.],\n",
       "       [0., 1., 0., 0.],\n",
       "       [0., 0., 1., 0.],\n",
       "       [0., 0., 0., 1.]])"
      ]
     },
     "execution_count": 31,
     "metadata": {},
     "output_type": "execute_result"
    }
   ],
   "source": [
    "np.eye(4)"
   ]
  },
  {
   "cell_type": "code",
   "execution_count": 32,
   "metadata": {},
   "outputs": [
    {
     "data": {
      "text/plain": [
       "array([[0., 1., 0., 0.],\n",
       "       [0., 0., 1., 0.],\n",
       "       [0., 0., 0., 1.],\n",
       "       [0., 0., 0., 0.]])"
      ]
     },
     "execution_count": 32,
     "metadata": {},
     "output_type": "execute_result"
    }
   ],
   "source": [
    "np.eye(4,k=1)"
   ]
  },
  {
   "cell_type": "markdown",
   "metadata": {},
   "source": [
    "# 数组性质"
   ]
  },
  {
   "cell_type": "code",
   "execution_count": 35,
   "metadata": {},
   "outputs": [
    {
     "data": {
      "text/plain": [
       "array([3.5, 5. , 2. , 8. , 4.2])"
      ]
     },
     "execution_count": 35,
     "metadata": {},
     "output_type": "execute_result"
    }
   ],
   "source": [
    "arr = np.array([3.5,5,2,8,4.2])\n",
    "arr"
   ]
  },
  {
   "cell_type": "code",
   "execution_count": 36,
   "metadata": {
    "scrolled": true
   },
   "outputs": [
    {
     "data": {
      "text/plain": [
       "['T',\n",
       " '__abs__',\n",
       " '__add__',\n",
       " '__and__',\n",
       " '__array__',\n",
       " '__array_finalize__',\n",
       " '__array_function__',\n",
       " '__array_interface__',\n",
       " '__array_prepare__',\n",
       " '__array_priority__',\n",
       " '__array_struct__',\n",
       " '__array_ufunc__',\n",
       " '__array_wrap__',\n",
       " '__bool__',\n",
       " '__class__',\n",
       " '__complex__',\n",
       " '__contains__',\n",
       " '__copy__',\n",
       " '__deepcopy__',\n",
       " '__delattr__',\n",
       " '__delitem__',\n",
       " '__dir__',\n",
       " '__divmod__',\n",
       " '__doc__',\n",
       " '__eq__',\n",
       " '__float__',\n",
       " '__floordiv__',\n",
       " '__format__',\n",
       " '__ge__',\n",
       " '__getattribute__',\n",
       " '__getitem__',\n",
       " '__gt__',\n",
       " '__hash__',\n",
       " '__iadd__',\n",
       " '__iand__',\n",
       " '__ifloordiv__',\n",
       " '__ilshift__',\n",
       " '__imatmul__',\n",
       " '__imod__',\n",
       " '__imul__',\n",
       " '__index__',\n",
       " '__init__',\n",
       " '__init_subclass__',\n",
       " '__int__',\n",
       " '__invert__',\n",
       " '__ior__',\n",
       " '__ipow__',\n",
       " '__irshift__',\n",
       " '__isub__',\n",
       " '__iter__',\n",
       " '__itruediv__',\n",
       " '__ixor__',\n",
       " '__le__',\n",
       " '__len__',\n",
       " '__lshift__',\n",
       " '__lt__',\n",
       " '__matmul__',\n",
       " '__mod__',\n",
       " '__mul__',\n",
       " '__ne__',\n",
       " '__neg__',\n",
       " '__new__',\n",
       " '__or__',\n",
       " '__pos__',\n",
       " '__pow__',\n",
       " '__radd__',\n",
       " '__rand__',\n",
       " '__rdivmod__',\n",
       " '__reduce__',\n",
       " '__reduce_ex__',\n",
       " '__repr__',\n",
       " '__rfloordiv__',\n",
       " '__rlshift__',\n",
       " '__rmatmul__',\n",
       " '__rmod__',\n",
       " '__rmul__',\n",
       " '__ror__',\n",
       " '__rpow__',\n",
       " '__rrshift__',\n",
       " '__rshift__',\n",
       " '__rsub__',\n",
       " '__rtruediv__',\n",
       " '__rxor__',\n",
       " '__setattr__',\n",
       " '__setitem__',\n",
       " '__setstate__',\n",
       " '__sizeof__',\n",
       " '__str__',\n",
       " '__sub__',\n",
       " '__subclasshook__',\n",
       " '__truediv__',\n",
       " '__xor__',\n",
       " 'all',\n",
       " 'any',\n",
       " 'argmax',\n",
       " 'argmin',\n",
       " 'argpartition',\n",
       " 'argsort',\n",
       " 'astype',\n",
       " 'base',\n",
       " 'byteswap',\n",
       " 'choose',\n",
       " 'clip',\n",
       " 'compress',\n",
       " 'conj',\n",
       " 'conjugate',\n",
       " 'copy',\n",
       " 'ctypes',\n",
       " 'cumprod',\n",
       " 'cumsum',\n",
       " 'data',\n",
       " 'diagonal',\n",
       " 'dot',\n",
       " 'dtype',\n",
       " 'dump',\n",
       " 'dumps',\n",
       " 'fill',\n",
       " 'flags',\n",
       " 'flat',\n",
       " 'flatten',\n",
       " 'getfield',\n",
       " 'imag',\n",
       " 'item',\n",
       " 'itemset',\n",
       " 'itemsize',\n",
       " 'max',\n",
       " 'mean',\n",
       " 'min',\n",
       " 'nbytes',\n",
       " 'ndim',\n",
       " 'newbyteorder',\n",
       " 'nonzero',\n",
       " 'partition',\n",
       " 'prod',\n",
       " 'ptp',\n",
       " 'put',\n",
       " 'ravel',\n",
       " 'real',\n",
       " 'repeat',\n",
       " 'reshape',\n",
       " 'resize',\n",
       " 'round',\n",
       " 'searchsorted',\n",
       " 'setfield',\n",
       " 'setflags',\n",
       " 'shape',\n",
       " 'size',\n",
       " 'sort',\n",
       " 'squeeze',\n",
       " 'std',\n",
       " 'strides',\n",
       " 'sum',\n",
       " 'swapaxes',\n",
       " 'take',\n",
       " 'tobytes',\n",
       " 'tofile',\n",
       " 'tolist',\n",
       " 'tostring',\n",
       " 'trace',\n",
       " 'transpose',\n",
       " 'var',\n",
       " 'view']"
      ]
     },
     "execution_count": 36,
     "metadata": {},
     "output_type": "execute_result"
    }
   ],
   "source": [
    "dir(arr)"
   ]
  },
  {
   "cell_type": "code",
   "execution_count": 38,
   "metadata": {},
   "outputs": [
    {
     "name": "stdout",
     "output_type": "stream",
     "text": [
      "The type is <class 'numpy.ndarray'>\n",
      "The dimension is 1\n",
      "The length of array is 5\n",
      "The number of elements is 5\n",
      "The shape of array is (5,)\n",
      "The stride of array is (8,)\n",
      "The type of elements is float64\n"
     ]
    }
   ],
   "source": [
    "print( 'The type is', type(arr) )\n",
    "print( 'The dimension is', arr.ndim )\n",
    "print( 'The length of array is', len(arr) )\n",
    "print( 'The number of elements is', arr.size )\n",
    "print( 'The shape of array is', arr.shape )\n",
    "print( 'The stride of array is', arr.strides )\n",
    "print( 'The type of elements is', arr.dtype )"
   ]
  },
  {
   "cell_type": "code",
   "execution_count": 41,
   "metadata": {},
   "outputs": [
    {
     "data": {
      "text/plain": [
       "array([[1, 2, 3],\n",
       "       [4, 5, 6]])"
      ]
     },
     "execution_count": 41,
     "metadata": {},
     "output_type": "execute_result"
    }
   ],
   "source": [
    "l2=[[1,2,3],[4,5,6]]\n",
    "arr2d=np.array(l2)\n",
    "arr2d"
   ]
  },
  {
   "cell_type": "code",
   "execution_count": 42,
   "metadata": {},
   "outputs": [
    {
     "name": "stdout",
     "output_type": "stream",
     "text": [
      "The type is <class 'numpy.ndarray'>\n",
      "The dimension is 2\n",
      "The length of array is 2\n",
      "The number of elements is 6\n",
      "The shape of array is (2, 3)\n",
      "The stride of array is (12, 4)\n",
      "The type of elements is int32\n"
     ]
    }
   ],
   "source": [
    "\n",
    "print( 'The type is', type(arr2d) )\n",
    "print( 'The dimension is', arr2d.ndim )\n",
    "print( 'The length of array is', len(arr2d) )\n",
    "print( 'The number of elements is', arr2d.size )\n",
    "print( 'The shape of array is', arr2d.shape )\n",
    "print( 'The stride of array is', arr2d.strides )\n",
    "print( 'The type of elements is', arr2d.dtype )"
   ]
  },
  {
   "cell_type": "code",
   "execution_count": 45,
   "metadata": {},
   "outputs": [
    {
     "data": {
      "text/plain": [
       "array([[[[0.0312308 , 0.19176775, 0.64484641],\n",
       "         [0.81372683, 0.70032555, 0.73871111]],\n",
       "\n",
       "        [[0.44544056, 0.58443923, 0.19391885],\n",
       "         [0.36128883, 0.52202444, 0.68306499]]],\n",
       "\n",
       "\n",
       "       [[[0.14426546, 0.48686838, 0.73093197],\n",
       "         [0.62406886, 0.81505306, 0.99727202]],\n",
       "\n",
       "        [[0.2509592 , 0.80212558, 0.00994248],\n",
       "         [0.98074301, 0.93462757, 0.1164846 ]]]])"
      ]
     },
     "execution_count": 45,
     "metadata": {},
     "output_type": "execute_result"
    }
   ],
   "source": [
    "arr4d=np.random.random((2,2,2,3))\n",
    "arr4d"
   ]
  },
  {
   "cell_type": "code",
   "execution_count": 46,
   "metadata": {},
   "outputs": [
    {
     "name": "stdout",
     "output_type": "stream",
     "text": [
      "The type is <class 'numpy.ndarray'>\n",
      "The dimension is 4\n",
      "The length of array is 2\n",
      "The number of elements is 24\n",
      "The shape of array is (2, 2, 2, 3)\n",
      "The stride of array is (96, 48, 24, 8)\n",
      "The type of elements is float64\n"
     ]
    }
   ],
   "source": [
    "print( 'The type is', type(arr4d) )\n",
    "print( 'The dimension is', arr4d.ndim )\n",
    "print( 'The length of array is', len(arr4d) )\n",
    "print( 'The number of elements is', arr4d.size )\n",
    "print( 'The shape of array is', arr4d.shape )\n",
    "print( 'The stride of array is', arr4d.strides )\n",
    "print( 'The type of elements is', arr4d.dtype )"
   ]
  },
  {
   "cell_type": "markdown",
   "metadata": {},
   "source": [
    "# 数组的存载"
   ]
  },
  {
   "cell_type": "code",
   "execution_count": null,
   "metadata": {
    "collapsed": true
   },
   "outputs": [],
   "source": []
  },
  {
   "cell_type": "markdown",
   "metadata": {},
   "source": [
    "## numpy自身的.npy格式"
   ]
  },
  {
   "cell_type": "markdown",
   "metadata": {},
   "source": [
    "用np.save函数将numpy数组保存为.npy格式\n",
    "\n",
    "保存写法:  np.save(\"文件名\",数组)\n",
    "\n",
    "上载写法: np.load(\"文件名\")\n"
   ]
  },
  {
   "cell_type": "code",
   "execution_count": 50,
   "metadata": {},
   "outputs": [
    {
     "data": {
      "text/plain": [
       "array([0, 1, 2, 3, 4, 5, 6, 7])"
      ]
     },
     "execution_count": 50,
     "metadata": {},
     "output_type": "execute_result"
    }
   ],
   "source": [
    "arr_disk=np.arange(8)\n",
    "np.save(\"arr_disk\",arr_disk)\n",
    "arr_disk"
   ]
  },
  {
   "cell_type": "code",
   "execution_count": 51,
   "metadata": {},
   "outputs": [
    {
     "data": {
      "text/plain": [
       "array([0, 1, 2, 3, 4, 5, 6, 7])"
      ]
     },
     "execution_count": 51,
     "metadata": {},
     "output_type": "execute_result"
    }
   ],
   "source": [
    "np.load(\"arr_disk.npy\")"
   ]
  },
  {
   "cell_type": "markdown",
   "metadata": {},
   "source": [
    "## 文本.txt格式"
   ]
  },
  {
   "cell_type": "markdown",
   "metadata": {},
   "source": [
    "用np.savetxt函数将numpy数组保存为.txt格式 \n",
    "\n",
    "保存写法: np.savetxt(\"文件名\",数组) \n",
    "\n",
    "上载写法: np.loadtxt(\"文件名\")"
   ]
  },
  {
   "cell_type": "code",
   "execution_count": 56,
   "metadata": {},
   "outputs": [
    {
     "data": {
      "text/plain": [
       "array([[1., 2., 3.],\n",
       "       [4., 5., 6.]])"
      ]
     },
     "execution_count": 56,
     "metadata": {},
     "output_type": "execute_result"
    }
   ],
   "source": [
    "arr_text=np.array([[1.,2.,3.],[4.,5.,6.]])\n",
    "np.savetxt(\"arr_from_text.txt\",arr_text)\n",
    "arr_text"
   ]
  },
  {
   "cell_type": "code",
   "execution_count": 59,
   "metadata": {},
   "outputs": [
    {
     "data": {
      "text/plain": [
       "array([[1., 2., 3.],\n",
       "       [4., 5., 6.]])"
      ]
     },
     "execution_count": 59,
     "metadata": {},
     "output_type": "execute_result"
    }
   ],
   "source": [
    "np.loadtxt(\"arr_from_text.txt\")"
   ]
  },
  {
   "cell_type": "markdown",
   "metadata": {},
   "source": [
    "## 文本.csv格式"
   ]
  },
  {
   "cell_type": "markdown",
   "metadata": {},
   "source": [
    "用np.savetxt函数将numpy数组保存为.csv格式\n",
    "\n",
    "保存写法:np.savetxt(\"文件名\",数组,分隔符)\n",
    "\n",
    "上载写法:np.genfromtxt(\"文件名\",分隔符)"
   ]
  },
  {
   "cell_type": "code",
   "execution_count": 62,
   "metadata": {},
   "outputs": [
    {
     "data": {
      "text/plain": [
       "array([[1, 2, 3],\n",
       "       [4, 5, 6]])"
      ]
     },
     "execution_count": 62,
     "metadata": {},
     "output_type": "execute_result"
    }
   ],
   "source": [
    "arr_from_csv=np.array([[1,2,3],[4,5,6]])\n",
    "np.savetxt(\"arr_from_csv.csv\",arr_from_csv,delimiter=';')\n",
    "arr_from_csv"
   ]
  },
  {
   "cell_type": "code",
   "execution_count": 63,
   "metadata": {},
   "outputs": [
    {
     "data": {
      "text/plain": [
       "array([nan, nan])"
      ]
     },
     "execution_count": 63,
     "metadata": {},
     "output_type": "execute_result"
    }
   ],
   "source": [
    "np.genfromtxt(\"arr_from_csv.csv\")"
   ]
  },
  {
   "cell_type": "code",
   "execution_count": 64,
   "metadata": {},
   "outputs": [
    {
     "data": {
      "text/plain": [
       "array([[1., 2., 3.],\n",
       "       [4., 5., 6.]])"
      ]
     },
     "execution_count": 64,
     "metadata": {},
     "output_type": "execute_result"
    }
   ],
   "source": [
    "np.genfromtxt(\"arr_from_csv.csv\",delimiter=\";\")"
   ]
  },
  {
   "cell_type": "markdown",
   "metadata": {},
   "source": [
    "# 数组的获取"
   ]
  },
  {
   "cell_type": "markdown",
   "metadata": {},
   "source": [
    "- 正规索引\n",
    "\n",
    "- 布尔索引\n",
    "\n",
    "- 花式索引"
   ]
  },
  {
   "cell_type": "markdown",
   "metadata": {},
   "source": [
    "虽然切片操作可以由多次索引操作替代,但两者最大的区别在于:\n",
    "\n",
    "- 切片得到的是原数组的一个视图,修改切片中的内容会改变原数组\n",
    "\n",
    "- 索引得到的是原数组的一个复制,修改索引中的内容不会改变原数组"
   ]
  },
  {
   "cell_type": "markdown",
   "metadata": {},
   "source": [
    "正规索引"
   ]
  },
  {
   "cell_type": "code",
   "execution_count": 65,
   "metadata": {},
   "outputs": [
    {
     "data": {
      "text/plain": [
       "array([0, 1, 2, 3, 4, 5, 6, 7, 8, 9])"
      ]
     },
     "execution_count": 65,
     "metadata": {},
     "output_type": "execute_result"
    }
   ],
   "source": [
    "arr=np.arange(10)\n",
    "arr"
   ]
  },
  {
   "cell_type": "code",
   "execution_count": 66,
   "metadata": {},
   "outputs": [
    {
     "data": {
      "text/plain": [
       "6"
      ]
     },
     "execution_count": 66,
     "metadata": {},
     "output_type": "execute_result"
    }
   ],
   "source": [
    "arr[6]"
   ]
  },
  {
   "cell_type": "code",
   "execution_count": 67,
   "metadata": {},
   "outputs": [
    {
     "data": {
      "text/plain": [
       "array([0, 1, 2, 3, 4, 5, 6, 7, 8, 9])"
      ]
     },
     "execution_count": 67,
     "metadata": {},
     "output_type": "execute_result"
    }
   ],
   "source": [
    "a=arr[6]\n",
    "a=1000\n",
    "arr"
   ]
  },
  {
   "cell_type": "code",
   "execution_count": 68,
   "metadata": {},
   "outputs": [
    {
     "data": {
      "text/plain": [
       "array([5, 6, 7])"
      ]
     },
     "execution_count": 68,
     "metadata": {},
     "output_type": "execute_result"
    }
   ],
   "source": [
    "arr[5:8]"
   ]
  },
  {
   "cell_type": "code",
   "execution_count": 69,
   "metadata": {},
   "outputs": [
    {
     "data": {
      "text/plain": [
       "array([ 0,  1,  2,  3,  4,  5, 12,  7,  8,  9])"
      ]
     },
     "execution_count": 69,
     "metadata": {},
     "output_type": "execute_result"
    }
   ],
   "source": [
    "b=arr[5:8]\n",
    "b[1]=12\n",
    "arr"
   ]
  },
  {
   "cell_type": "code",
   "execution_count": 71,
   "metadata": {},
   "outputs": [
    {
     "data": {
      "text/plain": [
       "array([[1, 2, 3],\n",
       "       [4, 5, 6],\n",
       "       [7, 8, 9]])"
      ]
     },
     "execution_count": 71,
     "metadata": {},
     "output_type": "execute_result"
    }
   ],
   "source": [
    "arr2d=np.array([[1,2,3],[4,5,6],[7,8,9]])\n",
    "arr2d"
   ]
  },
  {
   "cell_type": "code",
   "execution_count": 72,
   "metadata": {},
   "outputs": [
    {
     "data": {
      "text/plain": [
       "array([7, 8, 9])"
      ]
     },
     "execution_count": 72,
     "metadata": {},
     "output_type": "execute_result"
    }
   ],
   "source": [
    "arr2d[2]"
   ]
  },
  {
   "cell_type": "code",
   "execution_count": 73,
   "metadata": {},
   "outputs": [
    {
     "data": {
      "text/plain": [
       "3"
      ]
     },
     "execution_count": 73,
     "metadata": {},
     "output_type": "execute_result"
    }
   ],
   "source": [
    "arr2d[0][2]"
   ]
  },
  {
   "cell_type": "code",
   "execution_count": null,
   "metadata": {},
   "outputs": [],
   "source": []
  },
  {
   "cell_type": "code",
   "execution_count": 74,
   "metadata": {},
   "outputs": [
    {
     "data": {
      "text/plain": [
       "3"
      ]
     },
     "execution_count": 74,
     "metadata": {},
     "output_type": "execute_result"
    }
   ],
   "source": [
    "arr2d[0,2]"
   ]
  },
  {
   "cell_type": "code",
   "execution_count": 75,
   "metadata": {},
   "outputs": [
    {
     "data": {
      "text/plain": [
       "array([[1, 2, 3],\n",
       "       [4, 5, 6]])"
      ]
     },
     "execution_count": 75,
     "metadata": {},
     "output_type": "execute_result"
    }
   ],
   "source": [
    "arr2d[:2]"
   ]
  },
  {
   "cell_type": "code",
   "execution_count": 76,
   "metadata": {},
   "outputs": [
    {
     "data": {
      "text/plain": [
       "array([[1, 3],\n",
       "       [4, 6],\n",
       "       [7, 9]])"
      ]
     },
     "execution_count": 76,
     "metadata": {},
     "output_type": "execute_result"
    }
   ],
   "source": [
    "arr2d[:,[0,2]]"
   ]
  },
  {
   "cell_type": "code",
   "execution_count": 77,
   "metadata": {},
   "outputs": [
    {
     "data": {
      "text/plain": [
       "array([4, 5])"
      ]
     },
     "execution_count": 77,
     "metadata": {},
     "output_type": "execute_result"
    }
   ],
   "source": [
    "arr2d[1,:2]"
   ]
  },
  {
   "cell_type": "code",
   "execution_count": 78,
   "metadata": {},
   "outputs": [
    {
     "data": {
      "text/plain": [
       "array([3, 6])"
      ]
     },
     "execution_count": 78,
     "metadata": {},
     "output_type": "execute_result"
    }
   ],
   "source": [
    "arr2d[:2,2]"
   ]
  },
  {
   "cell_type": "markdown",
   "metadata": {},
   "source": [
    "布尔索引"
   ]
  },
  {
   "cell_type": "markdown",
   "metadata": {},
   "source": [
    "花式索引"
   ]
  },
  {
   "cell_type": "code",
   "execution_count": 80,
   "metadata": {
    "scrolled": true
   },
   "outputs": [
    {
     "data": {
      "text/plain": [
       "array([[ 0,  1,  2,  3],\n",
       "       [ 4,  5,  6,  7],\n",
       "       [ 8,  9, 10, 11],\n",
       "       [12, 13, 14, 15],\n",
       "       [16, 17, 18, 19],\n",
       "       [20, 21, 22, 23],\n",
       "       [24, 25, 26, 27],\n",
       "       [28, 29, 30, 31]])"
      ]
     },
     "execution_count": 80,
     "metadata": {},
     "output_type": "execute_result"
    }
   ],
   "source": [
    "arr=np.arange(32).reshape(8,4)\n",
    "arr"
   ]
  },
  {
   "cell_type": "code",
   "execution_count": 81,
   "metadata": {},
   "outputs": [
    {
     "data": {
      "text/plain": [
       "array([[16, 17, 18, 19],\n",
       "       [12, 13, 14, 15],\n",
       "       [24, 25, 26, 27]])"
      ]
     },
     "execution_count": 81,
     "metadata": {},
     "output_type": "execute_result"
    }
   ],
   "source": [
    "arr[[4,3,6]]"
   ]
  },
  {
   "cell_type": "code",
   "execution_count": 82,
   "metadata": {},
   "outputs": [
    {
     "data": {
      "text/plain": [
       "array([ 4, 23, 29, 10])"
      ]
     },
     "execution_count": 82,
     "metadata": {},
     "output_type": "execute_result"
    }
   ],
   "source": [
    "arr[[1,5,7,2],[0,3,1,2]]"
   ]
  },
  {
   "cell_type": "code",
   "execution_count": 83,
   "metadata": {},
   "outputs": [
    {
     "data": {
      "text/plain": [
       "array([[ 0,  3,  1,  2],\n",
       "       [ 4,  7,  5,  6],\n",
       "       [ 8, 11,  9, 10],\n",
       "       [12, 15, 13, 14],\n",
       "       [16, 19, 17, 18],\n",
       "       [20, 23, 21, 22],\n",
       "       [24, 27, 25, 26],\n",
       "       [28, 31, 29, 30]])"
      ]
     },
     "execution_count": 83,
     "metadata": {},
     "output_type": "execute_result"
    }
   ],
   "source": [
    "arr[:,[0,3,1,2]]"
   ]
  },
  {
   "cell_type": "markdown",
   "metadata": {},
   "source": [
    "# 数组的变形"
   ]
  },
  {
   "cell_type": "markdown",
   "metadata": {},
   "source": [
    "数组层面的操作有四种,分别有:\n",
    "- 重塑(reshape)和打平(ravel,flatten)\n",
    "- 合并(concatenate,stack)和分裂(split)\n",
    "- 重复(repate)和拼接(tile)\n",
    "- 其他操作(sort,insert,delete,copy)"
   ]
  },
  {
   "cell_type": "markdown",
   "metadata": {},
   "source": [
    "## 重塑和打平"
   ]
  },
  {
   "cell_type": "markdown",
   "metadata": {},
   "source": [
    "重塑是从低维到高维,打平是从高维到低维."
   ]
  },
  {
   "cell_type": "markdown",
   "metadata": {},
   "source": [
    "### 重塑"
   ]
  },
  {
   "cell_type": "code",
   "execution_count": 14,
   "metadata": {},
   "outputs": [
    {
     "name": "stdout",
     "output_type": "stream",
     "text": [
      "[ 0  1  2  3  4  5  6  7  8  9 10 11]\n",
      "[[ 0  1  2]\n",
      " [ 3  4  5]\n",
      " [ 6  7  8]\n",
      " [ 9 10 11]]\n"
     ]
    }
   ],
   "source": [
    "import numpy as np\n",
    "arr=np.arange(12)\n",
    "print(arr)\n",
    "print(arr.reshape((4,3)))"
   ]
  },
  {
   "cell_type": "markdown",
   "metadata": {},
   "source": [
    "当你重塑高维矩阵时，不想花时间算某一维度的元素个数时，可以用「-1」取代，程序会自动帮你计算出来。比如把 12 个元素重塑成 (2, 6)，你可以写成 (2,-1) 或者 (-1, 6)。"
   ]
  },
  {
   "cell_type": "code",
   "execution_count": 15,
   "metadata": {},
   "outputs": [
    {
     "name": "stdout",
     "output_type": "stream",
     "text": [
      "[[ 0  1  2  3  4  5]\n",
      " [ 6  7  8  9 10 11]]\n",
      "[[ 0  1  2  3  4  5]\n",
      " [ 6  7  8  9 10 11]]\n"
     ]
    }
   ],
   "source": [
    "print(arr.reshape(2,-1))\n",
    "print(arr.reshape(-1,6))"
   ]
  },
  {
   "cell_type": "markdown",
   "metadata": {},
   "source": [
    "### 打平"
   ]
  },
  {
   "cell_type": "code",
   "execution_count": 19,
   "metadata": {},
   "outputs": [
    {
     "name": "stdout",
     "output_type": "stream",
     "text": [
      "[[ 0  1  2]\n",
      " [ 3  4  5]\n",
      " [ 6  7  8]\n",
      " [ 9 10 11]]\n",
      "[ 0  1  2  3  4  5  6  7  8  9 10 11]\n",
      "[ 0  1  2  3  4  5  6  7  8  9 10 11]\n"
     ]
    }
   ],
   "source": [
    "arr=np.arange(12).reshape((4,3))\n",
    "print(arr)\n",
    "\n",
    "ravel_arr=arr.ravel()\n",
    "print(ravel_arr)\n",
    "\n",
    "flatten_arr=arr.flatten()\n",
    "print(flatten_arr)"
   ]
  },
  {
   "cell_type": "markdown",
   "metadata": {},
   "source": [
    "- 行主序和列主序"
   ]
  },
  {
   "cell_type": "markdown",
   "metadata": {},
   "source": [
    "行主序 (row-major order) 指每行的元素在内存块中彼此相邻，而列主序 (column-major order) 指每列的元素在内存块中彼此相邻。\n",
    "\n",
    "\n",
    "\n",
    "在众多计算机语言中，\n",
    "\n",
    "\n",
    "\n",
    "- 默认行主序的有 C 语言( order=‘C’ 等价于行主序)\n",
    "\n",
    "- 默认列主序的有 Fortran 语言( order=‘F’ 等价于列主序)\n",
    "\n",
    "在 numpy 数组中，默认的是行主序，即 order ='C'。现在可以回答本节那两个问题了。\n",
    "\n",
    "\n",
    "\n",
    "如果你真的想在「重塑」和「打平」时用列主序，只用把 order 设为 'F'，以重塑举例："
   ]
  },
  {
   "cell_type": "code",
   "execution_count": 22,
   "metadata": {},
   "outputs": [
    {
     "name": "stdout",
     "output_type": "stream",
     "text": [
      "[[ 0  1  2]\n",
      " [ 3  4  5]\n",
      " [ 6  7  8]\n",
      " [ 9 10 11]]\n"
     ]
    }
   ],
   "source": [
    "print( arr.reshape((4,3), order='F') )"
   ]
  },
  {
   "cell_type": "markdown",
   "metadata": {},
   "source": [
    "*知识点*\n",
    "\n",
    "函数 ravel() 或 flatten() 的不同之处是\n",
    "\n",
    "ravel() 按「行主序」打平时没有复制原数组，按「列主序」在打平时复制了原数组\n",
    "\n",
    "flatten() 在打平时复制了原数组\n",
    "\n",
    "\n",
    "用代码验证一下，首先看 flatten()，将打平后的数组 flatten 第一个元素更新为 10000，并没有对原数组 arr 产生任何影响 (证明 flatten() 是复制了原数组)"
   ]
  },
  {
   "cell_type": "code",
   "execution_count": 24,
   "metadata": {},
   "outputs": [
    {
     "name": "stdout",
     "output_type": "stream",
     "text": [
      "[[0 1 2]\n",
      " [3 4 5]]\n",
      "[0 1 2 3 4 5]\n",
      "[[0 1 2]\n",
      " [3 4 5]]\n"
     ]
    }
   ],
   "source": [
    "arr = np.arange(6).reshape(2,3)\n",
    "print( arr )\n",
    "flatten = arr.flatten()\n",
    "print( flatten )\n",
    "flatten_arr[0] = 10000\n",
    "print( arr )"
   ]
  },
  {
   "cell_type": "markdown",
   "metadata": {},
   "source": [
    "再看 ravel() 在「列主序」打平，将打平后的数组 ravel_F 第一个元素更新为 10000，并没有对原数组 arr 产生任何影响 (证明 ravel(order='F') 是复制了原数组)"
   ]
  },
  {
   "cell_type": "code",
   "execution_count": 25,
   "metadata": {},
   "outputs": [
    {
     "name": "stdout",
     "output_type": "stream",
     "text": [
      "[10000     3     1     4     2     5]\n",
      "[[0 1 2]\n",
      " [3 4 5]]\n"
     ]
    }
   ],
   "source": [
    "ravel_F = arr.ravel( order='F' )\n",
    "ravel_F[0] = 10000\n",
    "print( ravel_F )\n",
    "print( arr )"
   ]
  },
  {
   "cell_type": "markdown",
   "metadata": {},
   "source": [
    "最后看 ravel() 在「行主序」打平，将打平后的数组 ravel_C 第一个元素更新为 10000，原数组 arr[0][0] 也变成了 10000 (证明 ravel() 没有复制原数组)"
   ]
  },
  {
   "cell_type": "code",
   "execution_count": 26,
   "metadata": {},
   "outputs": [
    {
     "name": "stdout",
     "output_type": "stream",
     "text": [
      "[10000     1     2     3     4     5]\n",
      "[[10000     1     2]\n",
      " [    3     4     5]]\n"
     ]
    }
   ],
   "source": [
    "ravel_C = arr.ravel()\n",
    "ravel_C[0] = 10000\n",
    "print( ravel_C )\n",
    "print( arr )"
   ]
  },
  {
   "cell_type": "markdown",
   "metadata": {},
   "source": [
    "## 合并和分裂"
   ]
  },
  {
   "cell_type": "markdown",
   "metadata": {},
   "source": [
    "### 合并"
   ]
  },
  {
   "cell_type": "markdown",
   "metadata": {},
   "source": [
    "Numpy中实现数组合并有三种方式:\n",
    "- 通州的方式concatenate\n",
    "- 专门的vstack,hstack,dstack\n",
    "- 极简的r_,c_"
   ]
  },
  {
   "cell_type": "code",
   "execution_count": 30,
   "metadata": {},
   "outputs": [],
   "source": [
    "arr1=np.array([[1,2,3],[4,5,6]])\n",
    "arr2=np.array([[7,8,9],[10,11,12]])"
   ]
  },
  {
   "cell_type": "code",
   "execution_count": 33,
   "metadata": {},
   "outputs": [
    {
     "name": "stdout",
     "output_type": "stream",
     "text": [
      "[[ 1  2  3]\n",
      " [ 4  5  6]\n",
      " [ 7  8  9]\n",
      " [10 11 12]]\n",
      "[[ 1  2  3  7  8  9]\n",
      " [ 4  5  6 10 11 12]]\n"
     ]
    }
   ],
   "source": [
    "print(np.concatenate([arr1,arr2],axis=0))\n",
    "print(np.concatenate([arr1,arr2],axis=1))"
   ]
  },
  {
   "cell_type": "markdown",
   "metadata": {},
   "source": [
    "通用的东西是好，但是可能效率不高，NumPy 里还有专门合并的函数\n",
    "\n",
    "\n",
    "\n",
    "- vstack：v 代表 vertical，竖直合并，等价于 concatenate(axis=0)\n",
    "\n",
    "- hstack：h 代表 horizontal，水平合并，等价于 concatenate(axis=1)\n",
    "\n",
    "- dstack：d 代表 depth-wise，按深度合并，深度有点像彩色照片的 RGB 通道"
   ]
  },
  {
   "cell_type": "code",
   "execution_count": 34,
   "metadata": {},
   "outputs": [
    {
     "name": "stdout",
     "output_type": "stream",
     "text": [
      "[[ 1  2  3]\n",
      " [ 4  5  6]\n",
      " [ 7  8  9]\n",
      " [10 11 12]]\n",
      "[[ 1  2  3  7  8  9]\n",
      " [ 4  5  6 10 11 12]]\n",
      "[[[ 1  7]\n",
      "  [ 2  8]\n",
      "  [ 3  9]]\n",
      "\n",
      " [[ 4 10]\n",
      "  [ 5 11]\n",
      "  [ 6 12]]]\n"
     ]
    }
   ],
   "source": [
    "print( np.vstack((arr1, arr2)) )\n",
    "print( np.hstack((arr1, arr2)) )\n",
    "print( np.dstack((arr1, arr2)) )"
   ]
  },
  {
   "cell_type": "markdown",
   "metadata": {},
   "source": [
    "此外，还有一种更简单的在竖直和水平方向合并的函数，r_() 和 c_()。"
   ]
  },
  {
   "cell_type": "code",
   "execution_count": 35,
   "metadata": {},
   "outputs": [
    {
     "name": "stdout",
     "output_type": "stream",
     "text": [
      "[[ 1  2  3]\n",
      " [ 4  5  6]\n",
      " [ 7  8  9]\n",
      " [10 11 12]]\n",
      "[[ 1  2  3  7  8  9]\n",
      " [ 4  5  6 10 11 12]]\n"
     ]
    }
   ],
   "source": [
    "print(np.r_[arr1,arr2])\n",
    "print(np.c_[arr1,arr2])"
   ]
  },
  {
   "cell_type": "markdown",
   "metadata": {},
   "source": [
    "*知识点*\n",
    "\n",
    "r_() 和 c_() 还可以实现如下功能:\n",
    "\n",
    "1. 参数可以切片\n",
    "\n",
    "2. 第一个参数可以是控制参数，如果它用 'r' 或 'c' 字符可生成线性代数最常用的 matrix (和二维 numpy array 稍微有些不同)\n",
    "\n",
    "3. 第一个参数可以是控制参数，如果它写成 ‘a,b,c’ 的形式，其中\n",
    "\n",
    "   a：代表轴，按「轴 a」来合并\n",
    "\n",
    "   b：合并后数组维度至少是 b\n",
    "\n",
    "   c：在第 c 维上做维度提升\n"
   ]
  },
  {
   "cell_type": "code",
   "execution_count": 36,
   "metadata": {},
   "outputs": [
    {
     "name": "stdout",
     "output_type": "stream",
     "text": [
      "[-2 -1  0  1  0  0  0  5  6]\n"
     ]
    }
   ],
   "source": [
    "print( np.r_[-2:2:1, [0]*3, 5, 6] )"
   ]
  },
  {
   "cell_type": "code",
   "execution_count": 37,
   "metadata": {},
   "outputs": [
    {
     "data": {
      "text/plain": [
       "matrix([[1, 2, 3, 4, 5, 6]])"
      ]
     },
     "execution_count": 37,
     "metadata": {},
     "output_type": "execute_result"
    }
   ],
   "source": [
    "np.r_['r', [1,2,3], [4,5,6]]"
   ]
  },
  {
   "cell_type": "code",
   "execution_count": 38,
   "metadata": {},
   "outputs": [
    {
     "name": "stdout",
     "output_type": "stream",
     "text": [
      "[[1]\n",
      " [2]\n",
      " [3]\n",
      " [4]\n",
      " [5]\n",
      " [6]]\n",
      "[[1 2 3]\n",
      " [4 5 6]]\n",
      "[[1 4]\n",
      " [2 5]\n",
      " [3 6]]\n",
      "[[1 2 3 4 5 6]]\n"
     ]
    }
   ],
   "source": [
    "print( np.r_['0,2,0', [1,2,3], [4,5,6]] )\n",
    "print( np.r_['0,2,1', [1,2,3], [4,5,6]] )\n",
    "print( np.r_['1,2,0', [1,2,3], [4,5,6]] )\n",
    "print( np.r_['1,2,1', [1,2,3], [4,5,6]] )"
   ]
  },
  {
   "cell_type": "markdown",
   "metadata": {},
   "source": [
    "### 分裂"
   ]
  },
  {
   "cell_type": "markdown",
   "metadata": {},
   "source": [
    "分裂数组有两种方式:\n",
    "1. 通用的split\n",
    "2. 专门的hsplit,vsplit"
   ]
  },
  {
   "cell_type": "code",
   "execution_count": 40,
   "metadata": {},
   "outputs": [
    {
     "name": "stdout",
     "output_type": "stream",
     "text": [
      "[[ 0  1  2  3  4]\n",
      " [ 5  6  7  8  9]\n",
      " [10 11 12 13 14]\n",
      " [15 16 17 18 19]\n",
      " [20 21 22 23 24]]\n"
     ]
    }
   ],
   "source": [
    "arr=np.arange(25).reshape((5,5))\n",
    "print(arr)"
   ]
  },
  {
   "cell_type": "markdown",
   "metadata": {},
   "source": [
    "在 split() 函数里通过设定轴，来对数组沿着竖直方向分裂 (轴 0) 和沿着水平方向分裂 (轴 1)。 \n",
    "split() 默认沿着轴 0 分裂，其第二个参数 [1, 3] 相当于是个切片操作，将数组分成三部分：\n",
    "\n",
    "- :1 (即第 1 行)\n",
    "\n",
    "- 1:3 (即第 2 到 3 行)\n",
    "\n",
    "- 3:  (即第 4 到 5 行)"
   ]
  },
  {
   "cell_type": "code",
   "execution_count": 42,
   "metadata": {},
   "outputs": [
    {
     "name": "stdout",
     "output_type": "stream",
     "text": [
      "The first split is [[0 1 2 3 4]]\n",
      "The second split is [[ 5  6  7  8  9]\n",
      " [10 11 12 13 14]]\n",
      "The third split is [[15 16 17 18 19]\n",
      " [20 21 22 23 24]]\n"
     ]
    }
   ],
   "source": [
    "first, second, third = np.split(arr,[1,3])\n",
    "print( 'The first split is', first )\n",
    "print( 'The second split is', second )\n",
    "print( 'The third split is', third )"
   ]
  },
  {
   "cell_type": "markdown",
   "metadata": {},
   "source": [
    "vsplit() 和 split(axis=0) 等价，hsplit() 和 split(axis=1) 等价。"
   ]
  },
  {
   "cell_type": "code",
   "execution_count": 43,
   "metadata": {},
   "outputs": [
    {
     "name": "stdout",
     "output_type": "stream",
     "text": [
      "The first split is [[ 0]\n",
      " [ 5]\n",
      " [10]\n",
      " [15]\n",
      " [20]]\n",
      "The second split is [[ 1  2]\n",
      " [ 6  7]\n",
      " [11 12]\n",
      " [16 17]\n",
      " [21 22]]\n",
      "The third split is [[ 3  4]\n",
      " [ 8  9]\n",
      " [13 14]\n",
      " [18 19]\n",
      " [23 24]]\n"
     ]
    }
   ],
   "source": [
    "first, second, third = np.hsplit(arr,[1,3])\n",
    "print( 'The first split is', first )\n",
    "print( 'The second split is', second )\n",
    "print( 'The third split is', third )"
   ]
  },
  {
   "cell_type": "markdown",
   "metadata": {},
   "source": [
    "## 重复和拼接"
   ]
  },
  {
   "cell_type": "markdown",
   "metadata": {},
   "source": [
    "重复 (repeat) 和拼接 (tile) 这两个操作本质都是复制\n",
    "\n",
    "\n",
    "\n",
    "- 重复是在元素层面复制\n",
    "\n",
    "- 拼接是在数组层面复制"
   ]
  },
  {
   "cell_type": "markdown",
   "metadata": {},
   "source": [
    "### 重复"
   ]
  },
  {
   "cell_type": "markdown",
   "metadata": {},
   "source": [
    "\n",
    "函数 repeat() 复制的是数组的每一个元素，参数有几种设定方法：\n",
    "\n",
    "\n",
    "\n",
    "- 一维数组：用标量和列表来复制元素的个数\n",
    "\n",
    "- 多维数组：用标量和列表来复制元素的个数，用轴来控制复制的行和列"
   ]
  },
  {
   "cell_type": "code",
   "execution_count": 45,
   "metadata": {},
   "outputs": [
    {
     "name": "stdout",
     "output_type": "stream",
     "text": [
      "[0 1 2]\n",
      "[0 0 0 1 1 1 2 2 2]\n"
     ]
    }
   ],
   "source": [
    "arr=np.arange(3)\n",
    "print(arr)\n",
    "print(arr.repeat(3))"
   ]
  },
  {
   "cell_type": "code",
   "execution_count": 46,
   "metadata": {},
   "outputs": [
    {
     "name": "stdout",
     "output_type": "stream",
     "text": [
      "[0 0 1 1 1 2 2 2 2]\n"
     ]
    }
   ],
   "source": [
    "print( arr.repeat([2,3,4]) )"
   ]
  },
  {
   "cell_type": "code",
   "execution_count": 47,
   "metadata": {},
   "outputs": [
    {
     "name": "stdout",
     "output_type": "stream",
     "text": [
      "[[0 1 2]\n",
      " [3 4 5]]\n",
      "[[0 1 2]\n",
      " [0 1 2]\n",
      " [3 4 5]\n",
      " [3 4 5]]\n"
     ]
    }
   ],
   "source": [
    "arr2d = np.arange(6).reshape((2,3))\n",
    "print( arr2d )\n",
    "print( arr2d.repeat(2, axis=0) )"
   ]
  },
  {
   "cell_type": "code",
   "execution_count": 48,
   "metadata": {},
   "outputs": [
    {
     "name": "stdout",
     "output_type": "stream",
     "text": [
      "[[0 0 1 1 1 2 2 2 2]\n",
      " [3 3 4 4 4 5 5 5 5]]\n"
     ]
    }
   ],
   "source": [
    "print( arr2d.repeat([2,3,4], axis=1) )"
   ]
  },
  {
   "cell_type": "code",
   "execution_count": null,
   "metadata": {},
   "outputs": [],
   "source": []
  },
  {
   "cell_type": "markdown",
   "metadata": {},
   "source": [
    "### 拼接"
   ]
  },
  {
   "cell_type": "markdown",
   "metadata": {},
   "source": [
    "\n",
    "函数 tile() 复制的是数组本身，参数有几种设定方法：\n",
    "\n",
    "\n",
    "\n",
    "- 标量：把数组当成一个元素，一列一列复制\n",
    "\n",
    "- 形状：把数组当成一个元素，按形状复制"
   ]
  },
  {
   "cell_type": "code",
   "execution_count": 50,
   "metadata": {},
   "outputs": [
    {
     "name": "stdout",
     "output_type": "stream",
     "text": [
      "[[0 1 2]\n",
      " [3 4 5]]\n",
      "[[0 1 2 0 1 2]\n",
      " [3 4 5 3 4 5]]\n"
     ]
    }
   ],
   "source": [
    "arr2d=np.arange(6).reshape((2,3))\n",
    "print(arr2d)\n",
    "print(np.tile(arr2d,2))"
   ]
  },
  {
   "cell_type": "code",
   "execution_count": 51,
   "metadata": {},
   "outputs": [
    {
     "name": "stdout",
     "output_type": "stream",
     "text": [
      "[[0 1 2 0 1 2 0 1 2]\n",
      " [3 4 5 3 4 5 3 4 5]\n",
      " [0 1 2 0 1 2 0 1 2]\n",
      " [3 4 5 3 4 5 3 4 5]]\n"
     ]
    }
   ],
   "source": [
    "print(np.tile(arr2d,(2,3)))"
   ]
  },
  {
   "cell_type": "markdown",
   "metadata": {},
   "source": [
    "## 其他操作"
   ]
  },
  {
   "cell_type": "markdown",
   "metadata": {},
   "source": [
    "### 排序"
   ]
  },
  {
   "cell_type": "markdown",
   "metadata": {},
   "source": [
    "排序包括直接排序 (direct sort) 和间接排序 (indirect sort)。"
   ]
  },
  {
   "cell_type": "markdown",
   "metadata": {},
   "source": [
    "#### 直接排序"
   ]
  },
  {
   "cell_type": "code",
   "execution_count": 53,
   "metadata": {},
   "outputs": [
    {
     "name": "stdout",
     "output_type": "stream",
     "text": [
      "Before sorting [5 3 2 6 1 4]\n",
      "After sorting [1 2 3 4 5 6]\n"
     ]
    }
   ],
   "source": [
    "arr=np.array([5,3,2,6,1,4])\n",
    "print('Before sorting',arr)\n",
    "arr.sort()\n",
    "print('After sorting',arr)"
   ]
  },
  {
   "cell_type": "code",
   "execution_count": 54,
   "metadata": {},
   "outputs": [
    {
     "name": "stdout",
     "output_type": "stream",
     "text": [
      "[6 5 4 3 2 1]\n"
     ]
    }
   ],
   "source": [
    "print(arr[::-1])"
   ]
  },
  {
   "cell_type": "markdown",
   "metadata": {},
   "source": [
    "*知识点*\n",
    "\n",
    "用来排序 numpy 用两种方式：\n",
    "\n",
    "- arr.sort()\n",
    "\n",
    "- np.sort( arr )\n",
    "\n",
    "\n",
    "第一种 sort 会改变 arr，第二种 sort 在排序时创建了 arr 的一个复制品，不会改变 arr。"
   ]
  },
  {
   "cell_type": "code",
   "execution_count": 56,
   "metadata": {},
   "outputs": [
    {
     "name": "stdout",
     "output_type": "stream",
     "text": [
      "[[ 0 29 11  6]\n",
      " [25 13 37 21]\n",
      " [23 21 10  9]]\n"
     ]
    }
   ],
   "source": [
    "arr = np.random.randint( 40, size=(3,4) )\n",
    "print( arr )"
   ]
  },
  {
   "cell_type": "code",
   "execution_count": 57,
   "metadata": {},
   "outputs": [
    {
     "name": "stdout",
     "output_type": "stream",
     "text": [
      "[[ 0 29 11  6]\n",
      " [23 13 37 21]\n",
      " [25 21 10  9]]\n"
     ]
    }
   ],
   "source": [
    "arr[:, 0].sort() \n",
    "print( arr )"
   ]
  },
  {
   "cell_type": "code",
   "execution_count": 58,
   "metadata": {},
   "outputs": [
    {
     "data": {
      "text/plain": [
       "array([13, 21, 29])"
      ]
     },
     "execution_count": 58,
     "metadata": {},
     "output_type": "execute_result"
    }
   ],
   "source": [
    "np.sort(arr[:,1])"
   ]
  },
  {
   "cell_type": "code",
   "execution_count": 59,
   "metadata": {},
   "outputs": [
    {
     "name": "stdout",
     "output_type": "stream",
     "text": [
      "[[ 0 29 11  6]\n",
      " [23 13 37 21]\n",
      " [25 21 10  9]]\n"
     ]
    }
   ],
   "source": [
    "print(arr)"
   ]
  },
  {
   "cell_type": "markdown",
   "metadata": {},
   "source": [
    "此外也可以在不同的轴上排序，对于二维数组，在「轴 0」上排序是「跨行」排序，在「轴 1」上排序是「跨列」排序。"
   ]
  },
  {
   "cell_type": "code",
   "execution_count": 60,
   "metadata": {},
   "outputs": [
    {
     "name": "stdout",
     "output_type": "stream",
     "text": [
      "[[ 0  6 11 29]\n",
      " [13 21 23 37]\n",
      " [ 9 10 21 25]]\n"
     ]
    }
   ],
   "source": [
    "arr.sort(axis=1)\n",
    "print( arr )"
   ]
  },
  {
   "cell_type": "markdown",
   "metadata": {},
   "source": [
    "#### 间接排序"
   ]
  },
  {
   "cell_type": "markdown",
   "metadata": {},
   "source": [
    "有时候我们不仅仅只想排序数组，还想在排序过程中提取每个元素在原数组对应的索引(index)，这时 argsort() 就派上用场了。以排列下面五个学生的数学分数为例："
   ]
  },
  {
   "cell_type": "code",
   "execution_count": 61,
   "metadata": {},
   "outputs": [
    {
     "name": "stdout",
     "output_type": "stream",
     "text": [
      "[1 3 4 2 0]\n"
     ]
    }
   ],
   "source": [
    "score = np.array([100, 60, 99, 80, 91])\n",
    "idx = score.argsort()\n",
    "print( idx )"
   ]
  },
  {
   "cell_type": "code",
   "execution_count": 64,
   "metadata": {},
   "outputs": [
    {
     "name": "stdout",
     "output_type": "stream",
     "text": [
      "[ 60  80  91  99 100]\n"
     ]
    }
   ],
   "source": [
    "# 花式索引\n",
    "print( score[idx] )"
   ]
  },
  {
   "cell_type": "code",
   "execution_count": 63,
   "metadata": {},
   "outputs": [
    {
     "name": "stdout",
     "output_type": "stream",
     "text": [
      "[[21 24  4 29]\n",
      " [20 38 21 31]\n",
      " [27  9  1  5]]\n"
     ]
    }
   ],
   "source": [
    "arr=np.random.randint(40,size=(3,4))\n",
    "print(arr)"
   ]
  },
  {
   "cell_type": "code",
   "execution_count": 67,
   "metadata": {},
   "outputs": [
    {
     "data": {
      "text/plain": [
       "array([[ 4, 21, 24, 29],\n",
       "       [21, 20, 38, 31],\n",
       "       [ 1, 27,  9,  5]])"
      ]
     },
     "execution_count": 67,
     "metadata": {},
     "output_type": "execute_result"
    }
   ],
   "source": [
    "# 对二维数组做花式索引,对其第一行 arr[0] 排序，获取索引，在应用到所用行上。\n",
    "arr[:, arr[0].argsort()]"
   ]
  },
  {
   "cell_type": "markdown",
   "metadata": {},
   "source": [
    "### 插入和删除"
   ]
  },
  {
   "cell_type": "markdown",
   "metadata": {},
   "source": [
    "\n",
    "和列表一样，我们可以给 numpy 数组\n",
    "\n",
    "\n",
    "\n",
    "- 用insert()函数在某个特定位置之前插入元素\n",
    "\n",
    "- 用delete()函数删除某些特定元素"
   ]
  },
  {
   "cell_type": "code",
   "execution_count": 73,
   "metadata": {},
   "outputs": [
    {
     "name": "stdout",
     "output_type": "stream",
     "text": [
      "[0 1 2 3 4 5]\n",
      "[  0 100   1   2   3   4   5]\n",
      "[0 2 4 5]\n"
     ]
    }
   ],
   "source": [
    "a=np.arange(6)\n",
    "print(a)\n",
    "print(np.insert(a,1,100))\n",
    "print(np.delete(a,[1,3]))"
   ]
  },
  {
   "cell_type": "markdown",
   "metadata": {},
   "source": [
    "### 复制"
   ]
  },
  {
   "cell_type": "code",
   "execution_count": 74,
   "metadata": {},
   "outputs": [
    {
     "name": "stdout",
     "output_type": "stream",
     "text": [
      "Before changing value, a is [0 1 2 3 4 5]\n",
      "Before changing value, a_copy is [0 1 2 3 4 5]\n",
      "After changing value, a_copy is [ 0  1  2  3  4 99]\n",
      "After changing value, a is [0 1 2 3 4 5]\n"
     ]
    }
   ],
   "source": [
    "a = np.arange(6)\n",
    "a_copy = a.copy()\n",
    "print( 'Before changing value, a is', a )\n",
    "print( 'Before changing value, a_copy is', a_copy )\n",
    "a_copy[-1] = 99\n",
    "print( 'After changing value, a_copy is', a_copy )\n",
    "print( 'After changing value, a is', a )"
   ]
  },
  {
   "cell_type": "markdown",
   "metadata": {},
   "source": [
    "# 数组的计算"
   ]
  },
  {
   "cell_type": "markdown",
   "metadata": {},
   "source": [
    "数组的计算共有四大类:\n",
    "\n",
    "    1.元素层面(element-wise)计算`\n",
    "    2.线性代数(linsar algebra)计算\n",
    "    3.元素整合(element aggregation)计算\n",
    "    4.广播机制(broadcasting)计算"
   ]
  },
  {
   "cell_type": "markdown",
   "metadata": {},
   "source": [
    "## 元素层面计算"
   ]
  },
  {
   "cell_type": "markdown",
   "metadata": {},
   "source": [
    "Numpy 数组元素层面计算包括：\n",
    "\n",
    "\n",
    "\n",
    "二元运算 (binary operation)：加减乘除\n",
    "\n",
    "数学函数：倒数、平方、指数、对数\n",
    "\n",
    "比较运算 (comparison)"
   ]
  },
  {
   "cell_type": "code",
   "execution_count": 76,
   "metadata": {},
   "outputs": [
    {
     "name": "stdout",
     "output_type": "stream",
     "text": [
      "[[1. 2. 3.]\n",
      " [4. 5. 6.]]\n",
      "[[2. 2. 2.]\n",
      " [2. 2. 2.]]\n"
     ]
    }
   ],
   "source": [
    "arr1 = np.array([[1., 2., 3.], [4., 5., 6.]])\n",
    "arr2 = np.ones((2,3)) * 2\n",
    "print( arr1 )\n",
    "print( arr2 )"
   ]
  },
  {
   "cell_type": "code",
   "execution_count": 81,
   "metadata": {},
   "outputs": [
    {
     "name": "stdout",
     "output_type": "stream",
     "text": [
      "[[4. 5. 6.]\n",
      " [7. 8. 9.]]\n",
      "[[-1.  0.  1.]\n",
      " [ 2.  3.  4.]]\n",
      "[[ 2.  4.  6.]\n",
      " [ 8. 10. 12.]]\n",
      "[[0.5 1.  1.5]\n",
      " [2.  2.5 3. ]]\n",
      "[[1.         0.5        0.33333333]\n",
      " [0.25       0.2        0.16666667]]\n",
      "[[ 1.  4.  9.]\n",
      " [16. 25. 36.]]\n",
      "[[  2.71828183   7.3890561   20.08553692]\n",
      " [ 54.59815003 148.4131591  403.42879349]]\n",
      "[[0.         0.69314718 1.09861229]\n",
      " [1.38629436 1.60943791 1.79175947]]\n",
      "[[False False  True]\n",
      " [ True  True  True]]\n",
      "[[False False False]\n",
      " [ True  True  True]]\n"
     ]
    }
   ],
   "source": [
    "print( arr1 + arr2 + 1 )\n",
    "print( arr1 - arr2 )\n",
    "print( arr1 * arr2 )\n",
    "print( arr1 / arr2 )\n",
    "\n",
    "\n",
    "print( 1 / arr1 )\n",
    "print( arr1 ** 2 )\n",
    "print( np.exp(arr1) ) #指数\n",
    "print( np.log(arr1) ) #对数\n",
    "\n",
    "\n",
    "print(arr1 > arr2)\n",
    "print(arr1 > 3)"
   ]
  },
  {
   "cell_type": "markdown",
   "metadata": {},
   "source": [
    "## 线性代数层面计算"
   ]
  },
  {
   "cell_type": "markdown",
   "metadata": {},
   "source": [
    "在机器学习、金融工程和量化投资的编程过程中，因为运行速度的要求，通常会向量化 (vectorization) 而涉及大量的线性代数运算，尤其是矩阵之间的乘积运算。\n",
    "\n",
    "\n",
    "\n",
    "但是，在 NumPy 默认不采用矩阵运算，而是数组 (ndarray) 运算。矩阵只是二维，而数组可以是任何维度，因此数组运算更通用些。\n",
    "\n",
    "\n",
    "\n",
    "如果你非要二维数组 arr2d 进项矩阵运算，那么可以通过调用以下函数来实现：\n",
    "\n",
    "\n",
    "\n",
    "A = np.mat(arr2d)\n",
    "\n",
    "A = np.asmatrix(arr2d)"
   ]
  },
  {
   "cell_type": "code",
   "execution_count": 82,
   "metadata": {},
   "outputs": [
    {
     "data": {
      "text/plain": [
       "array([[1, 2],\n",
       "       [3, 1]])"
      ]
     },
     "execution_count": 82,
     "metadata": {},
     "output_type": "execute_result"
    }
   ],
   "source": [
    "arr2d = np.array([[1,2],[3,1]])\n",
    "arr2d"
   ]
  },
  {
   "cell_type": "code",
   "execution_count": 83,
   "metadata": {},
   "outputs": [
    {
     "data": {
      "text/plain": [
       "matrix([[1, 2],\n",
       "        [3, 1]])"
      ]
     },
     "execution_count": 83,
     "metadata": {},
     "output_type": "execute_result"
    }
   ],
   "source": [
    "A = np.asmatrix(arr2d)\n",
    "A"
   ]
  },
  {
   "cell_type": "code",
   "execution_count": 85,
   "metadata": {},
   "outputs": [
    {
     "name": "stdout",
     "output_type": "stream",
     "text": [
      "[[1 3]\n",
      " [2 1]]\n",
      "[[1 3]\n",
      " [2 1]]\n",
      "[[1 3]\n",
      " [2 1]]\n"
     ]
    }
   ],
   "source": [
    "# 转置\n",
    "print( arr2d.T )\n",
    "print( arr2d.transpose() )\n",
    "print( A.T )"
   ]
  },
  {
   "cell_type": "code",
   "execution_count": 86,
   "metadata": {},
   "outputs": [
    {
     "name": "stdout",
     "output_type": "stream",
     "text": [
      "[[-0.2  0.4]\n",
      " [ 0.6 -0.2]]\n",
      "[[-0.2  0.4]\n",
      " [ 0.6 -0.2]]\n",
      "[[-0.2  0.4]\n",
      " [ 0.6 -0.2]]\n"
     ]
    }
   ],
   "source": [
    "# 求逆\n",
    "print( np.linalg.inv(arr2d) )\n",
    "print( A.I )\n",
    "print( A**-1 )"
   ]
  },
  {
   "cell_type": "code",
   "execution_count": 89,
   "metadata": {},
   "outputs": [
    {
     "name": "stdout",
     "output_type": "stream",
     "text": [
      "(2,) (2, 1)\n",
      "[[1 4]\n",
      " [3 2]]\n",
      "[[5]\n",
      " [5]]\n",
      "[[1 4]\n",
      " [9 1]]\n",
      "[[7 4]\n",
      " [6 7]]\n",
      "[5 5]\n",
      "[[7 4]\n",
      " [6 7]]\n"
     ]
    }
   ],
   "source": [
    "# 相乘\n",
    "arr = np.array([1,2])\n",
    "b = np.asmatrix(arr).T\n",
    "print( arr.shape, b.shape )\n",
    "\n",
    "\n",
    "print( arr2d*arr )\n",
    "print( A*b )\n",
    "\n",
    "\n",
    "print( arr2d*arr2d )\n",
    "print( A*A )\n",
    "\n",
    "#在数组上实现「矩阵相乘向量」和「矩阵相乘矩阵]\n",
    "print( np.dot(arr2d,arr) )\n",
    "print( np.dot(arr2d,arr2d) )"
   ]
  },
  {
   "cell_type": "markdown",
   "metadata": {},
   "source": [
    "## 元素整合计算"
   ]
  },
  {
   "cell_type": "markdown",
   "metadata": {},
   "source": [
    "在数组中，元素可以以不同方式整合 (aggregation)。拿求和 (sum) 函数来说，我们可以对数组\n",
    "\n",
    "\n",
    "\n",
    "所有的元素求和\n",
    "\n",
    "在某个轴 (axis) 上的元素求和"
   ]
  },
  {
   "cell_type": "code",
   "execution_count": 91,
   "metadata": {},
   "outputs": [
    {
     "data": {
      "text/plain": [
       "array([[1, 2, 3],\n",
       "       [4, 5, 6]])"
      ]
     },
     "execution_count": 91,
     "metadata": {},
     "output_type": "execute_result"
    }
   ],
   "source": [
    "arr = np.arange(1,7).reshape((2,3))\n",
    "arr"
   ]
  },
  {
   "cell_type": "code",
   "execution_count": 92,
   "metadata": {},
   "outputs": [
    {
     "name": "stdout",
     "output_type": "stream",
     "text": [
      "The total sum is 21\n",
      "The sum across rows is [5 7 9]\n",
      "The sum across columns is [ 6 15]\n"
     ]
    }
   ],
   "source": [
    "print( 'The total sum is', arr.sum() )\n",
    "print( 'The sum across rows is', arr.sum(axis=0) )\n",
    "print( 'The sum across columns is', arr.sum(axis=1) )"
   ]
  },
  {
   "cell_type": "markdown",
   "metadata": {},
   "source": [
    "行和列这些概念对矩阵 (二维矩阵) 才适用，高维矩阵还是要用轴 (axis) 来区分每个维度。让我们抛弃「行列」这些特殊概念，拥抱「轴」这个通用概念来重看数组 (一到四维) 把。"
   ]
  },
  {
   "cell_type": "markdown",
   "metadata": {},
   "source": [
    "规律：n 维数组就有 n 层方括号。最外层方括号代表「轴 0」即 axis=0，依次往里方括号对应的 axis 的计数加 1。\n",
    "\n",
    "\n",
    "\n",
    "严格来说，numpy 打印出来的数组可以想象带有多层方括号的一行数字。比如二维矩阵可想象成\n",
    "\n",
    "\n",
    "\n",
    "    [[1, 2, 3],[4, 5, 6]]\n",
    "\n",
    "\n",
    "\n",
    "三维矩阵可想象成\n",
    "\n",
    "\n",
    "\n",
    "    [[[1,2,3], [4,5,6]], [[7,8,9], [10,11,12]]]\n",
    "\n",
    "\n",
    "\n",
    "由于屏幕的宽度不够，我们才把它们写成一列列的，如下\n",
    "\n",
    "\n",
    "\n",
    "    [ [ [1, 2, 3]\n",
    "\n",
    "         [4, 5, 6] ] \n",
    "\n",
    "      [ [7, 8, 9] \n",
    "\n",
    "         [10, 11, 12] ] ]\n",
    "\n",
    "\n",
    "\n",
    "但在你脑海里，应该把它们想成一整行。这样会便于你理解如何按不同轴做整合运算。"
   ]
  },
  {
   "cell_type": "code",
   "execution_count": 93,
   "metadata": {
    "scrolled": true
   },
   "outputs": [
    {
     "name": "stdout",
     "output_type": "stream",
     "text": [
      "[[[[ 1  2  3]\n",
      "   [ 4  5  6]]\n",
      "\n",
      "  [[ 7  8  9]\n",
      "   [10 11 12]]]\n",
      "\n",
      "\n",
      " [[[13 14 15]\n",
      "   [16 17 18]]\n",
      "\n",
      "  [[19 20 21]\n",
      "   [22 23 24]]]]\n"
     ]
    }
   ],
   "source": [
    "arr = np.arange(1,25).reshape((2,2,2,3))\n",
    "print(arr)"
   ]
  },
  {
   "cell_type": "code",
   "execution_count": 94,
   "metadata": {},
   "outputs": [
    {
     "name": "stdout",
     "output_type": "stream",
     "text": [
      "The total sum is 300\n",
      "The sum on axis0 is [[[14 16 18]\n",
      "  [20 22 24]]\n",
      "\n",
      " [[26 28 30]\n",
      "  [32 34 36]]]\n",
      "The sum on axis1 is [[[ 8 10 12]\n",
      "  [14 16 18]]\n",
      "\n",
      " [[32 34 36]\n",
      "  [38 40 42]]]\n",
      "The sum on axis2 is [[[ 5  7  9]\n",
      "  [17 19 21]]\n",
      "\n",
      " [[29 31 33]\n",
      "  [41 43 45]]]\n",
      "The sum on axis3 is [[[ 6 15]\n",
      "  [24 33]]\n",
      "\n",
      " [[42 51]\n",
      "  [60 69]]]\n"
     ]
    }
   ],
   "source": [
    "print( 'The total sum is', arr.sum() )\n",
    "print( 'The sum on axis0 is', arr.sum(axis=0) )\n",
    "print( 'The sum on axis1 is', arr.sum(axis=1) )\n",
    "print( 'The sum on axis2 is', arr.sum(axis=2) )\n",
    "print( 'The sum on axis3 is', arr.sum(axis=3) )"
   ]
  },
  {
   "cell_type": "markdown",
   "metadata": {},
   "source": [
    "## 广播机制计算"
   ]
  },
  {
   "cell_type": "markdown",
   "metadata": {},
   "source": [
    "当对两个形状不同的数组按元素操作时，可能会触发「广播机制」。具体做法，先适当复制元素使得这两个数组形状相同后再按元素操作，两个步骤：\n",
    "\n",
    "\n",
    "\n",
    "广播轴 (broadcast axis)：比对两个数组的维度，将形状小的数组的维度 (轴) 补齐\n",
    "\n",
    "复制元素：顺着补齐的轴，将形状小的数组里的元素复制，使得最终形状和另一个数组吻合"
   ]
  },
  {
   "cell_type": "code",
   "execution_count": 95,
   "metadata": {},
   "outputs": [
    {
     "name": "stdout",
     "output_type": "stream",
     "text": [
      "[0 1 2 3 4]\n",
      "[2 3 4 5 6]\n",
      "[[ 0  1  2]\n",
      " [ 3  4  5]\n",
      " [ 6  7  8]\n",
      " [ 9 10 11]]\n",
      "[4.5 5.5 6.5]\n",
      "[[-4.5 -4.5 -4.5]\n",
      " [-1.5 -1.5 -1.5]\n",
      " [ 1.5  1.5  1.5]\n",
      " [ 4.5  4.5  4.5]]\n"
     ]
    }
   ],
   "source": [
    "# 元素 2 被广播到数组 arr 的所有元素上\n",
    "arr = np.arange(5)\n",
    "print( arr )\n",
    "print( arr + 2 )\n",
    "\n",
    "# 沿轴 0 的均值的一维数组被广播到数组 arr 的所有的行上\n",
    "arr = np.arange(12).reshape((4,3))\n",
    "print( arr )\n",
    "print( arr.mean(axis=0) )\n",
    "print( arr - arr.mean(axis=0) )"
   ]
  },
  {
   "cell_type": "markdown",
   "metadata": {},
   "source": [
    "*知识点*\n",
    "\n",
    "当我们对两个数组操作时，如果它们的形状\n",
    "\n",
    "\n",
    "\n",
    "- 不相容 (incompatible)，广播机制不能进行\n",
    "\n",
    "- 相容 (compatible)，广播机制可以进行\n",
    "\n",
    "\n",
    "\n",
    "因此，进行广播机制分两步\n",
    "\n",
    "\n",
    "\n",
    "检查两个数组形状是否兼容，即从两个形状元组最后一个元素，来检查\n",
    "\n",
    "\n",
    "\n",
    " a. 它们是否相等\n",
    "\n",
    " b. 是否有一个等于 1\n",
    "\n",
    "\n",
    "\n",
    "一旦它们形状兼容，确定两个数组的最终形状。"
   ]
  },
  {
   "cell_type": "code",
   "execution_count": 96,
   "metadata": {},
   "outputs": [
    {
     "name": "stdout",
     "output_type": "stream",
     "text": [
      "The shape of a is (1, 3)\n",
      "The shape of b is (3, 1)\n"
     ]
    }
   ],
   "source": [
    "a = np.array([[1,2,3]])\n",
    "b = np.array([[4],[5],[6]])\n",
    "print( 'The shape of a is', a.shape )\n",
    "print( 'The shape of b is', b.shape )"
   ]
  },
  {
   "cell_type": "markdown",
   "metadata": {},
   "source": [
    "回顾进行广播机制的两步\n",
    "\n",
    "\n",
    "\n",
    "检查数组 a 和 b 形状是否兼容，从两个形状元组 (1, 3) 和 (3, 1)最后一个元素开始检查，发现它们都满足『有一个等于 1』的条件。\n",
    "\n",
    "\n",
    "\n",
    "因此它们形状兼容，两个数组的最终形状为 (max(1,3), max(3,1)) = (3, 3)\n",
    "\n",
    "\n",
    "\n",
    "到此，a 和 b 被扩展成 (3, 3) 的数组."
   ]
  },
  {
   "cell_type": "code",
   "execution_count": 97,
   "metadata": {},
   "outputs": [
    {
     "name": "stdout",
     "output_type": "stream",
     "text": [
      "The shape of c is (3, 3)\n",
      "a is [[1 2 3]]\n",
      "b is [[4]\n",
      " [5]\n",
      " [6]]\n",
      "c = a + b = [[5 6 7]\n",
      " [6 7 8]\n",
      " [7 8 9]]\n"
     ]
    }
   ],
   "source": [
    "c = a + b\n",
    "print( 'The shape of c is', c.shape )\n",
    "print( 'a is', a )\n",
    "print( 'b is', b )\n",
    "print( 'c = a + b =', c )"
   ]
  },
  {
   "cell_type": "code",
   "execution_count": 98,
   "metadata": {},
   "outputs": [
    {
     "name": "stdout",
     "output_type": "stream",
     "text": [
      "The dimension of a is 3 and the shape of a is (1, 2, 3)\n",
      "The dimension of b1 is 2 and the shape of b1 is (3, 3) \n",
      "\n",
      "The dimension of a is 3 and the shape of a is (1, 2, 3)\n",
      "The dimension of b2 is 2 and the shape of b2 is (1, 3) \n",
      "\n",
      "The dimension of a is 3 and the shape of a is (1, 2, 3)\n",
      "The dimension of b3 is 2 and the shape of b3 is (2, 3) \n",
      "\n",
      "The dimension of a is 3 and the shape of a is (1, 2, 3)\n",
      "The dimension of b4 is 2 and the shape of b4 is (2, 2, 3) \n",
      "\n",
      "The dimension of a is 3 and the shape of a is (1, 2, 3)\n",
      "The dimension of b5 is 2 and the shape of b5 is (2, 1, 3)\n"
     ]
    }
   ],
   "source": [
    "\n",
    "a = np.array( [[[1,2,3], [4,5,6]]] )\n",
    "b1 = np.array( [[1,1,1], [2,2,2], [3,3,3]] )\n",
    "b2 = np.arange(3).reshape((1,3))\n",
    "b3 = np.arange(6).reshape((2,3))\n",
    "b4 = np.arange(12).reshape((2,2,3))\n",
    "b5 = np.arange(6).reshape((2,1,3))\n",
    "print( 'The dimension of a is', a.ndim, 'and the shape of a is', a.shape )\n",
    "print( 'The dimension of b1 is', b.ndim, 'and the shape of b1 is', b1.shape, '\\n')\n",
    "print( 'The dimension of a is', a.ndim, 'and the shape of a is', a.shape )\n",
    "print( 'The dimension of b2 is', b.ndim, 'and the shape of b2 is', b2.shape, '\\n' )\n",
    "print( 'The dimension of a is', a.ndim, 'and the shape of a is', a.shape )\n",
    "print( 'The dimension of b3 is', b.ndim, 'and the shape of b3 is', b3.shape, '\\n' )\n",
    "print( 'The dimension of a is', a.ndim, 'and the shape of a is', a.shape )\n",
    "print( 'The dimension of b4 is', b.ndim, 'and the shape of b4 is', b4.shape, '\\n' )\n",
    "print( 'The dimension of a is', a.ndim, 'and the shape of a is', a.shape )\n",
    "print( 'The dimension of b5 is', b.ndim, 'and the shape of b5 is', b5.shape )"
   ]
  },
  {
   "cell_type": "markdown",
   "metadata": {},
   "source": [
    "对于数组 a 和 b1，它们形状是 (1, 2, 3) 和 (3, 3)。元组最后一个都是 3，兼容；倒数第二个是 3 和 2，即不相等，也没有一个是 1，不兼容！a 和 b1 不能进行广播机制。\n",
    "a 和其他 b2, b3, b4, b5 都可以进行广播机制.\n"
   ]
  }
 ],
 "metadata": {
  "kernelspec": {
   "display_name": "Python 3",
   "language": "python",
   "name": "python3"
  },
  "language_info": {
   "codemirror_mode": {
    "name": "ipython",
    "version": 3
   },
   "file_extension": ".py",
   "mimetype": "text/x-python",
   "name": "python",
   "nbconvert_exporter": "python",
   "pygments_lexer": "ipython3",
   "version": "3.6.8"
  }
 },
 "nbformat": 4,
 "nbformat_minor": 2
}