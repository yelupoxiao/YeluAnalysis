{
 "cells": [
  {
   "cell_type": "markdown",
   "metadata": {},
   "source": [
    "如果你有志于从事数据分析相关工作.本篇将会是\"重头戏\",而且数据分析能力是以后职场竞争的必备能力,所以学习掌握Pandas工具包将会令你如虎添翼.\n",
    "\n",
    "Pandas是专门为解决数据分析而创建的,详情看官网 (https://pandas.pydata.org/) 。"
   ]
  },
  {
   "cell_type": "markdown",
   "metadata": {},
   "source": [
    "Pandas 里面的数据结构是「多维数据表」，学习它可以类比这 NumPy 里的「多维数组」。1/2/3 维的「多维数据表」分别叫做 Series (系列), DataFrame (数据帧) 和 Panel (面板)，和1/2/3 维的「多维数组」的类比关系如下："
   ]
  },
  {
   "cell_type": "markdown",
   "metadata": {},
   "source": [
    "![1](./img/Numpy与Pandas数据结构对比图.png)"
   ]
  },
  {
   "cell_type": "markdown",
   "metadata": {},
   "source": [
    "对比 NumPy (np) 和 Pandas (pd) 每个维度下的数据结构，不难看出\n",
    "\n",
    "\n",
    "\n",
    "    pd 多维数据表 = np 多维数组 + 描述\n",
    "\n",
    "\n",
    "\n",
    "其中\n",
    "\n",
    "\n",
    "\n",
    "- Series = 1darray + index\n",
    "\n",
    "- DataFrame = 2darray + index + columns\n",
    "\n",
    "- Panel = 3darray + index + columns + item\n",
    "\n",
    "\n",
    "\n",
    "每个维度上的「索引」使得「多维数据表」比「多维数组」涵盖更多的信息。"
   ]
  },
  {
   "cell_type": "code",
   "execution_count": 6,
   "metadata": {},
   "outputs": [],
   "source": [
    "import numpy as np\n",
    "import pandas as pd"
   ]
  },
  {
   "cell_type": "markdown",
   "metadata": {},
   "source": [
    "# 创建"
   ]
  },
  {
   "cell_type": "markdown",
   "metadata": {},
   "source": [
    "数据表三种类型Series,DataFrame,Panel.其中Series是Pandas最基本的数据结构,相当于list和1Darray,且每一种数据类型相当于是前者的容器,即DataFrame 可理解成是 Series 的容器，每一列都是一个 Series，或者 Series 是只有一列的 DataFrame;Panel 可理解成是 DataFrame 的容器"
   ]
  },
  {
   "cell_type": "markdown",
   "metadata": {},
   "source": [
    "## 按部就班法"
   ]
  },
  {
   "cell_type": "markdown",
   "metadata": {},
   "source": [
    "### 一维Series"
   ]
  },
  {
   "cell_type": "markdown",
   "metadata": {},
   "source": [
    "#### 列表作为值"
   ]
  },
  {
   "cell_type": "code",
   "execution_count": 7,
   "metadata": {},
   "outputs": [
    {
     "data": {
      "text/plain": [
       "0    27.20\n",
       "1    27.65\n",
       "2    27.70\n",
       "3    28.00\n",
       "dtype: float64"
      ]
     },
     "execution_count": 7,
     "metadata": {},
     "output_type": "execute_result"
    }
   ],
   "source": [
    "s = pd.Series([27.2, 27.65, 27.70, 28])\n",
    "s"
   ]
  },
  {
   "cell_type": "code",
   "execution_count": 8,
   "metadata": {},
   "outputs": [
    {
     "data": {
      "text/plain": [
       "array([ 27.2 ,  27.65,  27.7 ,  28.  ])"
      ]
     },
     "execution_count": 8,
     "metadata": {},
     "output_type": "execute_result"
    }
   ],
   "source": [
    "# 打印s的值\n",
    "s.values"
   ]
  },
  {
   "cell_type": "code",
   "execution_count": 9,
   "metadata": {},
   "outputs": [
    {
     "data": {
      "text/plain": [
       "RangeIndex(start=0, stop=4, step=1)"
      ]
     },
     "execution_count": 9,
     "metadata": {},
     "output_type": "execute_result"
    }
   ],
   "source": [
    "# 打印s的索引\n",
    "s.index"
   ]
  },
  {
   "cell_type": "code",
   "execution_count": 10,
   "metadata": {},
   "outputs": [
    {
     "data": {
      "text/plain": [
       "2019-04-01    27.20\n",
       "2019-04-02    27.65\n",
       "2019-04-03    27.70\n",
       "2019-04-04    28.00\n",
       "Freq: D, dtype: float64"
      ]
     },
     "execution_count": 10,
     "metadata": {},
     "output_type": "execute_result"
    }
   ],
   "source": [
    "dates = pd.date_range('20190401', periods=4)  # 利用pandas的date_range方法生成日期作为索引\n",
    "s2 = pd.Series([27.2, 27.65, 27.70, 28], index=dates)\n",
    "s2"
   ]
  },
  {
   "cell_type": "code",
   "execution_count": 11,
   "metadata": {},
   "outputs": [
    {
     "data": {
      "text/plain": [
       "DatetimeIndex(['2019-04-01', '2019-04-02', '2019-04-03', '2019-04-04'], dtype='datetime64[ns]', freq='D')"
      ]
     },
     "execution_count": 11,
     "metadata": {},
     "output_type": "execute_result"
    }
   ],
   "source": [
    "s2.index"
   ]
  },
  {
   "cell_type": "code",
   "execution_count": 12,
   "metadata": {},
   "outputs": [
    {
     "data": {
      "text/plain": [
       "2019-04-01    27.20\n",
       "2019-04-02    27.65\n",
       "2019-04-03    27.70\n",
       "2019-04-04    28.00\n",
       "Freq: D, Name: 京东股价, dtype: float64"
      ]
     },
     "execution_count": 12,
     "metadata": {},
     "output_type": "execute_result"
    }
   ],
   "source": [
    "# 给s2命名\n",
    "s2.name = '京东股价'\n",
    "s2"
   ]
  },
  {
   "cell_type": "markdown",
   "metadata": {},
   "source": [
    "#### numpy数组作为值"
   ]
  },
  {
   "cell_type": "code",
   "execution_count": 13,
   "metadata": {
    "scrolled": true
   },
   "outputs": [
    {
     "data": {
      "text/plain": [
       "0    27.20\n",
       "1    27.65\n",
       "2    27.70\n",
       "3    28.00\n",
       "4    28.00\n",
       "5      NaN\n",
       "dtype: float64"
      ]
     },
     "execution_count": 13,
     "metadata": {},
     "output_type": "execute_result"
    }
   ],
   "source": [
    "s = pd.Series(np.array([27.2, 27.65, 27.70, 28, 28, np.nan]))  # 这里加入了一个缺失值\n",
    "s"
   ]
  },
  {
   "cell_type": "code",
   "execution_count": 14,
   "metadata": {},
   "outputs": [
    {
     "data": {
      "text/plain": [
       "6"
      ]
     },
     "execution_count": 14,
     "metadata": {},
     "output_type": "execute_result"
    }
   ],
   "source": [
    "# s里的元素个数\n",
    "len(s)"
   ]
  },
  {
   "cell_type": "code",
   "execution_count": 15,
   "metadata": {},
   "outputs": [
    {
     "data": {
      "text/plain": [
       "(6,)"
      ]
     },
     "execution_count": 15,
     "metadata": {},
     "output_type": "execute_result"
    }
   ],
   "source": [
    "# s的形状(用元组表示)\n",
    "s.shape"
   ]
  },
  {
   "cell_type": "code",
   "execution_count": 16,
   "metadata": {},
   "outputs": [
    {
     "data": {
      "text/plain": [
       "5"
      ]
     },
     "execution_count": 16,
     "metadata": {},
     "output_type": "execute_result"
    }
   ],
   "source": [
    "# s里不含空值的元素个数\n",
    "s.count()"
   ]
  },
  {
   "cell_type": "code",
   "execution_count": 17,
   "metadata": {},
   "outputs": [
    {
     "data": {
      "text/plain": [
       "array([ 27.2 ,  27.65,  27.7 ,  28.  ,    nan])"
      ]
     },
     "execution_count": 17,
     "metadata": {},
     "output_type": "execute_result"
    }
   ],
   "source": [
    "# 返回不重复的元素\n",
    "s.unique()"
   ]
  },
  {
   "cell_type": "code",
   "execution_count": 18,
   "metadata": {},
   "outputs": [
    {
     "data": {
      "text/plain": [
       "28.00    2\n",
       "27.70    1\n",
       "27.65    1\n",
       "27.20    1\n",
       "dtype: int64"
      ]
     },
     "execution_count": 18,
     "metadata": {},
     "output_type": "execute_result"
    }
   ],
   "source": [
    "# 统计非空元组出现的次数\n",
    "s.value_counts()"
   ]
  },
  {
   "cell_type": "markdown",
   "metadata": {},
   "source": [
    "#### 字典作为值"
   ]
  },
  {
   "cell_type": "code",
   "execution_count": 19,
   "metadata": {},
   "outputs": [
    {
     "data": {
      "text/plain": [
       "股票代号\n",
       "BABA    187.07\n",
       "PDD      21.83\n",
       "JD       30.79\n",
       "BIDU    184.77\n",
       "Name: 中概股, dtype: float64"
      ]
     },
     "execution_count": 19,
     "metadata": {},
     "output_type": "execute_result"
    }
   ],
   "source": [
    "data_dict = {'BABA': 187.07, 'PDD': 21.83, 'JD': 30.79, 'BIDU': 184.77}\n",
    "s3 = pd.Series(data_dict, name='中概股')\n",
    "s3.index.name = '股票代号'\n",
    "s3"
   ]
  },
  {
   "cell_type": "code",
   "execution_count": 20,
   "metadata": {},
   "outputs": [
    {
     "data": {
      "text/plain": [
       "FB         NaN\n",
       "BABA    187.07\n",
       "PDD      21.83\n",
       "JD       30.79\n",
       "Name: 中概股, dtype: float64"
      ]
     },
     "execution_count": 20,
     "metadata": {},
     "output_type": "execute_result"
    }
   ],
   "source": [
    "# 加入新的元素,注意比较s4和s3的区别\n",
    "stock = ['FB', 'BABA', 'PDD', 'JD']\n",
    "s4 = pd.Series(s3, index=stock)\n",
    "s4"
   ]
  },
  {
   "cell_type": "code",
   "execution_count": 21,
   "metadata": {},
   "outputs": [
    {
     "data": {
      "text/plain": [
       "BABA    374.14\n",
       "BIDU       NaN\n",
       "FB         NaN\n",
       "JD       61.58\n",
       "PDD      43.66\n",
       "Name: 中概股, dtype: float64"
      ]
     },
     "execution_count": 21,
     "metadata": {},
     "output_type": "execute_result"
    }
   ],
   "source": [
    "# 两个Series可直接相加\n",
    "s3 + s4"
   ]
  },
  {
   "cell_type": "markdown",
   "metadata": {},
   "source": [
    "Series是最基本的数据结构,但只能解决一对一问题,一个索引对应一个元素,假如要处理一对多的问题,需要使用DataFrame"
   ]
  },
  {
   "cell_type": "markdown",
   "metadata": {},
   "source": [
    "### 二维DataFrame"
   ]
  },
  {
   "cell_type": "markdown",
   "metadata": {},
   "source": [
    "#### 列表或数组作为值"
   ]
  },
  {
   "cell_type": "code",
   "execution_count": 22,
   "metadata": {},
   "outputs": [
    {
     "data": {
      "text/html": [
       "<div>\n",
       "<style scoped>\n",
       "    .dataframe tbody tr th:only-of-type {\n",
       "        vertical-align: middle;\n",
       "    }\n",
       "\n",
       "    .dataframe tbody tr th {\n",
       "        vertical-align: top;\n",
       "    }\n",
       "\n",
       "    .dataframe thead th {\n",
       "        text-align: right;\n",
       "    }\n",
       "</style>\n",
       "<table border=\"1\" class=\"dataframe\">\n",
       "  <thead>\n",
       "    <tr style=\"text-align: right;\">\n",
       "      <th></th>\n",
       "      <th>0</th>\n",
       "      <th>1</th>\n",
       "      <th>2</th>\n",
       "    </tr>\n",
       "  </thead>\n",
       "  <tbody>\n",
       "    <tr>\n",
       "      <th>0</th>\n",
       "      <td>1</td>\n",
       "      <td>2</td>\n",
       "      <td>3</td>\n",
       "    </tr>\n",
       "    <tr>\n",
       "      <th>1</th>\n",
       "      <td>4</td>\n",
       "      <td>5</td>\n",
       "      <td>6</td>\n",
       "    </tr>\n",
       "  </tbody>\n",
       "</table>\n",
       "</div>"
      ],
      "text/plain": [
       "   0  1  2\n",
       "0  1  2  3\n",
       "1  4  5  6"
      ]
     },
     "execution_count": 22,
     "metadata": {},
     "output_type": "execute_result"
    }
   ],
   "source": [
    "# df1=pd.DataFrame([[1,2,3],[4,5,6]])\n",
    "df1 = pd.DataFrame(np.array([[1, 2, 3], [4, 5, 6]]))\n",
    "df1"
   ]
  },
  {
   "cell_type": "markdown",
   "metadata": {},
   "source": [
    "#### 字典作为值"
   ]
  },
  {
   "cell_type": "code",
   "execution_count": 23,
   "metadata": {},
   "outputs": [
    {
     "data": {
      "text/html": [
       "<div>\n",
       "<style scoped>\n",
       "    .dataframe tbody tr th:only-of-type {\n",
       "        vertical-align: middle;\n",
       "    }\n",
       "\n",
       "    .dataframe tbody tr th {\n",
       "        vertical-align: top;\n",
       "    }\n",
       "\n",
       "    .dataframe thead th {\n",
       "        text-align: right;\n",
       "    }\n",
       "</style>\n",
       "<table border=\"1\" class=\"dataframe\">\n",
       "  <thead>\n",
       "    <tr style=\"text-align: right;\">\n",
       "      <th></th>\n",
       "      <th>行业</th>\n",
       "      <th>价格</th>\n",
       "      <th>交易量</th>\n",
       "      <th>雇员</th>\n",
       "    </tr>\n",
       "    <tr>\n",
       "      <th>代号</th>\n",
       "      <th></th>\n",
       "      <th></th>\n",
       "      <th></th>\n",
       "      <th></th>\n",
       "    </tr>\n",
       "  </thead>\n",
       "  <tbody>\n",
       "    <tr>\n",
       "      <th>BABA</th>\n",
       "      <td>电商</td>\n",
       "      <td>176.92</td>\n",
       "      <td>16175610</td>\n",
       "      <td>101550</td>\n",
       "    </tr>\n",
       "    <tr>\n",
       "      <th>JD</th>\n",
       "      <td>电商</td>\n",
       "      <td>25.95</td>\n",
       "      <td>27113291</td>\n",
       "      <td>175336</td>\n",
       "    </tr>\n",
       "    <tr>\n",
       "      <th>AAPL</th>\n",
       "      <td>科技</td>\n",
       "      <td>172.97</td>\n",
       "      <td>18913154</td>\n",
       "      <td>100000</td>\n",
       "    </tr>\n",
       "    <tr>\n",
       "      <th>MS</th>\n",
       "      <td>金融</td>\n",
       "      <td>41.79</td>\n",
       "      <td>10132145</td>\n",
       "      <td>60348</td>\n",
       "    </tr>\n",
       "    <tr>\n",
       "      <th>GS</th>\n",
       "      <td>金融</td>\n",
       "      <td>196.00</td>\n",
       "      <td>2626634</td>\n",
       "      <td>36600</td>\n",
       "    </tr>\n",
       "    <tr>\n",
       "      <th>WMT</th>\n",
       "      <td>零售</td>\n",
       "      <td>99.55</td>\n",
       "      <td>8086946</td>\n",
       "      <td>2200000</td>\n",
       "    </tr>\n",
       "  </tbody>\n",
       "</table>\n",
       "</div>"
      ],
      "text/plain": [
       "      行业      价格       交易量       雇员\n",
       "代号                                 \n",
       "BABA  电商  176.92  16175610   101550\n",
       "JD    电商   25.95  27113291   175336\n",
       "AAPL  科技  172.97  18913154   100000\n",
       "MS    金融   41.79  10132145    60348\n",
       "GS    金融  196.00   2626634    36600\n",
       "WMT   零售   99.55   8086946  2200000"
      ]
     },
     "execution_count": 23,
     "metadata": {},
     "output_type": "execute_result"
    }
   ],
   "source": [
    "symbol = ['BABA', 'JD', 'AAPL', 'MS', 'GS', 'WMT']\n",
    "data = {\n",
    "    '行业': ['电商', '电商', '科技', '金融', '金融', '零售'],\n",
    "    '价格': [176.92, 25.95, 172.97, 41.79, 196.00, 99.55],\n",
    "    '交易量': [16175610, 27113291, 18913154, 10132145, 2626634, 8086946],\n",
    "    '雇员': [101550, 175336, 100000, 60348, 36600, 2200000]\n",
    "}\n",
    "df2 = pd.DataFrame(data, index=symbol)\n",
    "df2.name = '美股'\n",
    "df2.index.name = '代号'\n",
    "df2"
   ]
  },
  {
   "cell_type": "markdown",
   "metadata": {},
   "source": [
    "字典的「键值对」的「键」自动变成了 DataFrame 的栏 (columns)，而「值」自动变成了 DataFrame 的值 (values)，而其索引 (index) 需要另外定义。"
   ]
  },
  {
   "cell_type": "code",
   "execution_count": 24,
   "metadata": {},
   "outputs": [
    {
     "data": {
      "text/plain": [
       "array([['电商', 176.92, 16175610, 101550],\n",
       "       ['电商', 25.95, 27113291, 175336],\n",
       "       ['科技', 172.97, 18913154, 100000],\n",
       "       ['金融', 41.79, 10132145, 60348],\n",
       "       ['金融', 196.0, 2626634, 36600],\n",
       "       ['零售', 99.55, 8086946, 2200000]], dtype=object)"
      ]
     },
     "execution_count": 24,
     "metadata": {},
     "output_type": "execute_result"
    }
   ],
   "source": [
    "df2.values"
   ]
  },
  {
   "cell_type": "code",
   "execution_count": 25,
   "metadata": {},
   "outputs": [
    {
     "data": {
      "text/plain": [
       "Index(['行业', '价格', '交易量', '雇员'], dtype='object')"
      ]
     },
     "execution_count": 25,
     "metadata": {},
     "output_type": "execute_result"
    }
   ],
   "source": [
    "df2.columns"
   ]
  },
  {
   "cell_type": "code",
   "execution_count": 26,
   "metadata": {},
   "outputs": [
    {
     "data": {
      "text/plain": [
       "Index(['BABA', 'JD', 'AAPL', 'MS', 'GS', 'WMT'], dtype='object', name='代号')"
      ]
     },
     "execution_count": 26,
     "metadata": {},
     "output_type": "execute_result"
    }
   ],
   "source": [
    "df2.index"
   ]
  },
  {
   "cell_type": "code",
   "execution_count": 27,
   "metadata": {},
   "outputs": [
    {
     "data": {
      "text/html": [
       "<div>\n",
       "<style scoped>\n",
       "    .dataframe tbody tr th:only-of-type {\n",
       "        vertical-align: middle;\n",
       "    }\n",
       "\n",
       "    .dataframe tbody tr th {\n",
       "        vertical-align: top;\n",
       "    }\n",
       "\n",
       "    .dataframe thead th {\n",
       "        text-align: right;\n",
       "    }\n",
       "</style>\n",
       "<table border=\"1\" class=\"dataframe\">\n",
       "  <thead>\n",
       "    <tr style=\"text-align: right;\">\n",
       "      <th></th>\n",
       "      <th>行业</th>\n",
       "      <th>价格</th>\n",
       "      <th>交易量</th>\n",
       "      <th>雇员</th>\n",
       "    </tr>\n",
       "    <tr>\n",
       "      <th>代号</th>\n",
       "      <th></th>\n",
       "      <th></th>\n",
       "      <th></th>\n",
       "      <th></th>\n",
       "    </tr>\n",
       "  </thead>\n",
       "  <tbody>\n",
       "    <tr>\n",
       "      <th>BABA</th>\n",
       "      <td>电商</td>\n",
       "      <td>176.92</td>\n",
       "      <td>16175610</td>\n",
       "      <td>101550</td>\n",
       "    </tr>\n",
       "    <tr>\n",
       "      <th>JD</th>\n",
       "      <td>电商</td>\n",
       "      <td>25.95</td>\n",
       "      <td>27113291</td>\n",
       "      <td>175336</td>\n",
       "    </tr>\n",
       "    <tr>\n",
       "      <th>AAPL</th>\n",
       "      <td>科技</td>\n",
       "      <td>172.97</td>\n",
       "      <td>18913154</td>\n",
       "      <td>100000</td>\n",
       "    </tr>\n",
       "    <tr>\n",
       "      <th>MS</th>\n",
       "      <td>金融</td>\n",
       "      <td>41.79</td>\n",
       "      <td>10132145</td>\n",
       "      <td>60348</td>\n",
       "    </tr>\n",
       "    <tr>\n",
       "      <th>GS</th>\n",
       "      <td>金融</td>\n",
       "      <td>196.00</td>\n",
       "      <td>2626634</td>\n",
       "      <td>36600</td>\n",
       "    </tr>\n",
       "  </tbody>\n",
       "</table>\n",
       "</div>"
      ],
      "text/plain": [
       "      行业      价格       交易量      雇员\n",
       "代号                                \n",
       "BABA  电商  176.92  16175610  101550\n",
       "JD    电商   25.95  27113291  175336\n",
       "AAPL  科技  172.97  18913154  100000\n",
       "MS    金融   41.79  10132145   60348\n",
       "GS    金融  196.00   2626634   36600"
      ]
     },
     "execution_count": 27,
     "metadata": {},
     "output_type": "execute_result"
    }
   ],
   "source": [
    "# 查看DataFrame\n",
    "# 从头查看n行,n的默认值是5\n",
    "df2.head()"
   ]
  },
  {
   "cell_type": "code",
   "execution_count": 28,
   "metadata": {},
   "outputs": [
    {
     "data": {
      "text/html": [
       "<div>\n",
       "<style scoped>\n",
       "    .dataframe tbody tr th:only-of-type {\n",
       "        vertical-align: middle;\n",
       "    }\n",
       "\n",
       "    .dataframe tbody tr th {\n",
       "        vertical-align: top;\n",
       "    }\n",
       "\n",
       "    .dataframe thead th {\n",
       "        text-align: right;\n",
       "    }\n",
       "</style>\n",
       "<table border=\"1\" class=\"dataframe\">\n",
       "  <thead>\n",
       "    <tr style=\"text-align: right;\">\n",
       "      <th></th>\n",
       "      <th>行业</th>\n",
       "      <th>价格</th>\n",
       "      <th>交易量</th>\n",
       "      <th>雇员</th>\n",
       "    </tr>\n",
       "    <tr>\n",
       "      <th>代号</th>\n",
       "      <th></th>\n",
       "      <th></th>\n",
       "      <th></th>\n",
       "      <th></th>\n",
       "    </tr>\n",
       "  </thead>\n",
       "  <tbody>\n",
       "    <tr>\n",
       "      <th>MS</th>\n",
       "      <td>金融</td>\n",
       "      <td>41.79</td>\n",
       "      <td>10132145</td>\n",
       "      <td>60348</td>\n",
       "    </tr>\n",
       "    <tr>\n",
       "      <th>GS</th>\n",
       "      <td>金融</td>\n",
       "      <td>196.00</td>\n",
       "      <td>2626634</td>\n",
       "      <td>36600</td>\n",
       "    </tr>\n",
       "    <tr>\n",
       "      <th>WMT</th>\n",
       "      <td>零售</td>\n",
       "      <td>99.55</td>\n",
       "      <td>8086946</td>\n",
       "      <td>2200000</td>\n",
       "    </tr>\n",
       "  </tbody>\n",
       "</table>\n",
       "</div>"
      ],
      "text/plain": [
       "     行业      价格       交易量       雇员\n",
       "代号                                \n",
       "MS   金融   41.79  10132145    60348\n",
       "GS   金融  196.00   2626634    36600\n",
       "WMT  零售   99.55   8086946  2200000"
      ]
     },
     "execution_count": 28,
     "metadata": {},
     "output_type": "execute_result"
    }
   ],
   "source": [
    "# 从尾部查看n行,n的默认值是5\n",
    "df2.tail(3)"
   ]
  },
  {
   "cell_type": "code",
   "execution_count": 29,
   "metadata": {},
   "outputs": [
    {
     "data": {
      "text/html": [
       "<div>\n",
       "<style scoped>\n",
       "    .dataframe tbody tr th:only-of-type {\n",
       "        vertical-align: middle;\n",
       "    }\n",
       "\n",
       "    .dataframe tbody tr th {\n",
       "        vertical-align: top;\n",
       "    }\n",
       "\n",
       "    .dataframe thead th {\n",
       "        text-align: right;\n",
       "    }\n",
       "</style>\n",
       "<table border=\"1\" class=\"dataframe\">\n",
       "  <thead>\n",
       "    <tr style=\"text-align: right;\">\n",
       "      <th></th>\n",
       "      <th>价格</th>\n",
       "      <th>交易量</th>\n",
       "      <th>雇员</th>\n",
       "    </tr>\n",
       "  </thead>\n",
       "  <tbody>\n",
       "    <tr>\n",
       "      <th>count</th>\n",
       "      <td>6.000000</td>\n",
       "      <td>6.000000e+00</td>\n",
       "      <td>6.000000e+00</td>\n",
       "    </tr>\n",
       "    <tr>\n",
       "      <th>mean</th>\n",
       "      <td>118.863333</td>\n",
       "      <td>1.384130e+07</td>\n",
       "      <td>4.456390e+05</td>\n",
       "    </tr>\n",
       "    <tr>\n",
       "      <th>std</th>\n",
       "      <td>73.748714</td>\n",
       "      <td>8.717312e+06</td>\n",
       "      <td>8.607522e+05</td>\n",
       "    </tr>\n",
       "    <tr>\n",
       "      <th>min</th>\n",
       "      <td>25.950000</td>\n",
       "      <td>2.626634e+06</td>\n",
       "      <td>3.660000e+04</td>\n",
       "    </tr>\n",
       "    <tr>\n",
       "      <th>25%</th>\n",
       "      <td>56.230000</td>\n",
       "      <td>8.598246e+06</td>\n",
       "      <td>7.026100e+04</td>\n",
       "    </tr>\n",
       "    <tr>\n",
       "      <th>50%</th>\n",
       "      <td>136.260000</td>\n",
       "      <td>1.315388e+07</td>\n",
       "      <td>1.007750e+05</td>\n",
       "    </tr>\n",
       "    <tr>\n",
       "      <th>75%</th>\n",
       "      <td>175.932500</td>\n",
       "      <td>1.822877e+07</td>\n",
       "      <td>1.568895e+05</td>\n",
       "    </tr>\n",
       "    <tr>\n",
       "      <th>max</th>\n",
       "      <td>196.000000</td>\n",
       "      <td>2.711329e+07</td>\n",
       "      <td>2.200000e+06</td>\n",
       "    </tr>\n",
       "  </tbody>\n",
       "</table>\n",
       "</div>"
      ],
      "text/plain": [
       "               价格           交易量            雇员\n",
       "count    6.000000  6.000000e+00  6.000000e+00\n",
       "mean   118.863333  1.384130e+07  4.456390e+05\n",
       "std     73.748714  8.717312e+06  8.607522e+05\n",
       "min     25.950000  2.626634e+06  3.660000e+04\n",
       "25%     56.230000  8.598246e+06  7.026100e+04\n",
       "50%    136.260000  1.315388e+07  1.007750e+05\n",
       "75%    175.932500  1.822877e+07  1.568895e+05\n",
       "max    196.000000  2.711329e+07  2.200000e+06"
      ]
     },
     "execution_count": 29,
     "metadata": {},
     "output_type": "execute_result"
    }
   ],
   "source": [
    "# 统计数据表\n",
    "df2.describe()"
   ]
  },
  {
   "cell_type": "code",
   "execution_count": 30,
   "metadata": {},
   "outputs": [
    {
     "data": {
      "text/html": [
       "<div>\n",
       "<style scoped>\n",
       "    .dataframe tbody tr th:only-of-type {\n",
       "        vertical-align: middle;\n",
       "    }\n",
       "\n",
       "    .dataframe tbody tr th {\n",
       "        vertical-align: top;\n",
       "    }\n",
       "\n",
       "    .dataframe thead th {\n",
       "        text-align: right;\n",
       "    }\n",
       "</style>\n",
       "<table border=\"1\" class=\"dataframe\">\n",
       "  <thead>\n",
       "    <tr style=\"text-align: right;\">\n",
       "      <th></th>\n",
       "      <th></th>\n",
       "      <th>行业</th>\n",
       "      <th>价格</th>\n",
       "      <th>交易量</th>\n",
       "      <th>雇员</th>\n",
       "    </tr>\n",
       "  </thead>\n",
       "  <tbody>\n",
       "    <tr>\n",
       "      <th rowspan=\"2\" valign=\"top\">中国公司</th>\n",
       "      <th>BABA</th>\n",
       "      <td>电商</td>\n",
       "      <td>176.92</td>\n",
       "      <td>16175610</td>\n",
       "      <td>101550</td>\n",
       "    </tr>\n",
       "    <tr>\n",
       "      <th>JD</th>\n",
       "      <td>电商</td>\n",
       "      <td>25.95</td>\n",
       "      <td>27113291</td>\n",
       "      <td>175336</td>\n",
       "    </tr>\n",
       "    <tr>\n",
       "      <th rowspan=\"4\" valign=\"top\">美国公司</th>\n",
       "      <th>AAPL</th>\n",
       "      <td>科技</td>\n",
       "      <td>172.97</td>\n",
       "      <td>18913154</td>\n",
       "      <td>100000</td>\n",
       "    </tr>\n",
       "    <tr>\n",
       "      <th>MS</th>\n",
       "      <td>金融</td>\n",
       "      <td>41.79</td>\n",
       "      <td>10132145</td>\n",
       "      <td>60348</td>\n",
       "    </tr>\n",
       "    <tr>\n",
       "      <th>GS</th>\n",
       "      <td>金融</td>\n",
       "      <td>196.00</td>\n",
       "      <td>2626634</td>\n",
       "      <td>36600</td>\n",
       "    </tr>\n",
       "    <tr>\n",
       "      <th>WMT</th>\n",
       "      <td>零售</td>\n",
       "      <td>99.55</td>\n",
       "      <td>8086946</td>\n",
       "      <td>2200000</td>\n",
       "    </tr>\n",
       "  </tbody>\n",
       "</table>\n",
       "</div>"
      ],
      "text/plain": [
       "           行业      价格       交易量       雇员\n",
       "中国公司 BABA  电商  176.92  16175610   101550\n",
       "     JD    电商   25.95  27113291   175336\n",
       "美国公司 AAPL  科技  172.97  18913154   100000\n",
       "     MS    金融   41.79  10132145    60348\n",
       "     GS    金融  196.00   2626634    36600\n",
       "     WMT   零售   99.55   8086946  2200000"
      ]
     },
     "execution_count": 30,
     "metadata": {},
     "output_type": "execute_result"
    }
   ],
   "source": [
    "# 利用MultIlndex对二维数据表增加多层索引,相当于进行升维\n",
    "df2.index = pd.MultiIndex.from_tuples([('中国公司', 'BABA'), ('中国公司', 'JD'),\n",
    "                                       ('美国公司', 'AAPL'), ('美国公司', 'MS'),\n",
    "                                       ('美国公司', 'GS'), ('美国公司', 'WMT')])\n",
    "df2"
   ]
  },
  {
   "cell_type": "markdown",
   "metadata": {},
   "source": [
    "三维Panel 在未来版本中会被废除,这里只是了解下结构和相关参数\n",
    "\n",
    "pd.Panel( x, item=itm,major_axis=n1,minor_axis=n2 )\n",
    "  \n",
    "- x 是位置参数\n",
    "\n",
    "- items 是默认参数 (axis 0)，默认值为 itm = range(0, number of DataFrame)\n",
    "\n",
    "- major_axis 是默认参数 (axis 1)，默认值和 DataFrame 的默认 index 一样\n",
    "\n",
    "- minor_axis 是默认参数 (axis 2)，默认值和 DataFrame 的默认 columns 一样"
   ]
  },
  {
   "cell_type": "markdown",
   "metadata": {},
   "source": [
    "# 存载"
   ]
  },
  {
   "cell_type": "markdown",
   "metadata": {},
   "source": [
    "## Excel格式"
   ]
  },
  {
   "cell_type": "code",
   "execution_count": 31,
   "metadata": {},
   "outputs": [],
   "source": [
    "# 用 pd.to_excel 函数将 DataFrame 保存为 .xlsx 格式，并保存到 ‘Sheet1’ 中\n",
    "# pd.to_excel ('文件名','表名')\n",
    "df = pd.DataFrame(np.array([[1, 2, 3], [4, 5, 6]]))\n",
    "df.to_excel('pd_excel.xlsx', sheet_name='数据源表')"
   ]
  },
  {
   "cell_type": "code",
   "execution_count": 32,
   "metadata": {},
   "outputs": [
    {
     "data": {
      "text/html": [
       "<div>\n",
       "<style scoped>\n",
       "    .dataframe tbody tr th:only-of-type {\n",
       "        vertical-align: middle;\n",
       "    }\n",
       "\n",
       "    .dataframe tbody tr th {\n",
       "        vertical-align: top;\n",
       "    }\n",
       "\n",
       "    .dataframe thead th {\n",
       "        text-align: right;\n",
       "    }\n",
       "</style>\n",
       "<table border=\"1\" class=\"dataframe\">\n",
       "  <thead>\n",
       "    <tr style=\"text-align: right;\">\n",
       "      <th></th>\n",
       "      <th>0</th>\n",
       "      <th>1</th>\n",
       "      <th>2</th>\n",
       "    </tr>\n",
       "  </thead>\n",
       "  <tbody>\n",
       "    <tr>\n",
       "      <th>0</th>\n",
       "      <td>1</td>\n",
       "      <td>2</td>\n",
       "      <td>3</td>\n",
       "    </tr>\n",
       "    <tr>\n",
       "      <th>1</th>\n",
       "      <td>4</td>\n",
       "      <td>5</td>\n",
       "      <td>6</td>\n",
       "    </tr>\n",
       "  </tbody>\n",
       "</table>\n",
       "</div>"
      ],
      "text/plain": [
       "   0  1  2\n",
       "0  1  2  3\n",
       "1  4  5  6"
      ]
     },
     "execution_count": 32,
     "metadata": {},
     "output_type": "execute_result"
    }
   ],
   "source": [
    "# 读取Excel文件\n",
    "df1 = pd.read_excel('pd_excel.xlsx', sheet_name='数据源表')\n",
    "df1"
   ]
  },
  {
   "cell_type": "markdown",
   "metadata": {},
   "source": [
    "## csv格式"
   ]
  },
  {
   "cell_type": "code",
   "execution_count": 33,
   "metadata": {},
   "outputs": [],
   "source": [
    "# 注意如果 index 没有特意设定，最后不要把 index 值存到 csv 文件中。\n",
    "# pd.to_csv('文件名',index=False)\n",
    "data = {\n",
    "    'Code': ['BABA', '00700.HK', 'AAPL', '600519.SH'],\n",
    "    'Name': ['阿里巴巴', '腾讯', '苹果', '茅台'],\n",
    "    'Market': ['US', 'HK', 'US', 'SH'],\n",
    "    'Price': [185.35, 380.2, 197, 900.2],\n",
    "    'Currency': ['USD', 'HKD', 'USD', 'CNY']\n",
    "}\n",
    "df = pd.DataFrame(data)\n",
    "df.to_csv('pd_csv.csv', index=False)"
   ]
  },
  {
   "cell_type": "code",
   "execution_count": 34,
   "metadata": {},
   "outputs": [
    {
     "data": {
      "text/html": [
       "<div>\n",
       "<style scoped>\n",
       "    .dataframe tbody tr th:only-of-type {\n",
       "        vertical-align: middle;\n",
       "    }\n",
       "\n",
       "    .dataframe tbody tr th {\n",
       "        vertical-align: top;\n",
       "    }\n",
       "\n",
       "    .dataframe thead th {\n",
       "        text-align: right;\n",
       "    }\n",
       "</style>\n",
       "<table border=\"1\" class=\"dataframe\">\n",
       "  <thead>\n",
       "    <tr style=\"text-align: right;\">\n",
       "      <th></th>\n",
       "      <th>Code</th>\n",
       "      <th>Name</th>\n",
       "      <th>Market</th>\n",
       "      <th>Price</th>\n",
       "      <th>Currency</th>\n",
       "    </tr>\n",
       "  </thead>\n",
       "  <tbody>\n",
       "    <tr>\n",
       "      <th>0</th>\n",
       "      <td>BABA</td>\n",
       "      <td>阿里巴巴</td>\n",
       "      <td>US</td>\n",
       "      <td>185.35</td>\n",
       "      <td>USD</td>\n",
       "    </tr>\n",
       "    <tr>\n",
       "      <th>1</th>\n",
       "      <td>00700.HK</td>\n",
       "      <td>腾讯</td>\n",
       "      <td>HK</td>\n",
       "      <td>380.20</td>\n",
       "      <td>HKD</td>\n",
       "    </tr>\n",
       "    <tr>\n",
       "      <th>2</th>\n",
       "      <td>AAPL</td>\n",
       "      <td>苹果</td>\n",
       "      <td>US</td>\n",
       "      <td>197.00</td>\n",
       "      <td>USD</td>\n",
       "    </tr>\n",
       "    <tr>\n",
       "      <th>3</th>\n",
       "      <td>600519.SH</td>\n",
       "      <td>茅台</td>\n",
       "      <td>SH</td>\n",
       "      <td>900.20</td>\n",
       "      <td>CNY</td>\n",
       "    </tr>\n",
       "  </tbody>\n",
       "</table>\n",
       "</div>"
      ],
      "text/plain": [
       "        Code  Name Market   Price Currency\n",
       "0       BABA  阿里巴巴     US  185.35      USD\n",
       "1   00700.HK    腾讯     HK  380.20      HKD\n",
       "2       AAPL    苹果     US  197.00      USD\n",
       "3  600519.SH    茅台     SH  900.20      CNY"
      ]
     },
     "execution_count": 34,
     "metadata": {},
     "output_type": "execute_result"
    }
   ],
   "source": [
    "# 读取csv文件\n",
    "df2 = pd.read_csv('pd_csv.csv')\n",
    "df2"
   ]
  },
  {
   "cell_type": "code",
   "execution_count": 35,
   "metadata": {},
   "outputs": [
    {
     "data": {
      "text/html": [
       "<div>\n",
       "<style scoped>\n",
       "    .dataframe tbody tr th:only-of-type {\n",
       "        vertical-align: middle;\n",
       "    }\n",
       "\n",
       "    .dataframe tbody tr th {\n",
       "        vertical-align: top;\n",
       "    }\n",
       "\n",
       "    .dataframe thead th {\n",
       "        text-align: right;\n",
       "    }\n",
       "</style>\n",
       "<table border=\"1\" class=\"dataframe\">\n",
       "  <thead>\n",
       "    <tr style=\"text-align: right;\">\n",
       "      <th></th>\n",
       "      <th>Unnamed: 0</th>\n",
       "      <th>Code</th>\n",
       "      <th>Name</th>\n",
       "      <th>Market</th>\n",
       "      <th>Price</th>\n",
       "      <th>Currency</th>\n",
       "    </tr>\n",
       "  </thead>\n",
       "  <tbody>\n",
       "    <tr>\n",
       "      <th>0</th>\n",
       "      <td>0</td>\n",
       "      <td>BABA</td>\n",
       "      <td>阿里巴巴</td>\n",
       "      <td>US</td>\n",
       "      <td>185.35</td>\n",
       "      <td>USD</td>\n",
       "    </tr>\n",
       "    <tr>\n",
       "      <th>1</th>\n",
       "      <td>1</td>\n",
       "      <td>00700.HK</td>\n",
       "      <td>腾讯</td>\n",
       "      <td>HK</td>\n",
       "      <td>380.20</td>\n",
       "      <td>HKD</td>\n",
       "    </tr>\n",
       "    <tr>\n",
       "      <th>2</th>\n",
       "      <td>2</td>\n",
       "      <td>AAPL</td>\n",
       "      <td>苹果</td>\n",
       "      <td>US</td>\n",
       "      <td>197.00</td>\n",
       "      <td>USD</td>\n",
       "    </tr>\n",
       "    <tr>\n",
       "      <th>3</th>\n",
       "      <td>3</td>\n",
       "      <td>600519.SH</td>\n",
       "      <td>茅台</td>\n",
       "      <td>SH</td>\n",
       "      <td>900.20</td>\n",
       "      <td>CNY</td>\n",
       "    </tr>\n",
       "  </tbody>\n",
       "</table>\n",
       "</div>"
      ],
      "text/plain": [
       "   Unnamed: 0       Code  Name Market   Price Currency\n",
       "0           0       BABA  阿里巴巴     US  185.35      USD\n",
       "1           1   00700.HK    腾讯     HK  380.20      HKD\n",
       "2           2       AAPL    苹果     US  197.00      USD\n",
       "3           3  600519.SH    茅台     SH  900.20      CNY"
      ]
     },
     "execution_count": 35,
     "metadata": {},
     "output_type": "execute_result"
    }
   ],
   "source": [
    "# 如果一开始储存 df 的时候用 index=True，你会发现加载完后的 df2 是以下的样子\n",
    "# 注意如果 index 没有特意设定，最后不要把 index 值存到 csv 文件中。\n",
    "# pd.to_csv('文件名',index=False)\n",
    "data = {\n",
    "    'Code': ['BABA', '00700.HK', 'AAPL', '600519.SH'],\n",
    "    'Name': ['阿里巴巴', '腾讯', '苹果', '茅台'],\n",
    "    'Market': ['US', 'HK', 'US', 'SH'],\n",
    "    'Price': [185.35, 380.2, 197, 900.2],\n",
    "    'Currency': ['USD', 'HKD', 'USD', 'CNY']\n",
    "}\n",
    "df = pd.DataFrame(data)\n",
    "df.to_csv('pd_csv.csv', index=True)\n",
    "df2 = pd.read_csv('pd_csv.csv')\n",
    "df2"
   ]
  },
  {
   "cell_type": "markdown",
   "metadata": {},
   "source": [
    "所以,如果没有特意设定,记得将to_csv中的index参数设置为False"
   ]
  },
  {
   "cell_type": "markdown",
   "metadata": {},
   "source": [
    "# 索引和切片"
   ]
  },
  {
   "cell_type": "markdown",
   "metadata": {},
   "source": [
    "由于索引切片 Series 跟 numpy 数组很类似，由于 Panel 在未来会被废掉，这里只专注于对 DataFrame 做索引和切片."
   ]
  },
  {
   "cell_type": "code",
   "execution_count": 36,
   "metadata": {},
   "outputs": [
    {
     "data": {
      "text/html": [
       "<div>\n",
       "<style scoped>\n",
       "    .dataframe tbody tr th:only-of-type {\n",
       "        vertical-align: middle;\n",
       "    }\n",
       "\n",
       "    .dataframe tbody tr th {\n",
       "        vertical-align: top;\n",
       "    }\n",
       "\n",
       "    .dataframe thead th {\n",
       "        text-align: right;\n",
       "    }\n",
       "</style>\n",
       "<table border=\"1\" class=\"dataframe\">\n",
       "  <thead>\n",
       "    <tr style=\"text-align: right;\">\n",
       "      <th></th>\n",
       "      <th>行业</th>\n",
       "      <th>价格</th>\n",
       "      <th>交易量</th>\n",
       "      <th>雇员</th>\n",
       "    </tr>\n",
       "    <tr>\n",
       "      <th>代号</th>\n",
       "      <th></th>\n",
       "      <th></th>\n",
       "      <th></th>\n",
       "      <th></th>\n",
       "    </tr>\n",
       "  </thead>\n",
       "  <tbody>\n",
       "    <tr>\n",
       "      <th>BABA</th>\n",
       "      <td>电商</td>\n",
       "      <td>176.92</td>\n",
       "      <td>16175610</td>\n",
       "      <td>101550</td>\n",
       "    </tr>\n",
       "    <tr>\n",
       "      <th>JD</th>\n",
       "      <td>电商</td>\n",
       "      <td>25.95</td>\n",
       "      <td>27113291</td>\n",
       "      <td>175336</td>\n",
       "    </tr>\n",
       "    <tr>\n",
       "      <th>AAPL</th>\n",
       "      <td>科技</td>\n",
       "      <td>172.97</td>\n",
       "      <td>18913154</td>\n",
       "      <td>100000</td>\n",
       "    </tr>\n",
       "    <tr>\n",
       "      <th>MS</th>\n",
       "      <td>金融</td>\n",
       "      <td>41.79</td>\n",
       "      <td>10132145</td>\n",
       "      <td>60348</td>\n",
       "    </tr>\n",
       "    <tr>\n",
       "      <th>GS</th>\n",
       "      <td>金融</td>\n",
       "      <td>196.00</td>\n",
       "      <td>2626634</td>\n",
       "      <td>36600</td>\n",
       "    </tr>\n",
       "    <tr>\n",
       "      <th>WMT</th>\n",
       "      <td>零售</td>\n",
       "      <td>99.55</td>\n",
       "      <td>8086946</td>\n",
       "      <td>2200000</td>\n",
       "    </tr>\n",
       "  </tbody>\n",
       "</table>\n",
       "</div>"
      ],
      "text/plain": [
       "      行业      价格       交易量       雇员\n",
       "代号                                 \n",
       "BABA  电商  176.92  16175610   101550\n",
       "JD    电商   25.95  27113291   175336\n",
       "AAPL  科技  172.97  18913154   100000\n",
       "MS    金融   41.79  10132145    60348\n",
       "GS    金融  196.00   2626634    36600\n",
       "WMT   零售   99.55   8086946  2200000"
      ]
     },
     "execution_count": 36,
     "metadata": {},
     "output_type": "execute_result"
    }
   ],
   "source": [
    "# 创建二维数据表\n",
    "symbol = ['BABA', 'JD', 'AAPL', 'MS', 'GS', 'WMT']\n",
    "data = {\n",
    "    '行业': ['电商', '电商', '科技', '金融', '金融', '零售'],\n",
    "    '价格': [176.92, 25.95, 172.97, 41.79, 196.00, 99.55],\n",
    "    '交易量': [16175610, 27113291, 18913154, 10132145, 2626634, 8086946],\n",
    "    '雇员': [101550, 175336, 100000, 60348, 36600, 2200000]\n",
    "}\n",
    "df = pd.DataFrame(data, index=symbol)\n",
    "df.name = '美股'\n",
    "df.index.name = '代号'\n",
    "df"
   ]
  },
  {
   "cell_type": "markdown",
   "metadata": {},
   "source": [
    "DataFrame 的索引或切片可以基于标签 (label-based) ，也可以基于位置 (position-based)，不像 numpy 数组的索引或切片只基于位置。\n",
    "\n",
    "一般基于标签就用 at 和 loc，基于位置就用 iat 和 iloc。"
   ]
  },
  {
   "cell_type": "markdown",
   "metadata": {},
   "source": [
    "## 索引单元素"
   ]
  },
  {
   "cell_type": "code",
   "execution_count": 37,
   "metadata": {},
   "outputs": [
    {
     "data": {
      "text/plain": [
       "172.97"
      ]
     },
     "execution_count": 37,
     "metadata": {},
     "output_type": "execute_result"
    }
   ],
   "source": [
    "# 索引单元素\n",
    "df.at['AAPL', '价格']"
   ]
  },
  {
   "cell_type": "code",
   "execution_count": 38,
   "metadata": {},
   "outputs": [
    {
     "data": {
      "text/plain": [
       "172.97"
      ]
     },
     "execution_count": 38,
     "metadata": {},
     "output_type": "execute_result"
    }
   ],
   "source": [
    "# 索引单元素\n",
    "df.iat[2, 1]"
   ]
  },
  {
   "cell_type": "markdown",
   "metadata": {},
   "source": [
    "## 切片单列"
   ]
  },
  {
   "cell_type": "code",
   "execution_count": 39,
   "metadata": {},
   "outputs": [
    {
     "data": {
      "text/plain": [
       "代号\n",
       "BABA    176.92\n",
       "JD       25.95\n",
       "AAPL    172.97\n",
       "MS       41.79\n",
       "GS      196.00\n",
       "WMT      99.55\n",
       "Name: 价格, dtype: float64"
      ]
     },
     "execution_count": 39,
     "metadata": {},
     "output_type": "execute_result"
    }
   ],
   "source": [
    "# 切片单列\n",
    "df.价格"
   ]
  },
  {
   "cell_type": "code",
   "execution_count": 40,
   "metadata": {},
   "outputs": [
    {
     "data": {
      "text/plain": [
       "代号\n",
       "BABA    176.92\n",
       "JD       25.95\n",
       "AAPL    172.97\n",
       "MS       41.79\n",
       "GS      196.00\n",
       "WMT      99.55\n",
       "Name: 价格, dtype: float64"
      ]
     },
     "execution_count": 40,
     "metadata": {},
     "output_type": "execute_result"
    }
   ],
   "source": [
    "# 切片单列\n",
    "df['价格']"
   ]
  },
  {
   "cell_type": "code",
   "execution_count": 41,
   "metadata": {},
   "outputs": [
    {
     "data": {
      "text/plain": [
       "代号\n",
       "BABA    16175610\n",
       "JD      27113291\n",
       "AAPL    18913154\n",
       "MS      10132145\n",
       "GS       2626634\n",
       "WMT      8086946\n",
       "Name: 交易量, dtype: int64"
      ]
     },
     "execution_count": 41,
     "metadata": {},
     "output_type": "execute_result"
    }
   ],
   "source": [
    "# 获取交易量属性下的Series\n",
    "df.loc[:, '交易量']"
   ]
  },
  {
   "cell_type": "code",
   "execution_count": 42,
   "metadata": {},
   "outputs": [
    {
     "data": {
      "text/plain": [
       "代号\n",
       "BABA    电商\n",
       "JD      电商\n",
       "AAPL    科技\n",
       "MS      金融\n",
       "GS      金融\n",
       "WMT     零售\n",
       "Name: 行业, dtype: object"
      ]
     },
     "execution_count": 42,
     "metadata": {},
     "output_type": "execute_result"
    }
   ],
   "source": [
    "# 用 iloc 获取第 1 列下的 Series\n",
    "df.iloc[:, 0]"
   ]
  },
  {
   "cell_type": "markdown",
   "metadata": {},
   "source": [
    "建议，如果追求简洁和方便，用 . 和 []；如果追求一致和清晰，用 loc 和 iloc"
   ]
  },
  {
   "cell_type": "markdown",
   "metadata": {},
   "source": [
    "## 切片多列"
   ]
  },
  {
   "cell_type": "code",
   "execution_count": 43,
   "metadata": {},
   "outputs": [
    {
     "data": {
      "text/html": [
       "<div>\n",
       "<style scoped>\n",
       "    .dataframe tbody tr th:only-of-type {\n",
       "        vertical-align: middle;\n",
       "    }\n",
       "\n",
       "    .dataframe tbody tr th {\n",
       "        vertical-align: top;\n",
       "    }\n",
       "\n",
       "    .dataframe thead th {\n",
       "        text-align: right;\n",
       "    }\n",
       "</style>\n",
       "<table border=\"1\" class=\"dataframe\">\n",
       "  <thead>\n",
       "    <tr style=\"text-align: right;\">\n",
       "      <th></th>\n",
       "      <th>雇员</th>\n",
       "      <th>价格</th>\n",
       "    </tr>\n",
       "    <tr>\n",
       "      <th>代号</th>\n",
       "      <th></th>\n",
       "      <th></th>\n",
       "    </tr>\n",
       "  </thead>\n",
       "  <tbody>\n",
       "    <tr>\n",
       "      <th>BABA</th>\n",
       "      <td>101550</td>\n",
       "      <td>176.92</td>\n",
       "    </tr>\n",
       "    <tr>\n",
       "      <th>JD</th>\n",
       "      <td>175336</td>\n",
       "      <td>25.95</td>\n",
       "    </tr>\n",
       "    <tr>\n",
       "      <th>AAPL</th>\n",
       "      <td>100000</td>\n",
       "      <td>172.97</td>\n",
       "    </tr>\n",
       "    <tr>\n",
       "      <th>MS</th>\n",
       "      <td>60348</td>\n",
       "      <td>41.79</td>\n",
       "    </tr>\n",
       "    <tr>\n",
       "      <th>GS</th>\n",
       "      <td>36600</td>\n",
       "      <td>196.00</td>\n",
       "    </tr>\n",
       "    <tr>\n",
       "      <th>WMT</th>\n",
       "      <td>2200000</td>\n",
       "      <td>99.55</td>\n",
       "    </tr>\n",
       "  </tbody>\n",
       "</table>\n",
       "</div>"
      ],
      "text/plain": [
       "           雇员      价格\n",
       "代号                   \n",
       "BABA   101550  176.92\n",
       "JD     175336   25.95\n",
       "AAPL   100000  172.97\n",
       "MS      60348   41.79\n",
       "GS      36600  196.00\n",
       "WMT   2200000   99.55"
      ]
     },
     "execution_count": 43,
     "metadata": {},
     "output_type": "execute_result"
    }
   ],
   "source": [
    "# 切片多列\n",
    "df[['雇员','价格']]"
   ]
  },
  {
   "cell_type": "code",
   "execution_count": 44,
   "metadata": {},
   "outputs": [
    {
     "data": {
      "text/html": [
       "<div>\n",
       "<style scoped>\n",
       "    .dataframe tbody tr th:only-of-type {\n",
       "        vertical-align: middle;\n",
       "    }\n",
       "\n",
       "    .dataframe tbody tr th {\n",
       "        vertical-align: top;\n",
       "    }\n",
       "\n",
       "    .dataframe thead th {\n",
       "        text-align: right;\n",
       "    }\n",
       "</style>\n",
       "<table border=\"1\" class=\"dataframe\">\n",
       "  <thead>\n",
       "    <tr style=\"text-align: right;\">\n",
       "      <th></th>\n",
       "      <th>行业</th>\n",
       "      <th>价格</th>\n",
       "      <th>交易量</th>\n",
       "    </tr>\n",
       "    <tr>\n",
       "      <th>代号</th>\n",
       "      <th></th>\n",
       "      <th></th>\n",
       "      <th></th>\n",
       "    </tr>\n",
       "  </thead>\n",
       "  <tbody>\n",
       "    <tr>\n",
       "      <th>BABA</th>\n",
       "      <td>电商</td>\n",
       "      <td>176.92</td>\n",
       "      <td>16175610</td>\n",
       "    </tr>\n",
       "    <tr>\n",
       "      <th>JD</th>\n",
       "      <td>电商</td>\n",
       "      <td>25.95</td>\n",
       "      <td>27113291</td>\n",
       "    </tr>\n",
       "    <tr>\n",
       "      <th>AAPL</th>\n",
       "      <td>科技</td>\n",
       "      <td>172.97</td>\n",
       "      <td>18913154</td>\n",
       "    </tr>\n",
       "    <tr>\n",
       "      <th>MS</th>\n",
       "      <td>金融</td>\n",
       "      <td>41.79</td>\n",
       "      <td>10132145</td>\n",
       "    </tr>\n",
       "    <tr>\n",
       "      <th>GS</th>\n",
       "      <td>金融</td>\n",
       "      <td>196.00</td>\n",
       "      <td>2626634</td>\n",
       "    </tr>\n",
       "    <tr>\n",
       "      <th>WMT</th>\n",
       "      <td>零售</td>\n",
       "      <td>99.55</td>\n",
       "      <td>8086946</td>\n",
       "    </tr>\n",
       "  </tbody>\n",
       "</table>\n",
       "</div>"
      ],
      "text/plain": [
       "      行业      价格       交易量\n",
       "代号                        \n",
       "BABA  电商  176.92  16175610\n",
       "JD    电商   25.95  27113291\n",
       "AAPL  科技  172.97  18913154\n",
       "MS    金融   41.79  10132145\n",
       "GS    金融  196.00   2626634\n",
       "WMT   零售   99.55   8086946"
      ]
     },
     "execution_count": 44,
     "metadata": {},
     "output_type": "execute_result"
    }
   ],
   "source": [
    "# 用 loc 获取从属性 ‘行业’ 到 ‘交易量‘ 之间的列\n",
    "df.loc[:, '行业':'交易量']"
   ]
  },
  {
   "cell_type": "code",
   "execution_count": 45,
   "metadata": {},
   "outputs": [
    {
     "data": {
      "text/html": [
       "<div>\n",
       "<style scoped>\n",
       "    .dataframe tbody tr th:only-of-type {\n",
       "        vertical-align: middle;\n",
       "    }\n",
       "\n",
       "    .dataframe tbody tr th {\n",
       "        vertical-align: top;\n",
       "    }\n",
       "\n",
       "    .dataframe thead th {\n",
       "        text-align: right;\n",
       "    }\n",
       "</style>\n",
       "<table border=\"1\" class=\"dataframe\">\n",
       "  <thead>\n",
       "    <tr style=\"text-align: right;\">\n",
       "      <th></th>\n",
       "      <th>行业</th>\n",
       "      <th>价格</th>\n",
       "    </tr>\n",
       "    <tr>\n",
       "      <th>代号</th>\n",
       "      <th></th>\n",
       "      <th></th>\n",
       "    </tr>\n",
       "  </thead>\n",
       "  <tbody>\n",
       "    <tr>\n",
       "      <th>BABA</th>\n",
       "      <td>电商</td>\n",
       "      <td>176.92</td>\n",
       "    </tr>\n",
       "    <tr>\n",
       "      <th>JD</th>\n",
       "      <td>电商</td>\n",
       "      <td>25.95</td>\n",
       "    </tr>\n",
       "    <tr>\n",
       "      <th>AAPL</th>\n",
       "      <td>科技</td>\n",
       "      <td>172.97</td>\n",
       "    </tr>\n",
       "    <tr>\n",
       "      <th>MS</th>\n",
       "      <td>金融</td>\n",
       "      <td>41.79</td>\n",
       "    </tr>\n",
       "    <tr>\n",
       "      <th>GS</th>\n",
       "      <td>金融</td>\n",
       "      <td>196.00</td>\n",
       "    </tr>\n",
       "    <tr>\n",
       "      <th>WMT</th>\n",
       "      <td>零售</td>\n",
       "      <td>99.55</td>\n",
       "    </tr>\n",
       "  </tbody>\n",
       "</table>\n",
       "</div>"
      ],
      "text/plain": [
       "      行业      价格\n",
       "代号              \n",
       "BABA  电商  176.92\n",
       "JD    电商   25.95\n",
       "AAPL  科技  172.97\n",
       "MS    金融   41.79\n",
       "GS    金融  196.00\n",
       "WMT   零售   99.55"
      ]
     },
     "execution_count": 45,
     "metadata": {},
     "output_type": "execute_result"
    }
   ],
   "source": [
    "# 用 iloc 获取第 1 和 2 列\n",
    "df.iloc[:, 0:2]"
   ]
  },
  {
   "cell_type": "markdown",
   "metadata": {},
   "source": [
    "建议，如果追求简洁和方便用 []；如果追求一致和清晰，用 loc 和 iloc。"
   ]
  },
  {
   "cell_type": "markdown",
   "metadata": {},
   "source": [
    "## 对行切片"
   ]
  },
  {
   "cell_type": "code",
   "execution_count": 46,
   "metadata": {},
   "outputs": [
    {
     "data": {
      "text/plain": [
       "行业          金融\n",
       "价格         196\n",
       "交易量    2626634\n",
       "雇员       36600\n",
       "Name: GS, dtype: object"
      ]
     },
     "execution_count": 46,
     "metadata": {},
     "output_type": "execute_result"
    }
   ],
   "source": [
    "# 用loc获取标签为'GS'的Series\n",
    "df.loc['GS',:]"
   ]
  },
  {
   "cell_type": "code",
   "execution_count": 47,
   "metadata": {},
   "outputs": [
    {
     "data": {
      "text/plain": [
       "行业           金融\n",
       "价格        41.79\n",
       "交易量    10132145\n",
       "雇员        60348\n",
       "Name: MS, dtype: object"
      ]
     },
     "execution_count": 47,
     "metadata": {},
     "output_type": "execute_result"
    }
   ],
   "source": [
    "# 用 iloc 获取第 4 行下的 Series\n",
    "df.iloc[3,:]"
   ]
  },
  {
   "cell_type": "code",
   "execution_count": 48,
   "metadata": {},
   "outputs": [
    {
     "data": {
      "text/html": [
       "<div>\n",
       "<style scoped>\n",
       "    .dataframe tbody tr th:only-of-type {\n",
       "        vertical-align: middle;\n",
       "    }\n",
       "\n",
       "    .dataframe tbody tr th {\n",
       "        vertical-align: top;\n",
       "    }\n",
       "\n",
       "    .dataframe thead th {\n",
       "        text-align: right;\n",
       "    }\n",
       "</style>\n",
       "<table border=\"1\" class=\"dataframe\">\n",
       "  <thead>\n",
       "    <tr style=\"text-align: right;\">\n",
       "      <th></th>\n",
       "      <th>行业</th>\n",
       "      <th>价格</th>\n",
       "      <th>交易量</th>\n",
       "      <th>雇员</th>\n",
       "    </tr>\n",
       "    <tr>\n",
       "      <th>代号</th>\n",
       "      <th></th>\n",
       "      <th></th>\n",
       "      <th></th>\n",
       "      <th></th>\n",
       "    </tr>\n",
       "  </thead>\n",
       "  <tbody>\n",
       "    <tr>\n",
       "      <th>JD</th>\n",
       "      <td>电商</td>\n",
       "      <td>25.95</td>\n",
       "      <td>27113291</td>\n",
       "      <td>175336</td>\n",
       "    </tr>\n",
       "  </tbody>\n",
       "</table>\n",
       "</div>"
      ],
      "text/plain": [
       "    行业     价格       交易量      雇员\n",
       "代号                             \n",
       "JD  电商  25.95  27113291  175336"
      ]
     },
     "execution_count": 48,
     "metadata": {},
     "output_type": "execute_result"
    }
   ],
   "source": [
    "# 用 [1:2] 获取第 2 行的 sub-DataFrame (只有一行)\n",
    "df[1:2]"
   ]
  },
  {
   "cell_type": "code",
   "execution_count": 49,
   "metadata": {},
   "outputs": [
    {
     "data": {
      "text/html": [
       "<div>\n",
       "<style scoped>\n",
       "    .dataframe tbody tr th:only-of-type {\n",
       "        vertical-align: middle;\n",
       "    }\n",
       "\n",
       "    .dataframe tbody tr th {\n",
       "        vertical-align: top;\n",
       "    }\n",
       "\n",
       "    .dataframe thead th {\n",
       "        text-align: right;\n",
       "    }\n",
       "</style>\n",
       "<table border=\"1\" class=\"dataframe\">\n",
       "  <thead>\n",
       "    <tr style=\"text-align: right;\">\n",
       "      <th></th>\n",
       "      <th>行业</th>\n",
       "      <th>价格</th>\n",
       "      <th>交易量</th>\n",
       "      <th>雇员</th>\n",
       "    </tr>\n",
       "    <tr>\n",
       "      <th>代号</th>\n",
       "      <th></th>\n",
       "      <th></th>\n",
       "      <th></th>\n",
       "      <th></th>\n",
       "    </tr>\n",
       "  </thead>\n",
       "  <tbody>\n",
       "    <tr>\n",
       "      <th>JD</th>\n",
       "      <td>电商</td>\n",
       "      <td>25.95</td>\n",
       "      <td>27113291</td>\n",
       "      <td>175336</td>\n",
       "    </tr>\n",
       "  </tbody>\n",
       "</table>\n",
       "</div>"
      ],
      "text/plain": [
       "    行业     价格       交易量      雇员\n",
       "代号                             \n",
       "JD  电商  25.95  27113291  175336"
      ]
     },
     "execution_count": 49,
     "metadata": {},
     "output_type": "execute_result"
    }
   ],
   "source": [
    "# 用 ['JD':'JD'] 获取标签为 'JD' 的 sub-DataFrame (只有一行)。\n",
    "df['JD':'JD']"
   ]
  },
  {
   "cell_type": "markdown",
   "metadata": {},
   "source": [
    "建议，只用 loc 和 iloc"
   ]
  },
  {
   "cell_type": "markdown",
   "metadata": {},
   "source": [
    "## 对多行切片"
   ]
  },
  {
   "cell_type": "code",
   "execution_count": 50,
   "metadata": {},
   "outputs": [
    {
     "data": {
      "text/html": [
       "<div>\n",
       "<style scoped>\n",
       "    .dataframe tbody tr th:only-of-type {\n",
       "        vertical-align: middle;\n",
       "    }\n",
       "\n",
       "    .dataframe tbody tr th {\n",
       "        vertical-align: top;\n",
       "    }\n",
       "\n",
       "    .dataframe thead th {\n",
       "        text-align: right;\n",
       "    }\n",
       "</style>\n",
       "<table border=\"1\" class=\"dataframe\">\n",
       "  <thead>\n",
       "    <tr style=\"text-align: right;\">\n",
       "      <th></th>\n",
       "      <th>行业</th>\n",
       "      <th>价格</th>\n",
       "      <th>交易量</th>\n",
       "      <th>雇员</th>\n",
       "    </tr>\n",
       "    <tr>\n",
       "      <th>代号</th>\n",
       "      <th></th>\n",
       "      <th></th>\n",
       "      <th></th>\n",
       "      <th></th>\n",
       "    </tr>\n",
       "  </thead>\n",
       "  <tbody>\n",
       "    <tr>\n",
       "      <th>JD</th>\n",
       "      <td>电商</td>\n",
       "      <td>25.95</td>\n",
       "      <td>27113291</td>\n",
       "      <td>175336</td>\n",
       "    </tr>\n",
       "    <tr>\n",
       "      <th>AAPL</th>\n",
       "      <td>科技</td>\n",
       "      <td>172.97</td>\n",
       "      <td>18913154</td>\n",
       "      <td>100000</td>\n",
       "    </tr>\n",
       "    <tr>\n",
       "      <th>MS</th>\n",
       "      <td>金融</td>\n",
       "      <td>41.79</td>\n",
       "      <td>10132145</td>\n",
       "      <td>60348</td>\n",
       "    </tr>\n",
       "  </tbody>\n",
       "</table>\n",
       "</div>"
      ],
      "text/plain": [
       "      行业      价格       交易量      雇员\n",
       "代号                                \n",
       "JD    电商   25.95  27113291  175336\n",
       "AAPL  科技  172.97  18913154  100000\n",
       "MS    金融   41.79  10132145   60348"
      ]
     },
     "execution_count": 50,
     "metadata": {},
     "output_type": "execute_result"
    }
   ],
   "source": [
    "# 用 [1:4] 获取第 2 到 4 行的 sub-DataFrame\n",
    "df[1:4]"
   ]
  },
  {
   "cell_type": "code",
   "execution_count": 51,
   "metadata": {},
   "outputs": [
    {
     "data": {
      "text/html": [
       "<div>\n",
       "<style scoped>\n",
       "    .dataframe tbody tr th:only-of-type {\n",
       "        vertical-align: middle;\n",
       "    }\n",
       "\n",
       "    .dataframe tbody tr th {\n",
       "        vertical-align: top;\n",
       "    }\n",
       "\n",
       "    .dataframe thead th {\n",
       "        text-align: right;\n",
       "    }\n",
       "</style>\n",
       "<table border=\"1\" class=\"dataframe\">\n",
       "  <thead>\n",
       "    <tr style=\"text-align: right;\">\n",
       "      <th></th>\n",
       "      <th>行业</th>\n",
       "      <th>价格</th>\n",
       "      <th>交易量</th>\n",
       "      <th>雇员</th>\n",
       "    </tr>\n",
       "    <tr>\n",
       "      <th>代号</th>\n",
       "      <th></th>\n",
       "      <th></th>\n",
       "      <th></th>\n",
       "      <th></th>\n",
       "    </tr>\n",
       "  </thead>\n",
       "  <tbody>\n",
       "    <tr>\n",
       "      <th>GS</th>\n",
       "      <td>金融</td>\n",
       "      <td>196.00</td>\n",
       "      <td>2626634</td>\n",
       "      <td>36600</td>\n",
       "    </tr>\n",
       "    <tr>\n",
       "      <th>WMT</th>\n",
       "      <td>零售</td>\n",
       "      <td>99.55</td>\n",
       "      <td>8086946</td>\n",
       "      <td>2200000</td>\n",
       "    </tr>\n",
       "  </tbody>\n",
       "</table>\n",
       "</div>"
      ],
      "text/plain": [
       "     行业      价格      交易量       雇员\n",
       "代号                               \n",
       "GS   金融  196.00  2626634    36600\n",
       "WMT  零售   99.55  8086946  2200000"
      ]
     },
     "execution_count": 51,
     "metadata": {},
     "output_type": "execute_result"
    }
   ],
   "source": [
    "# 用 ['GS':'WMT'] 获取标签从'GS' 到 'WMT' 的 sub-DataFrame\n",
    "df[ 'GS':'WMT' ]"
   ]
  },
  {
   "cell_type": "code",
   "execution_count": 52,
   "metadata": {},
   "outputs": [
    {
     "data": {
      "text/html": [
       "<div>\n",
       "<style scoped>\n",
       "    .dataframe tbody tr th:only-of-type {\n",
       "        vertical-align: middle;\n",
       "    }\n",
       "\n",
       "    .dataframe tbody tr th {\n",
       "        vertical-align: top;\n",
       "    }\n",
       "\n",
       "    .dataframe thead th {\n",
       "        text-align: right;\n",
       "    }\n",
       "</style>\n",
       "<table border=\"1\" class=\"dataframe\">\n",
       "  <thead>\n",
       "    <tr style=\"text-align: right;\">\n",
       "      <th></th>\n",
       "      <th>行业</th>\n",
       "      <th>价格</th>\n",
       "      <th>交易量</th>\n",
       "      <th>雇员</th>\n",
       "    </tr>\n",
       "    <tr>\n",
       "      <th>代号</th>\n",
       "      <th></th>\n",
       "      <th></th>\n",
       "      <th></th>\n",
       "      <th></th>\n",
       "    </tr>\n",
       "  </thead>\n",
       "  <tbody>\n",
       "    <tr>\n",
       "      <th>MS</th>\n",
       "      <td>金融</td>\n",
       "      <td>41.79</td>\n",
       "      <td>10132145</td>\n",
       "      <td>60348</td>\n",
       "    </tr>\n",
       "    <tr>\n",
       "      <th>GS</th>\n",
       "      <td>金融</td>\n",
       "      <td>196.00</td>\n",
       "      <td>2626634</td>\n",
       "      <td>36600</td>\n",
       "    </tr>\n",
       "  </tbody>\n",
       "</table>\n",
       "</div>"
      ],
      "text/plain": [
       "    行业      价格       交易量     雇员\n",
       "代号                             \n",
       "MS  金融   41.79  10132145  60348\n",
       "GS  金融  196.00   2626634  36600"
      ]
     },
     "execution_count": 52,
     "metadata": {},
     "output_type": "execute_result"
    }
   ],
   "source": [
    "# 用 loc 获取标签从 ‘MS‘ 到 'GS' 的 sub-DataFrame\n",
    "df.loc[ 'MS':'GS', : ]"
   ]
  },
  {
   "cell_type": "code",
   "execution_count": 53,
   "metadata": {},
   "outputs": [
    {
     "data": {
      "text/html": [
       "<div>\n",
       "<style scoped>\n",
       "    .dataframe tbody tr th:only-of-type {\n",
       "        vertical-align: middle;\n",
       "    }\n",
       "\n",
       "    .dataframe tbody tr th {\n",
       "        vertical-align: top;\n",
       "    }\n",
       "\n",
       "    .dataframe thead th {\n",
       "        text-align: right;\n",
       "    }\n",
       "</style>\n",
       "<table border=\"1\" class=\"dataframe\">\n",
       "  <thead>\n",
       "    <tr style=\"text-align: right;\">\n",
       "      <th></th>\n",
       "      <th>行业</th>\n",
       "      <th>价格</th>\n",
       "      <th>交易量</th>\n",
       "      <th>雇员</th>\n",
       "    </tr>\n",
       "    <tr>\n",
       "      <th>代号</th>\n",
       "      <th></th>\n",
       "      <th></th>\n",
       "      <th></th>\n",
       "      <th></th>\n",
       "    </tr>\n",
       "  </thead>\n",
       "  <tbody>\n",
       "  </tbody>\n",
       "</table>\n",
       "</div>"
      ],
      "text/plain": [
       "Empty DataFrame\n",
       "Columns: [行业, 价格, 交易量, 雇员]\n",
       "Index: []"
      ]
     },
     "execution_count": 53,
     "metadata": {},
     "output_type": "execute_result"
    }
   ],
   "source": [
    "# 注意 ‘MS’:’GS’ 要按着 index 里面元素的顺序，要不然会返回一个空的 DataFrame\n",
    "df.loc[ 'MS':'JD', : ]"
   ]
  },
  {
   "cell_type": "code",
   "execution_count": 54,
   "metadata": {},
   "outputs": [
    {
     "data": {
      "text/html": [
       "<div>\n",
       "<style scoped>\n",
       "    .dataframe tbody tr th:only-of-type {\n",
       "        vertical-align: middle;\n",
       "    }\n",
       "\n",
       "    .dataframe tbody tr th {\n",
       "        vertical-align: top;\n",
       "    }\n",
       "\n",
       "    .dataframe thead th {\n",
       "        text-align: right;\n",
       "    }\n",
       "</style>\n",
       "<table border=\"1\" class=\"dataframe\">\n",
       "  <thead>\n",
       "    <tr style=\"text-align: right;\">\n",
       "      <th></th>\n",
       "      <th>行业</th>\n",
       "      <th>价格</th>\n",
       "      <th>交易量</th>\n",
       "      <th>雇员</th>\n",
       "    </tr>\n",
       "    <tr>\n",
       "      <th>代号</th>\n",
       "      <th></th>\n",
       "      <th></th>\n",
       "      <th></th>\n",
       "      <th></th>\n",
       "    </tr>\n",
       "  </thead>\n",
       "  <tbody>\n",
       "    <tr>\n",
       "      <th>JD</th>\n",
       "      <td>电商</td>\n",
       "      <td>25.95</td>\n",
       "      <td>27113291</td>\n",
       "      <td>175336</td>\n",
       "    </tr>\n",
       "    <tr>\n",
       "      <th>AAPL</th>\n",
       "      <td>科技</td>\n",
       "      <td>172.97</td>\n",
       "      <td>18913154</td>\n",
       "      <td>100000</td>\n",
       "    </tr>\n",
       "  </tbody>\n",
       "</table>\n",
       "</div>"
      ],
      "text/plain": [
       "      行业      价格       交易量      雇员\n",
       "代号                                \n",
       "JD    电商   25.95  27113291  175336\n",
       "AAPL  科技  172.97  18913154  100000"
      ]
     },
     "execution_count": 54,
     "metadata": {},
     "output_type": "execute_result"
    }
   ],
   "source": [
    "# 用 iloc 获取第 2 到 3 行的 sub-DataFrame\n",
    "df.iloc[ 1:3, : ]"
   ]
  },
  {
   "cell_type": "markdown",
   "metadata": {},
   "source": [
    "建议，只用 loc 和 iloc"
   ]
  },
  {
   "cell_type": "markdown",
   "metadata": {},
   "source": [
    "## 切片行和列"
   ]
  },
  {
   "cell_type": "code",
   "execution_count": 55,
   "metadata": {},
   "outputs": [
    {
     "data": {
      "text/html": [
       "<div>\n",
       "<style scoped>\n",
       "    .dataframe tbody tr th:only-of-type {\n",
       "        vertical-align: middle;\n",
       "    }\n",
       "\n",
       "    .dataframe tbody tr th {\n",
       "        vertical-align: top;\n",
       "    }\n",
       "\n",
       "    .dataframe thead th {\n",
       "        text-align: right;\n",
       "    }\n",
       "</style>\n",
       "<table border=\"1\" class=\"dataframe\">\n",
       "  <thead>\n",
       "    <tr style=\"text-align: right;\">\n",
       "      <th></th>\n",
       "      <th>价格</th>\n",
       "      <th>交易量</th>\n",
       "      <th>雇员</th>\n",
       "    </tr>\n",
       "    <tr>\n",
       "      <th>代号</th>\n",
       "      <th></th>\n",
       "      <th></th>\n",
       "      <th></th>\n",
       "    </tr>\n",
       "  </thead>\n",
       "  <tbody>\n",
       "    <tr>\n",
       "      <th>GS</th>\n",
       "      <td>196.00</td>\n",
       "      <td>2626634</td>\n",
       "      <td>36600</td>\n",
       "    </tr>\n",
       "    <tr>\n",
       "      <th>WMT</th>\n",
       "      <td>99.55</td>\n",
       "      <td>8086946</td>\n",
       "      <td>2200000</td>\n",
       "    </tr>\n",
       "  </tbody>\n",
       "</table>\n",
       "</div>"
      ],
      "text/plain": [
       "         价格      交易量       雇员\n",
       "代号                           \n",
       "GS   196.00  2626634    36600\n",
       "WMT   99.55  8086946  2200000"
      ]
     },
     "execution_count": 55,
     "metadata": {},
     "output_type": "execute_result"
    }
   ],
   "source": [
    "# 用 loc 获取行标签从 ‘GS‘ 到 'WMT'，列标签从'价格'到最后的 sub-DataFrame\n",
    "df.loc[ 'GS':'WMT', '价格': ]"
   ]
  },
  {
   "cell_type": "code",
   "execution_count": 56,
   "metadata": {},
   "outputs": [
    {
     "data": {
      "text/html": [
       "<div>\n",
       "<style scoped>\n",
       "    .dataframe tbody tr th:only-of-type {\n",
       "        vertical-align: middle;\n",
       "    }\n",
       "\n",
       "    .dataframe tbody tr th {\n",
       "        vertical-align: top;\n",
       "    }\n",
       "\n",
       "    .dataframe thead th {\n",
       "        text-align: right;\n",
       "    }\n",
       "</style>\n",
       "<table border=\"1\" class=\"dataframe\">\n",
       "  <thead>\n",
       "    <tr style=\"text-align: right;\">\n",
       "      <th></th>\n",
       "      <th>价格</th>\n",
       "      <th>交易量</th>\n",
       "    </tr>\n",
       "    <tr>\n",
       "      <th>代号</th>\n",
       "      <th></th>\n",
       "      <th></th>\n",
       "    </tr>\n",
       "  </thead>\n",
       "  <tbody>\n",
       "    <tr>\n",
       "      <th>BABA</th>\n",
       "      <td>176.92</td>\n",
       "      <td>16175610</td>\n",
       "    </tr>\n",
       "    <tr>\n",
       "      <th>JD</th>\n",
       "      <td>25.95</td>\n",
       "      <td>27113291</td>\n",
       "    </tr>\n",
       "  </tbody>\n",
       "</table>\n",
       "</div>"
      ],
      "text/plain": [
       "          价格       交易量\n",
       "代号                    \n",
       "BABA  176.92  16175610\n",
       "JD     25.95  27113291"
      ]
     },
     "execution_count": 56,
     "metadata": {},
     "output_type": "execute_result"
    }
   ],
   "source": [
    "# 用 iloc 获取第 1 到 2 行，第 1 到 2 列的 sub-DataFrame\n",
    "df.iloc[ :2, 1:3 ]"
   ]
  },
  {
   "cell_type": "markdown",
   "metadata": {},
   "source": [
    "## 高级索引"
   ]
  },
  {
   "cell_type": "markdown",
   "metadata": {},
   "source": [
    "高级索引 (advanced indexing) 可以用布尔索引 (boolean indexing) 和调用函数 (callable function) 来实现，两种方法都返回一组“正确”的索引，而且可以和 loc , iloc , [] 一起套用，具体形式有以下常见几种：\n",
    "\n",
    "\n",
    "\n",
    "- df.loc[布尔索引, :] \n",
    "\n",
    "- df.iloc[布尔索引, :] \n",
    "\n",
    "- df[布尔索引] \n",
    "\n",
    "- df.loc[调用函数, :]  \n",
    "\n",
    "- df.iloc[调用函数, :] \n",
    "\n",
    "- df[调用函数] \n",
    "\n",
    "\n",
    "\n",
    "还有以下罕见几种：\n",
    "\n",
    "\n",
    "\n",
    "- df.loc[:, 布尔索引] \n",
    "\n",
    "- df.iloc[:, 布尔索引] \n",
    "\n",
    "- df.loc[:, 调用函数]  \n",
    "\n",
    "- df.iloc[:, 调用函数] "
   ]
  },
  {
   "cell_type": "markdown",
   "metadata": {},
   "source": [
    "### 布尔索引"
   ]
  },
  {
   "cell_type": "code",
   "execution_count": 57,
   "metadata": {},
   "outputs": [
    {
     "name": "stdout",
     "output_type": "stream",
     "text": [
      "代号\n",
      "BABA     True\n",
      "JD       True\n",
      "AAPL     True\n",
      "MS      False\n",
      "GS      False\n",
      "WMT      True\n",
      "Name: 雇员, dtype: bool\n"
     ]
    },
    {
     "data": {
      "text/html": [
       "<div>\n",
       "<style scoped>\n",
       "    .dataframe tbody tr th:only-of-type {\n",
       "        vertical-align: middle;\n",
       "    }\n",
       "\n",
       "    .dataframe tbody tr th {\n",
       "        vertical-align: top;\n",
       "    }\n",
       "\n",
       "    .dataframe thead th {\n",
       "        text-align: right;\n",
       "    }\n",
       "</style>\n",
       "<table border=\"1\" class=\"dataframe\">\n",
       "  <thead>\n",
       "    <tr style=\"text-align: right;\">\n",
       "      <th></th>\n",
       "      <th>行业</th>\n",
       "      <th>价格</th>\n",
       "      <th>交易量</th>\n",
       "      <th>雇员</th>\n",
       "    </tr>\n",
       "    <tr>\n",
       "      <th>代号</th>\n",
       "      <th></th>\n",
       "      <th></th>\n",
       "      <th></th>\n",
       "      <th></th>\n",
       "    </tr>\n",
       "  </thead>\n",
       "  <tbody>\n",
       "    <tr>\n",
       "      <th>BABA</th>\n",
       "      <td>电商</td>\n",
       "      <td>176.92</td>\n",
       "      <td>16175610</td>\n",
       "      <td>101550</td>\n",
       "    </tr>\n",
       "    <tr>\n",
       "      <th>JD</th>\n",
       "      <td>电商</td>\n",
       "      <td>25.95</td>\n",
       "      <td>27113291</td>\n",
       "      <td>175336</td>\n",
       "    </tr>\n",
       "    <tr>\n",
       "      <th>AAPL</th>\n",
       "      <td>科技</td>\n",
       "      <td>172.97</td>\n",
       "      <td>18913154</td>\n",
       "      <td>100000</td>\n",
       "    </tr>\n",
       "    <tr>\n",
       "      <th>WMT</th>\n",
       "      <td>零售</td>\n",
       "      <td>99.55</td>\n",
       "      <td>8086946</td>\n",
       "      <td>2200000</td>\n",
       "    </tr>\n",
       "  </tbody>\n",
       "</table>\n",
       "</div>"
      ],
      "text/plain": [
       "      行业      价格       交易量       雇员\n",
       "代号                                 \n",
       "BABA  电商  176.92  16175610   101550\n",
       "JD    电商   25.95  27113291   175336\n",
       "AAPL  科技  172.97  18913154   100000\n",
       "WMT   零售   99.55   8086946  2200000"
      ]
     },
     "execution_count": 57,
     "metadata": {},
     "output_type": "execute_result"
    }
   ],
   "source": [
    "# 过滤掉雇员小于 100,000 人的公司\n",
    "print( df.雇员 >= 100000 )\n",
    "df.loc[ df.雇员 >= 100000, : ]"
   ]
  },
  {
   "cell_type": "code",
   "execution_count": 58,
   "metadata": {},
   "outputs": [
    {
     "name": "stdout",
     "output_type": "stream",
     "text": [
      "行业     False\n",
      "价格     False\n",
      "交易量     True\n",
      "雇员      True\n",
      "dtype: bool\n"
     ]
    },
    {
     "data": {
      "text/html": [
       "<div>\n",
       "<style scoped>\n",
       "    .dataframe tbody tr th:only-of-type {\n",
       "        vertical-align: middle;\n",
       "    }\n",
       "\n",
       "    .dataframe tbody tr th {\n",
       "        vertical-align: top;\n",
       "    }\n",
       "\n",
       "    .dataframe thead th {\n",
       "        text-align: right;\n",
       "    }\n",
       "</style>\n",
       "<table border=\"1\" class=\"dataframe\">\n",
       "  <thead>\n",
       "    <tr style=\"text-align: right;\">\n",
       "      <th></th>\n",
       "      <th>交易量</th>\n",
       "      <th>雇员</th>\n",
       "    </tr>\n",
       "    <tr>\n",
       "      <th>代号</th>\n",
       "      <th></th>\n",
       "      <th></th>\n",
       "    </tr>\n",
       "  </thead>\n",
       "  <tbody>\n",
       "    <tr>\n",
       "      <th>BABA</th>\n",
       "      <td>16175610</td>\n",
       "      <td>101550</td>\n",
       "    </tr>\n",
       "    <tr>\n",
       "      <th>JD</th>\n",
       "      <td>27113291</td>\n",
       "      <td>175336</td>\n",
       "    </tr>\n",
       "    <tr>\n",
       "      <th>AAPL</th>\n",
       "      <td>18913154</td>\n",
       "      <td>100000</td>\n",
       "    </tr>\n",
       "    <tr>\n",
       "      <th>MS</th>\n",
       "      <td>10132145</td>\n",
       "      <td>60348</td>\n",
       "    </tr>\n",
       "    <tr>\n",
       "      <th>GS</th>\n",
       "      <td>2626634</td>\n",
       "      <td>36600</td>\n",
       "    </tr>\n",
       "    <tr>\n",
       "      <th>WMT</th>\n",
       "      <td>8086946</td>\n",
       "      <td>2200000</td>\n",
       "    </tr>\n",
       "  </tbody>\n",
       "</table>\n",
       "</div>"
      ],
      "text/plain": [
       "           交易量       雇员\n",
       "代号                     \n",
       "BABA  16175610   101550\n",
       "JD    27113291   175336\n",
       "AAPL  18913154   100000\n",
       "MS    10132145    60348\n",
       "GS     2626634    36600\n",
       "WMT    8086946  2200000"
      ]
     },
     "execution_count": 58,
     "metadata": {},
     "output_type": "execute_result"
    }
   ],
   "source": [
    "# 找到所有值为整数型的 columns\n",
    "print( df.dtypes == 'int64' )\n",
    "df.loc[ :, df.dtypes == 'int64' ]"
   ]
  },
  {
   "cell_type": "markdown",
   "metadata": {},
   "source": [
    "### 调用函数"
   ]
  },
  {
   "cell_type": "code",
   "execution_count": 59,
   "metadata": {},
   "outputs": [
    {
     "data": {
      "text/html": [
       "<div>\n",
       "<style scoped>\n",
       "    .dataframe tbody tr th:only-of-type {\n",
       "        vertical-align: middle;\n",
       "    }\n",
       "\n",
       "    .dataframe tbody tr th {\n",
       "        vertical-align: top;\n",
       "    }\n",
       "\n",
       "    .dataframe thead th {\n",
       "        text-align: right;\n",
       "    }\n",
       "</style>\n",
       "<table border=\"1\" class=\"dataframe\">\n",
       "  <thead>\n",
       "    <tr style=\"text-align: right;\">\n",
       "      <th></th>\n",
       "      <th>行业</th>\n",
       "      <th>价格</th>\n",
       "      <th>交易量</th>\n",
       "      <th>雇员</th>\n",
       "    </tr>\n",
       "    <tr>\n",
       "      <th>代号</th>\n",
       "      <th></th>\n",
       "      <th></th>\n",
       "      <th></th>\n",
       "      <th></th>\n",
       "    </tr>\n",
       "  </thead>\n",
       "  <tbody>\n",
       "    <tr>\n",
       "      <th>BABA</th>\n",
       "      <td>电商</td>\n",
       "      <td>176.92</td>\n",
       "      <td>16175610</td>\n",
       "      <td>101550</td>\n",
       "    </tr>\n",
       "    <tr>\n",
       "      <th>JD</th>\n",
       "      <td>电商</td>\n",
       "      <td>25.95</td>\n",
       "      <td>27113291</td>\n",
       "      <td>175336</td>\n",
       "    </tr>\n",
       "    <tr>\n",
       "      <th>AAPL</th>\n",
       "      <td>科技</td>\n",
       "      <td>172.97</td>\n",
       "      <td>18913154</td>\n",
       "      <td>100000</td>\n",
       "    </tr>\n",
       "  </tbody>\n",
       "</table>\n",
       "</div>"
      ],
      "text/plain": [
       "      行业      价格       交易量      雇员\n",
       "代号                                \n",
       "BABA  电商  176.92  16175610  101550\n",
       "JD    电商   25.95  27113291  175336\n",
       "AAPL  科技  172.97  18913154  100000"
      ]
     },
     "execution_count": 59,
     "metadata": {},
     "output_type": "execute_result"
    }
   ],
   "source": [
    "# 找出交易量大于平均交易量的所有公司\n",
    "df.loc[lambda x : x.交易量 > x.交易量.mean(),:]"
   ]
  },
  {
   "cell_type": "code",
   "execution_count": 60,
   "metadata": {},
   "outputs": [
    {
     "data": {
      "text/html": [
       "<div>\n",
       "<style scoped>\n",
       "    .dataframe tbody tr th:only-of-type {\n",
       "        vertical-align: middle;\n",
       "    }\n",
       "\n",
       "    .dataframe tbody tr th {\n",
       "        vertical-align: top;\n",
       "    }\n",
       "\n",
       "    .dataframe thead th {\n",
       "        text-align: right;\n",
       "    }\n",
       "</style>\n",
       "<table border=\"1\" class=\"dataframe\">\n",
       "  <thead>\n",
       "    <tr style=\"text-align: right;\">\n",
       "      <th></th>\n",
       "      <th>行业</th>\n",
       "      <th>价格</th>\n",
       "      <th>交易量</th>\n",
       "      <th>雇员</th>\n",
       "    </tr>\n",
       "    <tr>\n",
       "      <th>代号</th>\n",
       "      <th></th>\n",
       "      <th></th>\n",
       "      <th></th>\n",
       "      <th></th>\n",
       "    </tr>\n",
       "  </thead>\n",
       "  <tbody>\n",
       "    <tr>\n",
       "      <th>BABA</th>\n",
       "      <td>电商</td>\n",
       "      <td>176.92</td>\n",
       "      <td>16175610</td>\n",
       "      <td>101550</td>\n",
       "    </tr>\n",
       "    <tr>\n",
       "      <th>AAPL</th>\n",
       "      <td>科技</td>\n",
       "      <td>172.97</td>\n",
       "      <td>18913154</td>\n",
       "      <td>100000</td>\n",
       "    </tr>\n",
       "  </tbody>\n",
       "</table>\n",
       "</div>"
      ],
      "text/plain": [
       "      行业      价格       交易量      雇员\n",
       "代号                                \n",
       "BABA  电商  176.92  16175610  101550\n",
       "AAPL  科技  172.97  18913154  100000"
      ]
     },
     "execution_count": 60,
     "metadata": {},
     "output_type": "execute_result"
    }
   ],
   "source": [
    "# 在上面基础上再加一个条件 -- 价格要在 100 之上 \n",
    "df.loc[lambda x :(x.交易量>x.交易量.mean())&(x.价格>100),:]"
   ]
  },
  {
   "cell_type": "code",
   "execution_count": 61,
   "metadata": {},
   "outputs": [
    {
     "data": {
      "text/plain": [
       "代号\n",
       "BABA    176.92\n",
       "AAPL    172.97\n",
       "GS      196.00\n",
       "Name: 价格, dtype: float64"
      ]
     },
     "execution_count": 61,
     "metadata": {},
     "output_type": "execute_result"
    }
   ],
   "source": [
    "# 价格大于 100 的股票\n",
    "df.价格.loc[lambda x :x>100]"
   ]
  },
  {
   "cell_type": "markdown",
   "metadata": {},
   "source": [
    "### 多层索引"
   ]
  },
  {
   "cell_type": "markdown",
   "metadata": {},
   "source": [
    "#### 多层索引Series"
   ]
  },
  {
   "cell_type": "code",
   "execution_count": 62,
   "metadata": {},
   "outputs": [
    {
     "data": {
      "text/plain": [
       "2019-04-01  BABA    190\n",
       "            JD       32\n",
       "            GS      196\n",
       "2019-04-02  BABA    192\n",
       "            GS      200\n",
       "2019-04-03  BABA    189\n",
       "            JD       31\n",
       "2019-04-04  JD       30\n",
       "            GS      199\n",
       "dtype: int64"
      ]
     },
     "execution_count": 62,
     "metadata": {},
     "output_type": "execute_result"
    }
   ],
   "source": [
    "# 定义一个 Series，注意它的 index 是一个二维列表，列表第一行 dates 作为第一层索引，第二行 codes 作为第二层索引\n",
    "\n",
    "price = [190,32,196,192,200,189,31,30,199]\n",
    "dates = ['2019-04-01']*3 + ['2019-04-02']*2+['2019-04-03']*2 + ['2019-04-04']*2\n",
    "codes = ['BABA','JD','GS','BABA','GS','BABA','JD','JD','GS']\n",
    "\n",
    "data = pd.Series( price,index=[ dates, codes ])\n",
    "data"
   ]
  },
  {
   "cell_type": "code",
   "execution_count": 63,
   "metadata": {},
   "outputs": [
    {
     "data": {
      "text/plain": [
       "MultiIndex(levels=[['2019-04-01', '2019-04-02', '2019-04-03', '2019-04-04'], ['BABA', 'GS', 'JD']],\n",
       "           labels=[[0, 0, 0, 1, 1, 2, 2, 3, 3], [0, 2, 1, 0, 1, 0, 2, 2, 1]])"
      ]
     },
     "execution_count": 63,
     "metadata": {},
     "output_type": "execute_result"
    }
   ],
   "source": [
    "data.index"
   ]
  },
  {
   "cell_type": "code",
   "execution_count": 64,
   "metadata": {},
   "outputs": [
    {
     "data": {
      "text/plain": [
       "BABA    192\n",
       "GS      200\n",
       "dtype: int64"
      ]
     },
     "execution_count": 64,
     "metadata": {},
     "output_type": "execute_result"
    }
   ],
   "source": [
    "# 用 [] 加第一层索引可以获取第一层信息\n",
    "data['2019-04-02']"
   ]
  },
  {
   "cell_type": "code",
   "execution_count": 65,
   "metadata": {},
   "outputs": [
    {
     "data": {
      "text/plain": [
       "2019-04-02  BABA    192\n",
       "            GS      200\n",
       "2019-04-03  BABA    189\n",
       "            JD       31\n",
       "2019-04-04  JD       30\n",
       "            GS      199\n",
       "dtype: int64"
      ]
     },
     "execution_count": 65,
     "metadata": {},
     "output_type": "execute_result"
    }
   ],
   "source": [
    "# 同理，用 loc 加第一层索引也可以切片获取第一层信息\n",
    "data.loc['2019-04-02':'2019-04-04']"
   ]
  },
  {
   "cell_type": "code",
   "execution_count": 66,
   "metadata": {},
   "outputs": [
    {
     "data": {
      "text/plain": [
       "2019-04-01    196\n",
       "2019-04-02    200\n",
       "2019-04-04    199\n",
       "dtype: int64"
      ]
     },
     "execution_count": 66,
     "metadata": {},
     "output_type": "execute_result"
    }
   ],
   "source": [
    "# 切片还可以在不同层上进行，下面 loc  中的冒号 : 表示第一层所有元素，‘GS’ 表示第二层标签为 ‘GS’\n",
    "data.loc[ :, 'GS' ]"
   ]
  },
  {
   "cell_type": "markdown",
   "metadata": {},
   "source": [
    "#### 多层索引DataFrame"
   ]
  },
  {
   "cell_type": "code",
   "execution_count": 67,
   "metadata": {},
   "outputs": [
    {
     "data": {
      "text/html": [
       "<div>\n",
       "<style scoped>\n",
       "    .dataframe tbody tr th:only-of-type {\n",
       "        vertical-align: middle;\n",
       "    }\n",
       "\n",
       "    .dataframe tbody tr th {\n",
       "        vertical-align: top;\n",
       "    }\n",
       "\n",
       "    .dataframe thead tr th {\n",
       "        text-align: left;\n",
       "    }\n",
       "\n",
       "    .dataframe thead tr:last-of-type th {\n",
       "        text-align: right;\n",
       "    }\n",
       "</style>\n",
       "<table border=\"1\" class=\"dataframe\">\n",
       "  <thead>\n",
       "    <tr>\n",
       "      <th></th>\n",
       "      <th>概括</th>\n",
       "      <th colspan=\"2\" halign=\"left\">公司数据</th>\n",
       "      <th colspan=\"2\" halign=\"left\">交易数据</th>\n",
       "    </tr>\n",
       "    <tr>\n",
       "      <th></th>\n",
       "      <th>细分</th>\n",
       "      <th>行业</th>\n",
       "      <th>雇员</th>\n",
       "      <th>价格</th>\n",
       "      <th>交易量</th>\n",
       "    </tr>\n",
       "    <tr>\n",
       "      <th>地区</th>\n",
       "      <th>代号</th>\n",
       "      <th></th>\n",
       "      <th></th>\n",
       "      <th></th>\n",
       "      <th></th>\n",
       "    </tr>\n",
       "  </thead>\n",
       "  <tbody>\n",
       "    <tr>\n",
       "      <th rowspan=\"2\" valign=\"top\">中国</th>\n",
       "      <th>BABA</th>\n",
       "      <td>电商</td>\n",
       "      <td>101550</td>\n",
       "      <td>176.92</td>\n",
       "      <td>16175610</td>\n",
       "    </tr>\n",
       "    <tr>\n",
       "      <th>JD</th>\n",
       "      <td>电商</td>\n",
       "      <td>175336</td>\n",
       "      <td>25.95</td>\n",
       "      <td>27113291</td>\n",
       "    </tr>\n",
       "    <tr>\n",
       "      <th rowspan=\"2\" valign=\"top\">美国</th>\n",
       "      <th>GS</th>\n",
       "      <td>金融</td>\n",
       "      <td>60348</td>\n",
       "      <td>41.79</td>\n",
       "      <td>10132145</td>\n",
       "    </tr>\n",
       "    <tr>\n",
       "      <th>MS</th>\n",
       "      <td>金融</td>\n",
       "      <td>36600</td>\n",
       "      <td>196.00</td>\n",
       "      <td>2626634</td>\n",
       "    </tr>\n",
       "  </tbody>\n",
       "</table>\n",
       "</div>"
      ],
      "text/plain": [
       "概括      公司数据            交易数据          \n",
       "细分        行业      雇员      价格       交易量\n",
       "地区 代号                                 \n",
       "中国 BABA   电商  101550  176.92  16175610\n",
       "   JD     电商  175336   25.95  27113291\n",
       "美国 GS     金融   60348   41.79  10132145\n",
       "   MS     金融   36600  196.00   2626634"
      ]
     },
     "execution_count": 67,
     "metadata": {},
     "output_type": "execute_result"
    }
   ],
   "source": [
    "# 注意midx 和 mcol 都是对象，各种都有 levels, labels, names 等性质\n",
    "\n",
    "data = [ ['电商', 101550, 176.92, 16175610], \n",
    "         ['电商', 175336, 25.95, 27113291], \n",
    "         ['金融', 60348, 41.79, 10132145], \n",
    "         ['金融', 36600, 196.00, 2626634] ]\n",
    "\n",
    "midx = pd.MultiIndex( \n",
    "          levels=[['中国','美国'],\n",
    "                  ['BABA', 'JD', 'GS', 'MS']], \n",
    "          labels=[[0,0,1,1],[0,1,2,3]],\n",
    "          names=['地区', '代号'])\n",
    "\n",
    "mcol = pd.MultiIndex( \n",
    "          levels=[['公司数据','交易数据'],\n",
    "                  ['行业','雇员','价格','交易量']], \n",
    "          labels=[[0,0,1,1],[0,1,2,3]],\n",
    "          names=['概括','细分'])\n",
    "\n",
    "df = pd.DataFrame(data, index=midx, columns=mcol)\n",
    "df"
   ]
  },
  {
   "cell_type": "code",
   "execution_count": 68,
   "metadata": {},
   "outputs": [
    {
     "data": {
      "text/plain": [
       "地区  代号  \n",
       "中国  BABA    电商\n",
       "    JD      电商\n",
       "美国  GS      金融\n",
       "    MS      金融\n",
       "Name: (公司数据, 行业), dtype: object"
      ]
     },
     "execution_count": 68,
     "metadata": {},
     "output_type": "execute_result"
    }
   ],
   "source": [
    "# 在第一层 columns 的 ‘公司数据’ 和第二层 columns 的 ‘行业’ 做索引\n",
    "df['公司数据','行业']"
   ]
  },
  {
   "cell_type": "code",
   "execution_count": 220,
   "metadata": {},
   "outputs": [
    {
     "data": {
      "text/html": [
       "<div>\n",
       "<style scoped>\n",
       "    .dataframe tbody tr th:only-of-type {\n",
       "        vertical-align: middle;\n",
       "    }\n",
       "\n",
       "    .dataframe tbody tr th {\n",
       "        vertical-align: top;\n",
       "    }\n",
       "\n",
       "    .dataframe thead th {\n",
       "        text-align: right;\n",
       "    }\n",
       "</style>\n",
       "<table border=\"1\" class=\"dataframe\">\n",
       "  <thead>\n",
       "    <tr style=\"text-align: right;\">\n",
       "      <th>特征</th>\n",
       "      <th>行业</th>\n",
       "      <th>雇员</th>\n",
       "      <th>价格</th>\n",
       "    </tr>\n",
       "    <tr>\n",
       "      <th>代号</th>\n",
       "      <th></th>\n",
       "      <th></th>\n",
       "      <th></th>\n",
       "    </tr>\n",
       "  </thead>\n",
       "  <tbody>\n",
       "    <tr>\n",
       "      <th>BABA</th>\n",
       "      <td>电商</td>\n",
       "      <td>101550</td>\n",
       "      <td>176.92</td>\n",
       "    </tr>\n",
       "    <tr>\n",
       "      <th>JD</th>\n",
       "      <td>电商</td>\n",
       "      <td>175336</td>\n",
       "      <td>25.95</td>\n",
       "    </tr>\n",
       "  </tbody>\n",
       "</table>\n",
       "</div>"
      ],
      "text/plain": [
       "特征    行业      雇员      价格\n",
       "代号                      \n",
       "BABA  电商  101550  176.92\n",
       "JD    电商  175336   25.95"
      ]
     },
     "execution_count": 220,
     "metadata": {},
     "output_type": "execute_result"
    }
   ],
   "source": [
    "# 在第一层 index 的 ‘中国’ 做切片，得到一个含两层 columns 的 DataFrame\n",
    "df.loc['中国']"
   ]
  },
  {
   "cell_type": "code",
   "execution_count": 70,
   "metadata": {},
   "outputs": [
    {
     "data": {
      "text/html": [
       "<div>\n",
       "<style scoped>\n",
       "    .dataframe tbody tr th:only-of-type {\n",
       "        vertical-align: middle;\n",
       "    }\n",
       "\n",
       "    .dataframe tbody tr th {\n",
       "        vertical-align: top;\n",
       "    }\n",
       "\n",
       "    .dataframe thead tr th {\n",
       "        text-align: left;\n",
       "    }\n",
       "\n",
       "    .dataframe thead tr:last-of-type th {\n",
       "        text-align: right;\n",
       "    }\n",
       "</style>\n",
       "<table border=\"1\" class=\"dataframe\">\n",
       "  <thead>\n",
       "    <tr>\n",
       "      <th></th>\n",
       "      <th>概括</th>\n",
       "      <th colspan=\"2\" halign=\"left\">公司数据</th>\n",
       "      <th colspan=\"2\" halign=\"left\">交易数据</th>\n",
       "    </tr>\n",
       "    <tr>\n",
       "      <th></th>\n",
       "      <th>细分</th>\n",
       "      <th>行业</th>\n",
       "      <th>雇员</th>\n",
       "      <th>价格</th>\n",
       "      <th>交易量</th>\n",
       "    </tr>\n",
       "    <tr>\n",
       "      <th>代号</th>\n",
       "      <th>地区</th>\n",
       "      <th></th>\n",
       "      <th></th>\n",
       "      <th></th>\n",
       "      <th></th>\n",
       "    </tr>\n",
       "  </thead>\n",
       "  <tbody>\n",
       "    <tr>\n",
       "      <th>BABA</th>\n",
       "      <th>中国</th>\n",
       "      <td>电商</td>\n",
       "      <td>101550</td>\n",
       "      <td>176.92</td>\n",
       "      <td>16175610</td>\n",
       "    </tr>\n",
       "    <tr>\n",
       "      <th>JD</th>\n",
       "      <th>中国</th>\n",
       "      <td>电商</td>\n",
       "      <td>175336</td>\n",
       "      <td>25.95</td>\n",
       "      <td>27113291</td>\n",
       "    </tr>\n",
       "    <tr>\n",
       "      <th>GS</th>\n",
       "      <th>美国</th>\n",
       "      <td>金融</td>\n",
       "      <td>60348</td>\n",
       "      <td>41.79</td>\n",
       "      <td>10132145</td>\n",
       "    </tr>\n",
       "    <tr>\n",
       "      <th>MS</th>\n",
       "      <th>美国</th>\n",
       "      <td>金融</td>\n",
       "      <td>36600</td>\n",
       "      <td>196.00</td>\n",
       "      <td>2626634</td>\n",
       "    </tr>\n",
       "  </tbody>\n",
       "</table>\n",
       "</div>"
      ],
      "text/plain": [
       "概括      公司数据            交易数据          \n",
       "细分        行业      雇员      价格       交易量\n",
       "代号   地区                               \n",
       "BABA 中国   电商  101550  176.92  16175610\n",
       "JD   中国   电商  175336   25.95  27113291\n",
       "GS   美国   金融   60348   41.79  10132145\n",
       "MS   美国   金融   36600  196.00   2626634"
      ]
     },
     "execution_count": 70,
     "metadata": {},
     "output_type": "execute_result"
    }
   ],
   "source": [
    "# 用 swaplevel 将 index level 的顺序调位\n",
    "df.swaplevel('地区', '代号')"
   ]
  },
  {
   "cell_type": "code",
   "execution_count": 71,
   "metadata": {},
   "outputs": [
    {
     "data": {
      "text/html": [
       "<div>\n",
       "<style scoped>\n",
       "    .dataframe tbody tr th:only-of-type {\n",
       "        vertical-align: middle;\n",
       "    }\n",
       "\n",
       "    .dataframe tbody tr th {\n",
       "        vertical-align: top;\n",
       "    }\n",
       "\n",
       "    .dataframe thead tr th {\n",
       "        text-align: left;\n",
       "    }\n",
       "\n",
       "    .dataframe thead tr:last-of-type th {\n",
       "        text-align: right;\n",
       "    }\n",
       "</style>\n",
       "<table border=\"1\" class=\"dataframe\">\n",
       "  <thead>\n",
       "    <tr>\n",
       "      <th></th>\n",
       "      <th>细分</th>\n",
       "      <th>行业</th>\n",
       "      <th>雇员</th>\n",
       "      <th>价格</th>\n",
       "      <th>交易量</th>\n",
       "    </tr>\n",
       "    <tr>\n",
       "      <th></th>\n",
       "      <th>概括</th>\n",
       "      <th>公司数据</th>\n",
       "      <th>公司数据</th>\n",
       "      <th>交易数据</th>\n",
       "      <th>交易数据</th>\n",
       "    </tr>\n",
       "    <tr>\n",
       "      <th>地区</th>\n",
       "      <th>代号</th>\n",
       "      <th></th>\n",
       "      <th></th>\n",
       "      <th></th>\n",
       "      <th></th>\n",
       "    </tr>\n",
       "  </thead>\n",
       "  <tbody>\n",
       "    <tr>\n",
       "      <th rowspan=\"2\" valign=\"top\">中国</th>\n",
       "      <th>BABA</th>\n",
       "      <td>电商</td>\n",
       "      <td>101550</td>\n",
       "      <td>176.92</td>\n",
       "      <td>16175610</td>\n",
       "    </tr>\n",
       "    <tr>\n",
       "      <th>JD</th>\n",
       "      <td>电商</td>\n",
       "      <td>175336</td>\n",
       "      <td>25.95</td>\n",
       "      <td>27113291</td>\n",
       "    </tr>\n",
       "    <tr>\n",
       "      <th rowspan=\"2\" valign=\"top\">美国</th>\n",
       "      <th>GS</th>\n",
       "      <td>金融</td>\n",
       "      <td>60348</td>\n",
       "      <td>41.79</td>\n",
       "      <td>10132145</td>\n",
       "    </tr>\n",
       "    <tr>\n",
       "      <th>MS</th>\n",
       "      <td>金融</td>\n",
       "      <td>36600</td>\n",
       "      <td>196.00</td>\n",
       "      <td>2626634</td>\n",
       "    </tr>\n",
       "  </tbody>\n",
       "</table>\n",
       "</div>"
      ],
      "text/plain": [
       "细分        行业      雇员      价格       交易量\n",
       "概括      公司数据    公司数据    交易数据      交易数据\n",
       "地区 代号                                 \n",
       "中国 BABA   电商  101550  176.92  16175610\n",
       "   JD     电商  175336   25.95  27113291\n",
       "美国 GS     金融   60348   41.79  10132145\n",
       "   MS     金融   36600  196.00   2626634"
      ]
     },
     "execution_count": 71,
     "metadata": {},
     "output_type": "execute_result"
    }
   ],
   "source": [
    "# 也可以用 swaplevel 将 columns level 的顺序调位\n",
    "df.columns = df.columns.swaplevel(0,1)\n",
    "df"
   ]
  },
  {
   "cell_type": "code",
   "execution_count": 72,
   "metadata": {},
   "outputs": [
    {
     "data": {
      "text/html": [
       "<div>\n",
       "<style scoped>\n",
       "    .dataframe tbody tr th:only-of-type {\n",
       "        vertical-align: middle;\n",
       "    }\n",
       "\n",
       "    .dataframe tbody tr th {\n",
       "        vertical-align: top;\n",
       "    }\n",
       "\n",
       "    .dataframe thead th {\n",
       "        text-align: right;\n",
       "    }\n",
       "</style>\n",
       "<table border=\"1\" class=\"dataframe\">\n",
       "  <thead>\n",
       "    <tr style=\"text-align: right;\">\n",
       "      <th></th>\n",
       "      <th>地区</th>\n",
       "      <th>代号</th>\n",
       "      <th>行业</th>\n",
       "      <th>价格</th>\n",
       "      <th>交易量</th>\n",
       "      <th>雇员</th>\n",
       "    </tr>\n",
       "  </thead>\n",
       "  <tbody>\n",
       "    <tr>\n",
       "      <th>0</th>\n",
       "      <td>中国</td>\n",
       "      <td>BABA</td>\n",
       "      <td>电商</td>\n",
       "      <td>176.92</td>\n",
       "      <td>16175610</td>\n",
       "      <td>101550</td>\n",
       "    </tr>\n",
       "    <tr>\n",
       "      <th>1</th>\n",
       "      <td>中国</td>\n",
       "      <td>JD</td>\n",
       "      <td>电商</td>\n",
       "      <td>25.95</td>\n",
       "      <td>27113291</td>\n",
       "      <td>175336</td>\n",
       "    </tr>\n",
       "    <tr>\n",
       "      <th>2</th>\n",
       "      <td>美国</td>\n",
       "      <td>MS</td>\n",
       "      <td>金融</td>\n",
       "      <td>41.79</td>\n",
       "      <td>10132145</td>\n",
       "      <td>60348</td>\n",
       "    </tr>\n",
       "    <tr>\n",
       "      <th>3</th>\n",
       "      <td>美国</td>\n",
       "      <td>GS</td>\n",
       "      <td>金融</td>\n",
       "      <td>196.00</td>\n",
       "      <td>2626634</td>\n",
       "      <td>36600</td>\n",
       "    </tr>\n",
       "  </tbody>\n",
       "</table>\n",
       "</div>"
      ],
      "text/plain": [
       "   地区    代号  行业      价格       交易量      雇员\n",
       "0  中国  BABA  电商  176.92  16175610  101550\n",
       "1  中国    JD  电商   25.95  27113291  175336\n",
       "2  美国    MS  金融   41.79  10132145   60348\n",
       "3  美国    GS  金融  196.00   2626634   36600"
      ]
     },
     "execution_count": 72,
     "metadata": {},
     "output_type": "execute_result"
    }
   ],
   "source": [
    "# 重设index\n",
    "data = {'地区': ['中国', '中国', '美国', '美国'],\n",
    "        '代号': ['BABA', 'JD', 'MS', 'GS'],\n",
    "        '行业': ['电商', '电商', '金融', '金融'],\n",
    "        '价格': [176.92, 25.95, 41.79, 196.00],\n",
    "        '交易量': [16175610, 27113291, 10132145, 2626634],\n",
    "        '雇员': [101550, 175336, 60348, 36600] }\n",
    "df = pd.DataFrame( data )\n",
    "df"
   ]
  },
  {
   "cell_type": "code",
   "execution_count": 73,
   "metadata": {},
   "outputs": [
    {
     "data": {
      "text/html": [
       "<div>\n",
       "<style scoped>\n",
       "    .dataframe tbody tr th:only-of-type {\n",
       "        vertical-align: middle;\n",
       "    }\n",
       "\n",
       "    .dataframe tbody tr th {\n",
       "        vertical-align: top;\n",
       "    }\n",
       "\n",
       "    .dataframe thead th {\n",
       "        text-align: right;\n",
       "    }\n",
       "</style>\n",
       "<table border=\"1\" class=\"dataframe\">\n",
       "  <thead>\n",
       "    <tr style=\"text-align: right;\">\n",
       "      <th></th>\n",
       "      <th></th>\n",
       "      <th>行业</th>\n",
       "      <th>价格</th>\n",
       "      <th>交易量</th>\n",
       "      <th>雇员</th>\n",
       "    </tr>\n",
       "    <tr>\n",
       "      <th>地区</th>\n",
       "      <th>代号</th>\n",
       "      <th></th>\n",
       "      <th></th>\n",
       "      <th></th>\n",
       "      <th></th>\n",
       "    </tr>\n",
       "  </thead>\n",
       "  <tbody>\n",
       "    <tr>\n",
       "      <th rowspan=\"2\" valign=\"top\">中国</th>\n",
       "      <th>BABA</th>\n",
       "      <td>电商</td>\n",
       "      <td>176.92</td>\n",
       "      <td>16175610</td>\n",
       "      <td>101550</td>\n",
       "    </tr>\n",
       "    <tr>\n",
       "      <th>JD</th>\n",
       "      <td>电商</td>\n",
       "      <td>25.95</td>\n",
       "      <td>27113291</td>\n",
       "      <td>175336</td>\n",
       "    </tr>\n",
       "    <tr>\n",
       "      <th rowspan=\"2\" valign=\"top\">美国</th>\n",
       "      <th>MS</th>\n",
       "      <td>金融</td>\n",
       "      <td>41.79</td>\n",
       "      <td>10132145</td>\n",
       "      <td>60348</td>\n",
       "    </tr>\n",
       "    <tr>\n",
       "      <th>GS</th>\n",
       "      <td>金融</td>\n",
       "      <td>196.00</td>\n",
       "      <td>2626634</td>\n",
       "      <td>36600</td>\n",
       "    </tr>\n",
       "  </tbody>\n",
       "</table>\n",
       "</div>"
      ],
      "text/plain": [
       "         行业      价格       交易量      雇员\n",
       "地区 代号                                \n",
       "中国 BABA  电商  176.92  16175610  101550\n",
       "   JD    电商   25.95  27113291  175336\n",
       "美国 MS    金融   41.79  10132145   60348\n",
       "   GS    金融  196.00   2626634   36600"
      ]
     },
     "execution_count": 73,
     "metadata": {},
     "output_type": "execute_result"
    }
   ],
   "source": [
    "# 用set_index将将「地区」和「代号」设置为第一层 index 和第二层 index\n",
    "df2 = df.set_index( ['地区','代号'] )\n",
    "df2"
   ]
  },
  {
   "cell_type": "code",
   "execution_count": 74,
   "metadata": {},
   "outputs": [
    {
     "data": {
      "text/html": [
       "<div>\n",
       "<style scoped>\n",
       "    .dataframe tbody tr th:only-of-type {\n",
       "        vertical-align: middle;\n",
       "    }\n",
       "\n",
       "    .dataframe tbody tr th {\n",
       "        vertical-align: top;\n",
       "    }\n",
       "\n",
       "    .dataframe thead th {\n",
       "        text-align: right;\n",
       "    }\n",
       "</style>\n",
       "<table border=\"1\" class=\"dataframe\">\n",
       "  <thead>\n",
       "    <tr style=\"text-align: right;\">\n",
       "      <th></th>\n",
       "      <th>地区</th>\n",
       "      <th>代号</th>\n",
       "      <th>行业</th>\n",
       "      <th>价格</th>\n",
       "      <th>交易量</th>\n",
       "      <th>雇员</th>\n",
       "    </tr>\n",
       "  </thead>\n",
       "  <tbody>\n",
       "    <tr>\n",
       "      <th>0</th>\n",
       "      <td>中国</td>\n",
       "      <td>BABA</td>\n",
       "      <td>电商</td>\n",
       "      <td>176.92</td>\n",
       "      <td>16175610</td>\n",
       "      <td>101550</td>\n",
       "    </tr>\n",
       "    <tr>\n",
       "      <th>1</th>\n",
       "      <td>中国</td>\n",
       "      <td>JD</td>\n",
       "      <td>电商</td>\n",
       "      <td>25.95</td>\n",
       "      <td>27113291</td>\n",
       "      <td>175336</td>\n",
       "    </tr>\n",
       "    <tr>\n",
       "      <th>2</th>\n",
       "      <td>美国</td>\n",
       "      <td>MS</td>\n",
       "      <td>金融</td>\n",
       "      <td>41.79</td>\n",
       "      <td>10132145</td>\n",
       "      <td>60348</td>\n",
       "    </tr>\n",
       "    <tr>\n",
       "      <th>3</th>\n",
       "      <td>美国</td>\n",
       "      <td>GS</td>\n",
       "      <td>金融</td>\n",
       "      <td>196.00</td>\n",
       "      <td>2626634</td>\n",
       "      <td>36600</td>\n",
       "    </tr>\n",
       "  </tbody>\n",
       "</table>\n",
       "</div>"
      ],
      "text/plain": [
       "   地区    代号  行业      价格       交易量      雇员\n",
       "0  中国  BABA  电商  176.92  16175610  101550\n",
       "1  中国    JD  电商   25.95  27113291  175336\n",
       "2  美国    MS  金融   41.79  10132145   60348\n",
       "3  美国    GS  金融  196.00   2626634   36600"
      ]
     },
     "execution_count": 74,
     "metadata": {},
     "output_type": "execute_result"
    }
   ],
   "source": [
    "# 将所有 index 变成 columns\n",
    "df2.reset_index()"
   ]
  },
  {
   "cell_type": "markdown",
   "metadata": {},
   "source": [
    "# 合并和连接"
   ]
  },
  {
   "cell_type": "markdown",
   "metadata": {},
   "source": [
    "数据表可以按「键」合并，用 merge 函数；可以按「轴」来连接，用 concat 函数。"
   ]
  },
  {
   "cell_type": "markdown",
   "metadata": {},
   "source": [
    "## 合并"
   ]
  },
  {
   "cell_type": "markdown",
   "metadata": {},
   "source": [
    "合并用merge函数,语法写成:\n",
    "pd.merge(df1,df2,how=s,on=c)"
   ]
  },
  {
   "cell_type": "code",
   "execution_count": 76,
   "metadata": {},
   "outputs": [
    {
     "data": {
      "text/html": [
       "<div>\n",
       "<style scoped>\n",
       "    .dataframe tbody tr th:only-of-type {\n",
       "        vertical-align: middle;\n",
       "    }\n",
       "\n",
       "    .dataframe tbody tr th {\n",
       "        vertical-align: top;\n",
       "    }\n",
       "\n",
       "    .dataframe thead th {\n",
       "        text-align: right;\n",
       "    }\n",
       "</style>\n",
       "<table border=\"1\" class=\"dataframe\">\n",
       "  <thead>\n",
       "    <tr style=\"text-align: right;\">\n",
       "      <th></th>\n",
       "      <th>Data</th>\n",
       "      <th>Adj Close</th>\n",
       "    </tr>\n",
       "  </thead>\n",
       "  <tbody>\n",
       "    <tr>\n",
       "      <th>0</th>\n",
       "      <td>2019-01-01</td>\n",
       "      <td>24.42</td>\n",
       "    </tr>\n",
       "    <tr>\n",
       "      <th>1</th>\n",
       "      <td>2019-01-02</td>\n",
       "      <td>25.00</td>\n",
       "    </tr>\n",
       "    <tr>\n",
       "      <th>2</th>\n",
       "      <td>2019-01-03</td>\n",
       "      <td>25.25</td>\n",
       "    </tr>\n",
       "    <tr>\n",
       "      <th>3</th>\n",
       "      <td>2019-01-04</td>\n",
       "      <td>25.64</td>\n",
       "    </tr>\n",
       "  </tbody>\n",
       "</table>\n",
       "</div>"
      ],
      "text/plain": [
       "        Data  Adj Close\n",
       "0 2019-01-01      24.42\n",
       "1 2019-01-02      25.00\n",
       "2 2019-01-03      25.25\n",
       "3 2019-01-04      25.64"
      ]
     },
     "execution_count": 76,
     "metadata": {},
     "output_type": "execute_result"
    }
   ],
   "source": [
    "# 创建price表\n",
    "df_price=pd.DataFrame({'Data':pd.date_range('2019-1-1',periods=4),'Adj Close':[24.42,25.00,25.25,25.64]})\n",
    "df_price"
   ]
  },
  {
   "cell_type": "code",
   "execution_count": 81,
   "metadata": {
    "scrolled": true
   },
   "outputs": [
    {
     "data": {
      "text/html": [
       "<div>\n",
       "<style scoped>\n",
       "    .dataframe tbody tr th:only-of-type {\n",
       "        vertical-align: middle;\n",
       "    }\n",
       "\n",
       "    .dataframe tbody tr th {\n",
       "        vertical-align: top;\n",
       "    }\n",
       "\n",
       "    .dataframe thead th {\n",
       "        text-align: right;\n",
       "    }\n",
       "</style>\n",
       "<table border=\"1\" class=\"dataframe\">\n",
       "  <thead>\n",
       "    <tr style=\"text-align: right;\">\n",
       "      <th></th>\n",
       "      <th>Data</th>\n",
       "      <th>Volume</th>\n",
       "    </tr>\n",
       "  </thead>\n",
       "  <tbody>\n",
       "    <tr>\n",
       "      <th>0</th>\n",
       "      <td>2019-01-02</td>\n",
       "      <td>56081400</td>\n",
       "    </tr>\n",
       "    <tr>\n",
       "      <th>1</th>\n",
       "      <td>2019-01-03</td>\n",
       "      <td>99455500</td>\n",
       "    </tr>\n",
       "    <tr>\n",
       "      <th>2</th>\n",
       "      <td>2019-01-04</td>\n",
       "      <td>83028700</td>\n",
       "    </tr>\n",
       "    <tr>\n",
       "      <th>3</th>\n",
       "      <td>2019-01-05</td>\n",
       "      <td>100234000</td>\n",
       "    </tr>\n",
       "    <tr>\n",
       "      <th>4</th>\n",
       "      <td>2019-01-06</td>\n",
       "      <td>73829000</td>\n",
       "    </tr>\n",
       "  </tbody>\n",
       "</table>\n",
       "</div>"
      ],
      "text/plain": [
       "        Data     Volume\n",
       "0 2019-01-02   56081400\n",
       "1 2019-01-03   99455500\n",
       "2 2019-01-04   83028700\n",
       "3 2019-01-05  100234000\n",
       "4 2019-01-06   73829000"
      ]
     },
     "execution_count": 81,
     "metadata": {},
     "output_type": "execute_result"
    }
   ],
   "source": [
    "# 创建volume表\n",
    "df_volume=pd.DataFrame({'Data':pd.date_range('2019-1-2',periods=5),'Volume':[56081400,99455500,83028700,100234000,73829000]})\n",
    "df_volume"
   ]
  },
  {
   "cell_type": "code",
   "execution_count": 82,
   "metadata": {},
   "outputs": [
    {
     "data": {
      "text/html": [
       "<div>\n",
       "<style scoped>\n",
       "    .dataframe tbody tr th:only-of-type {\n",
       "        vertical-align: middle;\n",
       "    }\n",
       "\n",
       "    .dataframe tbody tr th {\n",
       "        vertical-align: top;\n",
       "    }\n",
       "\n",
       "    .dataframe thead th {\n",
       "        text-align: right;\n",
       "    }\n",
       "</style>\n",
       "<table border=\"1\" class=\"dataframe\">\n",
       "  <thead>\n",
       "    <tr style=\"text-align: right;\">\n",
       "      <th></th>\n",
       "      <th>Data</th>\n",
       "      <th>Adj Close</th>\n",
       "      <th>Volume</th>\n",
       "    </tr>\n",
       "  </thead>\n",
       "  <tbody>\n",
       "    <tr>\n",
       "      <th>0</th>\n",
       "      <td>2019-01-01</td>\n",
       "      <td>24.42</td>\n",
       "      <td>NaN</td>\n",
       "    </tr>\n",
       "    <tr>\n",
       "      <th>1</th>\n",
       "      <td>2019-01-02</td>\n",
       "      <td>25.00</td>\n",
       "      <td>56081400.0</td>\n",
       "    </tr>\n",
       "    <tr>\n",
       "      <th>2</th>\n",
       "      <td>2019-01-03</td>\n",
       "      <td>25.25</td>\n",
       "      <td>99455500.0</td>\n",
       "    </tr>\n",
       "    <tr>\n",
       "      <th>3</th>\n",
       "      <td>2019-01-04</td>\n",
       "      <td>25.64</td>\n",
       "      <td>83028700.0</td>\n",
       "    </tr>\n",
       "  </tbody>\n",
       "</table>\n",
       "</div>"
      ],
      "text/plain": [
       "        Data  Adj Close      Volume\n",
       "0 2019-01-01      24.42         NaN\n",
       "1 2019-01-02      25.00  56081400.0\n",
       "2 2019-01-03      25.25  99455500.0\n",
       "3 2019-01-04      25.64  83028700.0"
      ]
     },
     "execution_count": 82,
     "metadata": {},
     "output_type": "execute_result"
    }
   ],
   "source": [
    "# 左连接\n",
    "pd.merge(df_price,df_volume,how='left')"
   ]
  },
  {
   "cell_type": "code",
   "execution_count": 83,
   "metadata": {},
   "outputs": [
    {
     "data": {
      "text/html": [
       "<div>\n",
       "<style scoped>\n",
       "    .dataframe tbody tr th:only-of-type {\n",
       "        vertical-align: middle;\n",
       "    }\n",
       "\n",
       "    .dataframe tbody tr th {\n",
       "        vertical-align: top;\n",
       "    }\n",
       "\n",
       "    .dataframe thead th {\n",
       "        text-align: right;\n",
       "    }\n",
       "</style>\n",
       "<table border=\"1\" class=\"dataframe\">\n",
       "  <thead>\n",
       "    <tr style=\"text-align: right;\">\n",
       "      <th></th>\n",
       "      <th>Data</th>\n",
       "      <th>Adj Close</th>\n",
       "      <th>Volume</th>\n",
       "    </tr>\n",
       "  </thead>\n",
       "  <tbody>\n",
       "    <tr>\n",
       "      <th>0</th>\n",
       "      <td>2019-01-02</td>\n",
       "      <td>25.00</td>\n",
       "      <td>56081400</td>\n",
       "    </tr>\n",
       "    <tr>\n",
       "      <th>1</th>\n",
       "      <td>2019-01-03</td>\n",
       "      <td>25.25</td>\n",
       "      <td>99455500</td>\n",
       "    </tr>\n",
       "    <tr>\n",
       "      <th>2</th>\n",
       "      <td>2019-01-04</td>\n",
       "      <td>25.64</td>\n",
       "      <td>83028700</td>\n",
       "    </tr>\n",
       "    <tr>\n",
       "      <th>3</th>\n",
       "      <td>2019-01-05</td>\n",
       "      <td>NaN</td>\n",
       "      <td>100234000</td>\n",
       "    </tr>\n",
       "    <tr>\n",
       "      <th>4</th>\n",
       "      <td>2019-01-06</td>\n",
       "      <td>NaN</td>\n",
       "      <td>73829000</td>\n",
       "    </tr>\n",
       "  </tbody>\n",
       "</table>\n",
       "</div>"
      ],
      "text/plain": [
       "        Data  Adj Close     Volume\n",
       "0 2019-01-02      25.00   56081400\n",
       "1 2019-01-03      25.25   99455500\n",
       "2 2019-01-04      25.64   83028700\n",
       "3 2019-01-05        NaN  100234000\n",
       "4 2019-01-06        NaN   73829000"
      ]
     },
     "execution_count": 83,
     "metadata": {},
     "output_type": "execute_result"
    }
   ],
   "source": [
    "# 右连接\n",
    "pd.merge(df_price,df_volume,how='right')"
   ]
  },
  {
   "cell_type": "code",
   "execution_count": 84,
   "metadata": {},
   "outputs": [
    {
     "data": {
      "text/html": [
       "<div>\n",
       "<style scoped>\n",
       "    .dataframe tbody tr th:only-of-type {\n",
       "        vertical-align: middle;\n",
       "    }\n",
       "\n",
       "    .dataframe tbody tr th {\n",
       "        vertical-align: top;\n",
       "    }\n",
       "\n",
       "    .dataframe thead th {\n",
       "        text-align: right;\n",
       "    }\n",
       "</style>\n",
       "<table border=\"1\" class=\"dataframe\">\n",
       "  <thead>\n",
       "    <tr style=\"text-align: right;\">\n",
       "      <th></th>\n",
       "      <th>Data</th>\n",
       "      <th>Adj Close</th>\n",
       "      <th>Volume</th>\n",
       "    </tr>\n",
       "  </thead>\n",
       "  <tbody>\n",
       "    <tr>\n",
       "      <th>0</th>\n",
       "      <td>2019-01-01</td>\n",
       "      <td>24.42</td>\n",
       "      <td>NaN</td>\n",
       "    </tr>\n",
       "    <tr>\n",
       "      <th>1</th>\n",
       "      <td>2019-01-02</td>\n",
       "      <td>25.00</td>\n",
       "      <td>56081400.0</td>\n",
       "    </tr>\n",
       "    <tr>\n",
       "      <th>2</th>\n",
       "      <td>2019-01-03</td>\n",
       "      <td>25.25</td>\n",
       "      <td>99455500.0</td>\n",
       "    </tr>\n",
       "    <tr>\n",
       "      <th>3</th>\n",
       "      <td>2019-01-04</td>\n",
       "      <td>25.64</td>\n",
       "      <td>83028700.0</td>\n",
       "    </tr>\n",
       "    <tr>\n",
       "      <th>4</th>\n",
       "      <td>2019-01-05</td>\n",
       "      <td>NaN</td>\n",
       "      <td>100234000.0</td>\n",
       "    </tr>\n",
       "    <tr>\n",
       "      <th>5</th>\n",
       "      <td>2019-01-06</td>\n",
       "      <td>NaN</td>\n",
       "      <td>73829000.0</td>\n",
       "    </tr>\n",
       "  </tbody>\n",
       "</table>\n",
       "</div>"
      ],
      "text/plain": [
       "        Data  Adj Close       Volume\n",
       "0 2019-01-01      24.42          NaN\n",
       "1 2019-01-02      25.00   56081400.0\n",
       "2 2019-01-03      25.25   99455500.0\n",
       "3 2019-01-04      25.64   83028700.0\n",
       "4 2019-01-05        NaN  100234000.0\n",
       "5 2019-01-06        NaN   73829000.0"
      ]
     },
     "execution_count": 84,
     "metadata": {},
     "output_type": "execute_result"
    }
   ],
   "source": [
    "# 外连接\n",
    "pd.merge(df_price,df_volume,how='outer')"
   ]
  },
  {
   "cell_type": "code",
   "execution_count": 85,
   "metadata": {},
   "outputs": [
    {
     "data": {
      "text/html": [
       "<div>\n",
       "<style scoped>\n",
       "    .dataframe tbody tr th:only-of-type {\n",
       "        vertical-align: middle;\n",
       "    }\n",
       "\n",
       "    .dataframe tbody tr th {\n",
       "        vertical-align: top;\n",
       "    }\n",
       "\n",
       "    .dataframe thead th {\n",
       "        text-align: right;\n",
       "    }\n",
       "</style>\n",
       "<table border=\"1\" class=\"dataframe\">\n",
       "  <thead>\n",
       "    <tr style=\"text-align: right;\">\n",
       "      <th></th>\n",
       "      <th>Data</th>\n",
       "      <th>Adj Close</th>\n",
       "      <th>Volume</th>\n",
       "    </tr>\n",
       "  </thead>\n",
       "  <tbody>\n",
       "    <tr>\n",
       "      <th>0</th>\n",
       "      <td>2019-01-02</td>\n",
       "      <td>25.00</td>\n",
       "      <td>56081400</td>\n",
       "    </tr>\n",
       "    <tr>\n",
       "      <th>1</th>\n",
       "      <td>2019-01-03</td>\n",
       "      <td>25.25</td>\n",
       "      <td>99455500</td>\n",
       "    </tr>\n",
       "    <tr>\n",
       "      <th>2</th>\n",
       "      <td>2019-01-04</td>\n",
       "      <td>25.64</td>\n",
       "      <td>83028700</td>\n",
       "    </tr>\n",
       "  </tbody>\n",
       "</table>\n",
       "</div>"
      ],
      "text/plain": [
       "        Data  Adj Close    Volume\n",
       "0 2019-01-02      25.00  56081400\n",
       "1 2019-01-03      25.25  99455500\n",
       "2 2019-01-04      25.64  83028700"
      ]
     },
     "execution_count": 85,
     "metadata": {},
     "output_type": "execute_result"
    }
   ],
   "source": [
    "# 内连接(默认)\n",
    "pd.merge(df_price,df_volume,how='inner')"
   ]
  },
  {
   "cell_type": "code",
   "execution_count": 112,
   "metadata": {},
   "outputs": [
    {
     "name": "stdout",
     "output_type": "stream",
     "text": [
      "  Asset Instrument  Number\n",
      "0    FX     Option       1\n",
      "1    FX       Swap       2\n",
      "2    IR     Option       3\n",
      "\n",
      "\n",
      "  Asset Instrument  Number\n",
      "0    FX     Option       4\n",
      "1    FX     Option       5\n",
      "2    FX       Swap       6\n",
      "3    IR       Swap       7\n"
     ]
    }
   ],
   "source": [
    "# 创建两个数据表\n",
    "porfolio1=pd.DataFrame({'Asset':['FX','FX','IR'],'Instrument':['Option','Swap','Option'],'Number':[1,2,3]})\n",
    "porfolio2=pd.DataFrame({'Asset':['FX','FX','FX','IR'],'Instrument':['Option','Option','Swap','Swap'],'Number':[4,5,6,7]})\n",
    "print(profolio1)\n",
    "print('\\n')\n",
    "print(profolio2)"
   ]
  },
  {
   "cell_type": "code",
   "execution_count": 113,
   "metadata": {},
   "outputs": [
    {
     "data": {
      "text/html": [
       "<div>\n",
       "<style scoped>\n",
       "    .dataframe tbody tr th:only-of-type {\n",
       "        vertical-align: middle;\n",
       "    }\n",
       "\n",
       "    .dataframe tbody tr th {\n",
       "        vertical-align: top;\n",
       "    }\n",
       "\n",
       "    .dataframe thead th {\n",
       "        text-align: right;\n",
       "    }\n",
       "</style>\n",
       "<table border=\"1\" class=\"dataframe\">\n",
       "  <thead>\n",
       "    <tr style=\"text-align: right;\">\n",
       "      <th></th>\n",
       "      <th>Asset</th>\n",
       "      <th>Instrument</th>\n",
       "      <th>Number_x</th>\n",
       "      <th>Number_y</th>\n",
       "    </tr>\n",
       "  </thead>\n",
       "  <tbody>\n",
       "    <tr>\n",
       "      <th>0</th>\n",
       "      <td>FX</td>\n",
       "      <td>Option</td>\n",
       "      <td>1.0</td>\n",
       "      <td>4.0</td>\n",
       "    </tr>\n",
       "    <tr>\n",
       "      <th>1</th>\n",
       "      <td>FX</td>\n",
       "      <td>Option</td>\n",
       "      <td>1.0</td>\n",
       "      <td>5.0</td>\n",
       "    </tr>\n",
       "    <tr>\n",
       "      <th>2</th>\n",
       "      <td>FX</td>\n",
       "      <td>Swap</td>\n",
       "      <td>2.0</td>\n",
       "      <td>6.0</td>\n",
       "    </tr>\n",
       "    <tr>\n",
       "      <th>3</th>\n",
       "      <td>IR</td>\n",
       "      <td>Option</td>\n",
       "      <td>3.0</td>\n",
       "      <td>NaN</td>\n",
       "    </tr>\n",
       "    <tr>\n",
       "      <th>4</th>\n",
       "      <td>IR</td>\n",
       "      <td>Swap</td>\n",
       "      <td>NaN</td>\n",
       "      <td>7.0</td>\n",
       "    </tr>\n",
       "  </tbody>\n",
       "</table>\n",
       "</div>"
      ],
      "text/plain": [
       "  Asset Instrument  Number_x  Number_y\n",
       "0    FX     Option       1.0       4.0\n",
       "1    FX     Option       1.0       5.0\n",
       "2    FX       Swap       2.0       6.0\n",
       "3    IR     Option       3.0       NaN\n",
       "4    IR       Swap       NaN       7.0"
      ]
     },
     "execution_count": 113,
     "metadata": {},
     "output_type": "execute_result"
    }
   ],
   "source": [
    "# 在'Asset'和'Instrument'两个键上合并\n",
    "pd.merge(porfolio1,porfolio2,on=['Asset','Instrument'],how='outer')"
   ]
  },
  {
   "cell_type": "code",
   "execution_count": 116,
   "metadata": {},
   "outputs": [
    {
     "data": {
      "text/html": [
       "<div>\n",
       "<style scoped>\n",
       "    .dataframe tbody tr th:only-of-type {\n",
       "        vertical-align: middle;\n",
       "    }\n",
       "\n",
       "    .dataframe tbody tr th {\n",
       "        vertical-align: top;\n",
       "    }\n",
       "\n",
       "    .dataframe thead th {\n",
       "        text-align: right;\n",
       "    }\n",
       "</style>\n",
       "<table border=\"1\" class=\"dataframe\">\n",
       "  <thead>\n",
       "    <tr style=\"text-align: right;\">\n",
       "      <th></th>\n",
       "      <th>Asset</th>\n",
       "      <th>Instrument_x</th>\n",
       "      <th>Number_x</th>\n",
       "      <th>Instrument_y</th>\n",
       "      <th>Number_y</th>\n",
       "    </tr>\n",
       "  </thead>\n",
       "  <tbody>\n",
       "    <tr>\n",
       "      <th>0</th>\n",
       "      <td>FX</td>\n",
       "      <td>Option</td>\n",
       "      <td>1</td>\n",
       "      <td>Option</td>\n",
       "      <td>4</td>\n",
       "    </tr>\n",
       "    <tr>\n",
       "      <th>1</th>\n",
       "      <td>FX</td>\n",
       "      <td>Option</td>\n",
       "      <td>1</td>\n",
       "      <td>Option</td>\n",
       "      <td>5</td>\n",
       "    </tr>\n",
       "    <tr>\n",
       "      <th>2</th>\n",
       "      <td>FX</td>\n",
       "      <td>Option</td>\n",
       "      <td>1</td>\n",
       "      <td>Swap</td>\n",
       "      <td>6</td>\n",
       "    </tr>\n",
       "    <tr>\n",
       "      <th>3</th>\n",
       "      <td>FX</td>\n",
       "      <td>Swap</td>\n",
       "      <td>2</td>\n",
       "      <td>Option</td>\n",
       "      <td>4</td>\n",
       "    </tr>\n",
       "    <tr>\n",
       "      <th>4</th>\n",
       "      <td>FX</td>\n",
       "      <td>Swap</td>\n",
       "      <td>2</td>\n",
       "      <td>Option</td>\n",
       "      <td>5</td>\n",
       "    </tr>\n",
       "    <tr>\n",
       "      <th>5</th>\n",
       "      <td>FX</td>\n",
       "      <td>Swap</td>\n",
       "      <td>2</td>\n",
       "      <td>Swap</td>\n",
       "      <td>6</td>\n",
       "    </tr>\n",
       "    <tr>\n",
       "      <th>6</th>\n",
       "      <td>IR</td>\n",
       "      <td>Option</td>\n",
       "      <td>3</td>\n",
       "      <td>Swap</td>\n",
       "      <td>7</td>\n",
       "    </tr>\n",
       "  </tbody>\n",
       "</table>\n",
       "</div>"
      ],
      "text/plain": [
       "  Asset Instrument_x  Number_x Instrument_y  Number_y\n",
       "0    FX       Option         1       Option         4\n",
       "1    FX       Option         1       Option         5\n",
       "2    FX       Option         1         Swap         6\n",
       "3    FX         Swap         2       Option         4\n",
       "4    FX         Swap         2       Option         5\n",
       "5    FX         Swap         2         Swap         6\n",
       "6    IR       Option         3         Swap         7"
      ]
     },
     "execution_count": 116,
     "metadata": {},
     "output_type": "execute_result"
    }
   ],
   "source": [
    "# 当 df1 和 df2 有两个相同的列 (Asset 和 Instrument) 时，单单只对一列 (Asset) 做合并产出的 DataFrame 会有另一列 (Instrument) 重复的名称。这时 merge 函数给重复的名称加个后缀 _x, _y 等等\n",
    "pd.merge(porfolio1,porfolio2,on='Asset')"
   ]
  },
  {
   "cell_type": "code",
   "execution_count": 118,
   "metadata": {},
   "outputs": [
    {
     "data": {
      "text/html": [
       "<div>\n",
       "<style scoped>\n",
       "    .dataframe tbody tr th:only-of-type {\n",
       "        vertical-align: middle;\n",
       "    }\n",
       "\n",
       "    .dataframe tbody tr th {\n",
       "        vertical-align: top;\n",
       "    }\n",
       "\n",
       "    .dataframe thead th {\n",
       "        text-align: right;\n",
       "    }\n",
       "</style>\n",
       "<table border=\"1\" class=\"dataframe\">\n",
       "  <thead>\n",
       "    <tr style=\"text-align: right;\">\n",
       "      <th></th>\n",
       "      <th>Asset</th>\n",
       "      <th>Instrument1</th>\n",
       "      <th>Number1</th>\n",
       "      <th>Instrument2</th>\n",
       "      <th>Number2</th>\n",
       "    </tr>\n",
       "  </thead>\n",
       "  <tbody>\n",
       "    <tr>\n",
       "      <th>0</th>\n",
       "      <td>FX</td>\n",
       "      <td>Option</td>\n",
       "      <td>1</td>\n",
       "      <td>Option</td>\n",
       "      <td>4</td>\n",
       "    </tr>\n",
       "    <tr>\n",
       "      <th>1</th>\n",
       "      <td>FX</td>\n",
       "      <td>Option</td>\n",
       "      <td>1</td>\n",
       "      <td>Option</td>\n",
       "      <td>5</td>\n",
       "    </tr>\n",
       "    <tr>\n",
       "      <th>2</th>\n",
       "      <td>FX</td>\n",
       "      <td>Option</td>\n",
       "      <td>1</td>\n",
       "      <td>Swap</td>\n",
       "      <td>6</td>\n",
       "    </tr>\n",
       "    <tr>\n",
       "      <th>3</th>\n",
       "      <td>FX</td>\n",
       "      <td>Swap</td>\n",
       "      <td>2</td>\n",
       "      <td>Option</td>\n",
       "      <td>4</td>\n",
       "    </tr>\n",
       "    <tr>\n",
       "      <th>4</th>\n",
       "      <td>FX</td>\n",
       "      <td>Swap</td>\n",
       "      <td>2</td>\n",
       "      <td>Option</td>\n",
       "      <td>5</td>\n",
       "    </tr>\n",
       "    <tr>\n",
       "      <th>5</th>\n",
       "      <td>FX</td>\n",
       "      <td>Swap</td>\n",
       "      <td>2</td>\n",
       "      <td>Swap</td>\n",
       "      <td>6</td>\n",
       "    </tr>\n",
       "    <tr>\n",
       "      <th>6</th>\n",
       "      <td>IR</td>\n",
       "      <td>Option</td>\n",
       "      <td>3</td>\n",
       "      <td>Swap</td>\n",
       "      <td>7</td>\n",
       "    </tr>\n",
       "  </tbody>\n",
       "</table>\n",
       "</div>"
      ],
      "text/plain": [
       "  Asset Instrument1  Number1 Instrument2  Number2\n",
       "0    FX      Option        1      Option        4\n",
       "1    FX      Option        1      Option        5\n",
       "2    FX      Option        1        Swap        6\n",
       "3    FX        Swap        2      Option        4\n",
       "4    FX        Swap        2      Option        5\n",
       "5    FX        Swap        2        Swap        6\n",
       "6    IR      Option        3        Swap        7"
      ]
     },
     "execution_count": 118,
     "metadata": {},
     "output_type": "execute_result"
    }
   ],
   "source": [
    "# 增加后缀\n",
    "pd.merge(porfolio1,porfolio2,on='Asset',suffixes=('1','2'))"
   ]
  },
  {
   "cell_type": "markdown",
   "metadata": {},
   "source": [
    "## 连接"
   ]
  },
  {
   "cell_type": "markdown",
   "metadata": {},
   "source": [
    "在 concat 函数也可设定参数 axis，\n",
    "\n",
    "\n",
    "\n",
    "- axis = 0 (默认)，沿着轴 0 (行) 连接，得到一个更长的 Series\n",
    "\n",
    "- axis = 1，沿着轴 1 (列) 连接，得到一个 DataFrame"
   ]
  },
  {
   "cell_type": "code",
   "execution_count": 119,
   "metadata": {},
   "outputs": [],
   "source": [
    "# 创建三个Series\n",
    "s1=pd.Series([0,1],index=['a','b'])\n",
    "s2=pd.Series([2,3,4],index=['c','d','e'])\n",
    "s3=pd.Series([5,6],index=['f','g'])"
   ]
  },
  {
   "cell_type": "code",
   "execution_count": 120,
   "metadata": {},
   "outputs": [
    {
     "data": {
      "text/plain": [
       "a    0\n",
       "b    1\n",
       "c    2\n",
       "d    3\n",
       "e    4\n",
       "f    5\n",
       "g    6\n",
       "dtype: int64"
      ]
     },
     "execution_count": 120,
     "metadata": {},
     "output_type": "execute_result"
    }
   ],
   "source": [
    "# 沿轴0连接\n",
    "pd.concat([s1,s2,s3])"
   ]
  },
  {
   "cell_type": "code",
   "execution_count": 140,
   "metadata": {},
   "outputs": [
    {
     "data": {
      "text/html": [
       "<div>\n",
       "<style scoped>\n",
       "    .dataframe tbody tr th:only-of-type {\n",
       "        vertical-align: middle;\n",
       "    }\n",
       "\n",
       "    .dataframe tbody tr th {\n",
       "        vertical-align: top;\n",
       "    }\n",
       "\n",
       "    .dataframe thead th {\n",
       "        text-align: right;\n",
       "    }\n",
       "</style>\n",
       "<table border=\"1\" class=\"dataframe\">\n",
       "  <thead>\n",
       "    <tr style=\"text-align: right;\">\n",
       "      <th></th>\n",
       "      <th>0</th>\n",
       "      <th>1</th>\n",
       "      <th>2</th>\n",
       "    </tr>\n",
       "  </thead>\n",
       "  <tbody>\n",
       "    <tr>\n",
       "      <th>a</th>\n",
       "      <td>0.0</td>\n",
       "      <td>NaN</td>\n",
       "      <td>NaN</td>\n",
       "    </tr>\n",
       "    <tr>\n",
       "      <th>b</th>\n",
       "      <td>1.0</td>\n",
       "      <td>NaN</td>\n",
       "      <td>NaN</td>\n",
       "    </tr>\n",
       "    <tr>\n",
       "      <th>c</th>\n",
       "      <td>NaN</td>\n",
       "      <td>2.0</td>\n",
       "      <td>NaN</td>\n",
       "    </tr>\n",
       "    <tr>\n",
       "      <th>d</th>\n",
       "      <td>NaN</td>\n",
       "      <td>3.0</td>\n",
       "      <td>NaN</td>\n",
       "    </tr>\n",
       "    <tr>\n",
       "      <th>e</th>\n",
       "      <td>NaN</td>\n",
       "      <td>4.0</td>\n",
       "      <td>NaN</td>\n",
       "    </tr>\n",
       "    <tr>\n",
       "      <th>f</th>\n",
       "      <td>NaN</td>\n",
       "      <td>NaN</td>\n",
       "      <td>5.0</td>\n",
       "    </tr>\n",
       "    <tr>\n",
       "      <th>g</th>\n",
       "      <td>NaN</td>\n",
       "      <td>NaN</td>\n",
       "      <td>6.0</td>\n",
       "    </tr>\n",
       "  </tbody>\n",
       "</table>\n",
       "</div>"
      ],
      "text/plain": [
       "     0    1    2\n",
       "a  0.0  NaN  NaN\n",
       "b  1.0  NaN  NaN\n",
       "c  NaN  2.0  NaN\n",
       "d  NaN  3.0  NaN\n",
       "e  NaN  4.0  NaN\n",
       "f  NaN  NaN  5.0\n",
       "g  NaN  NaN  6.0"
      ]
     },
     "execution_count": 140,
     "metadata": {},
     "output_type": "execute_result"
    }
   ],
   "source": [
    "# 沿轴1连接\n",
    "pd.concat([s1,s2,s3],axis=1,sort=True)"
   ]
  },
  {
   "cell_type": "code",
   "execution_count": 133,
   "metadata": {},
   "outputs": [
    {
     "data": {
      "text/plain": [
       "a    0\n",
       "b    1\n",
       "f    5\n",
       "g    6\n",
       "dtype: int64"
      ]
     },
     "execution_count": 133,
     "metadata": {},
     "output_type": "execute_result"
    }
   ],
   "source": [
    "s4=pd.concat([s1,s3])\n",
    "s4"
   ]
  },
  {
   "cell_type": "code",
   "execution_count": 135,
   "metadata": {},
   "outputs": [
    {
     "data": {
      "text/html": [
       "<div>\n",
       "<style scoped>\n",
       "    .dataframe tbody tr th:only-of-type {\n",
       "        vertical-align: middle;\n",
       "    }\n",
       "\n",
       "    .dataframe tbody tr th {\n",
       "        vertical-align: top;\n",
       "    }\n",
       "\n",
       "    .dataframe thead th {\n",
       "        text-align: right;\n",
       "    }\n",
       "</style>\n",
       "<table border=\"1\" class=\"dataframe\">\n",
       "  <thead>\n",
       "    <tr style=\"text-align: right;\">\n",
       "      <th></th>\n",
       "      <th>0</th>\n",
       "      <th>1</th>\n",
       "    </tr>\n",
       "  </thead>\n",
       "  <tbody>\n",
       "    <tr>\n",
       "      <th>a</th>\n",
       "      <td>0</td>\n",
       "      <td>0</td>\n",
       "    </tr>\n",
       "    <tr>\n",
       "      <th>b</th>\n",
       "      <td>1</td>\n",
       "      <td>1</td>\n",
       "    </tr>\n",
       "  </tbody>\n",
       "</table>\n",
       "</div>"
      ],
      "text/plain": [
       "   0  1\n",
       "a  0  0\n",
       "b  1  1"
      ]
     },
     "execution_count": 135,
     "metadata": {},
     "output_type": "execute_result"
    }
   ],
   "source": [
    "# 内连接s1和s4\n",
    "pd.concat([s1,s4],axis=1,join='inner')"
   ]
  },
  {
   "cell_type": "code",
   "execution_count": 137,
   "metadata": {},
   "outputs": [
    {
     "data": {
      "text/plain": [
       "one    a    0\n",
       "       b    1\n",
       "two    c    2\n",
       "       d    3\n",
       "       e    4\n",
       "three  f    5\n",
       "       g    6\n",
       "dtype: int64"
      ]
     },
     "execution_count": 137,
     "metadata": {},
     "output_type": "execute_result"
    }
   ],
   "source": [
    "# 将 n 个 Series 沿「轴 0」连接起来，再赋予 3 个 keys 创建多层 Series\n",
    "pd.concat([s1,s2,s3],keys=['one','two','three'])"
   ]
  },
  {
   "cell_type": "code",
   "execution_count": 148,
   "metadata": {},
   "outputs": [
    {
     "name": "stdout",
     "output_type": "stream",
     "text": [
      "   a  b   c   d\n",
      "0  0  1   2   3\n",
      "1  4  5   6   7\n",
      "2  8  9  10  11 \n",
      "    b  c  a\n",
      "0  0  1  2\n",
      "1  3  4  5\n"
     ]
    }
   ],
   "source": [
    "# 创建数据表\n",
    "df1=pd.DataFrame(np.arange(12).reshape(3,4),columns=['a','b','c','d'])\n",
    "df2=pd.DataFrame(np.arange(6).reshape(2,3),columns=['b','c','a'])\n",
    "print(df1,'\\n',df2)"
   ]
  },
  {
   "cell_type": "code",
   "execution_count": 150,
   "metadata": {
    "scrolled": true
   },
   "outputs": [
    {
     "data": {
      "text/html": [
       "<div>\n",
       "<style scoped>\n",
       "    .dataframe tbody tr th:only-of-type {\n",
       "        vertical-align: middle;\n",
       "    }\n",
       "\n",
       "    .dataframe tbody tr th {\n",
       "        vertical-align: top;\n",
       "    }\n",
       "\n",
       "    .dataframe thead th {\n",
       "        text-align: right;\n",
       "    }\n",
       "</style>\n",
       "<table border=\"1\" class=\"dataframe\">\n",
       "  <thead>\n",
       "    <tr style=\"text-align: right;\">\n",
       "      <th></th>\n",
       "      <th>a</th>\n",
       "      <th>b</th>\n",
       "      <th>c</th>\n",
       "      <th>d</th>\n",
       "    </tr>\n",
       "  </thead>\n",
       "  <tbody>\n",
       "    <tr>\n",
       "      <th>0</th>\n",
       "      <td>0</td>\n",
       "      <td>1</td>\n",
       "      <td>2</td>\n",
       "      <td>3.0</td>\n",
       "    </tr>\n",
       "    <tr>\n",
       "      <th>1</th>\n",
       "      <td>4</td>\n",
       "      <td>5</td>\n",
       "      <td>6</td>\n",
       "      <td>7.0</td>\n",
       "    </tr>\n",
       "    <tr>\n",
       "      <th>2</th>\n",
       "      <td>8</td>\n",
       "      <td>9</td>\n",
       "      <td>10</td>\n",
       "      <td>11.0</td>\n",
       "    </tr>\n",
       "    <tr>\n",
       "      <th>0</th>\n",
       "      <td>2</td>\n",
       "      <td>0</td>\n",
       "      <td>1</td>\n",
       "      <td>NaN</td>\n",
       "    </tr>\n",
       "    <tr>\n",
       "      <th>1</th>\n",
       "      <td>5</td>\n",
       "      <td>3</td>\n",
       "      <td>4</td>\n",
       "      <td>NaN</td>\n",
       "    </tr>\n",
       "  </tbody>\n",
       "</table>\n",
       "</div>"
      ],
      "text/plain": [
       "   a  b   c     d\n",
       "0  0  1   2   3.0\n",
       "1  4  5   6   7.0\n",
       "2  8  9  10  11.0\n",
       "0  2  0   1   NaN\n",
       "1  5  3   4   NaN"
      ]
     },
     "execution_count": 150,
     "metadata": {},
     "output_type": "execute_result"
    }
   ],
   "source": [
    "pd.concat([df1,df2],sort=True)"
   ]
  },
  {
   "cell_type": "code",
   "execution_count": 153,
   "metadata": {},
   "outputs": [
    {
     "data": {
      "text/html": [
       "<div>\n",
       "<style scoped>\n",
       "    .dataframe tbody tr th:only-of-type {\n",
       "        vertical-align: middle;\n",
       "    }\n",
       "\n",
       "    .dataframe tbody tr th {\n",
       "        vertical-align: top;\n",
       "    }\n",
       "\n",
       "    .dataframe thead th {\n",
       "        text-align: right;\n",
       "    }\n",
       "</style>\n",
       "<table border=\"1\" class=\"dataframe\">\n",
       "  <thead>\n",
       "    <tr style=\"text-align: right;\">\n",
       "      <th></th>\n",
       "      <th>a</th>\n",
       "      <th>b</th>\n",
       "      <th>c</th>\n",
       "      <th>d</th>\n",
       "    </tr>\n",
       "  </thead>\n",
       "  <tbody>\n",
       "    <tr>\n",
       "      <th>0</th>\n",
       "      <td>0</td>\n",
       "      <td>1</td>\n",
       "      <td>2</td>\n",
       "      <td>3.0</td>\n",
       "    </tr>\n",
       "    <tr>\n",
       "      <th>1</th>\n",
       "      <td>4</td>\n",
       "      <td>5</td>\n",
       "      <td>6</td>\n",
       "      <td>7.0</td>\n",
       "    </tr>\n",
       "    <tr>\n",
       "      <th>2</th>\n",
       "      <td>8</td>\n",
       "      <td>9</td>\n",
       "      <td>10</td>\n",
       "      <td>11.0</td>\n",
       "    </tr>\n",
       "    <tr>\n",
       "      <th>3</th>\n",
       "      <td>2</td>\n",
       "      <td>0</td>\n",
       "      <td>1</td>\n",
       "      <td>NaN</td>\n",
       "    </tr>\n",
       "    <tr>\n",
       "      <th>4</th>\n",
       "      <td>5</td>\n",
       "      <td>3</td>\n",
       "      <td>4</td>\n",
       "      <td>NaN</td>\n",
       "    </tr>\n",
       "  </tbody>\n",
       "</table>\n",
       "</div>"
      ],
      "text/plain": [
       "   a  b   c     d\n",
       "0  0  1   2   3.0\n",
       "1  4  5   6   7.0\n",
       "2  8  9  10  11.0\n",
       "3  2  0   1   NaN\n",
       "4  5  3   4   NaN"
      ]
     },
     "execution_count": 153,
     "metadata": {},
     "output_type": "execute_result"
    }
   ],
   "source": [
    "# 得到的 DataFrame 的 index = [0,1,2,0,1]，有重复值。如果 index 不包含重要信息 ，可以将 ignore_index 设置为 True，\n",
    "#这样就得到默认的 index 值了\n",
    "pd.concat([df1,df2],ignore_index=True,sort=True)\n"
   ]
  },
  {
   "cell_type": "code",
   "execution_count": 155,
   "metadata": {},
   "outputs": [
    {
     "data": {
      "text/html": [
       "<div>\n",
       "<style scoped>\n",
       "    .dataframe tbody tr th:only-of-type {\n",
       "        vertical-align: middle;\n",
       "    }\n",
       "\n",
       "    .dataframe tbody tr th {\n",
       "        vertical-align: top;\n",
       "    }\n",
       "\n",
       "    .dataframe thead th {\n",
       "        text-align: right;\n",
       "    }\n",
       "</style>\n",
       "<table border=\"1\" class=\"dataframe\">\n",
       "  <thead>\n",
       "    <tr style=\"text-align: right;\">\n",
       "      <th></th>\n",
       "      <th>one</th>\n",
       "      <th>two</th>\n",
       "    </tr>\n",
       "  </thead>\n",
       "  <tbody>\n",
       "    <tr>\n",
       "      <th>a</th>\n",
       "      <td>0</td>\n",
       "      <td>1</td>\n",
       "    </tr>\n",
       "    <tr>\n",
       "      <th>b</th>\n",
       "      <td>2</td>\n",
       "      <td>3</td>\n",
       "    </tr>\n",
       "    <tr>\n",
       "      <th>c</th>\n",
       "      <td>4</td>\n",
       "      <td>5</td>\n",
       "    </tr>\n",
       "  </tbody>\n",
       "</table>\n",
       "</div>"
      ],
      "text/plain": [
       "   one  two\n",
       "a    0    1\n",
       "b    2    3\n",
       "c    4    5"
      ]
     },
     "execution_count": 155,
     "metadata": {},
     "output_type": "execute_result"
    }
   ],
   "source": [
    "# 创建两个数据表\n",
    "df1=pd.DataFrame(np.arange(6).reshape(3,2),index=['a','b','c'],columns=['one','two'])\n",
    "df1"
   ]
  },
  {
   "cell_type": "code",
   "execution_count": 164,
   "metadata": {},
   "outputs": [
    {
     "data": {
      "text/html": [
       "<div>\n",
       "<style scoped>\n",
       "    .dataframe tbody tr th:only-of-type {\n",
       "        vertical-align: middle;\n",
       "    }\n",
       "\n",
       "    .dataframe tbody tr th {\n",
       "        vertical-align: top;\n",
       "    }\n",
       "\n",
       "    .dataframe thead th {\n",
       "        text-align: right;\n",
       "    }\n",
       "</style>\n",
       "<table border=\"1\" class=\"dataframe\">\n",
       "  <thead>\n",
       "    <tr style=\"text-align: right;\">\n",
       "      <th></th>\n",
       "      <th>three</th>\n",
       "      <th>four</th>\n",
       "    </tr>\n",
       "  </thead>\n",
       "  <tbody>\n",
       "    <tr>\n",
       "      <th>a</th>\n",
       "      <td>5</td>\n",
       "      <td>6</td>\n",
       "    </tr>\n",
       "    <tr>\n",
       "      <th>c</th>\n",
       "      <td>7</td>\n",
       "      <td>8</td>\n",
       "    </tr>\n",
       "  </tbody>\n",
       "</table>\n",
       "</div>"
      ],
      "text/plain": [
       "   three  four\n",
       "a      5     6\n",
       "c      7     8"
      ]
     },
     "execution_count": 164,
     "metadata": {},
     "output_type": "execute_result"
    }
   ],
   "source": [
    "df2=pd.DataFrame(5+np.arange(4).reshape(2,2),index=['a','c'],columns=['three','four'])\n",
    "df2"
   ]
  },
  {
   "cell_type": "code",
   "execution_count": 168,
   "metadata": {},
   "outputs": [
    {
     "data": {
      "text/html": [
       "<div>\n",
       "<style scoped>\n",
       "    .dataframe tbody tr th:only-of-type {\n",
       "        vertical-align: middle;\n",
       "    }\n",
       "\n",
       "    .dataframe tbody tr th {\n",
       "        vertical-align: top;\n",
       "    }\n",
       "\n",
       "    .dataframe thead th {\n",
       "        text-align: right;\n",
       "    }\n",
       "</style>\n",
       "<table border=\"1\" class=\"dataframe\">\n",
       "  <thead>\n",
       "    <tr style=\"text-align: right;\">\n",
       "      <th></th>\n",
       "      <th>one</th>\n",
       "      <th>two</th>\n",
       "      <th>three</th>\n",
       "      <th>four</th>\n",
       "    </tr>\n",
       "  </thead>\n",
       "  <tbody>\n",
       "    <tr>\n",
       "      <th>a</th>\n",
       "      <td>0</td>\n",
       "      <td>1</td>\n",
       "      <td>5.0</td>\n",
       "      <td>6.0</td>\n",
       "    </tr>\n",
       "    <tr>\n",
       "      <th>b</th>\n",
       "      <td>2</td>\n",
       "      <td>3</td>\n",
       "      <td>NaN</td>\n",
       "      <td>NaN</td>\n",
       "    </tr>\n",
       "    <tr>\n",
       "      <th>c</th>\n",
       "      <td>4</td>\n",
       "      <td>5</td>\n",
       "      <td>7.0</td>\n",
       "      <td>8.0</td>\n",
       "    </tr>\n",
       "  </tbody>\n",
       "</table>\n",
       "</div>"
      ],
      "text/plain": [
       "   one  two  three  four\n",
       "a    0    1    5.0   6.0\n",
       "b    2    3    NaN   NaN\n",
       "c    4    5    7.0   8.0"
      ]
     },
     "execution_count": 168,
     "metadata": {},
     "output_type": "execute_result"
    }
   ],
   "source": [
    "pd.concat([df1,df2],axis=1,sort=True)"
   ]
  },
  {
   "cell_type": "markdown",
   "metadata": {},
   "source": [
    "# 重塑和透视"
   ]
  },
  {
   "cell_type": "markdown",
   "metadata": {},
   "source": [
    "重塑 (reshape) 和透视 (pivot) 两个操作只改变数据表的布局 (layout)：\n",
    "\n",
    "\n",
    "\n",
    "- 重塑用 stack 和 unstack 函数 (互为逆转操作)\n",
    "\n",
    "- 透视用 pivot 和 melt 函数 (互为逆转操作)"
   ]
  },
  {
   "cell_type": "markdown",
   "metadata": {},
   "source": [
    "## 重塑"
   ]
  },
  {
   "cell_type": "code",
   "execution_count": 46,
   "metadata": {},
   "outputs": [
    {
     "data": {
      "text/html": [
       "<div>\n",
       "<style scoped>\n",
       "    .dataframe tbody tr th:only-of-type {\n",
       "        vertical-align: middle;\n",
       "    }\n",
       "\n",
       "    .dataframe tbody tr th {\n",
       "        vertical-align: top;\n",
       "    }\n",
       "\n",
       "    .dataframe thead th {\n",
       "        text-align: right;\n",
       "    }\n",
       "</style>\n",
       "<table border=\"1\" class=\"dataframe\">\n",
       "  <thead>\n",
       "    <tr style=\"text-align: right;\">\n",
       "      <th>特征</th>\n",
       "      <th>行业</th>\n",
       "      <th>价格</th>\n",
       "      <th>交易量</th>\n",
       "    </tr>\n",
       "    <tr>\n",
       "      <th>代号</th>\n",
       "      <th></th>\n",
       "      <th></th>\n",
       "      <th></th>\n",
       "    </tr>\n",
       "  </thead>\n",
       "  <tbody>\n",
       "    <tr>\n",
       "      <th>JD</th>\n",
       "      <td>电商</td>\n",
       "      <td>25.95</td>\n",
       "      <td>27113291</td>\n",
       "    </tr>\n",
       "    <tr>\n",
       "      <th>AAPL</th>\n",
       "      <td>科技</td>\n",
       "      <td>172.97</td>\n",
       "      <td>18913154</td>\n",
       "    </tr>\n",
       "  </tbody>\n",
       "</table>\n",
       "</div>"
      ],
      "text/plain": [
       "特征    行业      价格       交易量\n",
       "代号                        \n",
       "JD    电商   25.95  27113291\n",
       "AAPL  科技  172.97  18913154"
      ]
     },
     "execution_count": 46,
     "metadata": {},
     "output_type": "execute_result"
    }
   ],
   "source": [
    "import numpy as np\n",
    "import pandas as pd\n",
    "symbol = ['JD', 'AAPL']\n",
    "data = {'行业': ['电商', '科技'],\n",
    "        '价格': [25.95, 172.97],\n",
    "        '交易量': [27113291, 18913154]}\n",
    "df = pd.DataFrame( data, index=symbol )\n",
    "df.columns.name = '特征'\n",
    "df.index.name = '代号'\n",
    "df"
   ]
  },
  {
   "cell_type": "code",
   "execution_count": 47,
   "metadata": {},
   "outputs": [
    {
     "data": {
      "text/plain": [
       "代号    特征 \n",
       "JD    行业           电商\n",
       "      价格        25.95\n",
       "      交易量    27113291\n",
       "AAPL  行业           科技\n",
       "      价格       172.97\n",
       "      交易量    18913154\n",
       "dtype: object"
      ]
     },
     "execution_count": 47,
     "metadata": {},
     "output_type": "execute_result"
    }
   ],
   "source": [
    "# stack: 列索引 → 行索引\n",
    "c2i_Series=df.stack()\n",
    "c2i_Series"
   ]
  },
  {
   "cell_type": "code",
   "execution_count": 48,
   "metadata": {},
   "outputs": [
    {
     "data": {
      "text/plain": [
       "特征   代号  \n",
       "行业   JD            电商\n",
       "     AAPL          科技\n",
       "价格   JD         25.95\n",
       "     AAPL      172.97\n",
       "交易量  JD      27113291\n",
       "     AAPL    18913154\n",
       "dtype: object"
      ]
     },
     "execution_count": 48,
     "metadata": {},
     "output_type": "execute_result"
    }
   ],
   "source": [
    "#unstack: 行索引 → 列索引\n",
    "i2c_Series=df.unstack()\n",
    "i2c_Series"
   ]
  },
  {
   "cell_type": "markdown",
   "metadata": {},
   "source": [
    "规律：\n",
    "\n",
    "\n",
    "\n",
    "- 当用 stack 将 df 变成 c2i_Series 时，df 的列索引 c 加在其行索引 r 后面得到 [r, c] 做为 c2i_Series 的多层索引\n",
    "\n",
    "\n",
    "\n",
    "- 当用 unstack 将 df 变成 i2c_Series 时，df 的行索引 r 加在其列索引 c 后面得到 [c, r] 做为 i2c_Series 的多层索引"
   ]
  },
  {
   "cell_type": "code",
   "execution_count": 49,
   "metadata": {},
   "outputs": [
    {
     "data": {
      "text/html": [
       "<div>\n",
       "<style scoped>\n",
       "    .dataframe tbody tr th:only-of-type {\n",
       "        vertical-align: middle;\n",
       "    }\n",
       "\n",
       "    .dataframe tbody tr th {\n",
       "        vertical-align: top;\n",
       "    }\n",
       "\n",
       "    .dataframe thead th {\n",
       "        text-align: right;\n",
       "    }\n",
       "</style>\n",
       "<table border=\"1\" class=\"dataframe\">\n",
       "  <thead>\n",
       "    <tr style=\"text-align: right;\">\n",
       "      <th>特征</th>\n",
       "      <th>行业</th>\n",
       "      <th>价格</th>\n",
       "      <th>交易量</th>\n",
       "    </tr>\n",
       "    <tr>\n",
       "      <th>代号</th>\n",
       "      <th></th>\n",
       "      <th></th>\n",
       "      <th></th>\n",
       "    </tr>\n",
       "  </thead>\n",
       "  <tbody>\n",
       "    <tr>\n",
       "      <th>JD</th>\n",
       "      <td>电商</td>\n",
       "      <td>25.95</td>\n",
       "      <td>27113291</td>\n",
       "    </tr>\n",
       "    <tr>\n",
       "      <th>AAPL</th>\n",
       "      <td>科技</td>\n",
       "      <td>172.97</td>\n",
       "      <td>18913154</td>\n",
       "    </tr>\n",
       "  </tbody>\n",
       "</table>\n",
       "</div>"
      ],
      "text/plain": [
       "特征    行业      价格       交易量\n",
       "代号                        \n",
       "JD    电商   25.95  27113291\n",
       "AAPL  科技  172.97  18913154"
      ]
     },
     "execution_count": 49,
     "metadata": {},
     "output_type": "execute_result"
    }
   ],
   "source": [
    "#  基于层来 unstack() 时，没有填层数，默认为最后一层\n",
    "c2i_Series.unstack()"
   ]
  },
  {
   "cell_type": "code",
   "execution_count": 50,
   "metadata": {},
   "outputs": [
    {
     "data": {
      "text/html": [
       "<div>\n",
       "<style scoped>\n",
       "    .dataframe tbody tr th:only-of-type {\n",
       "        vertical-align: middle;\n",
       "    }\n",
       "\n",
       "    .dataframe tbody tr th {\n",
       "        vertical-align: top;\n",
       "    }\n",
       "\n",
       "    .dataframe thead th {\n",
       "        text-align: right;\n",
       "    }\n",
       "</style>\n",
       "<table border=\"1\" class=\"dataframe\">\n",
       "  <thead>\n",
       "    <tr style=\"text-align: right;\">\n",
       "      <th>代号</th>\n",
       "      <th>JD</th>\n",
       "      <th>AAPL</th>\n",
       "    </tr>\n",
       "    <tr>\n",
       "      <th>特征</th>\n",
       "      <th></th>\n",
       "      <th></th>\n",
       "    </tr>\n",
       "  </thead>\n",
       "  <tbody>\n",
       "    <tr>\n",
       "      <th>行业</th>\n",
       "      <td>电商</td>\n",
       "      <td>科技</td>\n",
       "    </tr>\n",
       "    <tr>\n",
       "      <th>价格</th>\n",
       "      <td>25.95</td>\n",
       "      <td>172.97</td>\n",
       "    </tr>\n",
       "    <tr>\n",
       "      <th>交易量</th>\n",
       "      <td>27113291</td>\n",
       "      <td>18913154</td>\n",
       "    </tr>\n",
       "  </tbody>\n",
       "</table>\n",
       "</div>"
      ],
      "text/plain": [
       "代号         JD      AAPL\n",
       "特征                     \n",
       "行业         电商        科技\n",
       "价格      25.95    172.97\n",
       "交易量  27113291  18913154"
      ]
     },
     "execution_count": 50,
     "metadata": {},
     "output_type": "execute_result"
    }
   ],
   "source": [
    "# 基于层来 unstack() 时，选择第一层 (参数放 0)\n",
    "c2i_Series.unstack(0)"
   ]
  },
  {
   "cell_type": "code",
   "execution_count": 51,
   "metadata": {},
   "outputs": [
    {
     "data": {
      "text/html": [
       "<div>\n",
       "<style scoped>\n",
       "    .dataframe tbody tr th:only-of-type {\n",
       "        vertical-align: middle;\n",
       "    }\n",
       "\n",
       "    .dataframe tbody tr th {\n",
       "        vertical-align: top;\n",
       "    }\n",
       "\n",
       "    .dataframe thead th {\n",
       "        text-align: right;\n",
       "    }\n",
       "</style>\n",
       "<table border=\"1\" class=\"dataframe\">\n",
       "  <thead>\n",
       "    <tr style=\"text-align: right;\">\n",
       "      <th>代号</th>\n",
       "      <th>JD</th>\n",
       "      <th>AAPL</th>\n",
       "    </tr>\n",
       "    <tr>\n",
       "      <th>特征</th>\n",
       "      <th></th>\n",
       "      <th></th>\n",
       "    </tr>\n",
       "  </thead>\n",
       "  <tbody>\n",
       "    <tr>\n",
       "      <th>行业</th>\n",
       "      <td>电商</td>\n",
       "      <td>科技</td>\n",
       "    </tr>\n",
       "    <tr>\n",
       "      <th>价格</th>\n",
       "      <td>25.95</td>\n",
       "      <td>172.97</td>\n",
       "    </tr>\n",
       "    <tr>\n",
       "      <th>交易量</th>\n",
       "      <td>27113291</td>\n",
       "      <td>18913154</td>\n",
       "    </tr>\n",
       "  </tbody>\n",
       "</table>\n",
       "</div>"
      ],
      "text/plain": [
       "代号         JD      AAPL\n",
       "特征                     \n",
       "行业         电商        科技\n",
       "价格      25.95    172.97\n",
       "交易量  27113291  18913154"
      ]
     },
     "execution_count": 51,
     "metadata": {},
     "output_type": "execute_result"
    }
   ],
   "source": [
    "# 基于名称来 unstack \n",
    "c2i_Series.unstack('代号')"
   ]
  },
  {
   "cell_type": "code",
   "execution_count": 53,
   "metadata": {},
   "outputs": [
    {
     "data": {
      "text/html": [
       "<div>\n",
       "<style scoped>\n",
       "    .dataframe tbody tr th:only-of-type {\n",
       "        vertical-align: middle;\n",
       "    }\n",
       "\n",
       "    .dataframe tbody tr th {\n",
       "        vertical-align: top;\n",
       "    }\n",
       "\n",
       "    .dataframe thead th {\n",
       "        text-align: right;\n",
       "    }\n",
       "</style>\n",
       "<table border=\"1\" class=\"dataframe\">\n",
       "  <thead>\n",
       "    <tr style=\"text-align: right;\">\n",
       "      <th></th>\n",
       "      <th>特征</th>\n",
       "      <th>行业</th>\n",
       "      <th>雇员</th>\n",
       "      <th>价格</th>\n",
       "    </tr>\n",
       "    <tr>\n",
       "      <th>地区</th>\n",
       "      <th>代号</th>\n",
       "      <th></th>\n",
       "      <th></th>\n",
       "      <th></th>\n",
       "    </tr>\n",
       "  </thead>\n",
       "  <tbody>\n",
       "    <tr>\n",
       "      <th rowspan=\"2\" valign=\"top\">中国</th>\n",
       "      <th>BABA</th>\n",
       "      <td>电商</td>\n",
       "      <td>101550</td>\n",
       "      <td>176.92</td>\n",
       "    </tr>\n",
       "    <tr>\n",
       "      <th>JD</th>\n",
       "      <td>电商</td>\n",
       "      <td>175336</td>\n",
       "      <td>25.95</td>\n",
       "    </tr>\n",
       "    <tr>\n",
       "      <th rowspan=\"2\" valign=\"top\">美国</th>\n",
       "      <th>GS</th>\n",
       "      <td>金融</td>\n",
       "      <td>60348</td>\n",
       "      <td>41.79</td>\n",
       "    </tr>\n",
       "    <tr>\n",
       "      <th>MS</th>\n",
       "      <td>金融</td>\n",
       "      <td>36600</td>\n",
       "      <td>196.00</td>\n",
       "    </tr>\n",
       "  </tbody>\n",
       "</table>\n",
       "</div>"
      ],
      "text/plain": [
       "特征       行业      雇员      价格\n",
       "地区 代号                      \n",
       "中国 BABA  电商  101550  176.92\n",
       "   JD    电商  175336   25.95\n",
       "美国 GS    金融   60348   41.79\n",
       "   MS    金融   36600  196.00"
      ]
     },
     "execution_count": 53,
     "metadata": {},
     "output_type": "execute_result"
    }
   ],
   "source": [
    "# 创建多层DataFrame\n",
    "data = [ ['电商', 101550, 176.92], \n",
    "         ['电商', 175336, 25.95], \n",
    "         ['金融', 60348, 41.79], \n",
    "         ['金融', 36600, 196.00] ]\n",
    "\n",
    "midx = pd.MultiIndex( levels=[['中国','美国'],\n",
    "                              ['BABA', 'JD', 'GS', 'MS']], \n",
    "                      labels=[[0,0,1,1],[0,1,2,3]],\n",
    "                      names = ['地区', '代号'])\n",
    "\n",
    "mcol = pd.Index(['行业','雇员','价格'], name='特征')\n",
    "\n",
    "df = pd.DataFrame( data, index=midx, columns=mcol )\n",
    "df"
   ]
  },
  {
   "cell_type": "code",
   "execution_count": 54,
   "metadata": {},
   "outputs": [
    {
     "data": {
      "text/plain": [
       "(MultiIndex(levels=[['中国', '美国'], ['BABA', 'JD', 'GS', 'MS']],\n",
       "            labels=[[0, 0, 1, 1], [0, 1, 2, 3]],\n",
       "            names=['地区', '代号']),\n",
       " Index(['行业', '雇员', '价格'], dtype='object', name='特征'))"
      ]
     },
     "execution_count": 54,
     "metadata": {},
     "output_type": "execute_result"
    }
   ],
   "source": [
    "df.index,df.columns"
   ]
  },
  {
   "cell_type": "code",
   "execution_count": 55,
   "metadata": {},
   "outputs": [
    {
     "data": {
      "text/html": [
       "<div>\n",
       "<style scoped>\n",
       "    .dataframe tbody tr th:only-of-type {\n",
       "        vertical-align: middle;\n",
       "    }\n",
       "\n",
       "    .dataframe tbody tr th {\n",
       "        vertical-align: top;\n",
       "    }\n",
       "\n",
       "    .dataframe thead tr th {\n",
       "        text-align: left;\n",
       "    }\n",
       "\n",
       "    .dataframe thead tr:last-of-type th {\n",
       "        text-align: right;\n",
       "    }\n",
       "</style>\n",
       "<table border=\"1\" class=\"dataframe\">\n",
       "  <thead>\n",
       "    <tr>\n",
       "      <th>特征</th>\n",
       "      <th colspan=\"2\" halign=\"left\">行业</th>\n",
       "      <th colspan=\"2\" halign=\"left\">雇员</th>\n",
       "      <th colspan=\"2\" halign=\"left\">价格</th>\n",
       "    </tr>\n",
       "    <tr>\n",
       "      <th>地区</th>\n",
       "      <th>中国</th>\n",
       "      <th>美国</th>\n",
       "      <th>中国</th>\n",
       "      <th>美国</th>\n",
       "      <th>中国</th>\n",
       "      <th>美国</th>\n",
       "    </tr>\n",
       "    <tr>\n",
       "      <th>代号</th>\n",
       "      <th></th>\n",
       "      <th></th>\n",
       "      <th></th>\n",
       "      <th></th>\n",
       "      <th></th>\n",
       "      <th></th>\n",
       "    </tr>\n",
       "  </thead>\n",
       "  <tbody>\n",
       "    <tr>\n",
       "      <th>BABA</th>\n",
       "      <td>电商</td>\n",
       "      <td>NaN</td>\n",
       "      <td>101550.0</td>\n",
       "      <td>NaN</td>\n",
       "      <td>176.92</td>\n",
       "      <td>NaN</td>\n",
       "    </tr>\n",
       "    <tr>\n",
       "      <th>JD</th>\n",
       "      <td>电商</td>\n",
       "      <td>NaN</td>\n",
       "      <td>175336.0</td>\n",
       "      <td>NaN</td>\n",
       "      <td>25.95</td>\n",
       "      <td>NaN</td>\n",
       "    </tr>\n",
       "    <tr>\n",
       "      <th>GS</th>\n",
       "      <td>NaN</td>\n",
       "      <td>金融</td>\n",
       "      <td>NaN</td>\n",
       "      <td>60348.0</td>\n",
       "      <td>NaN</td>\n",
       "      <td>41.79</td>\n",
       "    </tr>\n",
       "    <tr>\n",
       "      <th>MS</th>\n",
       "      <td>NaN</td>\n",
       "      <td>金融</td>\n",
       "      <td>NaN</td>\n",
       "      <td>36600.0</td>\n",
       "      <td>NaN</td>\n",
       "      <td>196.00</td>\n",
       "    </tr>\n",
       "  </tbody>\n",
       "</table>\n",
       "</div>"
      ],
      "text/plain": [
       "特征     行业             雇员               价格        \n",
       "地区     中国   美国        中国       美国      中国      美国\n",
       "代号                                               \n",
       "BABA   电商  NaN  101550.0      NaN  176.92     NaN\n",
       "JD     电商  NaN  175336.0      NaN   25.95     NaN\n",
       "GS    NaN   金融       NaN  60348.0     NaN   41.79\n",
       "MS    NaN   金融       NaN  36600.0     NaN  196.00"
      ]
     },
     "execution_count": 55,
     "metadata": {},
     "output_type": "execute_result"
    }
   ],
   "source": [
    "# 基于层来 unstack() 时，选择第一层 (参数放 0)\n",
    "df.unstack(0)"
   ]
  },
  {
   "cell_type": "code",
   "execution_count": 56,
   "metadata": {},
   "outputs": [
    {
     "data": {
      "text/html": [
       "<div>\n",
       "<style scoped>\n",
       "    .dataframe tbody tr th:only-of-type {\n",
       "        vertical-align: middle;\n",
       "    }\n",
       "\n",
       "    .dataframe tbody tr th {\n",
       "        vertical-align: top;\n",
       "    }\n",
       "\n",
       "    .dataframe thead tr th {\n",
       "        text-align: left;\n",
       "    }\n",
       "\n",
       "    .dataframe thead tr:last-of-type th {\n",
       "        text-align: right;\n",
       "    }\n",
       "</style>\n",
       "<table border=\"1\" class=\"dataframe\">\n",
       "  <thead>\n",
       "    <tr>\n",
       "      <th>特征</th>\n",
       "      <th colspan=\"4\" halign=\"left\">行业</th>\n",
       "      <th colspan=\"4\" halign=\"left\">雇员</th>\n",
       "      <th colspan=\"4\" halign=\"left\">价格</th>\n",
       "    </tr>\n",
       "    <tr>\n",
       "      <th>代号</th>\n",
       "      <th>BABA</th>\n",
       "      <th>JD</th>\n",
       "      <th>GS</th>\n",
       "      <th>MS</th>\n",
       "      <th>BABA</th>\n",
       "      <th>JD</th>\n",
       "      <th>GS</th>\n",
       "      <th>MS</th>\n",
       "      <th>BABA</th>\n",
       "      <th>JD</th>\n",
       "      <th>GS</th>\n",
       "      <th>MS</th>\n",
       "    </tr>\n",
       "    <tr>\n",
       "      <th>地区</th>\n",
       "      <th></th>\n",
       "      <th></th>\n",
       "      <th></th>\n",
       "      <th></th>\n",
       "      <th></th>\n",
       "      <th></th>\n",
       "      <th></th>\n",
       "      <th></th>\n",
       "      <th></th>\n",
       "      <th></th>\n",
       "      <th></th>\n",
       "      <th></th>\n",
       "    </tr>\n",
       "  </thead>\n",
       "  <tbody>\n",
       "    <tr>\n",
       "      <th>中国</th>\n",
       "      <td>电商</td>\n",
       "      <td>电商</td>\n",
       "      <td>NaN</td>\n",
       "      <td>NaN</td>\n",
       "      <td>101550.0</td>\n",
       "      <td>175336.0</td>\n",
       "      <td>NaN</td>\n",
       "      <td>NaN</td>\n",
       "      <td>176.92</td>\n",
       "      <td>25.95</td>\n",
       "      <td>NaN</td>\n",
       "      <td>NaN</td>\n",
       "    </tr>\n",
       "    <tr>\n",
       "      <th>美国</th>\n",
       "      <td>NaN</td>\n",
       "      <td>NaN</td>\n",
       "      <td>金融</td>\n",
       "      <td>金融</td>\n",
       "      <td>NaN</td>\n",
       "      <td>NaN</td>\n",
       "      <td>60348.0</td>\n",
       "      <td>36600.0</td>\n",
       "      <td>NaN</td>\n",
       "      <td>NaN</td>\n",
       "      <td>41.79</td>\n",
       "      <td>196.0</td>\n",
       "    </tr>\n",
       "  </tbody>\n",
       "</table>\n",
       "</div>"
      ],
      "text/plain": [
       "特征   行业                       雇员                                  价格         \\\n",
       "代号 BABA   JD   GS   MS      BABA        JD       GS       MS    BABA     JD   \n",
       "地区                                                                            \n",
       "中国   电商   电商  NaN  NaN  101550.0  175336.0      NaN      NaN  176.92  25.95   \n",
       "美国  NaN  NaN   金融   金融       NaN       NaN  60348.0  36600.0     NaN    NaN   \n",
       "\n",
       "特征                \n",
       "代号     GS     MS  \n",
       "地区                \n",
       "中国    NaN    NaN  \n",
       "美国  41.79  196.0  "
      ]
     },
     "execution_count": 56,
     "metadata": {},
     "output_type": "execute_result"
    }
   ],
   "source": [
    "# 基于层来 unstack() 时，选择第二层 (参数放 1)\n",
    "df.unstack(1)"
   ]
  },
  {
   "cell_type": "code",
   "execution_count": 57,
   "metadata": {},
   "outputs": [
    {
     "data": {
      "text/html": [
       "<div>\n",
       "<style scoped>\n",
       "    .dataframe tbody tr th:only-of-type {\n",
       "        vertical-align: middle;\n",
       "    }\n",
       "\n",
       "    .dataframe tbody tr th {\n",
       "        vertical-align: top;\n",
       "    }\n",
       "\n",
       "    .dataframe thead th {\n",
       "        text-align: right;\n",
       "    }\n",
       "</style>\n",
       "<table border=\"1\" class=\"dataframe\">\n",
       "  <thead>\n",
       "    <tr style=\"text-align: right;\">\n",
       "      <th></th>\n",
       "      <th>地区</th>\n",
       "      <th>中国</th>\n",
       "      <th>美国</th>\n",
       "    </tr>\n",
       "    <tr>\n",
       "      <th>代号</th>\n",
       "      <th>特征</th>\n",
       "      <th></th>\n",
       "      <th></th>\n",
       "    </tr>\n",
       "  </thead>\n",
       "  <tbody>\n",
       "    <tr>\n",
       "      <th rowspan=\"3\" valign=\"top\">BABA</th>\n",
       "      <th>价格</th>\n",
       "      <td>176.92</td>\n",
       "      <td>NaN</td>\n",
       "    </tr>\n",
       "    <tr>\n",
       "      <th>行业</th>\n",
       "      <td>电商</td>\n",
       "      <td>NaN</td>\n",
       "    </tr>\n",
       "    <tr>\n",
       "      <th>雇员</th>\n",
       "      <td>101550</td>\n",
       "      <td>NaN</td>\n",
       "    </tr>\n",
       "    <tr>\n",
       "      <th rowspan=\"3\" valign=\"top\">JD</th>\n",
       "      <th>价格</th>\n",
       "      <td>25.95</td>\n",
       "      <td>NaN</td>\n",
       "    </tr>\n",
       "    <tr>\n",
       "      <th>行业</th>\n",
       "      <td>电商</td>\n",
       "      <td>NaN</td>\n",
       "    </tr>\n",
       "    <tr>\n",
       "      <th>雇员</th>\n",
       "      <td>175336</td>\n",
       "      <td>NaN</td>\n",
       "    </tr>\n",
       "    <tr>\n",
       "      <th rowspan=\"3\" valign=\"top\">GS</th>\n",
       "      <th>价格</th>\n",
       "      <td>NaN</td>\n",
       "      <td>41.79</td>\n",
       "    </tr>\n",
       "    <tr>\n",
       "      <th>行业</th>\n",
       "      <td>NaN</td>\n",
       "      <td>金融</td>\n",
       "    </tr>\n",
       "    <tr>\n",
       "      <th>雇员</th>\n",
       "      <td>NaN</td>\n",
       "      <td>60348</td>\n",
       "    </tr>\n",
       "    <tr>\n",
       "      <th rowspan=\"3\" valign=\"top\">MS</th>\n",
       "      <th>价格</th>\n",
       "      <td>NaN</td>\n",
       "      <td>196</td>\n",
       "    </tr>\n",
       "    <tr>\n",
       "      <th>行业</th>\n",
       "      <td>NaN</td>\n",
       "      <td>金融</td>\n",
       "    </tr>\n",
       "    <tr>\n",
       "      <th>雇员</th>\n",
       "      <td>NaN</td>\n",
       "      <td>36600</td>\n",
       "    </tr>\n",
       "  </tbody>\n",
       "</table>\n",
       "</div>"
      ],
      "text/plain": [
       "地区           中国     美国\n",
       "代号   特征               \n",
       "BABA 价格  176.92    NaN\n",
       "     行业      电商    NaN\n",
       "     雇员  101550    NaN\n",
       "JD   价格   25.95    NaN\n",
       "     行业      电商    NaN\n",
       "     雇员  175336    NaN\n",
       "GS   价格     NaN  41.79\n",
       "     行业     NaN     金融\n",
       "     雇员     NaN  60348\n",
       "MS   价格     NaN    196\n",
       "     行业     NaN     金融\n",
       "     雇员     NaN  36600"
      ]
     },
     "execution_count": 57,
     "metadata": {},
     "output_type": "execute_result"
    }
   ],
   "source": [
    "# 基于层先 unstack(0) 再 stack(0)\n",
    "df.unstack(0).stack(0)"
   ]
  },
  {
   "cell_type": "code",
   "execution_count": 58,
   "metadata": {},
   "outputs": [
    {
     "data": {
      "text/html": [
       "<div>\n",
       "<style scoped>\n",
       "    .dataframe tbody tr th:only-of-type {\n",
       "        vertical-align: middle;\n",
       "    }\n",
       "\n",
       "    .dataframe tbody tr th {\n",
       "        vertical-align: top;\n",
       "    }\n",
       "\n",
       "    .dataframe thead th {\n",
       "        text-align: right;\n",
       "    }\n",
       "</style>\n",
       "<table border=\"1\" class=\"dataframe\">\n",
       "  <thead>\n",
       "    <tr style=\"text-align: right;\">\n",
       "      <th></th>\n",
       "      <th>特征</th>\n",
       "      <th>行业</th>\n",
       "      <th>雇员</th>\n",
       "      <th>价格</th>\n",
       "    </tr>\n",
       "    <tr>\n",
       "      <th>代号</th>\n",
       "      <th>地区</th>\n",
       "      <th></th>\n",
       "      <th></th>\n",
       "      <th></th>\n",
       "    </tr>\n",
       "  </thead>\n",
       "  <tbody>\n",
       "    <tr>\n",
       "      <th>BABA</th>\n",
       "      <th>中国</th>\n",
       "      <td>电商</td>\n",
       "      <td>101550.0</td>\n",
       "      <td>176.92</td>\n",
       "    </tr>\n",
       "    <tr>\n",
       "      <th>JD</th>\n",
       "      <th>中国</th>\n",
       "      <td>电商</td>\n",
       "      <td>175336.0</td>\n",
       "      <td>25.95</td>\n",
       "    </tr>\n",
       "    <tr>\n",
       "      <th>GS</th>\n",
       "      <th>美国</th>\n",
       "      <td>金融</td>\n",
       "      <td>60348.0</td>\n",
       "      <td>41.79</td>\n",
       "    </tr>\n",
       "    <tr>\n",
       "      <th>MS</th>\n",
       "      <th>美国</th>\n",
       "      <td>金融</td>\n",
       "      <td>36600.0</td>\n",
       "      <td>196.00</td>\n",
       "    </tr>\n",
       "  </tbody>\n",
       "</table>\n",
       "</div>"
      ],
      "text/plain": [
       "特征       行业        雇员      价格\n",
       "代号   地区                      \n",
       "BABA 中国  电商  101550.0  176.92\n",
       "JD   中国  电商  175336.0   25.95\n",
       "GS   美国  金融   60348.0   41.79\n",
       "MS   美国  金融   36600.0  196.00"
      ]
     },
     "execution_count": 58,
     "metadata": {},
     "output_type": "execute_result"
    }
   ],
   "source": [
    "#  基于层先 unstack(0) 再 stack(1)\n",
    "df.unstack(0).stack(1)"
   ]
  },
  {
   "cell_type": "code",
   "execution_count": 59,
   "metadata": {},
   "outputs": [
    {
     "data": {
      "text/html": [
       "<div>\n",
       "<style scoped>\n",
       "    .dataframe tbody tr th:only-of-type {\n",
       "        vertical-align: middle;\n",
       "    }\n",
       "\n",
       "    .dataframe tbody tr th {\n",
       "        vertical-align: top;\n",
       "    }\n",
       "\n",
       "    .dataframe thead th {\n",
       "        text-align: right;\n",
       "    }\n",
       "</style>\n",
       "<table border=\"1\" class=\"dataframe\">\n",
       "  <thead>\n",
       "    <tr style=\"text-align: right;\">\n",
       "      <th></th>\n",
       "      <th>代号</th>\n",
       "      <th>BABA</th>\n",
       "      <th>GS</th>\n",
       "      <th>JD</th>\n",
       "      <th>MS</th>\n",
       "    </tr>\n",
       "    <tr>\n",
       "      <th>地区</th>\n",
       "      <th>特征</th>\n",
       "      <th></th>\n",
       "      <th></th>\n",
       "      <th></th>\n",
       "      <th></th>\n",
       "    </tr>\n",
       "  </thead>\n",
       "  <tbody>\n",
       "    <tr>\n",
       "      <th rowspan=\"3\" valign=\"top\">中国</th>\n",
       "      <th>价格</th>\n",
       "      <td>176.92</td>\n",
       "      <td>NaN</td>\n",
       "      <td>25.95</td>\n",
       "      <td>NaN</td>\n",
       "    </tr>\n",
       "    <tr>\n",
       "      <th>行业</th>\n",
       "      <td>电商</td>\n",
       "      <td>NaN</td>\n",
       "      <td>电商</td>\n",
       "      <td>NaN</td>\n",
       "    </tr>\n",
       "    <tr>\n",
       "      <th>雇员</th>\n",
       "      <td>101550</td>\n",
       "      <td>NaN</td>\n",
       "      <td>175336</td>\n",
       "      <td>NaN</td>\n",
       "    </tr>\n",
       "    <tr>\n",
       "      <th rowspan=\"3\" valign=\"top\">美国</th>\n",
       "      <th>价格</th>\n",
       "      <td>NaN</td>\n",
       "      <td>41.79</td>\n",
       "      <td>NaN</td>\n",
       "      <td>196</td>\n",
       "    </tr>\n",
       "    <tr>\n",
       "      <th>行业</th>\n",
       "      <td>NaN</td>\n",
       "      <td>金融</td>\n",
       "      <td>NaN</td>\n",
       "      <td>金融</td>\n",
       "    </tr>\n",
       "    <tr>\n",
       "      <th>雇员</th>\n",
       "      <td>NaN</td>\n",
       "      <td>60348</td>\n",
       "      <td>NaN</td>\n",
       "      <td>36600</td>\n",
       "    </tr>\n",
       "  </tbody>\n",
       "</table>\n",
       "</div>"
      ],
      "text/plain": [
       "代号       BABA     GS      JD     MS\n",
       "地区 特征                              \n",
       "中国 价格  176.92    NaN   25.95    NaN\n",
       "   行业      电商    NaN      电商    NaN\n",
       "   雇员  101550    NaN  175336    NaN\n",
       "美国 价格     NaN  41.79     NaN    196\n",
       "   行业     NaN     金融     NaN     金融\n",
       "   雇员     NaN  60348     NaN  36600"
      ]
     },
     "execution_count": 59,
     "metadata": {},
     "output_type": "execute_result"
    }
   ],
   "source": [
    "# 基于层先 unstack(1) 再 stack(0)\n",
    "df.unstack(1).stack(0)"
   ]
  },
  {
   "cell_type": "code",
   "execution_count": 60,
   "metadata": {},
   "outputs": [
    {
     "data": {
      "text/html": [
       "<div>\n",
       "<style scoped>\n",
       "    .dataframe tbody tr th:only-of-type {\n",
       "        vertical-align: middle;\n",
       "    }\n",
       "\n",
       "    .dataframe tbody tr th {\n",
       "        vertical-align: top;\n",
       "    }\n",
       "\n",
       "    .dataframe thead th {\n",
       "        text-align: right;\n",
       "    }\n",
       "</style>\n",
       "<table border=\"1\" class=\"dataframe\">\n",
       "  <thead>\n",
       "    <tr style=\"text-align: right;\">\n",
       "      <th></th>\n",
       "      <th>特征</th>\n",
       "      <th>行业</th>\n",
       "      <th>雇员</th>\n",
       "      <th>价格</th>\n",
       "    </tr>\n",
       "    <tr>\n",
       "      <th>地区</th>\n",
       "      <th>代号</th>\n",
       "      <th></th>\n",
       "      <th></th>\n",
       "      <th></th>\n",
       "    </tr>\n",
       "  </thead>\n",
       "  <tbody>\n",
       "    <tr>\n",
       "      <th rowspan=\"2\" valign=\"top\">中国</th>\n",
       "      <th>BABA</th>\n",
       "      <td>电商</td>\n",
       "      <td>101550.0</td>\n",
       "      <td>176.92</td>\n",
       "    </tr>\n",
       "    <tr>\n",
       "      <th>JD</th>\n",
       "      <td>电商</td>\n",
       "      <td>175336.0</td>\n",
       "      <td>25.95</td>\n",
       "    </tr>\n",
       "    <tr>\n",
       "      <th rowspan=\"2\" valign=\"top\">美国</th>\n",
       "      <th>GS</th>\n",
       "      <td>金融</td>\n",
       "      <td>60348.0</td>\n",
       "      <td>41.79</td>\n",
       "    </tr>\n",
       "    <tr>\n",
       "      <th>MS</th>\n",
       "      <td>金融</td>\n",
       "      <td>36600.0</td>\n",
       "      <td>196.00</td>\n",
       "    </tr>\n",
       "  </tbody>\n",
       "</table>\n",
       "</div>"
      ],
      "text/plain": [
       "特征       行业        雇员      价格\n",
       "地区 代号                        \n",
       "中国 BABA  电商  101550.0  176.92\n",
       "   JD    电商  175336.0   25.95\n",
       "美国 GS    金融   60348.0   41.79\n",
       "   MS    金融   36600.0  196.00"
      ]
     },
     "execution_count": 60,
     "metadata": {},
     "output_type": "execute_result"
    }
   ],
   "source": [
    "# 基于层先 unstack(1) 再 stack(1)\n",
    "df.unstack(1).stack(1)"
   ]
  },
  {
   "cell_type": "code",
   "execution_count": 61,
   "metadata": {},
   "outputs": [
    {
     "data": {
      "text/plain": [
       "地区  代号    特征\n",
       "中国  BABA  行业        电商\n",
       "          雇员    101550\n",
       "          价格    176.92\n",
       "    JD    行业        电商\n",
       "          雇员    175336\n",
       "          价格     25.95\n",
       "美国  GS    行业        金融\n",
       "          雇员     60348\n",
       "          价格     41.79\n",
       "    MS    行业        金融\n",
       "          雇员     36600\n",
       "          价格       196\n",
       "dtype: object"
      ]
     },
     "execution_count": 61,
     "metadata": {},
     "output_type": "execute_result"
    }
   ],
   "source": [
    "# 基于层被 stack()，没有填层数，默认为最后一层。\n",
    "df.stack()"
   ]
  },
  {
   "cell_type": "code",
   "execution_count": 62,
   "metadata": {},
   "outputs": [
    {
     "data": {
      "text/plain": [
       "特征  代号    地区\n",
       "行业  BABA  中国        电商\n",
       "          美国       NaN\n",
       "    JD    中国        电商\n",
       "          美国       NaN\n",
       "    GS    中国       NaN\n",
       "          美国        金融\n",
       "    MS    中国       NaN\n",
       "          美国        金融\n",
       "雇员  BABA  中国    101550\n",
       "          美国       NaN\n",
       "    JD    中国    175336\n",
       "          美国       NaN\n",
       "    GS    中国       NaN\n",
       "          美国     60348\n",
       "    MS    中国       NaN\n",
       "          美国     36600\n",
       "价格  BABA  中国    176.92\n",
       "          美国       NaN\n",
       "    JD    中国     25.95\n",
       "          美国       NaN\n",
       "    GS    中国       NaN\n",
       "          美国     41.79\n",
       "    MS    中国       NaN\n",
       "          美国       196\n",
       "dtype: object"
      ]
     },
     "execution_count": 62,
     "metadata": {},
     "output_type": "execute_result"
    }
   ],
   "source": [
    "# 基于层被 unstack() 两次，没有填层数，默认为最后一层\n",
    "df.unstack().unstack()"
   ]
  },
  {
   "cell_type": "markdown",
   "metadata": {},
   "source": [
    "## 透视"
   ]
  },
  {
   "cell_type": "markdown",
   "metadata": {},
   "source": [
    "跟Excel的数据透视表是一回事，通过对源表进行透视操作后，就可以根据自己的需求来“随意揉捏”数据了。\n",
    "\n",
    "透视表是用来汇总其它表的数据：\n",
    "\n",
    "- 首先把源表分组，将不同值当做行 (row)、列 (column) 和值 (value)\n",
    "\n",
    "\n",
    "- 然后对各组内数据做汇总操作如排序、平均、累加、计数等\n",
    "\n",
    "\n",
    "这种动态将·「源表」得到想要「终表」的旋转 (pivoting) 过程，使透视表得以命名。"
   ]
  },
  {
   "cell_type": "markdown",
   "metadata": {},
   "source": [
    "在 Pandas 里透视的方法有两种：\n",
    "\n",
    "\n",
    "\n",
    "- 用 pivot 函数将「一张长表」变「多张宽表」(一维转二维)\n",
    "\n",
    "- 用 melt 函数将「多张宽表」变「一张长表」(二维转一维)"
   ]
  },
  {
   "cell_type": "markdown",
   "metadata": {},
   "source": [
    "### 从长到宽pivot"
   ]
  },
  {
   "cell_type": "markdown",
   "metadata": {},
   "source": [
    "在 pivot 函数中\n",
    "\n",
    "\n",
    "\n",
    "- 将 index 设置成 源表某列\n",
    "\n",
    "- 将 columns 设置成 源表某列\n",
    "\n",
    "- 将 values 设置成 源表某列"
   ]
  },
  {
   "cell_type": "code",
   "execution_count": 91,
   "metadata": {},
   "outputs": [],
   "source": [
    "import numpy as np\n",
    "import pandas as pd\n",
    "from pandas import Series,DataFrame"
   ]
  },
  {
   "cell_type": "code",
   "execution_count": 92,
   "metadata": {},
   "outputs": [
    {
     "data": {
      "text/html": [
       "<div>\n",
       "<style scoped>\n",
       "    .dataframe tbody tr th:only-of-type {\n",
       "        vertical-align: middle;\n",
       "    }\n",
       "\n",
       "    .dataframe tbody tr th {\n",
       "        vertical-align: top;\n",
       "    }\n",
       "\n",
       "    .dataframe thead th {\n",
       "        text-align: right;\n",
       "    }\n",
       "</style>\n",
       "<table border=\"1\" class=\"dataframe\">\n",
       "  <thead>\n",
       "    <tr style=\"text-align: right;\">\n",
       "      <th></th>\n",
       "      <th>date</th>\n",
       "      <th>symbol</th>\n",
       "      <th>open</th>\n",
       "      <th>high</th>\n",
       "      <th>low</th>\n",
       "      <th>close</th>\n",
       "      <th>adj close</th>\n",
       "      <th>volume</th>\n",
       "    </tr>\n",
       "  </thead>\n",
       "  <tbody>\n",
       "    <tr>\n",
       "      <th>0</th>\n",
       "      <td>2019-02-21</td>\n",
       "      <td>AAPL</td>\n",
       "      <td>173</td>\n",
       "      <td>22</td>\n",
       "      <td>144</td>\n",
       "      <td>64</td>\n",
       "      <td>186</td>\n",
       "      <td>40</td>\n",
       "    </tr>\n",
       "    <tr>\n",
       "      <th>1</th>\n",
       "      <td>2019-02-21</td>\n",
       "      <td>JD</td>\n",
       "      <td>159</td>\n",
       "      <td>96</td>\n",
       "      <td>195</td>\n",
       "      <td>62</td>\n",
       "      <td>149</td>\n",
       "      <td>143</td>\n",
       "    </tr>\n",
       "    <tr>\n",
       "      <th>2</th>\n",
       "      <td>2019-02-21</td>\n",
       "      <td>BABA</td>\n",
       "      <td>94</td>\n",
       "      <td>98</td>\n",
       "      <td>133</td>\n",
       "      <td>127</td>\n",
       "      <td>82</td>\n",
       "      <td>121</td>\n",
       "    </tr>\n",
       "    <tr>\n",
       "      <th>3</th>\n",
       "      <td>2019-02-21</td>\n",
       "      <td>GS</td>\n",
       "      <td>192</td>\n",
       "      <td>100</td>\n",
       "      <td>143</td>\n",
       "      <td>87</td>\n",
       "      <td>63</td>\n",
       "      <td>99</td>\n",
       "    </tr>\n",
       "    <tr>\n",
       "      <th>4</th>\n",
       "      <td>2019-02-21</td>\n",
       "      <td>FB</td>\n",
       "      <td>107</td>\n",
       "      <td>90</td>\n",
       "      <td>99</td>\n",
       "      <td>33</td>\n",
       "      <td>161</td>\n",
       "      <td>122</td>\n",
       "    </tr>\n",
       "  </tbody>\n",
       "</table>\n",
       "</div>"
      ],
      "text/plain": [
       "        date symbol  open   high   low  close  adj close  volume\n",
       "0 2019-02-21   AAPL    173     22  144     64        186      40\n",
       "1 2019-02-21     JD    159     96  195     62        149     143\n",
       "2 2019-02-21   BABA     94     98  133    127         82     121\n",
       "3 2019-02-21     GS    192    100  143     87         63      99\n",
       "4 2019-02-21     FB    107     90   99     33        161     122"
      ]
     },
     "execution_count": 92,
     "metadata": {},
     "output_type": "execute_result"
    }
   ],
   "source": [
    "data=pd.read_excel(\"./data/stock.xlsx\")\n",
    "data.head()"
   ]
  },
  {
   "cell_type": "code",
   "execution_count": 98,
   "metadata": {},
   "outputs": [
    {
     "data": {
      "text/html": [
       "<div>\n",
       "<style scoped>\n",
       "    .dataframe tbody tr th:only-of-type {\n",
       "        vertical-align: middle;\n",
       "    }\n",
       "\n",
       "    .dataframe tbody tr th {\n",
       "        vertical-align: top;\n",
       "    }\n",
       "\n",
       "    .dataframe thead th {\n",
       "        text-align: right;\n",
       "    }\n",
       "</style>\n",
       "<table border=\"1\" class=\"dataframe\">\n",
       "  <thead>\n",
       "    <tr style=\"text-align: right;\">\n",
       "      <th>symbol</th>\n",
       "      <th>AAPL</th>\n",
       "      <th>BABA</th>\n",
       "      <th>FB</th>\n",
       "      <th>GS</th>\n",
       "      <th>JD</th>\n",
       "    </tr>\n",
       "    <tr>\n",
       "      <th>date</th>\n",
       "      <th></th>\n",
       "      <th></th>\n",
       "      <th></th>\n",
       "      <th></th>\n",
       "      <th></th>\n",
       "    </tr>\n",
       "  </thead>\n",
       "  <tbody>\n",
       "    <tr>\n",
       "      <th>2019-02-21</th>\n",
       "      <td>186</td>\n",
       "      <td>82</td>\n",
       "      <td>161</td>\n",
       "      <td>63</td>\n",
       "      <td>149</td>\n",
       "    </tr>\n",
       "    <tr>\n",
       "      <th>2019-02-22</th>\n",
       "      <td>188</td>\n",
       "      <td>26</td>\n",
       "      <td>79</td>\n",
       "      <td>59</td>\n",
       "      <td>56</td>\n",
       "    </tr>\n",
       "    <tr>\n",
       "      <th>2019-02-23</th>\n",
       "      <td>175</td>\n",
       "      <td>133</td>\n",
       "      <td>142</td>\n",
       "      <td>153</td>\n",
       "      <td>189</td>\n",
       "    </tr>\n",
       "    <tr>\n",
       "      <th>2019-02-24</th>\n",
       "      <td>33</td>\n",
       "      <td>187</td>\n",
       "      <td>20</td>\n",
       "      <td>29</td>\n",
       "      <td>25</td>\n",
       "    </tr>\n",
       "    <tr>\n",
       "      <th>2019-02-25</th>\n",
       "      <td>87</td>\n",
       "      <td>92</td>\n",
       "      <td>191</td>\n",
       "      <td>104</td>\n",
       "      <td>132</td>\n",
       "    </tr>\n",
       "    <tr>\n",
       "      <th>2019-02-26</th>\n",
       "      <td>58</td>\n",
       "      <td>54</td>\n",
       "      <td>27</td>\n",
       "      <td>198</td>\n",
       "      <td>41</td>\n",
       "    </tr>\n",
       "  </tbody>\n",
       "</table>\n",
       "</div>"
      ],
      "text/plain": [
       "symbol      AAPL  BABA   FB   GS   JD\n",
       "date                                 \n",
       "2019-02-21   186    82  161   63  149\n",
       "2019-02-22   188    26   79   59   56\n",
       "2019-02-23   175   133  142  153  189\n",
       "2019-02-24    33   187   20   29   25\n",
       "2019-02-25    87    92  191  104  132\n",
       "2019-02-26    58    54   27  198   41"
      ]
     },
     "execution_count": 98,
     "metadata": {},
     "output_type": "execute_result"
    }
   ],
   "source": [
    "# 透视一列\n",
    "close_price=data.pivot(index='date',columns='symbol',values='adj close')\n",
    "close_price"
   ]
  },
  {
   "cell_type": "code",
   "execution_count": 101,
   "metadata": {
    "scrolled": true
   },
   "outputs": [
    {
     "data": {
      "text/html": [
       "<div>\n",
       "<style scoped>\n",
       "    .dataframe tbody tr th:only-of-type {\n",
       "        vertical-align: middle;\n",
       "    }\n",
       "\n",
       "    .dataframe tbody tr th {\n",
       "        vertical-align: top;\n",
       "    }\n",
       "\n",
       "    .dataframe thead tr th {\n",
       "        text-align: left;\n",
       "    }\n",
       "\n",
       "    .dataframe thead tr:last-of-type th {\n",
       "        text-align: right;\n",
       "    }\n",
       "</style>\n",
       "<table border=\"1\" class=\"dataframe\">\n",
       "  <thead>\n",
       "    <tr>\n",
       "      <th></th>\n",
       "      <th colspan=\"5\" halign=\"left\">adj close</th>\n",
       "      <th colspan=\"5\" halign=\"left\">volume</th>\n",
       "    </tr>\n",
       "    <tr>\n",
       "      <th>symbol</th>\n",
       "      <th>AAPL</th>\n",
       "      <th>BABA</th>\n",
       "      <th>FB</th>\n",
       "      <th>GS</th>\n",
       "      <th>JD</th>\n",
       "      <th>AAPL</th>\n",
       "      <th>BABA</th>\n",
       "      <th>FB</th>\n",
       "      <th>GS</th>\n",
       "      <th>JD</th>\n",
       "    </tr>\n",
       "    <tr>\n",
       "      <th>date</th>\n",
       "      <th></th>\n",
       "      <th></th>\n",
       "      <th></th>\n",
       "      <th></th>\n",
       "      <th></th>\n",
       "      <th></th>\n",
       "      <th></th>\n",
       "      <th></th>\n",
       "      <th></th>\n",
       "      <th></th>\n",
       "    </tr>\n",
       "  </thead>\n",
       "  <tbody>\n",
       "    <tr>\n",
       "      <th>2019-02-21</th>\n",
       "      <td>186</td>\n",
       "      <td>82</td>\n",
       "      <td>161</td>\n",
       "      <td>63</td>\n",
       "      <td>149</td>\n",
       "      <td>40</td>\n",
       "      <td>121</td>\n",
       "      <td>122</td>\n",
       "      <td>99</td>\n",
       "      <td>143</td>\n",
       "    </tr>\n",
       "    <tr>\n",
       "      <th>2019-02-22</th>\n",
       "      <td>188</td>\n",
       "      <td>26</td>\n",
       "      <td>79</td>\n",
       "      <td>59</td>\n",
       "      <td>56</td>\n",
       "      <td>180</td>\n",
       "      <td>134</td>\n",
       "      <td>172</td>\n",
       "      <td>112</td>\n",
       "      <td>127</td>\n",
       "    </tr>\n",
       "    <tr>\n",
       "      <th>2019-02-23</th>\n",
       "      <td>175</td>\n",
       "      <td>133</td>\n",
       "      <td>142</td>\n",
       "      <td>153</td>\n",
       "      <td>189</td>\n",
       "      <td>73</td>\n",
       "      <td>92</td>\n",
       "      <td>105</td>\n",
       "      <td>165</td>\n",
       "      <td>99</td>\n",
       "    </tr>\n",
       "    <tr>\n",
       "      <th>2019-02-24</th>\n",
       "      <td>33</td>\n",
       "      <td>187</td>\n",
       "      <td>20</td>\n",
       "      <td>29</td>\n",
       "      <td>25</td>\n",
       "      <td>106</td>\n",
       "      <td>124</td>\n",
       "      <td>53</td>\n",
       "      <td>81</td>\n",
       "      <td>99</td>\n",
       "    </tr>\n",
       "    <tr>\n",
       "      <th>2019-02-25</th>\n",
       "      <td>87</td>\n",
       "      <td>92</td>\n",
       "      <td>191</td>\n",
       "      <td>104</td>\n",
       "      <td>132</td>\n",
       "      <td>156</td>\n",
       "      <td>26</td>\n",
       "      <td>197</td>\n",
       "      <td>134</td>\n",
       "      <td>27</td>\n",
       "    </tr>\n",
       "    <tr>\n",
       "      <th>2019-02-26</th>\n",
       "      <td>58</td>\n",
       "      <td>54</td>\n",
       "      <td>27</td>\n",
       "      <td>198</td>\n",
       "      <td>41</td>\n",
       "      <td>145</td>\n",
       "      <td>191</td>\n",
       "      <td>28</td>\n",
       "      <td>59</td>\n",
       "      <td>192</td>\n",
       "    </tr>\n",
       "  </tbody>\n",
       "</table>\n",
       "</div>"
      ],
      "text/plain": [
       "           adj close                     volume                    \n",
       "symbol          AAPL BABA   FB   GS   JD   AAPL BABA   FB   GS   JD\n",
       "date                                                               \n",
       "2019-02-21       186   82  161   63  149     40  121  122   99  143\n",
       "2019-02-22       188   26   79   59   56    180  134  172  112  127\n",
       "2019-02-23       175  133  142  153  189     73   92  105  165   99\n",
       "2019-02-24        33  187   20   29   25    106  124   53   81   99\n",
       "2019-02-25        87   92  191  104  132    156   26  197  134   27\n",
       "2019-02-26        58   54   27  198   41    145  191   28   59  192"
      ]
     },
     "execution_count": 101,
     "metadata": {},
     "output_type": "execute_result"
    }
   ],
   "source": [
    "# 透视多列\n",
    "cv_values=data.pivot(index='date',columns='symbol',values=['adj close','volume'])\n",
    "cv_values"
   ]
  },
  {
   "cell_type": "code",
   "execution_count": 111,
   "metadata": {},
   "outputs": [
    {
     "data": {
      "text/html": [
       "<div>\n",
       "<style scoped>\n",
       "    .dataframe tbody tr th:only-of-type {\n",
       "        vertical-align: middle;\n",
       "    }\n",
       "\n",
       "    .dataframe tbody tr th {\n",
       "        vertical-align: top;\n",
       "    }\n",
       "\n",
       "    .dataframe thead tr th {\n",
       "        text-align: left;\n",
       "    }\n",
       "\n",
       "    .dataframe thead tr:last-of-type th {\n",
       "        text-align: right;\n",
       "    }\n",
       "</style>\n",
       "<table border=\"1\" class=\"dataframe\">\n",
       "  <thead>\n",
       "    <tr>\n",
       "      <th></th>\n",
       "      <th colspan=\"5\" halign=\"left\">open</th>\n",
       "      <th colspan=\"5\" halign=\"left\">high</th>\n",
       "      <th>...</th>\n",
       "      <th colspan=\"5\" halign=\"left\">adj close</th>\n",
       "      <th colspan=\"5\" halign=\"left\">volume</th>\n",
       "    </tr>\n",
       "    <tr>\n",
       "      <th>symbol</th>\n",
       "      <th>AAPL</th>\n",
       "      <th>BABA</th>\n",
       "      <th>FB</th>\n",
       "      <th>GS</th>\n",
       "      <th>JD</th>\n",
       "      <th>AAPL</th>\n",
       "      <th>BABA</th>\n",
       "      <th>FB</th>\n",
       "      <th>GS</th>\n",
       "      <th>JD</th>\n",
       "      <th>...</th>\n",
       "      <th>AAPL</th>\n",
       "      <th>BABA</th>\n",
       "      <th>FB</th>\n",
       "      <th>GS</th>\n",
       "      <th>JD</th>\n",
       "      <th>AAPL</th>\n",
       "      <th>BABA</th>\n",
       "      <th>FB</th>\n",
       "      <th>GS</th>\n",
       "      <th>JD</th>\n",
       "    </tr>\n",
       "    <tr>\n",
       "      <th>date</th>\n",
       "      <th></th>\n",
       "      <th></th>\n",
       "      <th></th>\n",
       "      <th></th>\n",
       "      <th></th>\n",
       "      <th></th>\n",
       "      <th></th>\n",
       "      <th></th>\n",
       "      <th></th>\n",
       "      <th></th>\n",
       "      <th></th>\n",
       "      <th></th>\n",
       "      <th></th>\n",
       "      <th></th>\n",
       "      <th></th>\n",
       "      <th></th>\n",
       "      <th></th>\n",
       "      <th></th>\n",
       "      <th></th>\n",
       "      <th></th>\n",
       "      <th></th>\n",
       "    </tr>\n",
       "  </thead>\n",
       "  <tbody>\n",
       "    <tr>\n",
       "      <th>2019-02-21</th>\n",
       "      <td>173</td>\n",
       "      <td>94</td>\n",
       "      <td>107</td>\n",
       "      <td>192</td>\n",
       "      <td>159</td>\n",
       "      <td>22</td>\n",
       "      <td>98</td>\n",
       "      <td>90</td>\n",
       "      <td>100</td>\n",
       "      <td>96</td>\n",
       "      <td>...</td>\n",
       "      <td>186</td>\n",
       "      <td>82</td>\n",
       "      <td>161</td>\n",
       "      <td>63</td>\n",
       "      <td>149</td>\n",
       "      <td>40</td>\n",
       "      <td>121</td>\n",
       "      <td>122</td>\n",
       "      <td>99</td>\n",
       "      <td>143</td>\n",
       "    </tr>\n",
       "    <tr>\n",
       "      <th>2019-02-22</th>\n",
       "      <td>62</td>\n",
       "      <td>87</td>\n",
       "      <td>103</td>\n",
       "      <td>78</td>\n",
       "      <td>138</td>\n",
       "      <td>110</td>\n",
       "      <td>162</td>\n",
       "      <td>99</td>\n",
       "      <td>173</td>\n",
       "      <td>99</td>\n",
       "      <td>...</td>\n",
       "      <td>188</td>\n",
       "      <td>26</td>\n",
       "      <td>79</td>\n",
       "      <td>59</td>\n",
       "      <td>56</td>\n",
       "      <td>180</td>\n",
       "      <td>134</td>\n",
       "      <td>172</td>\n",
       "      <td>112</td>\n",
       "      <td>127</td>\n",
       "    </tr>\n",
       "    <tr>\n",
       "      <th>2019-02-23</th>\n",
       "      <td>142</td>\n",
       "      <td>177</td>\n",
       "      <td>185</td>\n",
       "      <td>40</td>\n",
       "      <td>143</td>\n",
       "      <td>65</td>\n",
       "      <td>172</td>\n",
       "      <td>157</td>\n",
       "      <td>146</td>\n",
       "      <td>102</td>\n",
       "      <td>...</td>\n",
       "      <td>175</td>\n",
       "      <td>133</td>\n",
       "      <td>142</td>\n",
       "      <td>153</td>\n",
       "      <td>189</td>\n",
       "      <td>73</td>\n",
       "      <td>92</td>\n",
       "      <td>105</td>\n",
       "      <td>165</td>\n",
       "      <td>99</td>\n",
       "    </tr>\n",
       "    <tr>\n",
       "      <th>2019-02-24</th>\n",
       "      <td>161</td>\n",
       "      <td>42</td>\n",
       "      <td>192</td>\n",
       "      <td>46</td>\n",
       "      <td>120</td>\n",
       "      <td>22</td>\n",
       "      <td>174</td>\n",
       "      <td>105</td>\n",
       "      <td>121</td>\n",
       "      <td>103</td>\n",
       "      <td>...</td>\n",
       "      <td>33</td>\n",
       "      <td>187</td>\n",
       "      <td>20</td>\n",
       "      <td>29</td>\n",
       "      <td>25</td>\n",
       "      <td>106</td>\n",
       "      <td>124</td>\n",
       "      <td>53</td>\n",
       "      <td>81</td>\n",
       "      <td>99</td>\n",
       "    </tr>\n",
       "    <tr>\n",
       "      <th>2019-02-25</th>\n",
       "      <td>132</td>\n",
       "      <td>122</td>\n",
       "      <td>170</td>\n",
       "      <td>109</td>\n",
       "      <td>164</td>\n",
       "      <td>71</td>\n",
       "      <td>89</td>\n",
       "      <td>194</td>\n",
       "      <td>112</td>\n",
       "      <td>163</td>\n",
       "      <td>...</td>\n",
       "      <td>87</td>\n",
       "      <td>92</td>\n",
       "      <td>191</td>\n",
       "      <td>104</td>\n",
       "      <td>132</td>\n",
       "      <td>156</td>\n",
       "      <td>26</td>\n",
       "      <td>197</td>\n",
       "      <td>134</td>\n",
       "      <td>27</td>\n",
       "    </tr>\n",
       "    <tr>\n",
       "      <th>2019-02-26</th>\n",
       "      <td>181</td>\n",
       "      <td>150</td>\n",
       "      <td>37</td>\n",
       "      <td>187</td>\n",
       "      <td>67</td>\n",
       "      <td>81</td>\n",
       "      <td>79</td>\n",
       "      <td>160</td>\n",
       "      <td>128</td>\n",
       "      <td>199</td>\n",
       "      <td>...</td>\n",
       "      <td>58</td>\n",
       "      <td>54</td>\n",
       "      <td>27</td>\n",
       "      <td>198</td>\n",
       "      <td>41</td>\n",
       "      <td>145</td>\n",
       "      <td>191</td>\n",
       "      <td>28</td>\n",
       "      <td>59</td>\n",
       "      <td>192</td>\n",
       "    </tr>\n",
       "  </tbody>\n",
       "</table>\n",
       "<p>6 rows × 30 columns</p>\n",
       "</div>"
      ],
      "text/plain": [
       "           open                      high                      ...  adj close  \\\n",
       "symbol      AAPL BABA   FB   GS   JD  AAPL BABA   FB   GS   JD ...       AAPL   \n",
       "date                                                           ...              \n",
       "2019-02-21   173   94  107  192  159    22   98   90  100   96 ...        186   \n",
       "2019-02-22    62   87  103   78  138   110  162   99  173   99 ...        188   \n",
       "2019-02-23   142  177  185   40  143    65  172  157  146  102 ...        175   \n",
       "2019-02-24   161   42  192   46  120    22  174  105  121  103 ...         33   \n",
       "2019-02-25   132  122  170  109  164    71   89  194  112  163 ...         87   \n",
       "2019-02-26   181  150   37  187   67    81   79  160  128  199 ...         58   \n",
       "\n",
       "                               volume                      \n",
       "symbol     BABA   FB   GS   JD   AAPL BABA   FB   GS   JD  \n",
       "date                                                       \n",
       "2019-02-21   82  161   63  149     40  121  122   99  143  \n",
       "2019-02-22   26   79   59   56    180  134  172  112  127  \n",
       "2019-02-23  133  142  153  189     73   92  105  165   99  \n",
       "2019-02-24  187   20   29   25    106  124   53   81   99  \n",
       "2019-02-25   92  191  104  132    156   26  197  134   27  \n",
       "2019-02-26   54   27  198   41    145  191   28   59  192  \n",
       "\n",
       "[6 rows x 30 columns]"
      ]
     },
     "execution_count": 111,
     "metadata": {},
     "output_type": "execute_result"
    }
   ],
   "source": [
    "# 如果不设置values参数,pivot默认返回columns(源表列数)-2个透视表\n",
    "all_pivot=data.pivot(index = 'date',columns='symbol')\n",
    "all_pivot"
   ]
  },
  {
   "cell_type": "code",
   "execution_count": 112,
   "metadata": {},
   "outputs": [],
   "source": [
    "# 获取 2019-02-25 和 2019-02-26 两天的 BABA 和 FB 的开盘价\n",
    "# all_pivot['open'].iloc[2:,1:3]"
   ]
  },
  {
   "cell_type": "markdown",
   "metadata": {},
   "source": [
    "### 从宽到长(melt)"
   ]
  },
  {
   "cell_type": "markdown",
   "metadata": {},
   "source": [
    "pivot 逆反操作是 melt,具体来说，函数 melt 实际是将「源表」转化成 id-variable 类型的 DataFrame"
   ]
  },
  {
   "cell_type": "code",
   "execution_count": 114,
   "metadata": {},
   "outputs": [
    {
     "data": {
      "text/html": [
       "<div>\n",
       "<style scoped>\n",
       "    .dataframe tbody tr th:only-of-type {\n",
       "        vertical-align: middle;\n",
       "    }\n",
       "\n",
       "    .dataframe tbody tr th {\n",
       "        vertical-align: top;\n",
       "    }\n",
       "\n",
       "    .dataframe thead th {\n",
       "        text-align: right;\n",
       "    }\n",
       "</style>\n",
       "<table border=\"1\" class=\"dataframe\">\n",
       "  <thead>\n",
       "    <tr style=\"text-align: right;\">\n",
       "      <th></th>\n",
       "      <th>date</th>\n",
       "      <th>symbol</th>\n",
       "      <th>variable</th>\n",
       "      <th>value</th>\n",
       "    </tr>\n",
       "  </thead>\n",
       "  <tbody>\n",
       "    <tr>\n",
       "      <th>0</th>\n",
       "      <td>2019-02-21</td>\n",
       "      <td>AAPL</td>\n",
       "      <td>open</td>\n",
       "      <td>173</td>\n",
       "    </tr>\n",
       "    <tr>\n",
       "      <th>1</th>\n",
       "      <td>2019-02-21</td>\n",
       "      <td>JD</td>\n",
       "      <td>open</td>\n",
       "      <td>159</td>\n",
       "    </tr>\n",
       "    <tr>\n",
       "      <th>2</th>\n",
       "      <td>2019-02-21</td>\n",
       "      <td>BABA</td>\n",
       "      <td>open</td>\n",
       "      <td>94</td>\n",
       "    </tr>\n",
       "    <tr>\n",
       "      <th>3</th>\n",
       "      <td>2019-02-21</td>\n",
       "      <td>GS</td>\n",
       "      <td>open</td>\n",
       "      <td>192</td>\n",
       "    </tr>\n",
       "    <tr>\n",
       "      <th>4</th>\n",
       "      <td>2019-02-21</td>\n",
       "      <td>FB</td>\n",
       "      <td>open</td>\n",
       "      <td>107</td>\n",
       "    </tr>\n",
       "    <tr>\n",
       "      <th>175</th>\n",
       "      <td>2019-02-26</td>\n",
       "      <td>AAPL</td>\n",
       "      <td>volume</td>\n",
       "      <td>145</td>\n",
       "    </tr>\n",
       "    <tr>\n",
       "      <th>176</th>\n",
       "      <td>2019-02-26</td>\n",
       "      <td>JD</td>\n",
       "      <td>volume</td>\n",
       "      <td>192</td>\n",
       "    </tr>\n",
       "    <tr>\n",
       "      <th>177</th>\n",
       "      <td>2019-02-26</td>\n",
       "      <td>BABA</td>\n",
       "      <td>volume</td>\n",
       "      <td>191</td>\n",
       "    </tr>\n",
       "    <tr>\n",
       "      <th>178</th>\n",
       "      <td>2019-02-26</td>\n",
       "      <td>GS</td>\n",
       "      <td>volume</td>\n",
       "      <td>59</td>\n",
       "    </tr>\n",
       "    <tr>\n",
       "      <th>179</th>\n",
       "      <td>2019-02-26</td>\n",
       "      <td>FB</td>\n",
       "      <td>volume</td>\n",
       "      <td>28</td>\n",
       "    </tr>\n",
       "  </tbody>\n",
       "</table>\n",
       "</div>"
      ],
      "text/plain": [
       "          date symbol variable  value\n",
       "0   2019-02-21   AAPL    open     173\n",
       "1   2019-02-21     JD    open     159\n",
       "2   2019-02-21   BABA    open      94\n",
       "3   2019-02-21     GS    open     192\n",
       "4   2019-02-21     FB    open     107\n",
       "175 2019-02-26   AAPL   volume    145\n",
       "176 2019-02-26     JD   volume    192\n",
       "177 2019-02-26   BABA   volume    191\n",
       "178 2019-02-26     GS   volume     59\n",
       "179 2019-02-26     FB   volume     28"
      ]
     },
     "execution_count": 114,
     "metadata": {},
     "output_type": "execute_result"
    }
   ],
   "source": [
    "# Date 和 Symbol 列当成 id,其他列 Open, High, Low, Close, Adj Close 和 Volume 当成 variable，而它们对应的值当成 value\n",
    "melted_data = pd.melt( data, id_vars=['date','symbol'] )\n",
    "melted_data.head(5).append(melted_data.tail(5))"
   ]
  },
  {
   "cell_type": "code",
   "execution_count": 117,
   "metadata": {},
   "outputs": [
    {
     "data": {
      "text/html": [
       "<div>\n",
       "<style scoped>\n",
       "    .dataframe tbody tr th:only-of-type {\n",
       "        vertical-align: middle;\n",
       "    }\n",
       "\n",
       "    .dataframe tbody tr th {\n",
       "        vertical-align: top;\n",
       "    }\n",
       "\n",
       "    .dataframe thead th {\n",
       "        text-align: right;\n",
       "    }\n",
       "</style>\n",
       "<table border=\"1\" class=\"dataframe\">\n",
       "  <thead>\n",
       "    <tr style=\"text-align: right;\">\n",
       "      <th></th>\n",
       "      <th>date</th>\n",
       "      <th>symbol</th>\n",
       "      <th>variable</th>\n",
       "      <th>value</th>\n",
       "    </tr>\n",
       "  </thead>\n",
       "  <tbody>\n",
       "    <tr>\n",
       "      <th>22</th>\n",
       "      <td>2019-02-25</td>\n",
       "      <td>BABA</td>\n",
       "      <td>open</td>\n",
       "      <td>122</td>\n",
       "    </tr>\n",
       "    <tr>\n",
       "      <th>24</th>\n",
       "      <td>2019-02-25</td>\n",
       "      <td>FB</td>\n",
       "      <td>open</td>\n",
       "      <td>170</td>\n",
       "    </tr>\n",
       "    <tr>\n",
       "      <th>52</th>\n",
       "      <td>2019-02-25</td>\n",
       "      <td>BABA</td>\n",
       "      <td>high</td>\n",
       "      <td>89</td>\n",
       "    </tr>\n",
       "    <tr>\n",
       "      <th>54</th>\n",
       "      <td>2019-02-25</td>\n",
       "      <td>FB</td>\n",
       "      <td>high</td>\n",
       "      <td>194</td>\n",
       "    </tr>\n",
       "    <tr>\n",
       "      <th>82</th>\n",
       "      <td>2019-02-25</td>\n",
       "      <td>BABA</td>\n",
       "      <td>low</td>\n",
       "      <td>123</td>\n",
       "    </tr>\n",
       "    <tr>\n",
       "      <th>84</th>\n",
       "      <td>2019-02-25</td>\n",
       "      <td>FB</td>\n",
       "      <td>low</td>\n",
       "      <td>35</td>\n",
       "    </tr>\n",
       "    <tr>\n",
       "      <th>112</th>\n",
       "      <td>2019-02-25</td>\n",
       "      <td>BABA</td>\n",
       "      <td>close</td>\n",
       "      <td>135</td>\n",
       "    </tr>\n",
       "    <tr>\n",
       "      <th>114</th>\n",
       "      <td>2019-02-25</td>\n",
       "      <td>FB</td>\n",
       "      <td>close</td>\n",
       "      <td>197</td>\n",
       "    </tr>\n",
       "    <tr>\n",
       "      <th>142</th>\n",
       "      <td>2019-02-25</td>\n",
       "      <td>BABA</td>\n",
       "      <td>adj close</td>\n",
       "      <td>92</td>\n",
       "    </tr>\n",
       "    <tr>\n",
       "      <th>144</th>\n",
       "      <td>2019-02-25</td>\n",
       "      <td>FB</td>\n",
       "      <td>adj close</td>\n",
       "      <td>191</td>\n",
       "    </tr>\n",
       "    <tr>\n",
       "      <th>172</th>\n",
       "      <td>2019-02-25</td>\n",
       "      <td>BABA</td>\n",
       "      <td>volume</td>\n",
       "      <td>26</td>\n",
       "    </tr>\n",
       "    <tr>\n",
       "      <th>174</th>\n",
       "      <td>2019-02-25</td>\n",
       "      <td>FB</td>\n",
       "      <td>volume</td>\n",
       "      <td>197</td>\n",
       "    </tr>\n",
       "  </tbody>\n",
       "</table>\n",
       "</div>"
      ],
      "text/plain": [
       "          date symbol   variable  value\n",
       "22  2019-02-25   BABA      open     122\n",
       "24  2019-02-25     FB      open     170\n",
       "52  2019-02-25   BABA      high      89\n",
       "54  2019-02-25     FB      high     194\n",
       "82  2019-02-25   BABA        low    123\n",
       "84  2019-02-25     FB        low     35\n",
       "112 2019-02-25   BABA      close    135\n",
       "114 2019-02-25     FB      close    197\n",
       "142 2019-02-25   BABA  adj close     92\n",
       "144 2019-02-25     FB  adj close    191\n",
       "172 2019-02-25   BABA     volume     26\n",
       "174 2019-02-25     FB     volume    197"
      ]
     },
     "execution_count": 117,
     "metadata": {},
     "output_type": "execute_result"
    }
   ],
   "source": [
    "# 在 melted_data 上使用调用函数做索引，得到了在 2019-02-25 那天 BABA 和 FB 的信息\n",
    "melted_data[ lambda x: (x.date=='25/02/2019') \n",
    "                     & ((x.symbol=='BABA')|(x.symbol=='FB')) ]"
   ]
  },
  {
   "cell_type": "markdown",
   "metadata": {},
   "source": [
    "# 分组和整合"
   ]
  },
  {
   "cell_type": "code",
   "execution_count": 186,
   "metadata": {},
   "outputs": [
    {
     "data": {
      "text/html": [
       "<div>\n",
       "<style scoped>\n",
       "    .dataframe tbody tr th:only-of-type {\n",
       "        vertical-align: middle;\n",
       "    }\n",
       "\n",
       "    .dataframe tbody tr th {\n",
       "        vertical-align: top;\n",
       "    }\n",
       "\n",
       "    .dataframe thead th {\n",
       "        text-align: right;\n",
       "    }\n",
       "</style>\n",
       "<table border=\"1\" class=\"dataframe\">\n",
       "  <thead>\n",
       "    <tr style=\"text-align: right;\">\n",
       "      <th></th>\n",
       "      <th>date</th>\n",
       "      <th>symbol</th>\n",
       "      <th>open</th>\n",
       "      <th>high</th>\n",
       "      <th>low</th>\n",
       "      <th>close</th>\n",
       "      <th>adj close</th>\n",
       "      <th>volume</th>\n",
       "    </tr>\n",
       "  </thead>\n",
       "  <tbody>\n",
       "    <tr>\n",
       "      <th>0</th>\n",
       "      <td>2019-02-21</td>\n",
       "      <td>AAPL</td>\n",
       "      <td>173</td>\n",
       "      <td>22</td>\n",
       "      <td>144</td>\n",
       "      <td>64</td>\n",
       "      <td>186</td>\n",
       "      <td>40</td>\n",
       "    </tr>\n",
       "    <tr>\n",
       "      <th>1</th>\n",
       "      <td>2019-02-21</td>\n",
       "      <td>JD</td>\n",
       "      <td>159</td>\n",
       "      <td>96</td>\n",
       "      <td>195</td>\n",
       "      <td>62</td>\n",
       "      <td>149</td>\n",
       "      <td>143</td>\n",
       "    </tr>\n",
       "    <tr>\n",
       "      <th>2</th>\n",
       "      <td>2019-02-21</td>\n",
       "      <td>BABA</td>\n",
       "      <td>94</td>\n",
       "      <td>98</td>\n",
       "      <td>133</td>\n",
       "      <td>127</td>\n",
       "      <td>82</td>\n",
       "      <td>121</td>\n",
       "    </tr>\n",
       "    <tr>\n",
       "      <th>3</th>\n",
       "      <td>2019-02-21</td>\n",
       "      <td>GS</td>\n",
       "      <td>192</td>\n",
       "      <td>100</td>\n",
       "      <td>143</td>\n",
       "      <td>87</td>\n",
       "      <td>63</td>\n",
       "      <td>99</td>\n",
       "    </tr>\n",
       "    <tr>\n",
       "      <th>4</th>\n",
       "      <td>2019-02-21</td>\n",
       "      <td>FB</td>\n",
       "      <td>107</td>\n",
       "      <td>90</td>\n",
       "      <td>99</td>\n",
       "      <td>33</td>\n",
       "      <td>161</td>\n",
       "      <td>122</td>\n",
       "    </tr>\n",
       "  </tbody>\n",
       "</table>\n",
       "</div>"
      ],
      "text/plain": [
       "        date symbol  open   high   low  close  adj close  volume\n",
       "0 2019-02-21   AAPL    173     22  144     64        186      40\n",
       "1 2019-02-21     JD    159     96  195     62        149     143\n",
       "2 2019-02-21   BABA     94     98  133    127         82     121\n",
       "3 2019-02-21     GS    192    100  143     87         63      99\n",
       "4 2019-02-21     FB    107     90   99     33        161     122"
      ]
     },
     "execution_count": 186,
     "metadata": {},
     "output_type": "execute_result"
    }
   ],
   "source": [
    "data.head()"
   ]
  },
  {
   "cell_type": "code",
   "execution_count": 187,
   "metadata": {},
   "outputs": [
    {
     "data": {
      "text/html": [
       "<div>\n",
       "<style scoped>\n",
       "    .dataframe tbody tr th:only-of-type {\n",
       "        vertical-align: middle;\n",
       "    }\n",
       "\n",
       "    .dataframe tbody tr th {\n",
       "        vertical-align: top;\n",
       "    }\n",
       "\n",
       "    .dataframe thead th {\n",
       "        text-align: right;\n",
       "    }\n",
       "</style>\n",
       "<table border=\"1\" class=\"dataframe\">\n",
       "  <thead>\n",
       "    <tr style=\"text-align: right;\">\n",
       "      <th></th>\n",
       "      <th>date</th>\n",
       "      <th>year</th>\n",
       "      <th>month</th>\n",
       "      <th>symbol</th>\n",
       "      <th>adj close</th>\n",
       "    </tr>\n",
       "  </thead>\n",
       "  <tbody>\n",
       "    <tr>\n",
       "      <th>0</th>\n",
       "      <td>2019-02-21</td>\n",
       "      <td>2019</td>\n",
       "      <td>2</td>\n",
       "      <td>AAPL</td>\n",
       "      <td>186</td>\n",
       "    </tr>\n",
       "    <tr>\n",
       "      <th>1</th>\n",
       "      <td>2019-02-21</td>\n",
       "      <td>2019</td>\n",
       "      <td>2</td>\n",
       "      <td>JD</td>\n",
       "      <td>149</td>\n",
       "    </tr>\n",
       "    <tr>\n",
       "      <th>2</th>\n",
       "      <td>2019-02-21</td>\n",
       "      <td>2019</td>\n",
       "      <td>2</td>\n",
       "      <td>BABA</td>\n",
       "      <td>82</td>\n",
       "    </tr>\n",
       "    <tr>\n",
       "      <th>27</th>\n",
       "      <td>2019-02-26</td>\n",
       "      <td>2019</td>\n",
       "      <td>2</td>\n",
       "      <td>BABA</td>\n",
       "      <td>54</td>\n",
       "    </tr>\n",
       "    <tr>\n",
       "      <th>28</th>\n",
       "      <td>2019-02-26</td>\n",
       "      <td>2019</td>\n",
       "      <td>2</td>\n",
       "      <td>GS</td>\n",
       "      <td>198</td>\n",
       "    </tr>\n",
       "    <tr>\n",
       "      <th>29</th>\n",
       "      <td>2019-02-26</td>\n",
       "      <td>2019</td>\n",
       "      <td>2</td>\n",
       "      <td>FB</td>\n",
       "      <td>27</td>\n",
       "    </tr>\n",
       "  </tbody>\n",
       "</table>\n",
       "</div>"
      ],
      "text/plain": [
       "         date  year  month symbol  adj close\n",
       "0  2019-02-21  2019      2   AAPL        186\n",
       "1  2019-02-21  2019      2     JD        149\n",
       "2  2019-02-21  2019      2   BABA         82\n",
       "27 2019-02-26  2019      2   BABA         54\n",
       "28 2019-02-26  2019      2     GS        198\n",
       "29 2019-02-26  2019      2     FB         27"
      ]
     },
     "execution_count": 187,
     "metadata": {},
     "output_type": "execute_result"
    }
   ],
   "source": [
    "data1=data[['date','symbol','adj close']]\n",
    "data1.insert(1,'year',pd.DatetimeIndex(data1['date']).year)\n",
    "data1.insert(2,'month',pd.DatetimeIndex(data1['date']).month)\n",
    "data1.head(3).append(data1.tail(3))"
   ]
  },
  {
   "cell_type": "markdown",
   "metadata": {},
   "source": [
    "## 分组"
   ]
  },
  {
   "cell_type": "markdown",
   "metadata": {},
   "source": [
    "当你对如果使用某个对象感到迷茫时，用 dir() 来查看它的「属性」和「内置方法」。"
   ]
  },
  {
   "cell_type": "code",
   "execution_count": 188,
   "metadata": {},
   "outputs": [
    {
     "data": {
      "text/plain": [
       "<pandas.core.groupby.groupby.DataFrameGroupBy object at 0x0000016452AAB860>"
      ]
     },
     "execution_count": 188,
     "metadata": {},
     "output_type": "execute_result"
    }
   ],
   "source": [
    "grouped=data1.groupby('symbol')\n",
    "grouped"
   ]
  },
  {
   "cell_type": "code",
   "execution_count": 189,
   "metadata": {},
   "outputs": [
    {
     "data": {
      "text/plain": [
       "['__bytes__',\n",
       " '__class__',\n",
       " '__delattr__',\n",
       " '__dict__',\n",
       " '__dir__',\n",
       " '__doc__',\n",
       " '__eq__',\n",
       " '__format__',\n",
       " '__ge__',\n",
       " '__getattr__',\n",
       " '__getattribute__',\n",
       " '__getitem__',\n",
       " '__gt__',\n",
       " '__hash__',\n",
       " '__init__',\n",
       " '__init_subclass__',\n",
       " '__iter__',\n",
       " '__le__',\n",
       " '__len__',\n",
       " '__lt__',\n",
       " '__module__',\n",
       " '__ne__',\n",
       " '__new__',\n",
       " '__reduce__',\n",
       " '__reduce_ex__',\n",
       " '__repr__',\n",
       " '__setattr__',\n",
       " '__sizeof__',\n",
       " '__str__',\n",
       " '__subclasshook__',\n",
       " '__unicode__',\n",
       " '__weakref__',\n",
       " '_accessors',\n",
       " '_add_numeric_operations',\n",
       " '_agg_doc',\n",
       " '_aggregate',\n",
       " '_aggregate_generic',\n",
       " '_aggregate_item_by_item',\n",
       " '_aggregate_multiple_funcs',\n",
       " '_apply_filter',\n",
       " '_apply_to_column_groupbys',\n",
       " '_apply_whitelist',\n",
       " '_assure_grouper',\n",
       " '_block_agg_axis',\n",
       " '_bool_agg',\n",
       " '_builtin_table',\n",
       " '_choose_path',\n",
       " '_concat_objects',\n",
       " '_constructor',\n",
       " '_cumcount_array',\n",
       " '_cython_agg_blocks',\n",
       " '_cython_agg_general',\n",
       " '_cython_table',\n",
       " '_cython_transform',\n",
       " '_decide_output_index',\n",
       " '_def_str',\n",
       " '_define_paths',\n",
       " '_deprecations',\n",
       " '_dir_additions',\n",
       " '_dir_deletions',\n",
       " '_fill',\n",
       " '_get_cythonized_result',\n",
       " '_get_data_to_aggregate',\n",
       " '_get_index',\n",
       " '_get_indices',\n",
       " '_gotitem',\n",
       " '_group_selection',\n",
       " '_insert_inaxis_grouper_inplace',\n",
       " '_internal_names',\n",
       " '_internal_names_set',\n",
       " '_is_builtin_func',\n",
       " '_is_cython_func',\n",
       " '_iterate_column_groupbys',\n",
       " '_iterate_slices',\n",
       " '_make_wrapper',\n",
       " '_obj_with_exclusions',\n",
       " '_post_process_cython_aggregate',\n",
       " '_python_agg_general',\n",
       " '_python_apply_general',\n",
       " '_reindex_output',\n",
       " '_reset_cache',\n",
       " '_reset_group_selection',\n",
       " '_selected_obj',\n",
       " '_selection',\n",
       " '_selection_list',\n",
       " '_selection_name',\n",
       " '_set_group_selection',\n",
       " '_set_result_index_ordered',\n",
       " '_shallow_copy',\n",
       " '_transform_fast',\n",
       " '_transform_general',\n",
       " '_transform_item_by_item',\n",
       " '_transform_should_cast',\n",
       " '_try_aggregate_string_function',\n",
       " '_try_cast',\n",
       " '_wrap_agged_blocks',\n",
       " '_wrap_aggregated_output',\n",
       " '_wrap_applied_output',\n",
       " '_wrap_generic_output',\n",
       " '_wrap_transformed_output',\n",
       " 'agg',\n",
       " 'aggregate',\n",
       " 'all',\n",
       " 'any',\n",
       " 'apply',\n",
       " 'backfill',\n",
       " 'bfill',\n",
       " 'boxplot',\n",
       " 'corr',\n",
       " 'corrwith',\n",
       " 'count',\n",
       " 'cov',\n",
       " 'cumcount',\n",
       " 'cummax',\n",
       " 'cummin',\n",
       " 'cumprod',\n",
       " 'cumsum',\n",
       " 'date',\n",
       " 'describe',\n",
       " 'diff',\n",
       " 'dtypes',\n",
       " 'expanding',\n",
       " 'ffill',\n",
       " 'fillna',\n",
       " 'filter',\n",
       " 'first',\n",
       " 'get_group',\n",
       " 'groups',\n",
       " 'head',\n",
       " 'hist',\n",
       " 'idxmax',\n",
       " 'idxmin',\n",
       " 'indices',\n",
       " 'last',\n",
       " 'mad',\n",
       " 'max',\n",
       " 'mean',\n",
       " 'median',\n",
       " 'min',\n",
       " 'month',\n",
       " 'ndim',\n",
       " 'ngroup',\n",
       " 'ngroups',\n",
       " 'nth',\n",
       " 'nunique',\n",
       " 'ohlc',\n",
       " 'pad',\n",
       " 'pct_change',\n",
       " 'pipe',\n",
       " 'plot',\n",
       " 'prod',\n",
       " 'quantile',\n",
       " 'rank',\n",
       " 'resample',\n",
       " 'rolling',\n",
       " 'sem',\n",
       " 'shift',\n",
       " 'size',\n",
       " 'skew',\n",
       " 'std',\n",
       " 'sum',\n",
       " 'symbol',\n",
       " 'tail',\n",
       " 'take',\n",
       " 'transform',\n",
       " 'tshift',\n",
       " 'var',\n",
       " 'year']"
      ]
     },
     "execution_count": 189,
     "metadata": {},
     "output_type": "execute_result"
    }
   ],
   "source": [
    "dir(grouped)"
   ]
  },
  {
   "cell_type": "code",
   "execution_count": 190,
   "metadata": {},
   "outputs": [
    {
     "data": {
      "text/plain": [
       "5"
      ]
     },
     "execution_count": 190,
     "metadata": {},
     "output_type": "execute_result"
    }
   ],
   "source": [
    "# 组的个数 (int)\n",
    "grouped.ngroups"
   ]
  },
  {
   "cell_type": "code",
   "execution_count": 191,
   "metadata": {},
   "outputs": [
    {
     "data": {
      "text/plain": [
       "symbol\n",
       "AAPL    6\n",
       "BABA    6\n",
       "FB      6\n",
       "GS      6\n",
       "JD      6\n",
       "dtype: int64"
      ]
     },
     "execution_count": 191,
     "metadata": {},
     "output_type": "execute_result"
    }
   ],
   "source": [
    "# 每组元素的个数 (Series)\n",
    "grouped.size()"
   ]
  },
  {
   "cell_type": "code",
   "execution_count": 192,
   "metadata": {},
   "outputs": [
    {
     "data": {
      "text/plain": [
       "{'AAPL': Int64Index([0, 5, 10, 15, 20, 25], dtype='int64'),\n",
       " 'BABA': Int64Index([2, 7, 12, 17, 22, 27], dtype='int64'),\n",
       " 'FB': Int64Index([4, 9, 14, 19, 24, 29], dtype='int64'),\n",
       " 'GS': Int64Index([3, 8, 13, 18, 23, 28], dtype='int64'),\n",
       " 'JD': Int64Index([1, 6, 11, 16, 21, 26], dtype='int64')}"
      ]
     },
     "execution_count": 192,
     "metadata": {},
     "output_type": "execute_result"
    }
   ],
   "source": [
    "# 每组元素在原 DataFrame 中的索引信息 (dict)\n",
    "grouped.groups"
   ]
  },
  {
   "cell_type": "code",
   "execution_count": 193,
   "metadata": {},
   "outputs": [
    {
     "data": {
      "text/html": [
       "<div>\n",
       "<style scoped>\n",
       "    .dataframe tbody tr th:only-of-type {\n",
       "        vertical-align: middle;\n",
       "    }\n",
       "\n",
       "    .dataframe tbody tr th {\n",
       "        vertical-align: top;\n",
       "    }\n",
       "\n",
       "    .dataframe thead th {\n",
       "        text-align: right;\n",
       "    }\n",
       "</style>\n",
       "<table border=\"1\" class=\"dataframe\">\n",
       "  <thead>\n",
       "    <tr style=\"text-align: right;\">\n",
       "      <th></th>\n",
       "      <th>date</th>\n",
       "      <th>year</th>\n",
       "      <th>month</th>\n",
       "      <th>symbol</th>\n",
       "      <th>adj close</th>\n",
       "    </tr>\n",
       "  </thead>\n",
       "  <tbody>\n",
       "    <tr>\n",
       "      <th>8</th>\n",
       "      <td>2019-02-22</td>\n",
       "      <td>2019</td>\n",
       "      <td>2</td>\n",
       "      <td>GS</td>\n",
       "      <td>59</td>\n",
       "    </tr>\n",
       "    <tr>\n",
       "      <th>13</th>\n",
       "      <td>2019-02-23</td>\n",
       "      <td>2019</td>\n",
       "      <td>2</td>\n",
       "      <td>GS</td>\n",
       "      <td>153</td>\n",
       "    </tr>\n",
       "    <tr>\n",
       "      <th>18</th>\n",
       "      <td>2019-02-24</td>\n",
       "      <td>2019</td>\n",
       "      <td>2</td>\n",
       "      <td>GS</td>\n",
       "      <td>29</td>\n",
       "    </tr>\n",
       "    <tr>\n",
       "      <th>23</th>\n",
       "      <td>2019-02-25</td>\n",
       "      <td>2019</td>\n",
       "      <td>2</td>\n",
       "      <td>GS</td>\n",
       "      <td>104</td>\n",
       "    </tr>\n",
       "    <tr>\n",
       "      <th>28</th>\n",
       "      <td>2019-02-26</td>\n",
       "      <td>2019</td>\n",
       "      <td>2</td>\n",
       "      <td>GS</td>\n",
       "      <td>198</td>\n",
       "    </tr>\n",
       "  </tbody>\n",
       "</table>\n",
       "</div>"
      ],
      "text/plain": [
       "         date  year  month symbol  adj close\n",
       "8  2019-02-22  2019      2     GS         59\n",
       "13 2019-02-23  2019      2     GS        153\n",
       "18 2019-02-24  2019      2     GS         29\n",
       "23 2019-02-25  2019      2     GS        104\n",
       "28 2019-02-26  2019      2     GS        198"
      ]
     },
     "execution_count": 193,
     "metadata": {},
     "output_type": "execute_result"
    }
   ],
   "source": [
    "# 标签 label 对应的数据 (DataFrame)\n",
    "grouped.get_group('GS').tail()"
   ]
  },
  {
   "cell_type": "code",
   "execution_count": 194,
   "metadata": {},
   "outputs": [],
   "source": [
    "def print_groups( group_obj ):\n",
    "    for name, group in group_obj:\n",
    "        print( name )\n",
    "        print( group.head() )"
   ]
  },
  {
   "cell_type": "code",
   "execution_count": 195,
   "metadata": {},
   "outputs": [
    {
     "name": "stdout",
     "output_type": "stream",
     "text": [
      "AAPL\n",
      "         date  year  month symbol  adj close\n",
      "0  2019-02-21  2019      2   AAPL        186\n",
      "5  2019-02-22  2019      2   AAPL        188\n",
      "10 2019-02-23  2019      2   AAPL        175\n",
      "15 2019-02-24  2019      2   AAPL         33\n",
      "20 2019-02-25  2019      2   AAPL         87\n",
      "BABA\n",
      "         date  year  month symbol  adj close\n",
      "2  2019-02-21  2019      2   BABA         82\n",
      "7  2019-02-22  2019      2   BABA         26\n",
      "12 2019-02-23  2019      2   BABA        133\n",
      "17 2019-02-24  2019      2   BABA        187\n",
      "22 2019-02-25  2019      2   BABA         92\n",
      "FB\n",
      "         date  year  month symbol  adj close\n",
      "4  2019-02-21  2019      2     FB        161\n",
      "9  2019-02-22  2019      2     FB         79\n",
      "14 2019-02-23  2019      2     FB        142\n",
      "19 2019-02-24  2019      2     FB         20\n",
      "24 2019-02-25  2019      2     FB        191\n",
      "GS\n",
      "         date  year  month symbol  adj close\n",
      "3  2019-02-21  2019      2     GS         63\n",
      "8  2019-02-22  2019      2     GS         59\n",
      "13 2019-02-23  2019      2     GS        153\n",
      "18 2019-02-24  2019      2     GS         29\n",
      "23 2019-02-25  2019      2     GS        104\n",
      "JD\n",
      "         date  year  month symbol  adj close\n",
      "1  2019-02-21  2019      2     JD        149\n",
      "6  2019-02-22  2019      2     JD         56\n",
      "11 2019-02-23  2019      2     JD        189\n",
      "16 2019-02-24  2019      2     JD         25\n",
      "21 2019-02-25  2019      2     JD        132\n"
     ]
    }
   ],
   "source": [
    "print_groups( grouped )"
   ]
  },
  {
   "cell_type": "code",
   "execution_count": 196,
   "metadata": {},
   "outputs": [
    {
     "name": "stdout",
     "output_type": "stream",
     "text": [
      "('AAPL', 2019, 2)\n",
      "         date  year  month symbol  adj close\n",
      "0  2019-02-21  2019      2   AAPL        186\n",
      "5  2019-02-22  2019      2   AAPL        188\n",
      "10 2019-02-23  2019      2   AAPL        175\n",
      "15 2019-02-24  2019      2   AAPL         33\n",
      "20 2019-02-25  2019      2   AAPL         87\n",
      "('BABA', 2019, 2)\n",
      "         date  year  month symbol  adj close\n",
      "2  2019-02-21  2019      2   BABA         82\n",
      "7  2019-02-22  2019      2   BABA         26\n",
      "12 2019-02-23  2019      2   BABA        133\n",
      "17 2019-02-24  2019      2   BABA        187\n",
      "22 2019-02-25  2019      2   BABA         92\n",
      "('FB', 2019, 2)\n",
      "         date  year  month symbol  adj close\n",
      "4  2019-02-21  2019      2     FB        161\n",
      "9  2019-02-22  2019      2     FB         79\n",
      "14 2019-02-23  2019      2     FB        142\n",
      "19 2019-02-24  2019      2     FB         20\n",
      "24 2019-02-25  2019      2     FB        191\n",
      "('GS', 2019, 2)\n",
      "         date  year  month symbol  adj close\n",
      "3  2019-02-21  2019      2     GS         63\n",
      "8  2019-02-22  2019      2     GS         59\n",
      "13 2019-02-23  2019      2     GS        153\n",
      "18 2019-02-24  2019      2     GS         29\n",
      "23 2019-02-25  2019      2     GS        104\n",
      "('JD', 2019, 2)\n",
      "         date  year  month symbol  adj close\n",
      "1  2019-02-21  2019      2     JD        149\n",
      "6  2019-02-22  2019      2     JD         56\n",
      "11 2019-02-23  2019      2     JD        189\n",
      "16 2019-02-24  2019      2     JD         25\n",
      "21 2019-02-25  2019      2     JD        132\n"
     ]
    }
   ],
   "source": [
    "# 多标签分组\n",
    "grouped2 = data1.groupby(['symbol', 'year', 'month'])\n",
    "print_groups( grouped2 )"
   ]
  },
  {
   "cell_type": "code",
   "execution_count": 197,
   "metadata": {},
   "outputs": [
    {
     "data": {
      "text/html": [
       "<div>\n",
       "<style scoped>\n",
       "    .dataframe tbody tr th:only-of-type {\n",
       "        vertical-align: middle;\n",
       "    }\n",
       "\n",
       "    .dataframe tbody tr th {\n",
       "        vertical-align: top;\n",
       "    }\n",
       "\n",
       "    .dataframe thead th {\n",
       "        text-align: right;\n",
       "    }\n",
       "</style>\n",
       "<table border=\"1\" class=\"dataframe\">\n",
       "  <thead>\n",
       "    <tr style=\"text-align: right;\">\n",
       "      <th></th>\n",
       "      <th></th>\n",
       "      <th></th>\n",
       "      <th>date</th>\n",
       "      <th>adj close</th>\n",
       "    </tr>\n",
       "    <tr>\n",
       "      <th>symbol</th>\n",
       "      <th>year</th>\n",
       "      <th>month</th>\n",
       "      <th></th>\n",
       "      <th></th>\n",
       "    </tr>\n",
       "  </thead>\n",
       "  <tbody>\n",
       "    <tr>\n",
       "      <th>AAPL</th>\n",
       "      <th>2019</th>\n",
       "      <th>2</th>\n",
       "      <td>2019-02-21</td>\n",
       "      <td>186</td>\n",
       "    </tr>\n",
       "    <tr>\n",
       "      <th>JD</th>\n",
       "      <th>2019</th>\n",
       "      <th>2</th>\n",
       "      <td>2019-02-21</td>\n",
       "      <td>149</td>\n",
       "    </tr>\n",
       "    <tr>\n",
       "      <th>BABA</th>\n",
       "      <th>2019</th>\n",
       "      <th>2</th>\n",
       "      <td>2019-02-21</td>\n",
       "      <td>82</td>\n",
       "    </tr>\n",
       "    <tr>\n",
       "      <th>GS</th>\n",
       "      <th>2019</th>\n",
       "      <th>2</th>\n",
       "      <td>2019-02-21</td>\n",
       "      <td>63</td>\n",
       "    </tr>\n",
       "    <tr>\n",
       "      <th>FB</th>\n",
       "      <th>2019</th>\n",
       "      <th>2</th>\n",
       "      <td>2019-02-21</td>\n",
       "      <td>161</td>\n",
       "    </tr>\n",
       "    <tr>\n",
       "      <th>AAPL</th>\n",
       "      <th>2019</th>\n",
       "      <th>2</th>\n",
       "      <td>2019-02-26</td>\n",
       "      <td>58</td>\n",
       "    </tr>\n",
       "    <tr>\n",
       "      <th>JD</th>\n",
       "      <th>2019</th>\n",
       "      <th>2</th>\n",
       "      <td>2019-02-26</td>\n",
       "      <td>41</td>\n",
       "    </tr>\n",
       "    <tr>\n",
       "      <th>BABA</th>\n",
       "      <th>2019</th>\n",
       "      <th>2</th>\n",
       "      <td>2019-02-26</td>\n",
       "      <td>54</td>\n",
       "    </tr>\n",
       "    <tr>\n",
       "      <th>GS</th>\n",
       "      <th>2019</th>\n",
       "      <th>2</th>\n",
       "      <td>2019-02-26</td>\n",
       "      <td>198</td>\n",
       "    </tr>\n",
       "    <tr>\n",
       "      <th>FB</th>\n",
       "      <th>2019</th>\n",
       "      <th>2</th>\n",
       "      <td>2019-02-26</td>\n",
       "      <td>27</td>\n",
       "    </tr>\n",
       "  </tbody>\n",
       "</table>\n",
       "</div>"
      ],
      "text/plain": [
       "                        date  adj close\n",
       "symbol year month                      \n",
       "AAPL   2019 2     2019-02-21        186\n",
       "JD     2019 2     2019-02-21        149\n",
       "BABA   2019 2     2019-02-21         82\n",
       "GS     2019 2     2019-02-21         63\n",
       "FB     2019 2     2019-02-21        161\n",
       "AAPL   2019 2     2019-02-26         58\n",
       "JD     2019 2     2019-02-26         41\n",
       "BABA   2019 2     2019-02-26         54\n",
       "GS     2019 2     2019-02-26        198\n",
       "FB     2019 2     2019-02-26         27"
      ]
     },
     "execution_count": 197,
     "metadata": {},
     "output_type": "execute_result"
    }
   ],
   "source": [
    "data2=data1.set_index(['symbol','year','month'])\n",
    "data2.head().append(data2.tail())"
   ]
  },
  {
   "cell_type": "code",
   "execution_count": 198,
   "metadata": {},
   "outputs": [
    {
     "name": "stdout",
     "output_type": "stream",
     "text": [
      "2019\n",
      "                        date  adj close\n",
      "symbol year month                      \n",
      "AAPL   2019 2     2019-02-21        186\n",
      "JD     2019 2     2019-02-21        149\n",
      "BABA   2019 2     2019-02-21         82\n",
      "GS     2019 2     2019-02-21         63\n",
      "FB     2019 2     2019-02-21        161\n"
     ]
    }
   ],
   "source": [
    "# 对第一层 (Year) 进行分组\n",
    "grouped3=data2.groupby(level=1)\n",
    "print_groups(grouped3)"
   ]
  },
  {
   "cell_type": "code",
   "execution_count": 199,
   "metadata": {},
   "outputs": [
    {
     "name": "stdout",
     "output_type": "stream",
     "text": [
      "('AAPL', 2)\n",
      "                        date  adj close\n",
      "symbol year month                      \n",
      "AAPL   2019 2     2019-02-21        186\n",
      "            2     2019-02-22        188\n",
      "            2     2019-02-23        175\n",
      "            2     2019-02-24         33\n",
      "            2     2019-02-25         87\n",
      "('BABA', 2)\n",
      "                        date  adj close\n",
      "symbol year month                      \n",
      "BABA   2019 2     2019-02-21         82\n",
      "            2     2019-02-22         26\n",
      "            2     2019-02-23        133\n",
      "            2     2019-02-24        187\n",
      "            2     2019-02-25         92\n",
      "('FB', 2)\n",
      "                        date  adj close\n",
      "symbol year month                      \n",
      "FB     2019 2     2019-02-21        161\n",
      "            2     2019-02-22         79\n",
      "            2     2019-02-23        142\n",
      "            2     2019-02-24         20\n",
      "            2     2019-02-25        191\n",
      "('GS', 2)\n",
      "                        date  adj close\n",
      "symbol year month                      \n",
      "GS     2019 2     2019-02-21         63\n",
      "            2     2019-02-22         59\n",
      "            2     2019-02-23        153\n",
      "            2     2019-02-24         29\n",
      "            2     2019-02-25        104\n",
      "('JD', 2)\n",
      "                        date  adj close\n",
      "symbol year month                      \n",
      "JD     2019 2     2019-02-21        149\n",
      "            2     2019-02-22         56\n",
      "            2     2019-02-23        189\n",
      "            2     2019-02-24         25\n",
      "            2     2019-02-25        132\n"
     ]
    }
   ],
   "source": [
    "# 对第零层 (Symbol) 和第二层 (Month) 进行分组\n",
    "grouped4 = data2.groupby(level=[0, 2])\n",
    "print_groups( grouped4 )"
   ]
  },
  {
   "cell_type": "markdown",
   "metadata": {},
   "source": [
    "## 整合"
   ]
  },
  {
   "cell_type": "code",
   "execution_count": 200,
   "metadata": {},
   "outputs": [
    {
     "data": {
      "text/plain": [
       "symbol\n",
       "AAPL    6\n",
       "BABA    6\n",
       "FB      6\n",
       "GS      6\n",
       "JD      6\n",
       "dtype: int64"
      ]
     },
     "execution_count": 200,
     "metadata": {},
     "output_type": "execute_result"
    }
   ],
   "source": [
    "grouped.size()"
   ]
  },
  {
   "cell_type": "code",
   "execution_count": 201,
   "metadata": {},
   "outputs": [
    {
     "data": {
      "text/html": [
       "<div>\n",
       "<style scoped>\n",
       "    .dataframe tbody tr th:only-of-type {\n",
       "        vertical-align: middle;\n",
       "    }\n",
       "\n",
       "    .dataframe tbody tr th {\n",
       "        vertical-align: top;\n",
       "    }\n",
       "\n",
       "    .dataframe thead th {\n",
       "        text-align: right;\n",
       "    }\n",
       "</style>\n",
       "<table border=\"1\" class=\"dataframe\">\n",
       "  <thead>\n",
       "    <tr style=\"text-align: right;\">\n",
       "      <th></th>\n",
       "      <th>year</th>\n",
       "      <th>month</th>\n",
       "      <th>adj close</th>\n",
       "    </tr>\n",
       "    <tr>\n",
       "      <th>symbol</th>\n",
       "      <th></th>\n",
       "      <th></th>\n",
       "      <th></th>\n",
       "    </tr>\n",
       "  </thead>\n",
       "  <tbody>\n",
       "    <tr>\n",
       "      <th>AAPL</th>\n",
       "      <td>2019.0</td>\n",
       "      <td>2.0</td>\n",
       "      <td>121.166667</td>\n",
       "    </tr>\n",
       "    <tr>\n",
       "      <th>BABA</th>\n",
       "      <td>2019.0</td>\n",
       "      <td>2.0</td>\n",
       "      <td>95.666667</td>\n",
       "    </tr>\n",
       "    <tr>\n",
       "      <th>FB</th>\n",
       "      <td>2019.0</td>\n",
       "      <td>2.0</td>\n",
       "      <td>103.333333</td>\n",
       "    </tr>\n",
       "    <tr>\n",
       "      <th>GS</th>\n",
       "      <td>2019.0</td>\n",
       "      <td>2.0</td>\n",
       "      <td>101.000000</td>\n",
       "    </tr>\n",
       "    <tr>\n",
       "      <th>JD</th>\n",
       "      <td>2019.0</td>\n",
       "      <td>2.0</td>\n",
       "      <td>98.666667</td>\n",
       "    </tr>\n",
       "  </tbody>\n",
       "</table>\n",
       "</div>"
      ],
      "text/plain": [
       "          year  month   adj close\n",
       "symbol                           \n",
       "AAPL    2019.0    2.0  121.166667\n",
       "BABA    2019.0    2.0   95.666667\n",
       "FB      2019.0    2.0  103.333333\n",
       "GS      2019.0    2.0  101.000000\n",
       "JD      2019.0    2.0   98.666667"
      ]
     },
     "execution_count": 201,
     "metadata": {},
     "output_type": "execute_result"
    }
   ],
   "source": [
    "# 计算每个 Symbol 下 1 年时期的股价均值\n",
    "grouped.mean()"
   ]
  },
  {
   "cell_type": "code",
   "execution_count": 202,
   "metadata": {},
   "outputs": [
    {
     "data": {
      "text/html": [
       "<div>\n",
       "<style scoped>\n",
       "    .dataframe tbody tr th:only-of-type {\n",
       "        vertical-align: middle;\n",
       "    }\n",
       "\n",
       "    .dataframe tbody tr th {\n",
       "        vertical-align: top;\n",
       "    }\n",
       "\n",
       "    .dataframe thead th {\n",
       "        text-align: right;\n",
       "    }\n",
       "</style>\n",
       "<table border=\"1\" class=\"dataframe\">\n",
       "  <thead>\n",
       "    <tr style=\"text-align: right;\">\n",
       "      <th></th>\n",
       "      <th></th>\n",
       "      <th>adj close</th>\n",
       "    </tr>\n",
       "    <tr>\n",
       "      <th>symbol</th>\n",
       "      <th>month</th>\n",
       "      <th></th>\n",
       "    </tr>\n",
       "  </thead>\n",
       "  <tbody>\n",
       "    <tr>\n",
       "      <th>AAPL</th>\n",
       "      <th>2</th>\n",
       "      <td>121.166667</td>\n",
       "    </tr>\n",
       "    <tr>\n",
       "      <th>BABA</th>\n",
       "      <th>2</th>\n",
       "      <td>95.666667</td>\n",
       "    </tr>\n",
       "    <tr>\n",
       "      <th>FB</th>\n",
       "      <th>2</th>\n",
       "      <td>103.333333</td>\n",
       "    </tr>\n",
       "    <tr>\n",
       "      <th>GS</th>\n",
       "      <th>2</th>\n",
       "      <td>101.000000</td>\n",
       "    </tr>\n",
       "    <tr>\n",
       "      <th>JD</th>\n",
       "      <th>2</th>\n",
       "      <td>98.666667</td>\n",
       "    </tr>\n",
       "    <tr>\n",
       "      <th>AAPL</th>\n",
       "      <th>2</th>\n",
       "      <td>121.166667</td>\n",
       "    </tr>\n",
       "    <tr>\n",
       "      <th>BABA</th>\n",
       "      <th>2</th>\n",
       "      <td>95.666667</td>\n",
       "    </tr>\n",
       "    <tr>\n",
       "      <th>FB</th>\n",
       "      <th>2</th>\n",
       "      <td>103.333333</td>\n",
       "    </tr>\n",
       "    <tr>\n",
       "      <th>GS</th>\n",
       "      <th>2</th>\n",
       "      <td>101.000000</td>\n",
       "    </tr>\n",
       "    <tr>\n",
       "      <th>JD</th>\n",
       "      <th>2</th>\n",
       "      <td>98.666667</td>\n",
       "    </tr>\n",
       "  </tbody>\n",
       "</table>\n",
       "</div>"
      ],
      "text/plain": [
       "               adj close\n",
       "symbol month            \n",
       "AAPL   2      121.166667\n",
       "BABA   2       95.666667\n",
       "FB     2      103.333333\n",
       "GS     2      101.000000\n",
       "JD     2       98.666667\n",
       "AAPL   2      121.166667\n",
       "BABA   2       95.666667\n",
       "FB     2      103.333333\n",
       "GS     2      101.000000\n",
       "JD     2       98.666667"
      ]
     },
     "execution_count": 202,
     "metadata": {},
     "output_type": "execute_result"
    }
   ],
   "source": [
    "# 对每只股票在每年每个月上求均值\n",
    "reslut=grouped4.agg(np.mean)\n",
    "reslut.head().append(reslut.tail())"
   ]
  },
  {
   "cell_type": "code",
   "execution_count": 203,
   "metadata": {},
   "outputs": [
    {
     "data": {
      "text/html": [
       "<div>\n",
       "<style scoped>\n",
       "    .dataframe tbody tr th:only-of-type {\n",
       "        vertical-align: middle;\n",
       "    }\n",
       "\n",
       "    .dataframe tbody tr th {\n",
       "        vertical-align: top;\n",
       "    }\n",
       "\n",
       "    .dataframe thead tr th {\n",
       "        text-align: left;\n",
       "    }\n",
       "\n",
       "    .dataframe thead tr:last-of-type th {\n",
       "        text-align: right;\n",
       "    }\n",
       "</style>\n",
       "<table border=\"1\" class=\"dataframe\">\n",
       "  <thead>\n",
       "    <tr>\n",
       "      <th></th>\n",
       "      <th></th>\n",
       "      <th colspan=\"2\" halign=\"left\">adj close</th>\n",
       "    </tr>\n",
       "    <tr>\n",
       "      <th></th>\n",
       "      <th></th>\n",
       "      <th>mean</th>\n",
       "      <th>std</th>\n",
       "    </tr>\n",
       "    <tr>\n",
       "      <th>symbol</th>\n",
       "      <th>month</th>\n",
       "      <th></th>\n",
       "      <th></th>\n",
       "    </tr>\n",
       "  </thead>\n",
       "  <tbody>\n",
       "    <tr>\n",
       "      <th>AAPL</th>\n",
       "      <th>2</th>\n",
       "      <td>121.166667</td>\n",
       "      <td>69.998333</td>\n",
       "    </tr>\n",
       "    <tr>\n",
       "      <th>BABA</th>\n",
       "      <th>2</th>\n",
       "      <td>95.666667</td>\n",
       "      <td>57.489709</td>\n",
       "    </tr>\n",
       "    <tr>\n",
       "      <th>FB</th>\n",
       "      <th>2</th>\n",
       "      <td>103.333333</td>\n",
       "      <td>71.929595</td>\n",
       "    </tr>\n",
       "    <tr>\n",
       "      <th>GS</th>\n",
       "      <th>2</th>\n",
       "      <td>101.000000</td>\n",
       "      <td>64.053103</td>\n",
       "    </tr>\n",
       "    <tr>\n",
       "      <th>JD</th>\n",
       "      <th>2</th>\n",
       "      <td>98.666667</td>\n",
       "      <td>66.898929</td>\n",
       "    </tr>\n",
       "    <tr>\n",
       "      <th>AAPL</th>\n",
       "      <th>2</th>\n",
       "      <td>121.166667</td>\n",
       "      <td>69.998333</td>\n",
       "    </tr>\n",
       "    <tr>\n",
       "      <th>BABA</th>\n",
       "      <th>2</th>\n",
       "      <td>95.666667</td>\n",
       "      <td>57.489709</td>\n",
       "    </tr>\n",
       "    <tr>\n",
       "      <th>FB</th>\n",
       "      <th>2</th>\n",
       "      <td>103.333333</td>\n",
       "      <td>71.929595</td>\n",
       "    </tr>\n",
       "    <tr>\n",
       "      <th>GS</th>\n",
       "      <th>2</th>\n",
       "      <td>101.000000</td>\n",
       "      <td>64.053103</td>\n",
       "    </tr>\n",
       "    <tr>\n",
       "      <th>JD</th>\n",
       "      <th>2</th>\n",
       "      <td>98.666667</td>\n",
       "      <td>66.898929</td>\n",
       "    </tr>\n",
       "  </tbody>\n",
       "</table>\n",
       "</div>"
      ],
      "text/plain": [
       "               adj close           \n",
       "                    mean        std\n",
       "symbol month                       \n",
       "AAPL   2      121.166667  69.998333\n",
       "BABA   2       95.666667  57.489709\n",
       "FB     2      103.333333  71.929595\n",
       "GS     2      101.000000  64.053103\n",
       "JD     2       98.666667  66.898929\n",
       "AAPL   2      121.166667  69.998333\n",
       "BABA   2       95.666667  57.489709\n",
       "FB     2      103.333333  71.929595\n",
       "GS     2      101.000000  64.053103\n",
       "JD     2       98.666667  66.898929"
      ]
     },
     "execution_count": 203,
     "metadata": {},
     "output_type": "execute_result"
    }
   ],
   "source": [
    "# 对每只股票在每年每个月上求均值和标准差\n",
    "result = grouped4.agg( [np.mean, np.std] )\n",
    "result.head().append(result.tail())"
   ]
  },
  {
   "cell_type": "code",
   "execution_count": 204,
   "metadata": {},
   "outputs": [
    {
     "data": {
      "text/html": [
       "<div>\n",
       "<style scoped>\n",
       "    .dataframe tbody tr th:only-of-type {\n",
       "        vertical-align: middle;\n",
       "    }\n",
       "\n",
       "    .dataframe tbody tr th {\n",
       "        vertical-align: top;\n",
       "    }\n",
       "\n",
       "    .dataframe thead th {\n",
       "        text-align: right;\n",
       "    }\n",
       "</style>\n",
       "<table border=\"1\" class=\"dataframe\">\n",
       "  <thead>\n",
       "    <tr style=\"text-align: right;\">\n",
       "      <th></th>\n",
       "      <th>date</th>\n",
       "      <th>year</th>\n",
       "      <th>month</th>\n",
       "      <th>adj close</th>\n",
       "    </tr>\n",
       "    <tr>\n",
       "      <th>symbol</th>\n",
       "      <th></th>\n",
       "      <th></th>\n",
       "      <th></th>\n",
       "      <th></th>\n",
       "    </tr>\n",
       "  </thead>\n",
       "  <tbody>\n",
       "    <tr>\n",
       "      <th>AAPL</th>\n",
       "      <td>5 days</td>\n",
       "      <td>0</td>\n",
       "      <td>0</td>\n",
       "      <td>155</td>\n",
       "    </tr>\n",
       "    <tr>\n",
       "      <th>BABA</th>\n",
       "      <td>5 days</td>\n",
       "      <td>0</td>\n",
       "      <td>0</td>\n",
       "      <td>161</td>\n",
       "    </tr>\n",
       "    <tr>\n",
       "      <th>FB</th>\n",
       "      <td>5 days</td>\n",
       "      <td>0</td>\n",
       "      <td>0</td>\n",
       "      <td>171</td>\n",
       "    </tr>\n",
       "    <tr>\n",
       "      <th>GS</th>\n",
       "      <td>5 days</td>\n",
       "      <td>0</td>\n",
       "      <td>0</td>\n",
       "      <td>169</td>\n",
       "    </tr>\n",
       "    <tr>\n",
       "      <th>JD</th>\n",
       "      <td>5 days</td>\n",
       "      <td>0</td>\n",
       "      <td>0</td>\n",
       "      <td>164</td>\n",
       "    </tr>\n",
       "    <tr>\n",
       "      <th>AAPL</th>\n",
       "      <td>5 days</td>\n",
       "      <td>0</td>\n",
       "      <td>0</td>\n",
       "      <td>155</td>\n",
       "    </tr>\n",
       "    <tr>\n",
       "      <th>BABA</th>\n",
       "      <td>5 days</td>\n",
       "      <td>0</td>\n",
       "      <td>0</td>\n",
       "      <td>161</td>\n",
       "    </tr>\n",
       "    <tr>\n",
       "      <th>FB</th>\n",
       "      <td>5 days</td>\n",
       "      <td>0</td>\n",
       "      <td>0</td>\n",
       "      <td>171</td>\n",
       "    </tr>\n",
       "    <tr>\n",
       "      <th>GS</th>\n",
       "      <td>5 days</td>\n",
       "      <td>0</td>\n",
       "      <td>0</td>\n",
       "      <td>169</td>\n",
       "    </tr>\n",
       "    <tr>\n",
       "      <th>JD</th>\n",
       "      <td>5 days</td>\n",
       "      <td>0</td>\n",
       "      <td>0</td>\n",
       "      <td>164</td>\n",
       "    </tr>\n",
       "  </tbody>\n",
       "</table>\n",
       "</div>"
      ],
      "text/plain": [
       "         date  year  month  adj close\n",
       "symbol                               \n",
       "AAPL   5 days     0      0        155\n",
       "BABA   5 days     0      0        161\n",
       "FB     5 days     0      0        171\n",
       "GS     5 days     0      0        169\n",
       "JD     5 days     0      0        164\n",
       "AAPL   5 days     0      0        155\n",
       "BABA   5 days     0      0        161\n",
       "FB     5 days     0      0        171\n",
       "GS     5 days     0      0        169\n",
       "JD     5 days     0      0        164"
      ]
     },
     "execution_count": 204,
     "metadata": {},
     "output_type": "execute_result"
    }
   ],
   "source": [
    "# 定义一个对 grouped 里面每个标签下求最大值和最小值，再求差。注意 lambda 函数里面的 x 就是 grouped。\n",
    "result = grouped.agg( lambda x: np.max(x)-np.min(x) )\n",
    "result.head().append(result.tail())"
   ]
  },
  {
   "cell_type": "markdown",
   "metadata": {},
   "source": [
    "## split-apply-combine"
   ]
  },
  {
   "cell_type": "markdown",
   "metadata": {},
   "source": [
    "![1](./img/split-apply-combine.png)"
   ]
  },
  {
   "cell_type": "markdown",
   "metadata": {},
   "source": [
    "split-apply-combine 过程有三步：\n",
    "\n",
    "\n",
    "\n",
    "- 根据 key 来 split 成 n 组\n",
    "\n",
    "- 将函数 apply 到每个组\n",
    "\n",
    "- 把 n 组的结果 combine 起来"
   ]
  },
  {
   "cell_type": "code",
   "execution_count": 211,
   "metadata": {},
   "outputs": [],
   "source": [
    "# 定一个 top 函数，返回 DataFrame 某一栏中 n 个最大值\n",
    "\n",
    "def top( df, n=5, column='volume' ):\n",
    "    return df.sort_values(by=column)[-n:]"
   ]
  },
  {
   "cell_type": "code",
   "execution_count": 212,
   "metadata": {},
   "outputs": [
    {
     "data": {
      "text/html": [
       "<div>\n",
       "<style scoped>\n",
       "    .dataframe tbody tr th:only-of-type {\n",
       "        vertical-align: middle;\n",
       "    }\n",
       "\n",
       "    .dataframe tbody tr th {\n",
       "        vertical-align: top;\n",
       "    }\n",
       "\n",
       "    .dataframe thead th {\n",
       "        text-align: right;\n",
       "    }\n",
       "</style>\n",
       "<table border=\"1\" class=\"dataframe\">\n",
       "  <thead>\n",
       "    <tr style=\"text-align: right;\">\n",
       "      <th></th>\n",
       "      <th>date</th>\n",
       "      <th>symbol</th>\n",
       "      <th>open</th>\n",
       "      <th>high</th>\n",
       "      <th>low</th>\n",
       "      <th>close</th>\n",
       "      <th>adj close</th>\n",
       "      <th>volume</th>\n",
       "    </tr>\n",
       "  </thead>\n",
       "  <tbody>\n",
       "    <tr>\n",
       "      <th>9</th>\n",
       "      <td>2019-02-22</td>\n",
       "      <td>FB</td>\n",
       "      <td>103</td>\n",
       "      <td>99</td>\n",
       "      <td>172</td>\n",
       "      <td>38</td>\n",
       "      <td>79</td>\n",
       "      <td>172</td>\n",
       "    </tr>\n",
       "    <tr>\n",
       "      <th>5</th>\n",
       "      <td>2019-02-22</td>\n",
       "      <td>AAPL</td>\n",
       "      <td>62</td>\n",
       "      <td>110</td>\n",
       "      <td>117</td>\n",
       "      <td>47</td>\n",
       "      <td>188</td>\n",
       "      <td>180</td>\n",
       "    </tr>\n",
       "    <tr>\n",
       "      <th>27</th>\n",
       "      <td>2019-02-26</td>\n",
       "      <td>BABA</td>\n",
       "      <td>150</td>\n",
       "      <td>79</td>\n",
       "      <td>173</td>\n",
       "      <td>33</td>\n",
       "      <td>54</td>\n",
       "      <td>191</td>\n",
       "    </tr>\n",
       "    <tr>\n",
       "      <th>26</th>\n",
       "      <td>2019-02-26</td>\n",
       "      <td>JD</td>\n",
       "      <td>67</td>\n",
       "      <td>199</td>\n",
       "      <td>127</td>\n",
       "      <td>79</td>\n",
       "      <td>41</td>\n",
       "      <td>192</td>\n",
       "    </tr>\n",
       "    <tr>\n",
       "      <th>24</th>\n",
       "      <td>2019-02-25</td>\n",
       "      <td>FB</td>\n",
       "      <td>170</td>\n",
       "      <td>194</td>\n",
       "      <td>35</td>\n",
       "      <td>197</td>\n",
       "      <td>191</td>\n",
       "      <td>197</td>\n",
       "    </tr>\n",
       "  </tbody>\n",
       "</table>\n",
       "</div>"
      ],
      "text/plain": [
       "         date symbol  open   high   low  close  adj close  volume\n",
       "9  2019-02-22     FB    103     99  172     38         79     172\n",
       "5  2019-02-22   AAPL     62    110  117     47        188     180\n",
       "27 2019-02-26   BABA    150     79  173     33         54     191\n",
       "26 2019-02-26     JD     67    199  127     79         41     192\n",
       "24 2019-02-25     FB    170    194   35    197        191     197"
      ]
     },
     "execution_count": 212,
     "metadata": {},
     "output_type": "execute_result"
    }
   ],
   "source": [
    "top(data)"
   ]
  },
  {
   "cell_type": "code",
   "execution_count": 214,
   "metadata": {},
   "outputs": [],
   "source": [
    "# df.sort_values?"
   ]
  },
  {
   "cell_type": "code",
   "execution_count": 216,
   "metadata": {},
   "outputs": [
    {
     "data": {
      "text/html": [
       "<div>\n",
       "<style scoped>\n",
       "    .dataframe tbody tr th:only-of-type {\n",
       "        vertical-align: middle;\n",
       "    }\n",
       "\n",
       "    .dataframe tbody tr th {\n",
       "        vertical-align: top;\n",
       "    }\n",
       "\n",
       "    .dataframe thead th {\n",
       "        text-align: right;\n",
       "    }\n",
       "</style>\n",
       "<table border=\"1\" class=\"dataframe\">\n",
       "  <thead>\n",
       "    <tr style=\"text-align: right;\">\n",
       "      <th></th>\n",
       "      <th></th>\n",
       "      <th>date</th>\n",
       "      <th>symbol</th>\n",
       "      <th>open</th>\n",
       "      <th>high</th>\n",
       "      <th>low</th>\n",
       "      <th>close</th>\n",
       "      <th>adj close</th>\n",
       "      <th>volume</th>\n",
       "    </tr>\n",
       "    <tr>\n",
       "      <th>symbol</th>\n",
       "      <th></th>\n",
       "      <th></th>\n",
       "      <th></th>\n",
       "      <th></th>\n",
       "      <th></th>\n",
       "      <th></th>\n",
       "      <th></th>\n",
       "      <th></th>\n",
       "      <th></th>\n",
       "    </tr>\n",
       "  </thead>\n",
       "  <tbody>\n",
       "    <tr>\n",
       "      <th rowspan=\"5\" valign=\"top\">AAPL</th>\n",
       "      <th>10</th>\n",
       "      <td>2019-02-23</td>\n",
       "      <td>AAPL</td>\n",
       "      <td>142</td>\n",
       "      <td>65</td>\n",
       "      <td>71</td>\n",
       "      <td>185</td>\n",
       "      <td>175</td>\n",
       "      <td>73</td>\n",
       "    </tr>\n",
       "    <tr>\n",
       "      <th>15</th>\n",
       "      <td>2019-02-24</td>\n",
       "      <td>AAPL</td>\n",
       "      <td>161</td>\n",
       "      <td>22</td>\n",
       "      <td>52</td>\n",
       "      <td>68</td>\n",
       "      <td>33</td>\n",
       "      <td>106</td>\n",
       "    </tr>\n",
       "    <tr>\n",
       "      <th>25</th>\n",
       "      <td>2019-02-26</td>\n",
       "      <td>AAPL</td>\n",
       "      <td>181</td>\n",
       "      <td>81</td>\n",
       "      <td>199</td>\n",
       "      <td>125</td>\n",
       "      <td>58</td>\n",
       "      <td>145</td>\n",
       "    </tr>\n",
       "    <tr>\n",
       "      <th>20</th>\n",
       "      <td>2019-02-25</td>\n",
       "      <td>AAPL</td>\n",
       "      <td>132</td>\n",
       "      <td>71</td>\n",
       "      <td>138</td>\n",
       "      <td>78</td>\n",
       "      <td>87</td>\n",
       "      <td>156</td>\n",
       "    </tr>\n",
       "    <tr>\n",
       "      <th>5</th>\n",
       "      <td>2019-02-22</td>\n",
       "      <td>AAPL</td>\n",
       "      <td>62</td>\n",
       "      <td>110</td>\n",
       "      <td>117</td>\n",
       "      <td>47</td>\n",
       "      <td>188</td>\n",
       "      <td>180</td>\n",
       "    </tr>\n",
       "    <tr>\n",
       "      <th rowspan=\"5\" valign=\"top\">BABA</th>\n",
       "      <th>12</th>\n",
       "      <td>2019-02-23</td>\n",
       "      <td>BABA</td>\n",
       "      <td>177</td>\n",
       "      <td>172</td>\n",
       "      <td>101</td>\n",
       "      <td>186</td>\n",
       "      <td>133</td>\n",
       "      <td>92</td>\n",
       "    </tr>\n",
       "    <tr>\n",
       "      <th>2</th>\n",
       "      <td>2019-02-21</td>\n",
       "      <td>BABA</td>\n",
       "      <td>94</td>\n",
       "      <td>98</td>\n",
       "      <td>133</td>\n",
       "      <td>127</td>\n",
       "      <td>82</td>\n",
       "      <td>121</td>\n",
       "    </tr>\n",
       "    <tr>\n",
       "      <th>17</th>\n",
       "      <td>2019-02-24</td>\n",
       "      <td>BABA</td>\n",
       "      <td>42</td>\n",
       "      <td>174</td>\n",
       "      <td>63</td>\n",
       "      <td>169</td>\n",
       "      <td>187</td>\n",
       "      <td>124</td>\n",
       "    </tr>\n",
       "    <tr>\n",
       "      <th>7</th>\n",
       "      <td>2019-02-22</td>\n",
       "      <td>BABA</td>\n",
       "      <td>87</td>\n",
       "      <td>162</td>\n",
       "      <td>138</td>\n",
       "      <td>66</td>\n",
       "      <td>26</td>\n",
       "      <td>134</td>\n",
       "    </tr>\n",
       "    <tr>\n",
       "      <th>27</th>\n",
       "      <td>2019-02-26</td>\n",
       "      <td>BABA</td>\n",
       "      <td>150</td>\n",
       "      <td>79</td>\n",
       "      <td>173</td>\n",
       "      <td>33</td>\n",
       "      <td>54</td>\n",
       "      <td>191</td>\n",
       "    </tr>\n",
       "    <tr>\n",
       "      <th rowspan=\"5\" valign=\"top\">FB</th>\n",
       "      <th>19</th>\n",
       "      <td>2019-02-24</td>\n",
       "      <td>FB</td>\n",
       "      <td>192</td>\n",
       "      <td>105</td>\n",
       "      <td>105</td>\n",
       "      <td>50</td>\n",
       "      <td>20</td>\n",
       "      <td>53</td>\n",
       "    </tr>\n",
       "    <tr>\n",
       "      <th>14</th>\n",
       "      <td>2019-02-23</td>\n",
       "      <td>FB</td>\n",
       "      <td>185</td>\n",
       "      <td>157</td>\n",
       "      <td>180</td>\n",
       "      <td>188</td>\n",
       "      <td>142</td>\n",
       "      <td>105</td>\n",
       "    </tr>\n",
       "    <tr>\n",
       "      <th>4</th>\n",
       "      <td>2019-02-21</td>\n",
       "      <td>FB</td>\n",
       "      <td>107</td>\n",
       "      <td>90</td>\n",
       "      <td>99</td>\n",
       "      <td>33</td>\n",
       "      <td>161</td>\n",
       "      <td>122</td>\n",
       "    </tr>\n",
       "    <tr>\n",
       "      <th>9</th>\n",
       "      <td>2019-02-22</td>\n",
       "      <td>FB</td>\n",
       "      <td>103</td>\n",
       "      <td>99</td>\n",
       "      <td>172</td>\n",
       "      <td>38</td>\n",
       "      <td>79</td>\n",
       "      <td>172</td>\n",
       "    </tr>\n",
       "    <tr>\n",
       "      <th>24</th>\n",
       "      <td>2019-02-25</td>\n",
       "      <td>FB</td>\n",
       "      <td>170</td>\n",
       "      <td>194</td>\n",
       "      <td>35</td>\n",
       "      <td>197</td>\n",
       "      <td>191</td>\n",
       "      <td>197</td>\n",
       "    </tr>\n",
       "    <tr>\n",
       "      <th rowspan=\"5\" valign=\"top\">GS</th>\n",
       "      <th>18</th>\n",
       "      <td>2019-02-24</td>\n",
       "      <td>GS</td>\n",
       "      <td>46</td>\n",
       "      <td>121</td>\n",
       "      <td>169</td>\n",
       "      <td>162</td>\n",
       "      <td>29</td>\n",
       "      <td>81</td>\n",
       "    </tr>\n",
       "    <tr>\n",
       "      <th>3</th>\n",
       "      <td>2019-02-21</td>\n",
       "      <td>GS</td>\n",
       "      <td>192</td>\n",
       "      <td>100</td>\n",
       "      <td>143</td>\n",
       "      <td>87</td>\n",
       "      <td>63</td>\n",
       "      <td>99</td>\n",
       "    </tr>\n",
       "    <tr>\n",
       "      <th>8</th>\n",
       "      <td>2019-02-22</td>\n",
       "      <td>GS</td>\n",
       "      <td>78</td>\n",
       "      <td>173</td>\n",
       "      <td>142</td>\n",
       "      <td>93</td>\n",
       "      <td>59</td>\n",
       "      <td>112</td>\n",
       "    </tr>\n",
       "    <tr>\n",
       "      <th>23</th>\n",
       "      <td>2019-02-25</td>\n",
       "      <td>GS</td>\n",
       "      <td>109</td>\n",
       "      <td>112</td>\n",
       "      <td>85</td>\n",
       "      <td>134</td>\n",
       "      <td>104</td>\n",
       "      <td>134</td>\n",
       "    </tr>\n",
       "    <tr>\n",
       "      <th>13</th>\n",
       "      <td>2019-02-23</td>\n",
       "      <td>GS</td>\n",
       "      <td>40</td>\n",
       "      <td>146</td>\n",
       "      <td>96</td>\n",
       "      <td>36</td>\n",
       "      <td>153</td>\n",
       "      <td>165</td>\n",
       "    </tr>\n",
       "    <tr>\n",
       "      <th rowspan=\"5\" valign=\"top\">JD</th>\n",
       "      <th>11</th>\n",
       "      <td>2019-02-23</td>\n",
       "      <td>JD</td>\n",
       "      <td>143</td>\n",
       "      <td>102</td>\n",
       "      <td>151</td>\n",
       "      <td>47</td>\n",
       "      <td>189</td>\n",
       "      <td>99</td>\n",
       "    </tr>\n",
       "    <tr>\n",
       "      <th>16</th>\n",
       "      <td>2019-02-24</td>\n",
       "      <td>JD</td>\n",
       "      <td>120</td>\n",
       "      <td>103</td>\n",
       "      <td>146</td>\n",
       "      <td>26</td>\n",
       "      <td>25</td>\n",
       "      <td>99</td>\n",
       "    </tr>\n",
       "    <tr>\n",
       "      <th>6</th>\n",
       "      <td>2019-02-22</td>\n",
       "      <td>JD</td>\n",
       "      <td>138</td>\n",
       "      <td>99</td>\n",
       "      <td>86</td>\n",
       "      <td>153</td>\n",
       "      <td>56</td>\n",
       "      <td>127</td>\n",
       "    </tr>\n",
       "    <tr>\n",
       "      <th>1</th>\n",
       "      <td>2019-02-21</td>\n",
       "      <td>JD</td>\n",
       "      <td>159</td>\n",
       "      <td>96</td>\n",
       "      <td>195</td>\n",
       "      <td>62</td>\n",
       "      <td>149</td>\n",
       "      <td>143</td>\n",
       "    </tr>\n",
       "    <tr>\n",
       "      <th>26</th>\n",
       "      <td>2019-02-26</td>\n",
       "      <td>JD</td>\n",
       "      <td>67</td>\n",
       "      <td>199</td>\n",
       "      <td>127</td>\n",
       "      <td>79</td>\n",
       "      <td>41</td>\n",
       "      <td>192</td>\n",
       "    </tr>\n",
       "  </tbody>\n",
       "</table>\n",
       "</div>"
      ],
      "text/plain": [
       "                date symbol  open   high   low  close  adj close  volume\n",
       "symbol                                                                  \n",
       "AAPL   10 2019-02-23   AAPL    142     65   71    185        175      73\n",
       "       15 2019-02-24   AAPL    161     22   52     68         33     106\n",
       "       25 2019-02-26   AAPL    181     81  199    125         58     145\n",
       "       20 2019-02-25   AAPL    132     71  138     78         87     156\n",
       "       5  2019-02-22   AAPL     62    110  117     47        188     180\n",
       "BABA   12 2019-02-23   BABA    177    172  101    186        133      92\n",
       "       2  2019-02-21   BABA     94     98  133    127         82     121\n",
       "       17 2019-02-24   BABA     42    174   63    169        187     124\n",
       "       7  2019-02-22   BABA     87    162  138     66         26     134\n",
       "       27 2019-02-26   BABA    150     79  173     33         54     191\n",
       "FB     19 2019-02-24     FB    192    105  105     50         20      53\n",
       "       14 2019-02-23     FB    185    157  180    188        142     105\n",
       "       4  2019-02-21     FB    107     90   99     33        161     122\n",
       "       9  2019-02-22     FB    103     99  172     38         79     172\n",
       "       24 2019-02-25     FB    170    194   35    197        191     197\n",
       "GS     18 2019-02-24     GS     46    121  169    162         29      81\n",
       "       3  2019-02-21     GS    192    100  143     87         63      99\n",
       "       8  2019-02-22     GS     78    173  142     93         59     112\n",
       "       23 2019-02-25     GS    109    112   85    134        104     134\n",
       "       13 2019-02-23     GS     40    146   96     36        153     165\n",
       "JD     11 2019-02-23     JD    143    102  151     47        189      99\n",
       "       16 2019-02-24     JD    120    103  146     26         25      99\n",
       "       6  2019-02-22     JD    138     99   86    153         56     127\n",
       "       1  2019-02-21     JD    159     96  195     62        149     143\n",
       "       26 2019-02-26     JD     67    199  127     79         41     192"
      ]
     },
     "execution_count": 216,
     "metadata": {},
     "output_type": "execute_result"
    }
   ],
   "source": [
    "# 将 top() 函数 apply 到按 Symbol 分的每个组上，按每个 Symbol 打印出来了 Volume 栏下的 5 个最大值\n",
    "data.groupby('symbol').apply(top)"
   ]
  },
  {
   "cell_type": "code",
   "execution_count": 217,
   "metadata": {},
   "outputs": [
    {
     "data": {
      "text/html": [
       "<div>\n",
       "<style scoped>\n",
       "    .dataframe tbody tr th:only-of-type {\n",
       "        vertical-align: middle;\n",
       "    }\n",
       "\n",
       "    .dataframe tbody tr th {\n",
       "        vertical-align: top;\n",
       "    }\n",
       "\n",
       "    .dataframe thead th {\n",
       "        text-align: right;\n",
       "    }\n",
       "</style>\n",
       "<table border=\"1\" class=\"dataframe\">\n",
       "  <thead>\n",
       "    <tr style=\"text-align: right;\">\n",
       "      <th></th>\n",
       "      <th></th>\n",
       "      <th></th>\n",
       "      <th>date</th>\n",
       "      <th>year</th>\n",
       "      <th>month</th>\n",
       "      <th>symbol</th>\n",
       "      <th>adj close</th>\n",
       "    </tr>\n",
       "    <tr>\n",
       "      <th>symbol</th>\n",
       "      <th>year</th>\n",
       "      <th></th>\n",
       "      <th></th>\n",
       "      <th></th>\n",
       "      <th></th>\n",
       "      <th></th>\n",
       "      <th></th>\n",
       "    </tr>\n",
       "  </thead>\n",
       "  <tbody>\n",
       "    <tr>\n",
       "      <th>AAPL</th>\n",
       "      <th>2019</th>\n",
       "      <th>5</th>\n",
       "      <td>2019-02-22</td>\n",
       "      <td>2019</td>\n",
       "      <td>2</td>\n",
       "      <td>AAPL</td>\n",
       "      <td>188</td>\n",
       "    </tr>\n",
       "    <tr>\n",
       "      <th>BABA</th>\n",
       "      <th>2019</th>\n",
       "      <th>17</th>\n",
       "      <td>2019-02-24</td>\n",
       "      <td>2019</td>\n",
       "      <td>2</td>\n",
       "      <td>BABA</td>\n",
       "      <td>187</td>\n",
       "    </tr>\n",
       "    <tr>\n",
       "      <th>FB</th>\n",
       "      <th>2019</th>\n",
       "      <th>24</th>\n",
       "      <td>2019-02-25</td>\n",
       "      <td>2019</td>\n",
       "      <td>2</td>\n",
       "      <td>FB</td>\n",
       "      <td>191</td>\n",
       "    </tr>\n",
       "    <tr>\n",
       "      <th>GS</th>\n",
       "      <th>2019</th>\n",
       "      <th>28</th>\n",
       "      <td>2019-02-26</td>\n",
       "      <td>2019</td>\n",
       "      <td>2</td>\n",
       "      <td>GS</td>\n",
       "      <td>198</td>\n",
       "    </tr>\n",
       "    <tr>\n",
       "      <th>JD</th>\n",
       "      <th>2019</th>\n",
       "      <th>11</th>\n",
       "      <td>2019-02-23</td>\n",
       "      <td>2019</td>\n",
       "      <td>2</td>\n",
       "      <td>JD</td>\n",
       "      <td>189</td>\n",
       "    </tr>\n",
       "  </tbody>\n",
       "</table>\n",
       "</div>"
      ],
      "text/plain": [
       "                     date  year  month symbol  adj close\n",
       "symbol year                                             \n",
       "AAPL   2019 5  2019-02-22  2019      2   AAPL        188\n",
       "BABA   2019 17 2019-02-24  2019      2   BABA        187\n",
       "FB     2019 24 2019-02-25  2019      2     FB        191\n",
       "GS     2019 28 2019-02-26  2019      2     GS        198\n",
       "JD     2019 11 2019-02-23  2019      2     JD        189"
      ]
     },
     "execution_count": 217,
     "metadata": {},
     "output_type": "execute_result"
    }
   ],
   "source": [
    "# 按每个 Symbol 和 Year 打印出来了 Adj Close 栏下的最大值\n",
    "data1.groupby(['symbol','year']).apply(top, n=1, column='adj close')"
   ]
  },
  {
   "cell_type": "markdown",
   "metadata": {},
   "source": [
    "# 总结"
   ]
  },
  {
   "cell_type": "markdown",
   "metadata": {},
   "source": [
    "![1](./img/Pandas合并连接数据表.png)"
   ]
  },
  {
   "cell_type": "markdown",
   "metadata": {},
   "source": [
    "![1](./img/Pandas重塑数据表.png)"
   ]
  },
  {
   "cell_type": "markdown",
   "metadata": {},
   "source": [
    "![1](./img/Pandas透视数据表.png)"
   ]
  },
  {
   "cell_type": "markdown",
   "metadata": {},
   "source": [
    "![1](./img/Pandas分组整合数据表.png)"
   ]
  }
 ],
 "metadata": {
  "kernelspec": {
   "display_name": "Python [conda env:Analysis]",
   "language": "python",
   "name": "conda-env-Analysis-py"
  },
  "language_info": {
   "codemirror_mode": {
    "name": "ipython",
    "version": 3
   },
   "file_extension": ".py",
   "mimetype": "text/x-python",
   "name": "python",
   "nbconvert_exporter": "python",
   "pygments_lexer": "ipython3",
   "version": "3.6.7"
  }
 },
 "nbformat": 4,
 "nbformat_minor": 2
}
